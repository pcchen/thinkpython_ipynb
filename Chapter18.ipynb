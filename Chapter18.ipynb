{
 "metadata": {
  "name": "",
  "signature": "sha256:a587b5a6a92ad31c154b34aa62007d4921d7a20d178f9f06eea5061bab3327df"
 },
 "nbformat": 3,
 "nbformat_minor": 0,
 "worksheets": [
  {
   "cells": [
    {
     "cell_type": "markdown",
     "metadata": {},
     "source": [
      "# License\n",
      "\n",
      "This IPython Notebook is released under the [Creative Commons Attribution-NonCommercial 3.0 Unported License](http://creativecommons.org/licenses/by-nc/3.0/)\n",
      "\n",
      "This IPython Notebook is based on [Think Python: How to Think Like a Computer Scientist](http://www.greenteapress.com/thinkpython/) by Allen B. Downey. It is available under the [Creative Commons Attribution-NonCommercial 3.0 Unported License](http://creativecommons.org/licenses/by-nc/3.0/)"
     ]
    },
    {
     "cell_type": "markdown",
     "metadata": {},
     "source": [
      "****"
     ]
    },
    {
     "cell_type": "markdown",
     "metadata": {},
     "source": [
      "# Chapter 18  Inheritance\n",
      "\n",
      "In this chapter I present classes to represent playing cards, decks of cards, and poker hands. If you don\u2019t play poker, you can read about it at http://en.wikipedia.org/wiki/Poker, but you don\u2019t have to; I\u2019ll tell you what you need to know for the exercises.\n",
      "\n",
      "If you are not familiar with Anglo-American playing cards, you can read about them at http://en.wikipedia.org/wiki/Playing_cards."
     ]
    },
    {
     "cell_type": "markdown",
     "metadata": {},
     "source": [
      "****"
     ]
    },
    {
     "cell_type": "markdown",
     "metadata": {},
     "source": [
      "## 18.1  Card objects\n",
      "\n",
      "There are fifty-two cards in a deck, each of which belongs to one of four suits and one of thirteen ranks. The suits are Spades, Hearts, Diamonds, and Clubs (in descending order in bridge). The ranks are Ace, 2, 3, 4, 5, 6, 7, 8, 9, 10, Jack, Queen, and King. Depending on the game that you are playing, an Ace may be higher than King or lower than 2.\n",
      "\n",
      "If we want to define a new object to represent a playing card, it is obvious what the attributes should be: `rank` and `suit`. It is not as obvious what type the attributes should be. One possibility is to use strings containing words like 'Spade' for suits and 'Queen' for ranks. One problem with this implementation is that it would not be easy to compare cards to see which had a higher rank or suit.\n",
      "\n",
      "An alternative is to use integers to **encode** the ranks and suits. In this context, \u201cencode\u201d means that we are going to define a mapping between numbers and suits, or between numbers and ranks. This kind of encoding is not meant to be a secret (that would be \u201cencryption\u201d).\n",
      "\n",
      "For example, this table shows the suits and the corresponding integer codes:\n",
      "\n",
      "* Spades \u21a6 3\n",
      "* Hearts \u21a6 2\n",
      "* Diamonds \u21a6 1\n",
      "* Clubs \u21a6 0\n",
      "\n",
      "This code makes it easy to compare cards; because higher suits map to higher numbers, we can compare suits by comparing their codes.\n",
      "\n",
      "The mapping for ranks is fairly obvious; each of the numerical ranks maps to the corresponding integer, and for face cards:\n",
      "\n",
      "* Jack \u21a6 11\n",
      "* Queen \u21a6 12\n",
      "* King \u21a6 13\n",
      "\n",
      "I am using the \u21a6 symbol to make it clear that these mappings are not part of the Python program. They are part of the program design, but they don\u2019t appear explicitly in the code.\n",
      "\n",
      "The class definition for Card looks like this:"
     ]
    },
    {
     "cell_type": "code",
     "collapsed": false,
     "input": [
      "class Card(object):\n",
      "    \"\"\"Represents a standard playing card.\"\"\"\n",
      "\n",
      "    def __init__(self, suit=0, rank=2):\n",
      "        self.suit = suit\n",
      "        self.rank = rank"
     ],
     "language": "python",
     "metadata": {},
     "outputs": [],
     "prompt_number": 22
    },
    {
     "cell_type": "markdown",
     "metadata": {},
     "source": [
      "As usual, the init method takes an optional parameter for each attribute. The default card is the 2 of Clubs.\n",
      "To create a Card, you call Card with the suit and rank of the card you want."
     ]
    },
    {
     "cell_type": "code",
     "collapsed": false,
     "input": [
      "queen_of_diamonds = Card(1, 12)"
     ],
     "language": "python",
     "metadata": {},
     "outputs": [],
     "prompt_number": 23
    },
    {
     "cell_type": "markdown",
     "metadata": {},
     "source": [
      "****"
     ]
    },
    {
     "cell_type": "markdown",
     "metadata": {},
     "source": [
      "## 18.2  Class attributes\n",
      "\n",
      "In order to print Card objects in a way that people can easily read, we need a mapping from the integer codes to the corresponding ranks and suits. A natural way to do that is with lists of strings. We assign these lists to **class attributes**:"
     ]
    },
    {
     "cell_type": "code",
     "collapsed": false,
     "input": [
      "class Card(object):\n",
      "    \"\"\"Represents a standard playing card.\"\"\"\n",
      "\n",
      "    # class attributes\n",
      "    suit_names = ['Clubs', 'Diamonds', 'Hearts', 'Spades']\n",
      "    rank_names = [None, 'Ace', '2', '3', '4', '5', '6', '7', \n",
      "              '8', '9', '10', 'Jack', 'Queen', 'King']\n",
      "\n",
      "    # special methods\n",
      "    def __str__(self):\n",
      "        return '%s of %s' % (Card.rank_names[self.rank],\n",
      "                             Card.suit_names[self.suit])    \n",
      "    \n",
      "    def __init__(self, suit=0, rank=2):\n",
      "        self.suit = suit\n",
      "        self.rank = rank"
     ],
     "language": "python",
     "metadata": {},
     "outputs": [],
     "prompt_number": 24
    },
    {
     "cell_type": "markdown",
     "metadata": {},
     "source": [
      "Variables like `suit_names` and `rank_names`, which are defined inside a class but outside of any method, are called **class attributes** because they are associated with the class object Card.\n",
      "\n",
      "This term distinguishes them from variables like `suit` and `rank`, which are called **instance attributes** because they are associated with a particular instance.\n",
      "\n",
      "Both kinds of attribute are accessed using dot notation. For example, in `__str__`, `self` is a Card object, and `self.rank` is its rank. Similarly, `Card` is a class object, and `Card.rank_names` is a list of strings associated with the class.\n",
      "\n",
      "Every card has its own `suit` and `rank`, but there is only one copy of `suit_names` and `rank_names`.\n",
      "\n",
      "Putting it all together, the expression `Card.rank_names[self.rank]` means \u201cuse the attribute `rank` from the object `self` as an index into the list `rank_names` from the class `Card`, and select the appropriate string.\u201d\n",
      "\n",
      "The first element of `rank_names` is `None` because there is no card with rank zero. By including `None` as a place-keeper, we get a mapping with the nice property that the index 2 maps to the string '2', and so on. To avoid this tweak, we could have used a dictionary instead of a list.\n",
      "\n",
      "With the methods we have so far, we can create and print cards:"
     ]
    },
    {
     "cell_type": "code",
     "collapsed": false,
     "input": [
      "card1 = Card(2, 11)\n",
      "print card1.suit_names\n",
      "print card1.rank_names\n",
      "print card1"
     ],
     "language": "python",
     "metadata": {},
     "outputs": [
      {
       "output_type": "stream",
       "stream": "stdout",
       "text": [
        "['Clubs', 'Diamonds', 'Hearts', 'Spades']\n",
        "[None, 'Ace', '2', '3', '4', '5', '6', '7', '8', '9', '10', 'Jack', 'Queen', 'King']\n",
        "Jack of Hearts\n"
       ]
      }
     ],
     "prompt_number": 25
    },
    {
     "cell_type": "markdown",
     "metadata": {},
     "source": [
      "Figure 18.1 is a diagram of the `Card` class object and one Card instance. `Card` is a class object, so it has type `type`. `card1` has type `Card`. (To save space, I didn\u2019t draw the contents of `suit_names` and `rank_names`).\n",
      "\n",
      "<img src=\"files/figs/card1.png\" width=\"300\" >"
     ]
    },
    {
     "cell_type": "code",
     "collapsed": false,
     "input": [
      "print type(Card)\n",
      "print type(card1)"
     ],
     "language": "python",
     "metadata": {},
     "outputs": [
      {
       "output_type": "stream",
       "stream": "stdout",
       "text": [
        "<type 'type'>\n",
        "<class '__main__.Card'>\n"
       ]
      }
     ],
     "prompt_number": 26
    },
    {
     "cell_type": "markdown",
     "metadata": {},
     "source": [
      "****"
     ]
    },
    {
     "cell_type": "markdown",
     "metadata": {},
     "source": [
      "## 18.3  Comparing cards\n",
      "\n",
      "For built-in types, there are relational operators (<, >, ==, etc.) that compare values and determine when one is greater than, less than, or equal to another. For user-defined types, we can override the behavior of the built-in operators by providing a method named `__cmp__`.\n",
      "\n",
      "`__cmp__` takes two parameters, `self` and `other`, and returns a positive number if the first object is greater, a negative number if the second object is greater, and 0 if they are equal to each other.\n",
      "\n",
      "The correct ordering for cards is not obvious. For example, which is better, the 3 of Clubs or the 2 of Diamonds? One has a higher rank, but the other has a higher suit. In order to compare cards, you have to decide whether rank or suit is more important.\n",
      "\n",
      "The answer might depend on what game you are playing, but to keep things simple, we\u2019ll make the arbitrary choice that suit is more important, so all of the Spades outrank all of the Diamonds, and so on.\n",
      "\n",
      "With that decided, we can write `__cmp__`:"
     ]
    },
    {
     "cell_type": "code",
     "collapsed": false,
     "input": [
      "class Card(object):\n",
      "    \"\"\"Represents a standard playing card.\"\"\"\n",
      "\n",
      "    # class attributes\n",
      "    suit_names = ['Clubs', 'Diamonds', 'Hearts', 'Spades']\n",
      "    rank_names = [None, 'Ace', '2', '3', '4', '5', '6', '7', \n",
      "              '8', '9', '10', 'Jack', 'Queen', 'King']\n",
      "\n",
      "    # special methods\n",
      "    def __str__(self):\n",
      "        return '%s of %s' % (Card.rank_names[self.rank],\n",
      "                             Card.suit_names[self.suit])    \n",
      "    \n",
      "    def __init__(self, suit=0, rank=2):\n",
      "        self.suit = suit\n",
      "        self.rank = rank\n",
      "        \n",
      "    # operator overloading\n",
      "    # verbose version\n",
      "    def __cmp__(self, other):\n",
      "        # check the suits\n",
      "        if self.suit > other.suit: return 1\n",
      "        if self.suit < other.suit: return -1\n",
      "\n",
      "        # suits are the same... check ranks\n",
      "        if self.rank > other.rank: return 1\n",
      "        if self.rank < other.rank: return -1\n",
      "\n",
      "        # ranks are the same... it's a tie\n",
      "        return 0  \n",
      "    \n",
      "    # concise version, using tuple\n",
      "    def __cmp__(self, other):\n",
      "        t1 = self.suit, self.rank\n",
      "        t2 = other.suit, other.rank\n",
      "        return cmp(t1, t2)"
     ],
     "language": "python",
     "metadata": {},
     "outputs": [],
     "prompt_number": 27
    },
    {
     "cell_type": "markdown",
     "metadata": {},
     "source": [
      "The built-in function `cmp` has the same interface as the method `__cmp__`: it takes two values and returns a positive number if the first is larger, a negative number if the second is larger, and 0 if they are equal."
     ]
    },
    {
     "cell_type": "code",
     "collapsed": false,
     "input": [
      "card1 = Card(2, 11)\n",
      "card2 = Card(2, 13)\n",
      "print card1 > card2 "
     ],
     "language": "python",
     "metadata": {},
     "outputs": [
      {
       "output_type": "stream",
       "stream": "stdout",
       "text": [
        "False\n"
       ]
      }
     ],
     "prompt_number": 28
    },
    {
     "cell_type": "code",
     "collapsed": false,
     "input": [
      "card1 = Card(3, 11)\n",
      "card2 = Card(2, 13)\n",
      "print card1 > card2 "
     ],
     "language": "python",
     "metadata": {},
     "outputs": [
      {
       "output_type": "stream",
       "stream": "stdout",
       "text": [
        "True\n"
       ]
      }
     ],
     "prompt_number": 29
    },
    {
     "cell_type": "markdown",
     "metadata": {},
     "source": [
      "### Exercise 18.1  \n",
      "\n",
      "Write a `__cmp__` method for `Time` objects. \n",
      "\n",
      "**Hint**: you can use tuple comparison, but you also might consider using integer subtraction."
     ]
    },
    {
     "cell_type": "markdown",
     "metadata": {},
     "source": [
      "****"
     ]
    },
    {
     "cell_type": "markdown",
     "metadata": {},
     "source": [
      "## 18.4  Decks\n",
      "\n",
      "Now that we have Cards, the next step is to define Decks. Since a deck is made up of cards, it is natural for each Deck to contain a list of cards as an attribute.\n",
      "\n",
      "The following is a class definition for Deck. The init method creates the attribute `cards` and generates the standard set of fifty-two cards:"
     ]
    },
    {
     "cell_type": "code",
     "collapsed": false,
     "input": [
      "class Deck(object):\n",
      "\n",
      "    # special methods\n",
      "    def __init__(self):\n",
      "        self.cards = []\n",
      "        for suit in range(4):\n",
      "            for rank in range(1, 14):\n",
      "                card = Card(suit, rank)\n",
      "                self.cards.append(card)"
     ],
     "language": "python",
     "metadata": {},
     "outputs": [],
     "prompt_number": 30
    },
    {
     "cell_type": "markdown",
     "metadata": {},
     "source": [
      "The easiest way to populate the deck is with a nested loop. The outer loop enumerates the `suits` from 0 to 3. The inner loop enumerates the `ranks` from 1 to 13. Each iteration creates a new Card with the current suit and rank, and appends it to `self.cards`."
     ]
    },
    {
     "cell_type": "code",
     "collapsed": false,
     "input": [
      "deck = Deck()\n",
      "print deck.cards"
     ],
     "language": "python",
     "metadata": {},
     "outputs": [
      {
       "output_type": "stream",
       "stream": "stdout",
       "text": [
        "[<__main__.Card object at 0x104ae12d0>, <__main__.Card object at 0x104ae1e10>, <__main__.Card object at 0x104ae1750>, <__main__.Card object at 0x104ae1150>, <__main__.Card object at 0x104ae1ed0>, <__main__.Card object at 0x104ae1f90>, <__main__.Card object at 0x104ae1bd0>, <__main__.Card object at 0x104ae1210>, <__main__.Card object at 0x104ae8f90>, <__main__.Card object at 0x104ae8090>, <__main__.Card object at 0x104ae8150>, <__main__.Card object at 0x104ae8210>, <__main__.Card object at 0x104ae82d0>, <__main__.Card object at 0x104ae8390>, <__main__.Card object at 0x104ae8450>, <__main__.Card object at 0x104ae8750>, <__main__.Card object at 0x104ae8810>, <__main__.Card object at 0x104ae8510>, <__main__.Card object at 0x104ae88d0>, <__main__.Card object at 0x104ae8b10>, <__main__.Card object at 0x104ae85d0>, <__main__.Card object at 0x104ae8690>, <__main__.Card object at 0x104ae8990>, <__main__.Card object at 0x104ae8e10>, <__main__.Card object at 0x104ae8a50>, <__main__.Card object at 0x104ae8bd0>, <__main__.Card object at 0x104ae8c90>, <__main__.Card object at 0x104ae8d50>, <__main__.Card object at 0x104ae8ed0>, <__main__.Card object at 0x1064cfcd0>, <__main__.Card object at 0x1064cfc50>, <__main__.Card object at 0x1064cfd10>, <__main__.Card object at 0x1064cfd50>, <__main__.Card object at 0x1064cfd90>, <__main__.Card object at 0x1064cfdd0>, <__main__.Card object at 0x1064cff50>, <__main__.Card object at 0x1064cff90>, <__main__.Card object at 0x1064cfe10>, <__main__.Card object at 0x1064cfe50>, <__main__.Card object at 0x1064cfe90>, <__main__.Card object at 0x1064cfed0>, <__main__.Card object at 0x1064cff10>, <__main__.Card object at 0x1064cffd0>, <__main__.Card object at 0x1064a2390>, <__main__.Card object at 0x1064a2a50>, <__main__.Card object at 0x1064a25d0>, <__main__.Card object at 0x1064a2310>, <__main__.Card object at 0x1064a2350>, <__main__.Card object at 0x1053afe90>, <__main__.Card object at 0x1053aff90>, <__main__.Card object at 0x1053afdd0>, <__main__.Card object at 0x1053af250>]\n"
       ]
      }
     ],
     "prompt_number": 31
    },
    {
     "cell_type": "code",
     "collapsed": false,
     "input": [
      "deck = Deck()\n",
      "for card in deck.cards:\n",
      "    print card"
     ],
     "language": "python",
     "metadata": {},
     "outputs": [
      {
       "output_type": "stream",
       "stream": "stdout",
       "text": [
        "Ace of Clubs\n",
        "2 of Clubs\n",
        "3 of Clubs\n",
        "4 of Clubs\n",
        "5 of Clubs\n",
        "6 of Clubs\n",
        "7 of Clubs\n",
        "8 of Clubs\n",
        "9 of Clubs\n",
        "10 of Clubs\n",
        "Jack of Clubs\n",
        "Queen of Clubs\n",
        "King of Clubs\n",
        "Ace of Diamonds\n",
        "2 of Diamonds\n",
        "3 of Diamonds\n",
        "4 of Diamonds\n",
        "5 of Diamonds\n",
        "6 of Diamonds\n",
        "7 of Diamonds\n",
        "8 of Diamonds\n",
        "9 of Diamonds\n",
        "10 of Diamonds\n",
        "Jack of Diamonds\n",
        "Queen of Diamonds\n",
        "King of Diamonds\n",
        "Ace of Hearts\n",
        "2 of Hearts\n",
        "3 of Hearts\n",
        "4 of Hearts\n",
        "5 of Hearts\n",
        "6 of Hearts\n",
        "7 of Hearts\n",
        "8 of Hearts\n",
        "9 of Hearts\n",
        "10 of Hearts\n",
        "Jack of Hearts\n",
        "Queen of Hearts\n",
        "King of Hearts\n",
        "Ace of Spades\n",
        "2 of Spades\n",
        "3 of Spades\n",
        "4 of Spades\n",
        "5 of Spades\n",
        "6 of Spades\n",
        "7 of Spades\n",
        "8 of Spades\n",
        "9 of Spades\n",
        "10 of Spades\n",
        "Jack of Spades\n",
        "Queen of Spades\n",
        "King of Spades\n"
       ]
      }
     ],
     "prompt_number": 32
    },
    {
     "cell_type": "markdown",
     "metadata": {},
     "source": [
      "****"
     ]
    },
    {
     "cell_type": "markdown",
     "metadata": {},
     "source": [
      "## 18.5  Printing the deck\n",
      "\n",
      "Here is a `__str__` method for Deck:"
     ]
    },
    {
     "cell_type": "code",
     "collapsed": false,
     "input": [
      "class Deck(object):\n",
      "\n",
      "    # special methods\n",
      "    def __init__(self):\n",
      "        self.cards = []\n",
      "        for suit in range(4):\n",
      "            for rank in range(1, 14):\n",
      "                card = Card(suit, rank)\n",
      "                self.cards.append(card)\n",
      "\n",
      "    def __str__(self):\n",
      "        res = []\n",
      "        for card in self.cards:\n",
      "            res.append(str(card))\n",
      "        return '\\n'.join(res)"
     ],
     "language": "python",
     "metadata": {},
     "outputs": [],
     "prompt_number": 33
    },
    {
     "cell_type": "code",
     "collapsed": false,
     "input": [
      "deck = Deck()\n",
      "print deck"
     ],
     "language": "python",
     "metadata": {},
     "outputs": [
      {
       "output_type": "stream",
       "stream": "stdout",
       "text": [
        "Ace of Clubs\n",
        "2 of Clubs\n",
        "3 of Clubs\n",
        "4 of Clubs\n",
        "5 of Clubs\n",
        "6 of Clubs\n",
        "7 of Clubs\n",
        "8 of Clubs\n",
        "9 of Clubs\n",
        "10 of Clubs\n",
        "Jack of Clubs\n",
        "Queen of Clubs\n",
        "King of Clubs\n",
        "Ace of Diamonds\n",
        "2 of Diamonds\n",
        "3 of Diamonds\n",
        "4 of Diamonds\n",
        "5 of Diamonds\n",
        "6 of Diamonds\n",
        "7 of Diamonds\n",
        "8 of Diamonds\n",
        "9 of Diamonds\n",
        "10 of Diamonds\n",
        "Jack of Diamonds\n",
        "Queen of Diamonds\n",
        "King of Diamonds\n",
        "Ace of Hearts\n",
        "2 of Hearts\n",
        "3 of Hearts\n",
        "4 of Hearts\n",
        "5 of Hearts\n",
        "6 of Hearts\n",
        "7 of Hearts\n",
        "8 of Hearts\n",
        "9 of Hearts\n",
        "10 of Hearts\n",
        "Jack of Hearts\n",
        "Queen of Hearts\n",
        "King of Hearts\n",
        "Ace of Spades\n",
        "2 of Spades\n",
        "3 of Spades\n",
        "4 of Spades\n",
        "5 of Spades\n",
        "6 of Spades\n",
        "7 of Spades\n",
        "8 of Spades\n",
        "9 of Spades\n",
        "10 of Spades\n",
        "Jack of Spades\n",
        "Queen of Spades\n",
        "King of Spades\n"
       ]
      }
     ],
     "prompt_number": 34
    },
    {
     "cell_type": "markdown",
     "metadata": {},
     "source": [
      "Even though the result appears on 52 lines, it is one long string that contains newlines."
     ]
    },
    {
     "cell_type": "markdown",
     "metadata": {},
     "source": [
      "****"
     ]
    },
    {
     "cell_type": "markdown",
     "metadata": {},
     "source": [
      "## 18.6  Add, remove, shuffle and sort\n",
      "\n",
      "To deal cards, we would like a method that removes a card from the deck and returns it. The list method `pop` provides a convenient way to do that:\n"
     ]
    },
    {
     "cell_type": "code",
     "collapsed": false,
     "input": [
      "class Deck(object):\n",
      "\n",
      "    # special methods\n",
      "    def __init__(self):\n",
      "        self.cards = []\n",
      "        for suit in range(4):\n",
      "            for rank in range(1, 14):\n",
      "                card = Card(suit, rank)\n",
      "                self.cards.append(card)\n",
      "\n",
      "    def __str__(self):\n",
      "        res = []\n",
      "        for card in self.cards:\n",
      "            res.append(str(card))\n",
      "        return '\\n'.join(res)\n",
      "\n",
      "    # methods\n",
      "    def pop_card(self):\n",
      "        return self.cards.pop()"
     ],
     "language": "python",
     "metadata": {},
     "outputs": [],
     "prompt_number": 35
    },
    {
     "cell_type": "code",
     "collapsed": false,
     "input": [
      "deck = Deck()\n",
      "card = deck.pop_card()\n",
      "print card"
     ],
     "language": "python",
     "metadata": {},
     "outputs": [
      {
       "output_type": "stream",
       "stream": "stdout",
       "text": [
        "King of Spades\n"
       ]
      }
     ],
     "prompt_number": 36
    },
    {
     "cell_type": "markdown",
     "metadata": {},
     "source": [
      "Since `pop` removes the *last* card in the list, we are dealing from the bottom of the deck. In real life \u201cbottom dealing\u201d is frowned upon, but in this context it\u2019s ok.\n",
      "\n",
      "To add a card, we can use the list method append:"
     ]
    },
    {
     "cell_type": "code",
     "collapsed": false,
     "input": [
      "class Deck(object):\n",
      "\n",
      "    # special methods\n",
      "    def __init__(self):\n",
      "        self.cards = []\n",
      "        for suit in range(4):\n",
      "            for rank in range(1, 14):\n",
      "                card = Card(suit, rank)\n",
      "                self.cards.append(card)\n",
      "\n",
      "    def __str__(self):\n",
      "        res = []\n",
      "        for card in self.cards:\n",
      "            res.append(str(card))\n",
      "        return '\\n'.join(res)\n",
      "\n",
      "    # methods\n",
      "    def pop_card(self):\n",
      "        return self.cards.pop()\n",
      "    \n",
      "    def add_card(self, card):\n",
      "        self.cards.append(card)    \n",
      "        \n",
      "    def shuffle(self):\n",
      "        random.shuffle(self.cards)"
     ],
     "language": "python",
     "metadata": {},
     "outputs": [],
     "prompt_number": 37
    },
    {
     "cell_type": "markdown",
     "metadata": {},
     "source": [
      "A method like this that uses another function without doing much real work is sometimes called a **veneer**. \n",
      "\n",
      "```\n",
      "veneer |v\u0259\u02c8n\u026a(\u0259)r|\n",
      "noun\n",
      "a thin decorative covering of fine wood applied to a coarser wood or other material.\n",
      "\u2022 a layer of wood used to make plywood.\n",
      "```\n",
      "\n",
      "The metaphor comes from woodworking, where it is common to glue a thin layer of good quality wood to the surface of a cheaper piece of wood.\n",
      "\n",
      "In this case we are defining a \u201cthin\u201d method that expresses a list operation in terms that are appropriate for decks.\n",
      "\n",
      "As another example, we can write a Deck method named `shuffle` using the function `shuffle` from the `random` module:"
     ]
    },
    {
     "cell_type": "code",
     "collapsed": false,
     "input": [
      "class Deck(object):\n",
      "\n",
      "    # special methods\n",
      "    def __init__(self):\n",
      "        self.cards = []\n",
      "        for suit in range(4):\n",
      "            for rank in range(1, 14):\n",
      "                card = Card(suit, rank)\n",
      "                self.cards.append(card)\n",
      "\n",
      "    def __str__(self):\n",
      "        res = []\n",
      "        for card in self.cards:\n",
      "            res.append(str(card))\n",
      "        return '\\n'.join(res)\n",
      "\n",
      "    # methods\n",
      "    def pop_card(self):\n",
      "        return self.cards.pop()\n",
      "    \n",
      "    def add_card(self, card):\n",
      "        self.cards.append(card)    \n",
      "        \n",
      "    def shuffle(self):\n",
      "        random.shuffle(self.cards)\n",
      "        \n",
      "    def shuffle(self):\n",
      "        random.shuffle(self.cards)        "
     ],
     "language": "python",
     "metadata": {},
     "outputs": [],
     "prompt_number": 38
    },
    {
     "cell_type": "markdown",
     "metadata": {},
     "source": [
      "Don\u2019t forget to import `random`."
     ]
    },
    {
     "cell_type": "code",
     "collapsed": false,
     "input": [
      "deck = Deck()\n",
      "card1 = deck.pop_card()\n",
      "card2 = deck.pop_card()\n",
      "print card1\n",
      "print card2\n",
      "deck.add_card(card2)\n",
      "deck.add_card(card1)\n",
      "print \"--The Deck is back!--\"\n",
      "print deck"
     ],
     "language": "python",
     "metadata": {},
     "outputs": [
      {
       "output_type": "stream",
       "stream": "stdout",
       "text": [
        "King of Spades\n",
        "Queen of Spades\n",
        "--The Deck is back!--\n",
        "Ace of Clubs\n",
        "2 of Clubs\n",
        "3 of Clubs\n",
        "4 of Clubs\n",
        "5 of Clubs\n",
        "6 of Clubs\n",
        "7 of Clubs\n",
        "8 of Clubs\n",
        "9 of Clubs\n",
        "10 of Clubs\n",
        "Jack of Clubs\n",
        "Queen of Clubs\n",
        "King of Clubs\n",
        "Ace of Diamonds\n",
        "2 of Diamonds\n",
        "3 of Diamonds\n",
        "4 of Diamonds\n",
        "5 of Diamonds\n",
        "6 of Diamonds\n",
        "7 of Diamonds\n",
        "8 of Diamonds\n",
        "9 of Diamonds\n",
        "10 of Diamonds\n",
        "Jack of Diamonds\n",
        "Queen of Diamonds\n",
        "King of Diamonds\n",
        "Ace of Hearts\n",
        "2 of Hearts\n",
        "3 of Hearts\n",
        "4 of Hearts\n",
        "5 of Hearts\n",
        "6 of Hearts\n",
        "7 of Hearts\n",
        "8 of Hearts\n",
        "9 of Hearts\n",
        "10 of Hearts\n",
        "Jack of Hearts\n",
        "Queen of Hearts\n",
        "King of Hearts\n",
        "Ace of Spades\n",
        "2 of Spades\n",
        "3 of Spades\n",
        "4 of Spades\n",
        "5 of Spades\n",
        "6 of Spades\n",
        "7 of Spades\n",
        "8 of Spades\n",
        "9 of Spades\n",
        "10 of Spades\n",
        "Jack of Spades\n",
        "Queen of Spades\n",
        "King of Spades\n"
       ]
      }
     ],
     "prompt_number": 39
    },
    {
     "cell_type": "code",
     "collapsed": false,
     "input": [
      "deck = Deck()\n",
      "deck.shuffle()\n",
      "print deck"
     ],
     "language": "python",
     "metadata": {},
     "outputs": [
      {
       "ename": "NameError",
       "evalue": "global name 'random' is not defined",
       "output_type": "pyerr",
       "traceback": [
        "\u001b[0;31m---------------------------------------------------------------------------\u001b[0m\n\u001b[0;31mNameError\u001b[0m                                 Traceback (most recent call last)",
        "\u001b[0;32m<ipython-input-40-2be4bbfd2632>\u001b[0m in \u001b[0;36m<module>\u001b[0;34m()\u001b[0m\n\u001b[1;32m      1\u001b[0m \u001b[0mdeck\u001b[0m \u001b[0;34m=\u001b[0m \u001b[0mDeck\u001b[0m\u001b[0;34m(\u001b[0m\u001b[0;34m)\u001b[0m\u001b[0;34m\u001b[0m\u001b[0m\n\u001b[0;32m----> 2\u001b[0;31m \u001b[0mdeck\u001b[0m\u001b[0;34m.\u001b[0m\u001b[0mshuffle\u001b[0m\u001b[0;34m(\u001b[0m\u001b[0;34m)\u001b[0m\u001b[0;34m\u001b[0m\u001b[0m\n\u001b[0m\u001b[1;32m      3\u001b[0m \u001b[0;32mprint\u001b[0m \u001b[0mdeck\u001b[0m\u001b[0;34m\u001b[0m\u001b[0m\n",
        "\u001b[0;32m<ipython-input-38-b4a222c4d5a7>\u001b[0m in \u001b[0;36mshuffle\u001b[0;34m(self)\u001b[0m\n\u001b[1;32m     26\u001b[0m \u001b[0;34m\u001b[0m\u001b[0m\n\u001b[1;32m     27\u001b[0m     \u001b[0;32mdef\u001b[0m \u001b[0mshuffle\u001b[0m\u001b[0;34m(\u001b[0m\u001b[0mself\u001b[0m\u001b[0;34m)\u001b[0m\u001b[0;34m:\u001b[0m\u001b[0;34m\u001b[0m\u001b[0m\n\u001b[0;32m---> 28\u001b[0;31m         \u001b[0mrandom\u001b[0m\u001b[0;34m.\u001b[0m\u001b[0mshuffle\u001b[0m\u001b[0;34m(\u001b[0m\u001b[0mself\u001b[0m\u001b[0;34m.\u001b[0m\u001b[0mcards\u001b[0m\u001b[0;34m)\u001b[0m\u001b[0;34m\u001b[0m\u001b[0m\n\u001b[0m",
        "\u001b[0;31mNameError\u001b[0m: global name 'random' is not defined"
       ]
      }
     ],
     "prompt_number": 40
    },
    {
     "cell_type": "markdown",
     "metadata": {},
     "source": [
      "### Exercise 18.2  \n",
      "\n",
      "Write a Deck method named `sort` that uses the list method `sort` to sort the cards in a Deck. `sort` uses the `__cmp__` method we defined to determine sort order."
     ]
    },
    {
     "cell_type": "markdown",
     "metadata": {},
     "source": [
      "****"
     ]
    },
    {
     "cell_type": "markdown",
     "metadata": {},
     "source": [
      "## 18.7  Inheritance\n",
      "\n",
      "The language feature most often associated with object-oriented programming is **inheritance**. Inheritance is the ability to define a new class that is a modified version of an existing class.\n",
      "\n",
      "It is called \u201cinheritance\u201d because the new class inherits the methods of the existing class. Extending this metaphor, the existing class is called the **parent** and the new class is called the **child**.\n",
      "\n",
      "As an example, let\u2019s say we want a class to represent a \u201chand,\u201d that is, the set of cards held by one player. A hand is similar to a deck: both are made up of a set of cards, and both require operations like adding and removing cards.\n",
      "\n",
      "A hand is also different from a deck; there are operations we want for hands that don\u2019t make sense for a deck. For example, in poker we might compare two hands to see which one wins. In bridge, we might compute a score for a hand in order to make a bid.\n",
      "\n",
      "This relationship between classes\u2014similar, but different\u2014lends itself to inheritance.\n",
      "\n",
      "The definition of a child class is like other class definitions, but the name of the parent class appears in parentheses:"
     ]
    },
    {
     "cell_type": "code",
     "collapsed": false,
     "input": [
      "class Hand(Deck):\n",
      "    \"\"\"Represents a hand of playing cards.\"\"\""
     ],
     "language": "python",
     "metadata": {},
     "outputs": [],
     "prompt_number": 41
    },
    {
     "cell_type": "markdown",
     "metadata": {},
     "source": [
      "This definition indicates that Hand inherits from Deck; that means we can use methods like `pop_card` and `add_card` for Hands as well as Decks.\n",
      "\n",
      "Hand also inherits `__init__` from Deck, but it doesn\u2019t really do what we want: instead of populating the hand with 52 new cards, the init method for Hands should initialize cards with an empty list.\n",
      "\n",
      "If we provide an init method in the Hand class, it **overrides** the one in the Deck class:"
     ]
    },
    {
     "cell_type": "code",
     "collapsed": false,
     "input": [
      "class Hand(Deck):\n",
      "    \"\"\"Represents a hand of playing cards.\"\"\"\n",
      "    \n",
      "hand = Hand()\n",
      "print hand"
     ],
     "language": "python",
     "metadata": {},
     "outputs": [
      {
       "output_type": "stream",
       "stream": "stdout",
       "text": [
        "Ace of Clubs\n",
        "2 of Clubs\n",
        "3 of Clubs\n",
        "4 of Clubs\n",
        "5 of Clubs\n",
        "6 of Clubs\n",
        "7 of Clubs\n",
        "8 of Clubs\n",
        "9 of Clubs\n",
        "10 of Clubs\n",
        "Jack of Clubs\n",
        "Queen of Clubs\n",
        "King of Clubs\n",
        "Ace of Diamonds\n",
        "2 of Diamonds\n",
        "3 of Diamonds\n",
        "4 of Diamonds\n",
        "5 of Diamonds\n",
        "6 of Diamonds\n",
        "7 of Diamonds\n",
        "8 of Diamonds\n",
        "9 of Diamonds\n",
        "10 of Diamonds\n",
        "Jack of Diamonds\n",
        "Queen of Diamonds\n",
        "King of Diamonds\n",
        "Ace of Hearts\n",
        "2 of Hearts\n",
        "3 of Hearts\n",
        "4 of Hearts\n",
        "5 of Hearts\n",
        "6 of Hearts\n",
        "7 of Hearts\n",
        "8 of Hearts\n",
        "9 of Hearts\n",
        "10 of Hearts\n",
        "Jack of Hearts\n",
        "Queen of Hearts\n",
        "King of Hearts\n",
        "Ace of Spades\n",
        "2 of Spades\n",
        "3 of Spades\n",
        "4 of Spades\n",
        "5 of Spades\n",
        "6 of Spades\n",
        "7 of Spades\n",
        "8 of Spades\n",
        "9 of Spades\n",
        "10 of Spades\n",
        "Jack of Spades\n",
        "Queen of Spades\n",
        "King of Spades\n"
       ]
      }
     ],
     "prompt_number": 42
    },
    {
     "cell_type": "code",
     "collapsed": false,
     "input": [
      "class Hand(Deck):\n",
      "    \"\"\"Represents a hand of playing cards.\"\"\"\n",
      "    \n",
      "    # special methods\n",
      "    def __init__(self, label=''):\n",
      "        self.cards = []\n",
      "        self.label = label"
     ],
     "language": "python",
     "metadata": {},
     "outputs": [],
     "prompt_number": 43
    },
    {
     "cell_type": "markdown",
     "metadata": {},
     "source": [
      "So when you create a Hand, Python invokes this init method:"
     ]
    },
    {
     "cell_type": "code",
     "collapsed": false,
     "input": [
      "hand = Hand('new hand')\n",
      "print hand.cards\n",
      "print hand.label"
     ],
     "language": "python",
     "metadata": {},
     "outputs": [
      {
       "output_type": "stream",
       "stream": "stdout",
       "text": [
        "[]\n",
        "new hand\n"
       ]
      }
     ],
     "prompt_number": 44
    },
    {
     "cell_type": "markdown",
     "metadata": {},
     "source": [
      "But the other methods are inherited from `Deck`, so we can use `pop_card` and `add_card` to deal a card:"
     ]
    },
    {
     "cell_type": "code",
     "collapsed": false,
     "input": [
      "#hand = Hand('new hand')\n",
      "print 'Before dealing a card.'\n",
      "hand = Hand('new hand')\n",
      "print hand.cards\n",
      "print hand.label\n",
      "print hand\n",
      "\n",
      "print 'After dealing a card from the deck.'\n",
      "deck = Deck()\n",
      "card = deck.pop_card()\n",
      "hand.add_card(card)\n",
      "print hand\n",
      "print hand.cards\n",
      "print hand.label"
     ],
     "language": "python",
     "metadata": {},
     "outputs": [
      {
       "output_type": "stream",
       "stream": "stdout",
       "text": [
        "Before dealing a card.\n",
        "[]\n",
        "new hand\n",
        "\n",
        "After dealing a card from the deck.\n",
        "King of Spades\n",
        "[<__main__.Card object at 0x106501e50>]\n",
        "new hand\n"
       ]
      }
     ],
     "prompt_number": 45
    },
    {
     "cell_type": "markdown",
     "metadata": {},
     "source": [
      "A natural next step is to encapsulate this code in a method called `move_cards`:"
     ]
    },
    {
     "cell_type": "code",
     "collapsed": false,
     "input": [
      "class Deck(object):\n",
      "\n",
      "    # special methods\n",
      "    def __init__(self):\n",
      "        self.cards = []\n",
      "        for suit in range(4):\n",
      "            for rank in range(1, 14):\n",
      "                card = Card(suit, rank)\n",
      "                self.cards.append(card)\n",
      "\n",
      "    def __str__(self):\n",
      "        res = []\n",
      "        for card in self.cards:\n",
      "            res.append(str(card))\n",
      "        return '\\n'.join(res)\n",
      "\n",
      "    # methods\n",
      "    def pop_card(self):\n",
      "        return self.cards.pop()\n",
      "    \n",
      "    def add_card(self, card):\n",
      "        self.cards.append(card)    \n",
      "        \n",
      "    def shuffle(self):\n",
      "        random.shuffle(self.cards)\n",
      "        \n",
      "    def shuffle(self):\n",
      "        random.shuffle(self.cards)  \n",
      "\n",
      "    def move_cards(self, hand, num):\n",
      "        for i in range(num):\n",
      "            hand.add_card(self.pop_card())\n",
      "\n",
      "class Hand(Deck):\n",
      "    \"\"\"Represents a hand of playing cards.\"\"\"\n",
      "    \n",
      "    # special methods\n",
      "    def __init__(self, label=''):\n",
      "        self.cards = []\n",
      "        self.label = label"
     ],
     "language": "python",
     "metadata": {},
     "outputs": [],
     "prompt_number": 46
    },
    {
     "cell_type": "markdown",
     "metadata": {},
     "source": [
      "`move_cards` takes two arguments, a Hand object and the number of cards to deal. It modifies both `self` and `hand`, and returns `None`."
     ]
    },
    {
     "cell_type": "markdown",
     "metadata": {},
     "source": [
      "In some games, cards are moved from one hand to another, or from a hand back to the deck. You can use `move_cards` for any of these operations: `self` can be either a Deck or a Hand, and `hand`, despite the name, can also be a Deck."
     ]
    },
    {
     "cell_type": "code",
     "collapsed": false,
     "input": [
      "deck1 = Deck()\n",
      "deck2 = Deck()\n",
      "hand1 = Hand()\n",
      "hand2 = Hand()\n",
      "\n",
      "\n",
      "# deal 5 cards from deck1 to hand1 and hand2\n",
      "deck1.shuffle()\n",
      "deck1.move_cards(hand1,5)\n",
      "deck1.move_cards(hand2,5)\n",
      "print 'hand1:\\n', hand1\n",
      "print 'hand2:\\n', hand2\n",
      "\n",
      "# deal 1 cars from hand1 to hand2\n",
      "hand1.move_cards(hand2,1)\n",
      "print 'hand1:\\n', hand1\n",
      "print 'hand2:\\n', hand2\n",
      "\n",
      "# deal 5 cards from hand2 to deck1\n",
      "hand2.move_cards(deck1,5)\n",
      "\n",
      "# deal 5 cards from deck2 to deck1\n",
      "deck2.move_cards(deck1,5)"
     ],
     "language": "python",
     "metadata": {},
     "outputs": [
      {
       "ename": "NameError",
       "evalue": "global name 'random' is not defined",
       "output_type": "pyerr",
       "traceback": [
        "\u001b[0;31m---------------------------------------------------------------------------\u001b[0m\n\u001b[0;31mNameError\u001b[0m                                 Traceback (most recent call last)",
        "\u001b[0;32m<ipython-input-47-f9fa931fe6b4>\u001b[0m in \u001b[0;36m<module>\u001b[0;34m()\u001b[0m\n\u001b[1;32m      6\u001b[0m \u001b[0;34m\u001b[0m\u001b[0m\n\u001b[1;32m      7\u001b[0m \u001b[0;31m# deal 5 cards from deck1 to hand1 and hand2\u001b[0m\u001b[0;34m\u001b[0m\u001b[0;34m\u001b[0m\u001b[0m\n\u001b[0;32m----> 8\u001b[0;31m \u001b[0mdeck1\u001b[0m\u001b[0;34m.\u001b[0m\u001b[0mshuffle\u001b[0m\u001b[0;34m(\u001b[0m\u001b[0;34m)\u001b[0m\u001b[0;34m\u001b[0m\u001b[0m\n\u001b[0m\u001b[1;32m      9\u001b[0m \u001b[0mdeck1\u001b[0m\u001b[0;34m.\u001b[0m\u001b[0mmove_cards\u001b[0m\u001b[0;34m(\u001b[0m\u001b[0mhand1\u001b[0m\u001b[0;34m,\u001b[0m\u001b[0;36m5\u001b[0m\u001b[0;34m)\u001b[0m\u001b[0;34m\u001b[0m\u001b[0m\n\u001b[1;32m     10\u001b[0m \u001b[0mdeck1\u001b[0m\u001b[0;34m.\u001b[0m\u001b[0mmove_cards\u001b[0m\u001b[0;34m(\u001b[0m\u001b[0mhand2\u001b[0m\u001b[0;34m,\u001b[0m\u001b[0;36m5\u001b[0m\u001b[0;34m)\u001b[0m\u001b[0;34m\u001b[0m\u001b[0m\n",
        "\u001b[0;32m<ipython-input-46-ccab72f73670>\u001b[0m in \u001b[0;36mshuffle\u001b[0;34m(self)\u001b[0m\n\u001b[1;32m     26\u001b[0m \u001b[0;34m\u001b[0m\u001b[0m\n\u001b[1;32m     27\u001b[0m     \u001b[0;32mdef\u001b[0m \u001b[0mshuffle\u001b[0m\u001b[0;34m(\u001b[0m\u001b[0mself\u001b[0m\u001b[0;34m)\u001b[0m\u001b[0;34m:\u001b[0m\u001b[0;34m\u001b[0m\u001b[0m\n\u001b[0;32m---> 28\u001b[0;31m         \u001b[0mrandom\u001b[0m\u001b[0;34m.\u001b[0m\u001b[0mshuffle\u001b[0m\u001b[0;34m(\u001b[0m\u001b[0mself\u001b[0m\u001b[0;34m.\u001b[0m\u001b[0mcards\u001b[0m\u001b[0;34m)\u001b[0m\u001b[0;34m\u001b[0m\u001b[0m\n\u001b[0m\u001b[1;32m     29\u001b[0m \u001b[0;34m\u001b[0m\u001b[0m\n\u001b[1;32m     30\u001b[0m     \u001b[0;32mdef\u001b[0m \u001b[0mmove_cards\u001b[0m\u001b[0;34m(\u001b[0m\u001b[0mself\u001b[0m\u001b[0;34m,\u001b[0m \u001b[0mhand\u001b[0m\u001b[0;34m,\u001b[0m \u001b[0mnum\u001b[0m\u001b[0;34m)\u001b[0m\u001b[0;34m:\u001b[0m\u001b[0;34m\u001b[0m\u001b[0m\n",
        "\u001b[0;31mNameError\u001b[0m: global name 'random' is not defined"
       ]
      }
     ],
     "prompt_number": 47
    },
    {
     "cell_type": "markdown",
     "metadata": {},
     "source": [
      "### Exercise 3  \n",
      "\n",
      "Write a Deck method called `deal_hands` that takes two parameters, the number of hands and the number of cards per hand, and that creates new Hand objects, deals the appropriate number of cards per hand, and returns a list of Hand objects."
     ]
    },
    {
     "cell_type": "markdown",
     "metadata": {},
     "source": [
      "****"
     ]
    },
    {
     "cell_type": "markdown",
     "metadata": {},
     "source": [
      "Inheritance is a useful feature. Some programs that would be repetitive without inheritance can be written more elegantly with it. Inheritance can facilitate code reuse, since you can customize the behavior of parent classes without having to modify them. In some cases, the inheritance structure reflects the natural structure of the problem, which makes the program easier to understand.\n",
      "\n",
      "On the other hand, inheritance can make programs difficult to read. When a method is invoked, it is sometimes not clear where to find its definition. The relevant code may be scattered among several modules. Also, many of the things that can be done using inheritance can be done as well or better without it."
     ]
    },
    {
     "cell_type": "markdown",
     "metadata": {},
     "source": [
      "****"
     ]
    },
    {
     "cell_type": "markdown",
     "metadata": {},
     "source": [
      "## 18.8  Class diagrams\n",
      "\n",
      "So far we have seen stack diagrams, which show the state of a program, and object diagrams, which show the attributes of an object and their values. These diagrams represent a snapshot in the execution of a program, so they change as the program runs.\n",
      "\n",
      "They are also highly detailed; for some purposes, too detailed. A class diagram is a more abstract representation of the structure of a program. Instead of showing individual objects, it shows classes and the relationships between them.\n",
      "\n",
      "There are several kinds of relationship between classes:\n",
      "\n",
      "* Objects in one class might contain references to objects in another class. For example, each Rectangle contains a reference to a Point, and each Deck contains references to many Cards. This kind of relationship is called **HAS-A**, as in, \u201ca Rectangle has a Point.\u201d\n",
      "\n",
      "* One class might inherit from another. This relationship is called **IS-A**, as in, \u201ca Hand is a kind of a Deck.\u201d\n",
      "\n",
      "* One class might depend on another in the sense that changes in one class would require changes in the other.\n",
      "\n",
      "A **class diagram** is a graphical representation of these relationships. For example, Figure 18.2 shows the relationships between `Card`, `Deck` and `Hand`.\n",
      "\n",
      "<img src=\"files/figs/class1.png\" width=\"300\">"
     ]
    },
    {
     "cell_type": "markdown",
     "metadata": {},
     "source": [
      "The arrow with a hollow triangle head represents an IS-A relationship; in this case it indicates that Hand inherits from Deck.\n",
      "The standard arrow head represents a HAS-A relationship; in this case a Deck has references to Card objects.\n",
      "\n",
      "The star (*) near the arrow head is a **multiplicity**; it indicates how many Cards a Deck has. A multiplicity can be a simple number, like 52, a range, like 5..7 or a star, which indicates that a Deck can have any number of Cards.\n",
      "\n",
      "A more detailed diagram might show that a Deck actually contains a *list* of Cards, but built-in types like list and dict are usually not included in class diagrams."
     ]
    },
    {
     "cell_type": "markdown",
     "metadata": {},
     "source": [
      "## Exercise 18.4  \n",
      "\n",
      "Read `TurtleWorld.py`, `World.py` and `Gui.py` and draw a class diagram that shows the relationships among the classes defined there."
     ]
    },
    {
     "cell_type": "markdown",
     "metadata": {},
     "source": [
      "****"
     ]
    },
    {
     "cell_type": "markdown",
     "metadata": {},
     "source": [
      "## 18.9  Debugging\n",
      "\n",
      "Inheritance can make debugging a challenge because when you invoke a method on an object, you might not know which method will be invoked.\n",
      "\n",
      "Suppose you are writing a function that works with Hand objects. You would like it to work with all kinds of Hands, like PokerHands, BridgeHands, etc. If you invoke a method like `shuffle`, you might get the one defined in `Deck`, but if any of the subclasses override this method, you\u2019ll get that version instead.\n",
      "\n",
      "Any time you are unsure about the flow of execution through your program, the simplest solution is to add print statements at the beginning of the relevant methods. If `Deck.shuffle` prints a message that says something like `Running Deck.shuffle`, then as the program runs it traces the flow of execution.\n",
      "\n",
      "As an alternative, you could use this function, which takes an object and a method name (as a string) and returns the class that provides the definition of the method:"
     ]
    },
    {
     "cell_type": "code",
     "collapsed": false,
     "input": [
      "def find_defining_class(obj, meth_name):\n",
      "    for ty in type(obj).mro():\n",
      "        if meth_name in ty.__dict__:\n",
      "            return ty"
     ],
     "language": "python",
     "metadata": {},
     "outputs": [],
     "prompt_number": 48
    },
    {
     "cell_type": "markdown",
     "metadata": {},
     "source": [
      "Here\u2019s an example:"
     ]
    },
    {
     "cell_type": "code",
     "collapsed": false,
     "input": [
      "hand = Hand()\n",
      "print find_defining_class(hand, 'shuffle')"
     ],
     "language": "python",
     "metadata": {},
     "outputs": [
      {
       "output_type": "stream",
       "stream": "stdout",
       "text": [
        "<class '__main__.Deck'>\n"
       ]
      }
     ],
     "prompt_number": 49
    },
    {
     "cell_type": "markdown",
     "metadata": {},
     "source": [
      "So the shuffle method for this Hand is the one in Deck."
     ]
    },
    {
     "cell_type": "markdown",
     "metadata": {},
     "source": [
      "To understand how it works:"
     ]
    },
    {
     "cell_type": "code",
     "collapsed": false,
     "input": [
      "type(hand).mro()"
     ],
     "language": "python",
     "metadata": {},
     "outputs": [
      {
       "metadata": {},
       "output_type": "pyout",
       "prompt_number": 59,
       "text": [
        "[__main__.Hand, __main__.Deck, object]"
       ]
      }
     ],
     "prompt_number": 59
    },
    {
     "cell_type": "code",
     "collapsed": false,
     "input": [
      "Hand.__dict__"
     ],
     "language": "python",
     "metadata": {},
     "outputs": [
      {
       "metadata": {},
       "output_type": "pyout",
       "prompt_number": 57,
       "text": [
        "<dictproxy {'__doc__': 'Represents a hand of playing cards.',\n",
        " '__init__': <function __main__.__init__>,\n",
        " '__module__': '__main__'}>"
       ]
      }
     ],
     "prompt_number": 57
    },
    {
     "cell_type": "code",
     "collapsed": false,
     "input": [
      "Deck.__dict__"
     ],
     "language": "python",
     "metadata": {},
     "outputs": [
      {
       "metadata": {},
       "output_type": "pyout",
       "prompt_number": 58,
       "text": [
        "<dictproxy {'__dict__': <attribute '__dict__' of 'Deck' objects>,\n",
        " '__doc__': None,\n",
        " '__init__': <function __main__.__init__>,\n",
        " '__module__': '__main__',\n",
        " '__str__': <function __main__.__str__>,\n",
        " '__weakref__': <attribute '__weakref__' of 'Deck' objects>,\n",
        " 'add_card': <function __main__.add_card>,\n",
        " 'move_cards': <function __main__.move_cards>,\n",
        " 'pop_card': <function __main__.pop_card>,\n",
        " 'shuffle': <function __main__.shuffle>}>"
       ]
      }
     ],
     "prompt_number": 58
    },
    {
     "cell_type": "markdown",
     "metadata": {},
     "source": [
      "`find_defining_class` uses the `mro` method to get the list of class objects (types) that will be searched for methods. \u201cMRO\u201d stands for \u201cmethod resolution order.\u201d\n",
      "\n",
      "Here\u2019s a program design suggestion: whenever you override a method, the interface of the new method should be the same as the old. It should take the same parameters, return the same type, and obey the same preconditions and postconditions. If you obey this rule, you will find that any function designed to work with an instance of a superclass, like a Deck, will also work with instances of subclasses like a Hand or PokerHand.\n",
      "\n",
      "If you violate this rule, your code will collapse like (sorry) a house of cards."
     ]
    },
    {
     "cell_type": "markdown",
     "metadata": {},
     "source": [
      "****"
     ]
    },
    {
     "cell_type": "markdown",
     "metadata": {},
     "source": [
      "# 18.10  Data encapsulation\n",
      "\n"
     ]
    },
    {
     "cell_type": "markdown",
     "metadata": {},
     "source": [
      "# 18.11  Glossary\n",
      "\n",
      "**encode:**\n",
      "\n",
      "To represent one set of values using another set of values by constructing a mapping between them.\n",
      "\n",
      "**class attribute:**\n",
      "An attribute associated with a class object. Class attributes are defined inside a class definition but outside any method.\n",
      "\n",
      "**instance attribute:**\n",
      "\n",
      "An attribute associated with an instance of a class.\n",
      "\n",
      "**veneer:**\n",
      "\n",
      "A method or function that provides a different interface to another function without doing much computation.\n",
      "\n",
      "**inheritance:**\n",
      "\n",
      "The ability to define a new class that is a modified version of a previously defined class.\n",
      "\n",
      "**parent class:**\n",
      "\n",
      "The class from which a child class inherits.\n",
      "\n",
      "**child class:**\n",
      "\n",
      "A new class created by inheriting from an existing class; also called a \u201csubclass.\u201d\n",
      "\n",
      "**IS-A relationship:**\n",
      "\n",
      "The relationship between a child class and its parent class.\n",
      "\n",
      "**HAS-A relationship:**\n",
      "\n",
      "The relationship between two classes where instances of one class contain references to instances of the other.\n",
      "\n",
      "**class diagram:**\n",
      "\n",
      "A diagram that shows the classes in a program and the relationships between them.\n",
      "\n",
      "**multiplicity:**\n",
      "\n",
      "A notation in a class diagram that shows, for a HAS-A relationship, how many references there are to instances of another class.\n"
     ]
    },
    {
     "cell_type": "code",
     "collapsed": false,
     "input": [],
     "language": "python",
     "metadata": {},
     "outputs": []
    }
   ],
   "metadata": {}
  }
 ]
}