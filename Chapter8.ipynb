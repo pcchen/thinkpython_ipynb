{
 "metadata": {
  "name": "",
  "signature": "sha256:abdaa2d23977e1a0048b52da3ed9c49f744d0bf47630693b29621a3bcfcbe548"
 },
 "nbformat": 3,
 "nbformat_minor": 0,
 "worksheets": [
  {
   "cells": [
    {
     "cell_type": "markdown",
     "metadata": {},
     "source": [
      "# License\n",
      "\n",
      "This IPython Notebook is released under the [Creative Commons Attribution-NonCommercial 3.0 Unported License](http://creativecommons.org/licenses/by-nc/3.0/)\n",
      "\n",
      "This IPython Notebook is based on [Think Python: How to Think Like a Computer Scientist](http://www.greenteapress.com/thinkpython/) by Allen B. Downey. It is available under the [Creative Commons Attribution-NonCommercial 3.0 Unported License](http://creativecommons.org/licenses/by-nc/3.0/)"
     ]
    },
    {
     "cell_type": "markdown",
     "metadata": {},
     "source": [
      "****"
     ]
    },
    {
     "cell_type": "markdown",
     "metadata": {},
     "source": [
      "# Chapter 8  Strings"
     ]
    },
    {
     "cell_type": "markdown",
     "metadata": {},
     "source": [
      "## 8.1  A string is a sequence\n",
      "\n",
      "A string is a **sequence** of characters. \n",
      "* You can access the characters one at a time with the **bracket** operator:"
     ]
    },
    {
     "cell_type": "code",
     "collapsed": false,
     "input": [
      "fruit = 'banana'\n",
      "letter = fruit[1]\n",
      "print letter"
     ],
     "language": "python",
     "metadata": {},
     "outputs": [
      {
       "output_type": "stream",
       "stream": "stdout",
       "text": [
        "a\n"
       ]
      }
     ],
     "prompt_number": 1
    },
    {
     "cell_type": "markdown",
     "metadata": {},
     "source": [
      "* The second statement selects character number 1 from fruit and assigns it to letter.\n",
      "\n",
      "The expression in brackets is called an **index**. \n",
      "* The index indicates which character in the sequence you want (hence the name).\n",
      "* The index is an offset from the beginning of the string, and the offset of the first letter is zero."
     ]
    },
    {
     "cell_type": "code",
     "collapsed": false,
     "input": [
      "fruit = 'banana'\n",
      "letter = fruit[0]\n",
      "print letter"
     ],
     "language": "python",
     "metadata": {},
     "outputs": [
      {
       "output_type": "stream",
       "stream": "stdout",
       "text": [
        "b\n"
       ]
      }
     ],
     "prompt_number": 2
    },
    {
     "cell_type": "markdown",
     "metadata": {},
     "source": [
      "* `b` is the 0th letter of 'banana'. \n",
      "* `a` is the 1th letter of 'banana'. \n",
      "* `n` is the 2th letter of 'banana'."
     ]
    },
    {
     "cell_type": "markdown",
     "metadata": {},
     "source": [
      "### Caution!\n",
      "\n",
      "* You can use any expression, including variables and operators, as an index, but the value of the index has to be an integer."
     ]
    },
    {
     "cell_type": "code",
     "collapsed": false,
     "input": [
      "letter = fruit[1.5]"
     ],
     "language": "python",
     "metadata": {},
     "outputs": [
      {
       "ename": "TypeError",
       "evalue": "string indices must be integers, not float",
       "output_type": "pyerr",
       "traceback": [
        "\u001b[0;31m---------------------------------------------------------------------------\u001b[0m\n\u001b[0;31mTypeError\u001b[0m                                 Traceback (most recent call last)",
        "\u001b[0;32m<ipython-input-3-2bd018f0559d>\u001b[0m in \u001b[0;36m<module>\u001b[0;34m()\u001b[0m\n\u001b[0;32m----> 1\u001b[0;31m \u001b[0mletter\u001b[0m \u001b[0;34m=\u001b[0m \u001b[0mfruit\u001b[0m\u001b[0;34m[\u001b[0m\u001b[0;36m1.5\u001b[0m\u001b[0;34m]\u001b[0m\u001b[0;34m\u001b[0m\u001b[0m\n\u001b[0m",
        "\u001b[0;31mTypeError\u001b[0m: string indices must be integers, not float"
       ]
      }
     ],
     "prompt_number": 3
    },
    {
     "cell_type": "markdown",
     "metadata": {},
     "source": [
      "****"
     ]
    },
    {
     "cell_type": "markdown",
     "metadata": {},
     "source": [
      "## 8.2  `len`\n",
      "\n",
      "`len` is a built-in function that returns the number of characters in a string:"
     ]
    },
    {
     "cell_type": "code",
     "collapsed": false,
     "input": [
      "fruit = 'banana'\n",
      "print len(fruit)"
     ],
     "language": "python",
     "metadata": {},
     "outputs": [
      {
       "output_type": "stream",
       "stream": "stdout",
       "text": [
        "6\n"
       ]
      }
     ],
     "prompt_number": 4
    },
    {
     "cell_type": "markdown",
     "metadata": {},
     "source": [
      "To get the last letter of a string, you might be tempted to try something like this:"
     ]
    },
    {
     "cell_type": "code",
     "collapsed": false,
     "input": [
      "fruit = 'banana'\n",
      "length = len(fruit)\n",
      "last = fruit[length]"
     ],
     "language": "python",
     "metadata": {},
     "outputs": [
      {
       "ename": "IndexError",
       "evalue": "string index out of range",
       "output_type": "pyerr",
       "traceback": [
        "\u001b[0;31m---------------------------------------------------------------------------\u001b[0m\n\u001b[0;31mIndexError\u001b[0m                                Traceback (most recent call last)",
        "\u001b[0;32m<ipython-input-5-d6cd79f3d438>\u001b[0m in \u001b[0;36m<module>\u001b[0;34m()\u001b[0m\n\u001b[1;32m      1\u001b[0m \u001b[0mfruit\u001b[0m \u001b[0;34m=\u001b[0m \u001b[0;34m'banana'\u001b[0m\u001b[0;34m\u001b[0m\u001b[0m\n\u001b[1;32m      2\u001b[0m \u001b[0mlength\u001b[0m \u001b[0;34m=\u001b[0m \u001b[0mlen\u001b[0m\u001b[0;34m(\u001b[0m\u001b[0mfruit\u001b[0m\u001b[0;34m)\u001b[0m\u001b[0;34m\u001b[0m\u001b[0m\n\u001b[0;32m----> 3\u001b[0;31m \u001b[0mlast\u001b[0m \u001b[0;34m=\u001b[0m \u001b[0mfruit\u001b[0m\u001b[0;34m[\u001b[0m\u001b[0mlength\u001b[0m\u001b[0;34m]\u001b[0m\u001b[0;34m\u001b[0m\u001b[0m\n\u001b[0m",
        "\u001b[0;31mIndexError\u001b[0m: string index out of range"
       ]
      }
     ],
     "prompt_number": 5
    },
    {
     "cell_type": "markdown",
     "metadata": {},
     "source": [
      "The reason for the `IndexError` is that there is no letter in \u2019banana\u2019 with the index 6. \n",
      "* Since we started counting at zero, the six letters are numbered 0 to 5. \n",
      "* To get the last character, you have to subtract 1 from length:"
     ]
    },
    {
     "cell_type": "code",
     "collapsed": false,
     "input": [
      "fruit = 'banana'\n",
      "length = len(fruit)\n",
      "last = fruit[length-1]\n",
      "print last"
     ],
     "language": "python",
     "metadata": {},
     "outputs": [
      {
       "output_type": "stream",
       "stream": "stdout",
       "text": [
        "a\n"
       ]
      }
     ],
     "prompt_number": 6
    },
    {
     "cell_type": "markdown",
     "metadata": {},
     "source": [
      "Alternatively\n",
      "* You can use negative indices, which count backward from the end of the string. \n",
      "* The expression `fruit[-1]` yields the last letter, `fruit[-2]` yields the second to last, and so on."
     ]
    },
    {
     "cell_type": "code",
     "collapsed": false,
     "input": [
      "fruit = 'banana'\n",
      "length = len(fruit)\n",
      "last = fruit[-1]\n",
      "print last"
     ],
     "language": "python",
     "metadata": {},
     "outputs": [
      {
       "output_type": "stream",
       "stream": "stdout",
       "text": [
        "a\n"
       ]
      }
     ],
     "prompt_number": 7
    },
    {
     "cell_type": "markdown",
     "metadata": {},
     "source": [
      "****"
     ]
    },
    {
     "cell_type": "markdown",
     "metadata": {},
     "source": [
      "## 8.3  Traversal with a `for` loop\n",
      "\n",
      "A lot of computations involve processing a string one character at a time. \n",
      "* Often they start at the beginning, select each character in turn, do something to it, and continue until the end. \n",
      "* This pattern of processing is called a **traversal**. One way to write a traversal is with a `while` loop:"
     ]
    },
    {
     "cell_type": "code",
     "collapsed": false,
     "input": [
      "fruit = 'banana'\n",
      "index = 0\n",
      "while index < len(fruit):\n",
      "    letter = fruit[index]\n",
      "    print letter\n",
      "    index = index + 1"
     ],
     "language": "python",
     "metadata": {},
     "outputs": [
      {
       "output_type": "stream",
       "stream": "stdout",
       "text": [
        "b\n",
        "a\n",
        "n\n",
        "a\n",
        "n\n",
        "a\n"
       ]
      }
     ],
     "prompt_number": 8
    },
    {
     "cell_type": "markdown",
     "metadata": {},
     "source": [
      "* This loop traverses the string and displays each letter on a line by itself. \n",
      "* The loop condition is `index < len(fruit)`, \n",
      "  * so when index is equal to the length of the string, the condition is false, and the body of the loop is not executed. \n",
      "* The last character accessed is the one with the index `len(fruit)-1`, which is the last character in the string."
     ]
    },
    {
     "cell_type": "markdown",
     "metadata": {},
     "source": [
      "### Exercise 8.1  \n",
      "\n",
      "*Write a function that takes a string as an argument and displays the letters backward, one per line.*"
     ]
    },
    {
     "cell_type": "markdown",
     "metadata": {},
     "source": [
      "****"
     ]
    },
    {
     "cell_type": "markdown",
     "metadata": {},
     "source": [
      "Another way to write a traversal is with a `for` loop:"
     ]
    },
    {
     "cell_type": "code",
     "collapsed": false,
     "input": [
      "fruit = 'banana'\n",
      "for char in fruit:\n",
      "    print char"
     ],
     "language": "python",
     "metadata": {},
     "outputs": [
      {
       "output_type": "stream",
       "stream": "stdout",
       "text": [
        "b\n",
        "a\n",
        "n\n",
        "a\n",
        "n\n",
        "a\n"
       ]
      }
     ],
     "prompt_number": 9
    },
    {
     "cell_type": "markdown",
     "metadata": {},
     "source": [
      "* Each time through the loop, the next character in the string is assigned to the variable char. \n",
      "* The loop continues until no characters are left."
     ]
    },
    {
     "cell_type": "markdown",
     "metadata": {},
     "source": [
      "The following example shows how to use concatenation (string addition) and a `for` loop to generate an abecedarian series (that is, in alphabetical order). \n",
      "* In Robert McCloskey\u2019s book *Make Way for Ducklings*, the names of the ducklings are Jack, Kack, Lack, Mack, Nack, Ouack, Pack, and Quack. \n",
      "* This loop outputs these names in order:"
     ]
    },
    {
     "cell_type": "code",
     "collapsed": false,
     "input": [
      "prefixes = 'JKLMNOPQ'\n",
      "suffix = 'ack'\n",
      "\n",
      "for letter in prefixes:\n",
      "    print letter + suffix"
     ],
     "language": "python",
     "metadata": {},
     "outputs": [
      {
       "output_type": "stream",
       "stream": "stdout",
       "text": [
        "Jack\n",
        "Kack\n",
        "Lack\n",
        "Mack\n",
        "Nack\n",
        "Oack\n",
        "Pack\n",
        "Qack\n"
       ]
      }
     ],
     "prompt_number": 10
    },
    {
     "cell_type": "markdown",
     "metadata": {},
     "source": [
      "* Of course, that\u2019s not quite right because \u201cOuack\u201d and \u201cQuack\u201d are misspelled"
     ]
    },
    {
     "cell_type": "markdown",
     "metadata": {},
     "source": [
      "### Exercise 8.2  \n",
      "\n",
      "*Modify the program to fix this error.*"
     ]
    },
    {
     "cell_type": "markdown",
     "metadata": {},
     "source": [
      "****"
     ]
    },
    {
     "cell_type": "markdown",
     "metadata": {},
     "source": [
      "## 8.4  String slices\n",
      "\n",
      "A segment of a string is called a **slice**. \n",
      "* Selecting a slice is similar to selecting a character:"
     ]
    },
    {
     "cell_type": "code",
     "collapsed": false,
     "input": [
      "s = 'Monty Python'\n",
      "print s[0:5]\n",
      "print s[6:12]"
     ],
     "language": "python",
     "metadata": {},
     "outputs": [
      {
       "output_type": "stream",
       "stream": "stdout",
       "text": [
        "Monty\n",
        "Python\n"
       ]
      }
     ],
     "prompt_number": 12
    },
    {
     "cell_type": "markdown",
     "metadata": {},
     "source": [
      "The operator `[n:m]` returns the part of the string from the \u201cn-eth\u201d character to the \u201cm-eth\u201d character,\n",
      " * including the first.\n",
      " * excluding the last. \n",
      " \n",
      "This behavior is counterintuitive, but it might help to imagine the indices pointing between the characters, as in figure below:\n",
      "\n",
      "<img src=\"files/figs/banana.png\" width=\"300\" >"
     ]
    },
    {
     "cell_type": "markdown",
     "metadata": {},
     "source": [
      "* If you omit the first index (before the colon), the slice starts at the beginning of the string. \n",
      "* If you omit the second index, the slice goes to the end of the string.\n"
     ]
    },
    {
     "cell_type": "code",
     "collapsed": false,
     "input": [
      "fruit = 'banana'\n",
      "print fruit[:3]\n",
      "print fruit[3:]"
     ],
     "language": "python",
     "metadata": {},
     "outputs": [
      {
       "output_type": "stream",
       "stream": "stdout",
       "text": [
        "ban\n",
        "ana\n"
       ]
      }
     ],
     "prompt_number": 13
    },
    {
     "cell_type": "markdown",
     "metadata": {},
     "source": [
      "* If the first index is greater than or equal to the second the result is an **empty string**, represented by two quotation marks:"
     ]
    },
    {
     "cell_type": "code",
     "collapsed": false,
     "input": [
      ">>> fruit = 'banana'\n",
      "fruit[3:3]"
     ],
     "language": "python",
     "metadata": {},
     "outputs": [
      {
       "metadata": {},
       "output_type": "pyout",
       "prompt_number": 14,
       "text": [
        "''"
       ]
      }
     ],
     "prompt_number": 14
    },
    {
     "cell_type": "markdown",
     "metadata": {},
     "source": [
      "An empty string contains no characters and has length 0, but other than that, it is the same as any other string"
     ]
    },
    {
     "cell_type": "markdown",
     "metadata": {},
     "source": [
      "### Exercise 8.3  \n",
      "\n",
      "*Given that `fruit` is a string, what does `fruit[:]` mean?*\n"
     ]
    },
    {
     "cell_type": "markdown",
     "metadata": {},
     "source": [
      "****"
     ]
    },
    {
     "cell_type": "markdown",
     "metadata": {},
     "source": [
      "## 8.5  Strings are immutable\n",
      "\n",
      "It is tempting to use the `[]` operator on the left side of an assignment, with the intention of changing a character in a string. "
     ]
    },
    {
     "cell_type": "code",
     "collapsed": false,
     "input": [
      "greeting = 'Hello, world!'\n",
      "greeting[0] = 'J'"
     ],
     "language": "python",
     "metadata": {},
     "outputs": [
      {
       "ename": "TypeError",
       "evalue": "'str' object does not support item assignment",
       "output_type": "pyerr",
       "traceback": [
        "\u001b[0;31m---------------------------------------------------------------------------\u001b[0m\n\u001b[0;31mTypeError\u001b[0m                                 Traceback (most recent call last)",
        "\u001b[0;32m<ipython-input-15-230884f26c44>\u001b[0m in \u001b[0;36m<module>\u001b[0;34m()\u001b[0m\n\u001b[1;32m      1\u001b[0m \u001b[0mgreeting\u001b[0m \u001b[0;34m=\u001b[0m \u001b[0;34m'Hello, world!'\u001b[0m\u001b[0;34m\u001b[0m\u001b[0m\n\u001b[0;32m----> 2\u001b[0;31m \u001b[0mgreeting\u001b[0m\u001b[0;34m[\u001b[0m\u001b[0;36m0\u001b[0m\u001b[0;34m]\u001b[0m \u001b[0;34m=\u001b[0m \u001b[0;34m'J'\u001b[0m\u001b[0;34m\u001b[0m\u001b[0m\n\u001b[0m",
        "\u001b[0;31mTypeError\u001b[0m: 'str' object does not support item assignment"
       ]
      }
     ],
     "prompt_number": 15
    },
    {
     "cell_type": "markdown",
     "metadata": {},
     "source": [
      "* The **object** in this case is the string and the **item** is the character you tried to assign. \n",
      "* For now, an **object** is the same thing as a value, but we will refine that definition later. \n",
      "* An **item** is one of the values in a sequence.\n",
      "\n",
      "The reason for the error is that strings are **immutable**, which means you can\u2019t change an existing string. \n",
      "* The best you can do is create a new string that is a variation on the original:"
     ]
    },
    {
     "cell_type": "code",
     "collapsed": false,
     "input": [
      "greeting = 'Hello, world!'\n",
      "new_greeting = 'J' + greeting[1:]\n",
      "print new_greeting"
     ],
     "language": "python",
     "metadata": {},
     "outputs": [
      {
       "output_type": "stream",
       "stream": "stdout",
       "text": [
        "Jello, world!\n"
       ]
      }
     ],
     "prompt_number": 16
    },
    {
     "cell_type": "markdown",
     "metadata": {},
     "source": [
      "* This example concatenates a new first letter onto a slice of greeting. It has no effect on the original string."
     ]
    },
    {
     "cell_type": "markdown",
     "metadata": {},
     "source": [
      "****"
     ]
    },
    {
     "cell_type": "markdown",
     "metadata": {},
     "source": [
      "## 8.6  Searching\n",
      "\n",
      "What does the following function do?"
     ]
    },
    {
     "cell_type": "code",
     "collapsed": false,
     "input": [
      "def find(word, letter):\n",
      "    index = 0\n",
      "    while index < len(word):\n",
      "        if word[index] == letter:\n",
      "            return index\n",
      "        index = index + 1\n",
      "    return -1"
     ],
     "language": "python",
     "metadata": {},
     "outputs": [],
     "prompt_number": 17
    },
    {
     "cell_type": "markdown",
     "metadata": {},
     "source": [
      "In a sense, `find` is the opposite of the `[]` operator. \n",
      "* Instead of taking an index and extracting the corresponding character, \n",
      "* it takes a character and finds the index where that character appears. \n",
      "* If the character is not found, the function returns -1.\n",
      "\n",
      "This is the first example we have seen of a `return` statement inside a loop. \n",
      "* If `word[index] == letter`, the function breaks out of the loop and returns immediately.\n",
      "\n",
      "If the character doesn\u2019t appear in the string, the program exits the loop normally and returns -1.\n",
      "\n",
      "This pattern of computation\u2014traversing a sequence and returning when we find what we are looking for\u2014is called a **search**."
     ]
    },
    {
     "cell_type": "code",
     "collapsed": false,
     "input": [
      "def find(word, letter):\n",
      "    index = 0\n",
      "    while index < len(word):\n",
      "        if word[index] == letter:\n",
      "            return index\n",
      "        index = index + 1\n",
      "    return -1\n",
      "\n",
      "print find('banana', 'n')\n",
      "print find('banana', 'b')\n",
      "print find('banana', 'k')"
     ],
     "language": "python",
     "metadata": {},
     "outputs": [
      {
       "output_type": "stream",
       "stream": "stdout",
       "text": [
        "2\n",
        "0\n",
        "-1\n"
       ]
      }
     ],
     "prompt_number": 22
    },
    {
     "cell_type": "markdown",
     "metadata": {},
     "source": [
      "### Exercise 8.4  \n",
      "\n",
      "*Modify find so that it has a third parameter, the index in word where it should start looking.*"
     ]
    },
    {
     "cell_type": "markdown",
     "metadata": {},
     "source": [
      "****"
     ]
    },
    {
     "cell_type": "markdown",
     "metadata": {},
     "source": [
      "## 8.7  Looping and counting\n",
      "\n",
      "The following program counts the number of times the letter a appears in a string:"
     ]
    },
    {
     "cell_type": "code",
     "collapsed": false,
     "input": [
      "word = 'banana'\n",
      "count = 0\n",
      "for letter in word:\n",
      "    if letter == 'a':\n",
      "        count = count + 1\n",
      "print count"
     ],
     "language": "python",
     "metadata": {},
     "outputs": [
      {
       "output_type": "stream",
       "stream": "stdout",
       "text": [
        "3\n"
       ]
      }
     ],
     "prompt_number": 23
    },
    {
     "cell_type": "markdown",
     "metadata": {},
     "source": [
      "This program demonstrates another pattern of computation called a **counter**. \n",
      "* The variable `count` is initialized to `0` and then incremented each time an a is found. \n",
      "* When the loop exits, `count` contains the result\u2014the total number of `a`\u2019s."
     ]
    },
    {
     "cell_type": "markdown",
     "metadata": {},
     "source": [
      "## Exercise 8.5  \n",
      "\n",
      "*Encapsulate this code in a function named `count`, and generalize it so that it accepts the string and the letter as arguments.*"
     ]
    },
    {
     "cell_type": "markdown",
     "metadata": {},
     "source": [
      "## Exercise 8.6  \n",
      "\n",
      "*Rewrite this function so that instead of traversing the string, it uses the three-parameter version of `find`.*\n"
     ]
    },
    {
     "cell_type": "code",
     "collapsed": false,
     "input": [
      "word='banana'\n",
      "help(word.find)"
     ],
     "language": "python",
     "metadata": {},
     "outputs": [
      {
       "output_type": "stream",
       "stream": "stdout",
       "text": [
        "Help on built-in function find:\n",
        "\n",
        "find(...)\n",
        "    S.find(sub [,start [,end]]) -> int\n",
        "    \n",
        "    Return the lowest index in S where substring sub is found,\n",
        "    such that sub is contained within S[start:end].  Optional\n",
        "    arguments start and end are interpreted as in slice notation.\n",
        "    \n",
        "    Return -1 on failure.\n",
        "\n"
       ]
      }
     ],
     "prompt_number": 26
    },
    {
     "cell_type": "markdown",
     "metadata": {},
     "source": [
      "****"
     ]
    },
    {
     "cell_type": "markdown",
     "metadata": {},
     "source": [
      "## 8.8  String methods\n",
      "\n",
      "A **method** is similar to a function.\n",
      "* It takes arguments and returns a value\u2014but the syntax is different. \n",
      "* For example, the method `upper` takes a string and returns a new string with all uppercase letters:"
     ]
    },
    {
     "cell_type": "code",
     "collapsed": false,
     "input": [
      "word = 'banana'\n",
      "new_word = word.upper()\n",
      "print new_word"
     ],
     "language": "python",
     "metadata": {},
     "outputs": [
      {
       "output_type": "stream",
       "stream": "stdout",
       "text": [
        "BANANA\n"
       ]
      }
     ],
     "prompt_number": 27
    },
    {
     "cell_type": "markdown",
     "metadata": {},
     "source": [
      "This form of dot notation specifies\n",
      "* The name of the method, `upper`, \n",
      "* The name of the string to apply the method to, word. \n",
      "* The empty parentheses indicate that this method takes no **argument**.\n",
      "\n",
      "A method call is called an **invocation**; \n",
      "* in this case, we would say that we are invoking `upper` on the `word`.\n",
      "\n",
      "As it turns out, there is a string method named find that is remarkably similar to the function we wrote:"
     ]
    },
    {
     "cell_type": "code",
     "collapsed": false,
     "input": [
      "word = 'banana'\n",
      "index = word.find('a')\n",
      "print index"
     ],
     "language": "python",
     "metadata": {},
     "outputs": [
      {
       "output_type": "stream",
       "stream": "stdout",
       "text": [
        "1\n"
       ]
      }
     ],
     "prompt_number": 28
    },
    {
     "cell_type": "markdown",
     "metadata": {},
     "source": [
      "In this example, we invoke `find` on word and pass the letter we are looking for as a **parameter**.\n",
      "\n",
      "Actually, the `find` method is more general than our function.\n",
      "\n",
      "* It can find substrings, not just characters:"
     ]
    },
    {
     "cell_type": "code",
     "collapsed": false,
     "input": [
      "word = 'banana'\n",
      "print word.find('na')"
     ],
     "language": "python",
     "metadata": {},
     "outputs": [
      {
       "output_type": "stream",
       "stream": "stdout",
       "text": [
        "2\n"
       ]
      }
     ],
     "prompt_number": 29
    },
    {
     "cell_type": "markdown",
     "metadata": {},
     "source": [
      "* It can take as a second argument the index where it should start:"
     ]
    },
    {
     "cell_type": "code",
     "collapsed": false,
     "input": [
      "word = 'banana'\n",
      "print word.find('na', 3)\n",
      "print word[3:]"
     ],
     "language": "python",
     "metadata": {},
     "outputs": [
      {
       "output_type": "stream",
       "stream": "stdout",
       "text": [
        "4\n",
        "ana\n"
       ]
      }
     ],
     "prompt_number": 30
    },
    {
     "cell_type": "markdown",
     "metadata": {},
     "source": [
      "* It can take a third argument the index where it should stop:"
     ]
    },
    {
     "cell_type": "code",
     "collapsed": false,
     "input": [
      "name = 'bob'\n",
      "print name.find('b', 1, 2)\n",
      "print name[1:2]"
     ],
     "language": "python",
     "metadata": {},
     "outputs": [
      {
       "output_type": "stream",
       "stream": "stdout",
       "text": [
        "-1\n",
        "o\n"
       ]
      }
     ],
     "prompt_number": 31
    },
    {
     "cell_type": "markdown",
     "metadata": {},
     "source": [
      "* This search fails because b does not appear in the index range from 1 to 2 (not including 2)."
     ]
    },
    {
     "cell_type": "code",
     "collapsed": false,
     "input": [
      "help(name.find)"
     ],
     "language": "python",
     "metadata": {},
     "outputs": [
      {
       "output_type": "stream",
       "stream": "stdout",
       "text": [
        "Help on built-in function find:\n",
        "\n",
        "find(...)\n",
        "    S.find(sub [,start [,end]]) -> int\n",
        "    \n",
        "    Return the lowest index in S where substring sub is found,\n",
        "    such that sub is contained within S[start:end].  Optional\n",
        "    arguments start and end are interpreted as in slice notation.\n",
        "    \n",
        "    Return -1 on failure.\n",
        "\n"
       ]
      }
     ],
     "prompt_number": 32
    },
    {
     "cell_type": "markdown",
     "metadata": {},
     "source": [
      "****"
     ]
    },
    {
     "cell_type": "markdown",
     "metadata": {},
     "source": [
      "## Exercise 8.7  \n",
      "\n",
      "*There is a string method called `count` that is similar to the function in the previous exercise. Read the documentation of this method and write an invocation that `counts` the number of as in `'banana'`.*"
     ]
    },
    {
     "cell_type": "markdown",
     "metadata": {},
     "source": [
      "****"
     ]
    },
    {
     "cell_type": "markdown",
     "metadata": {},
     "source": [
      "## Exercise 8.8\n",
      "\n",
      "*Read the documentation of the string methods at http://docs.python.org/2/library/stdtypes.html#string-methods. You might want to experiment with some of them to make sure you understand how they work. `strip` and `replace` are particularly useful.*\n",
      "\n",
      "*The documentation uses a syntax that might be confusing. For example, in find(sub[, start[, end]]), the brackets indicate optional arguments. So sub is required, but start is optional, and if you include start, then end is optional.*"
     ]
    },
    {
     "cell_type": "markdown",
     "metadata": {},
     "source": [
      "****"
     ]
    },
    {
     "cell_type": "markdown",
     "metadata": {},
     "source": [
      "## 8.9  The `in` operator\n",
      "\n",
      "The word `in` is a **boolean operator** that takes two strings and returns `True` if the first appears as a substring in the second:"
     ]
    },
    {
     "cell_type": "code",
     "collapsed": false,
     "input": [
      "'a' in 'banana'"
     ],
     "language": "python",
     "metadata": {},
     "outputs": [
      {
       "metadata": {},
       "output_type": "pyout",
       "prompt_number": 33,
       "text": [
        "True"
       ]
      }
     ],
     "prompt_number": 33
    },
    {
     "cell_type": "code",
     "collapsed": false,
     "input": [
      "'seed' in 'banana'"
     ],
     "language": "python",
     "metadata": {},
     "outputs": [
      {
       "metadata": {},
       "output_type": "pyout",
       "prompt_number": 34,
       "text": [
        "False"
       ]
      }
     ],
     "prompt_number": 34
    },
    {
     "cell_type": "markdown",
     "metadata": {},
     "source": [
      "For example, the following function prints all the letters from `word1` that also appear in `word2`:"
     ]
    },
    {
     "cell_type": "code",
     "collapsed": false,
     "input": [
      "def in_both(word1, word2):\n",
      "    for letter in word1:\n",
      "        if letter in word2:\n",
      "            print letter\n",
      "in_both('apples', 'oranges')"
     ],
     "language": "python",
     "metadata": {},
     "outputs": [
      {
       "output_type": "stream",
       "stream": "stdout",
       "text": [
        "a\n",
        "e\n",
        "s\n"
       ]
      }
     ],
     "prompt_number": 35
    },
    {
     "cell_type": "markdown",
     "metadata": {},
     "source": [
      "With well-chosen variable names, Python sometimes reads like English. \n",
      "\n",
      "You could read this loop, \u201cfor (each) letter in (the first) word, if (the) letter (appears) in (the second) word, print (the) letter.\u201d"
     ]
    },
    {
     "cell_type": "markdown",
     "metadata": {},
     "source": [
      "****"
     ]
    },
    {
     "cell_type": "markdown",
     "metadata": {},
     "source": [
      "## 8.10  String comparison\n",
      "\n",
      "The relational operators work on strings. \n",
      "* To see if two strings are equal:"
     ]
    },
    {
     "cell_type": "code",
     "collapsed": false,
     "input": [
      "word = 'banana'\n",
      "if word == 'banana':\n",
      "    print 'All right, bananas.'"
     ],
     "language": "python",
     "metadata": {},
     "outputs": [
      {
       "output_type": "stream",
       "stream": "stdout",
       "text": [
        "All right, bananas.\n"
       ]
      }
     ],
     "prompt_number": 36
    },
    {
     "cell_type": "markdown",
     "metadata": {},
     "source": [
      "Other relational operations are useful for putting words in alphabetical order:"
     ]
    },
    {
     "cell_type": "code",
     "collapsed": false,
     "input": [
      "word = 'Pineapple'\n",
      "\n",
      "if word < 'banana':\n",
      "    print 'Your word, ' + word + ', comes before banana.'\n",
      "elif word > 'banana':\n",
      "    print 'Your word, ' + word + ', comes after banana.'\n",
      "else:\n",
      "    print 'All right, bananas.'"
     ],
     "language": "python",
     "metadata": {},
     "outputs": [
      {
       "output_type": "stream",
       "stream": "stdout",
       "text": [
        "Your word, Pineapple, comes before banana.\n"
       ]
      }
     ],
     "prompt_number": 37
    },
    {
     "cell_type": "markdown",
     "metadata": {},
     "source": [
      "Python does not handle uppercase and lowercase letters the same way that people do. \n",
      "* All the uppercase letters come **before** all the lowercase letters.\n",
      "\n",
      "A common way to address this problem is to convert strings to a standard format, such as all lowercase, before performing the comparison. "
     ]
    },
    {
     "cell_type": "markdown",
     "metadata": {},
     "source": [
      "****"
     ]
    },
    {
     "cell_type": "markdown",
     "metadata": {},
     "source": [
      "## 8.11  Debugging\n",
      "\n",
      "When you use indices to traverse the values in a sequence, it is tricky to get the beginning and end of the traversal right. \n",
      "\n",
      "Here is a function that is supposed to compare two words and return `True` if one of the words is the reverse of the other, but it contains *two errors*:"
     ]
    },
    {
     "cell_type": "code",
     "collapsed": false,
     "input": [
      "def is_reverse(word1, word2):\n",
      "    if len(word1) != len(word2):\n",
      "        return False\n",
      "    \n",
      "    i = 0\n",
      "    j = len(word2)\n",
      "\n",
      "    while j > 0:\n",
      "        if word1[i] != word2[j]:\n",
      "            return False\n",
      "        i = i+1\n",
      "        j = j-1\n",
      "\n",
      "    return True"
     ],
     "language": "python",
     "metadata": {},
     "outputs": [],
     "prompt_number": 40
    },
    {
     "cell_type": "markdown",
     "metadata": {},
     "source": [
      "The first if statement checks whether the words are the same length. \n",
      "* If not, we can return `False` immediately and then, \n",
      "* For the rest of the function, we can assume that the words are the same length. \n",
      "* This is an example of the guardian pattern in Section 6.8.\n",
      "\n",
      "\n",
      "`i` and `j` are indices: \n",
      "* `i` traverses `word1` forward \n",
      "* `j` traverses `word2` backward. \n",
      "* If we find two letters that don\u2019t match, we can return `False` immediately. \n",
      "* If we get through the whole loop and all the letters match, we return `True`.\n",
      "\n",
      "If we test this function with the words \u201cpots\u201d and \u201cstop\u201d, we expect the return value True, but we get an `IndexError`:"
     ]
    },
    {
     "cell_type": "code",
     "collapsed": false,
     "input": [
      "is_reverse('pots', 'stop')"
     ],
     "language": "python",
     "metadata": {},
     "outputs": [
      {
       "ename": "IndexError",
       "evalue": "string index out of range",
       "output_type": "pyerr",
       "traceback": [
        "\u001b[0;31m---------------------------------------------------------------------------\u001b[0m\n\u001b[0;31mIndexError\u001b[0m                                Traceback (most recent call last)",
        "\u001b[0;32m<ipython-input-41-675f5fef8649>\u001b[0m in \u001b[0;36m<module>\u001b[0;34m()\u001b[0m\n\u001b[0;32m----> 1\u001b[0;31m \u001b[0mis_reverse\u001b[0m\u001b[0;34m(\u001b[0m\u001b[0;34m'pots'\u001b[0m\u001b[0;34m,\u001b[0m \u001b[0;34m'stop'\u001b[0m\u001b[0;34m)\u001b[0m\u001b[0;34m\u001b[0m\u001b[0m\n\u001b[0m",
        "\u001b[0;32m<ipython-input-40-81f6c8cd6a39>\u001b[0m in \u001b[0;36mis_reverse\u001b[0;34m(word1, word2)\u001b[0m\n\u001b[1;32m      7\u001b[0m \u001b[0;34m\u001b[0m\u001b[0m\n\u001b[1;32m      8\u001b[0m     \u001b[0;32mwhile\u001b[0m \u001b[0mj\u001b[0m \u001b[0;34m>\u001b[0m \u001b[0;36m0\u001b[0m\u001b[0;34m:\u001b[0m\u001b[0;34m\u001b[0m\u001b[0m\n\u001b[0;32m----> 9\u001b[0;31m         \u001b[0;32mif\u001b[0m \u001b[0mword1\u001b[0m\u001b[0;34m[\u001b[0m\u001b[0mi\u001b[0m\u001b[0;34m]\u001b[0m \u001b[0;34m!=\u001b[0m \u001b[0mword2\u001b[0m\u001b[0;34m[\u001b[0m\u001b[0mj\u001b[0m\u001b[0;34m]\u001b[0m\u001b[0;34m:\u001b[0m\u001b[0;34m\u001b[0m\u001b[0m\n\u001b[0m\u001b[1;32m     10\u001b[0m             \u001b[0;32mreturn\u001b[0m \u001b[0mFalse\u001b[0m\u001b[0;34m\u001b[0m\u001b[0m\n\u001b[1;32m     11\u001b[0m         \u001b[0mi\u001b[0m \u001b[0;34m=\u001b[0m \u001b[0mi\u001b[0m\u001b[0;34m+\u001b[0m\u001b[0;36m1\u001b[0m\u001b[0;34m\u001b[0m\u001b[0m\n",
        "\u001b[0;31mIndexError\u001b[0m: string index out of range"
       ]
      }
     ],
     "prompt_number": 41
    },
    {
     "cell_type": "markdown",
     "metadata": {},
     "source": [
      "For debugging this kind of error, my first move is to print the values of the indices immediately before the line where the error appears.\n"
     ]
    },
    {
     "cell_type": "code",
     "collapsed": false,
     "input": [
      "def is_reverse(word1, word2):\n",
      "    if len(word1) != len(word2):\n",
      "        return False\n",
      "    \n",
      "    i = 0\n",
      "    j = len(word2)\n",
      "\n",
      "    while j > 0:\n",
      "        print i, j        # print here\n",
      "        \n",
      "        if word1[i] != word2[j]:\n",
      "            return False\n",
      "        i = i+1\n",
      "        j = j-1\n",
      "\n",
      "    return True\n",
      "\n",
      "is_reverse('pots', 'stop')"
     ],
     "language": "python",
     "metadata": {},
     "outputs": [
      {
       "output_type": "stream",
       "stream": "stdout",
       "text": [
        "0 4\n"
       ]
      },
      {
       "ename": "IndexError",
       "evalue": "string index out of range",
       "output_type": "pyerr",
       "traceback": [
        "\u001b[0;31m---------------------------------------------------------------------------\u001b[0m\n\u001b[0;31mIndexError\u001b[0m                                Traceback (most recent call last)",
        "\u001b[0;32m<ipython-input-42-553c1d67d2f3>\u001b[0m in \u001b[0;36m<module>\u001b[0;34m()\u001b[0m\n\u001b[1;32m     16\u001b[0m     \u001b[0;32mreturn\u001b[0m \u001b[0mTrue\u001b[0m\u001b[0;34m\u001b[0m\u001b[0m\n\u001b[1;32m     17\u001b[0m \u001b[0;34m\u001b[0m\u001b[0m\n\u001b[0;32m---> 18\u001b[0;31m \u001b[0mis_reverse\u001b[0m\u001b[0;34m(\u001b[0m\u001b[0;34m'pots'\u001b[0m\u001b[0;34m,\u001b[0m \u001b[0;34m'stop'\u001b[0m\u001b[0;34m)\u001b[0m\u001b[0;34m\u001b[0m\u001b[0m\n\u001b[0m",
        "\u001b[0;32m<ipython-input-42-553c1d67d2f3>\u001b[0m in \u001b[0;36mis_reverse\u001b[0;34m(word1, word2)\u001b[0m\n\u001b[1;32m      9\u001b[0m         \u001b[0;32mprint\u001b[0m \u001b[0mi\u001b[0m\u001b[0;34m,\u001b[0m \u001b[0mj\u001b[0m        \u001b[0;31m# print here\u001b[0m\u001b[0;34m\u001b[0m\u001b[0m\n\u001b[1;32m     10\u001b[0m \u001b[0;34m\u001b[0m\u001b[0m\n\u001b[0;32m---> 11\u001b[0;31m         \u001b[0;32mif\u001b[0m \u001b[0mword1\u001b[0m\u001b[0;34m[\u001b[0m\u001b[0mi\u001b[0m\u001b[0;34m]\u001b[0m \u001b[0;34m!=\u001b[0m \u001b[0mword2\u001b[0m\u001b[0;34m[\u001b[0m\u001b[0mj\u001b[0m\u001b[0;34m]\u001b[0m\u001b[0;34m:\u001b[0m\u001b[0;34m\u001b[0m\u001b[0m\n\u001b[0m\u001b[1;32m     12\u001b[0m             \u001b[0;32mreturn\u001b[0m \u001b[0mFalse\u001b[0m\u001b[0;34m\u001b[0m\u001b[0m\n\u001b[1;32m     13\u001b[0m         \u001b[0mi\u001b[0m \u001b[0;34m=\u001b[0m \u001b[0mi\u001b[0m\u001b[0;34m+\u001b[0m\u001b[0;36m1\u001b[0m\u001b[0;34m\u001b[0m\u001b[0m\n",
        "\u001b[0;31mIndexError\u001b[0m: string index out of range"
       ]
      }
     ],
     "prompt_number": 42
    },
    {
     "cell_type": "markdown",
     "metadata": {},
     "source": [
      "The first time through the loop, the value of `j` is `4`, which is out of range for the string 'pots'. \n",
      "* The index of the last character is `3`, so the initial value for `j` should be `len(word2)-1`.\n",
      "\n",
      "If I fix that error and run the program again, I get:"
     ]
    },
    {
     "cell_type": "code",
     "collapsed": false,
     "input": [
      "def is_reverse(word1, word2):\n",
      "    if len(word1) != len(word2):\n",
      "        return False\n",
      "    \n",
      "    i = 0\n",
      "    j = len(word2)-1\n",
      "\n",
      "    while j > 0:\n",
      "        print i, j        # print here\n",
      "        \n",
      "        if word1[i] != word2[j]:\n",
      "            return False\n",
      "        i = i+1\n",
      "        j = j-1\n",
      "\n",
      "    return True\n",
      "\n",
      "is_reverse('pots', 'stop')"
     ],
     "language": "python",
     "metadata": {},
     "outputs": [
      {
       "output_type": "stream",
       "stream": "stdout",
       "text": [
        "0 3\n",
        "1 2\n",
        "2 1\n"
       ]
      },
      {
       "metadata": {},
       "output_type": "pyout",
       "prompt_number": 43,
       "text": [
        "True"
       ]
      }
     ],
     "prompt_number": 43
    },
    {
     "cell_type": "markdown",
     "metadata": {},
     "source": [
      "This time we get the right answer, but it looks like the loop only ran three times, which is suspicious. \n",
      "* To get a better idea of what is happening, it is useful to draw a state diagram. \n",
      "* During the first iteration, the frame for `is_reverse` is shows in figure below:\n",
      "\n",
      "I took a little license by arranging the variables in the frame and adding dotted lines to show that the values of i and j indicate characters in word1 and word2.\n",
      "\n",
      "<img src=\"files/figs/state4.png\" width=\"400\" >\n",
      "\n",
      "\n"
     ]
    },
    {
     "cell_type": "markdown",
     "metadata": {},
     "source": [
      "## Exercise 8.9  \n",
      "\n",
      "*Starting with this diagram, execute the program on paper, changing the values of i and j during each iteration. Find and fix the second error in this function.*"
     ]
    },
    {
     "cell_type": "code",
     "collapsed": false,
     "input": [
      "def is_reverse(word1, word2):\n",
      "    if len(word1) != len(word2):\n",
      "        return False\n",
      "    \n",
      "    i = 0\n",
      "    j = len(word2)-1\n",
      "\n",
      "    while j > 0:\n",
      "        print i, j        # print here\n",
      "        print word1[i], word2[j]\n",
      "        \n",
      "        if word1[i] != word2[j]:\n",
      "            return False\n",
      "        i = i+1\n",
      "        j = j-1\n",
      "\n",
      "    return True\n",
      "\n",
      "is_reverse('pots', 'stop')"
     ],
     "language": "python",
     "metadata": {},
     "outputs": [
      {
       "output_type": "stream",
       "stream": "stdout",
       "text": [
        "0 3\n",
        "p p\n",
        "1 2\n",
        "o o\n",
        "2 1\n",
        "t t\n"
       ]
      },
      {
       "metadata": {},
       "output_type": "pyout",
       "prompt_number": 46,
       "text": [
        "True"
       ]
      }
     ],
     "prompt_number": 46
    },
    {
     "cell_type": "code",
     "collapsed": false,
     "input": [
      "def is_reverse(word1, word2):\n",
      "    if len(word1) != len(word2):\n",
      "        return False\n",
      "    \n",
      "    i = 0\n",
      "    j = len(word2)-1\n",
      "\n",
      "    while j >= 0:\n",
      "        print i, j        # print here\n",
      "        print word1[i], word2[j]\n",
      "        \n",
      "        if word1[i] != word2[j]:\n",
      "            return False\n",
      "        i = i+1\n",
      "        j = j-1\n",
      "\n",
      "    return True\n",
      "\n",
      "is_reverse('pots', 'stop')"
     ],
     "language": "python",
     "metadata": {},
     "outputs": [
      {
       "output_type": "stream",
       "stream": "stdout",
       "text": [
        "0 3\n",
        "p p\n",
        "1 2\n",
        "o o\n",
        "2 1\n",
        "t t\n",
        "3 0\n",
        "s s\n"
       ]
      },
      {
       "metadata": {},
       "output_type": "pyout",
       "prompt_number": 47,
       "text": [
        "True"
       ]
      }
     ],
     "prompt_number": 47
    },
    {
     "cell_type": "code",
     "collapsed": false,
     "input": [
      "def is_reverse(word1, word2):\n",
      "    if len(word1) != len(word2):\n",
      "        return False\n",
      "    \n",
      "    i = 0\n",
      "    j = len(word2)-1\n",
      "\n",
      "    while j >= 0:\n",
      "        print i, j        # print here\n",
      "#         print word1[i], word2[j]\n",
      "        \n",
      "        if word1[i] != word2[j]:\n",
      "            return False\n",
      "        i = i+1\n",
      "        j = j-1\n",
      "\n",
      "    return True\n",
      "\n",
      "is_reverse('pots', 'stop')"
     ],
     "language": "python",
     "metadata": {},
     "outputs": [
      {
       "output_type": "stream",
       "stream": "stdout",
       "text": [
        "0 3\n",
        "1 2\n",
        "2 1\n",
        "3 0\n"
       ]
      },
      {
       "metadata": {},
       "output_type": "pyout",
       "prompt_number": 50,
       "text": [
        "True"
       ]
      }
     ],
     "prompt_number": 50
    },
    {
     "cell_type": "markdown",
     "metadata": {},
     "source": [
      "****"
     ]
    },
    {
     "cell_type": "markdown",
     "metadata": {},
     "source": [
      "## 8.12  Glossary\n",
      "\n",
      "**object:**\n",
      "\n",
      "Something a variable can refer to. For now, you can use \u201cobject\u201d and \u201cvalue\u201d interchangeably.\n",
      "\n",
      "**sequence:**\n",
      "\n",
      "An ordered set; that is, a set of values where each value is identified by an integer index.\n",
      "\n",
      "**item:**\n",
      "\n",
      "One of the values in a sequence.\n",
      "\n",
      "**index:**\n",
      "\n",
      "An integer value used to select an item in a sequence, such as a character in a string.\n",
      "\n",
      "**slice:**\n",
      "\n",
      "A part of a string specified by a range of indices.\n",
      "\n",
      "**empty string:**\n",
      "\n",
      "A string with no characters and length 0, represented by two quotation marks.\n",
      "\n",
      "**immutable:**\n",
      "\n",
      "The property of a sequence whose items cannot be assigned.\n",
      "\n",
      "**traverse:**\n",
      "\n",
      "To iterate through the items in a sequence, performing a similar operation on each.\n",
      "\n",
      "**search:**\n",
      "\n",
      "A pattern of traversal that stops when it finds what it is looking for.\n",
      "\n",
      "**counter:**\n",
      "A variable used to count something, usually initialized to zero and then incremented.\n",
      "\n",
      "**method:**\n",
      "\n",
      "A function that is associated with an object and called using dot notation.\n",
      "\n",
      "**invocation:**\n",
      "A statement that calls a method.\n"
     ]
    },
    {
     "cell_type": "markdown",
     "metadata": {},
     "source": [
      "****"
     ]
    },
    {
     "cell_type": "markdown",
     "metadata": {},
     "source": [
      "## 8.13  Exercises"
     ]
    },
    {
     "cell_type": "markdown",
     "metadata": {},
     "source": [
      "****"
     ]
    },
    {
     "cell_type": "markdown",
     "metadata": {},
     "source": [
      "### Exercise 8.10  \n",
      "\n",
      "*A string slice can take a third index that specifies the \u201cstep size;\u201d that is, the number of spaces between successive characters. A step size of 2 means every other character; 3 means every third, etc.*\n",
      "\n"
     ]
    },
    {
     "cell_type": "code",
     "collapsed": false,
     "input": [
      "fruit = 'banana'\n",
      "fruit[0:5:2]"
     ],
     "language": "python",
     "metadata": {},
     "outputs": [
      {
       "metadata": {},
       "output_type": "pyout",
       "prompt_number": 51,
       "text": [
        "'bnn'"
       ]
      }
     ],
     "prompt_number": 51
    },
    {
     "cell_type": "markdown",
     "metadata": {},
     "source": [
      "*A step size of `-1` goes through the word backwards, so the slice `[::-1]` generates a reversed string.*\n",
      "\n",
      "*Use this idiom to write a one-line version of `is_palindrome` from Exercise 6.6.*"
     ]
    },
    {
     "cell_type": "markdown",
     "metadata": {},
     "source": [
      "****"
     ]
    },
    {
     "cell_type": "markdown",
     "metadata": {},
     "source": [
      "## Exercise 8.11\n",
      "\n",
      "*The following functions are all intended to check whether a string contains any lowercase letters, but at least some of them are wrong. For each function, describe what the function actually does (assuming that the parameter is a string).*"
     ]
    },
    {
     "cell_type": "code",
     "collapsed": false,
     "input": [
      "def any_lowercase1(s):\n",
      "    for c in s:\n",
      "        if c.islower():\n",
      "            return True\n",
      "        else:\n",
      "            return False\n",
      "\n",
      "def any_lowercase2(s):\n",
      "    for c in s:\n",
      "        if 'c'.islower():\n",
      "            return 'True'\n",
      "        else:\n",
      "            return 'False'\n",
      "\n",
      "def any_lowercase3(s):\n",
      "    for c in s:\n",
      "        flag = c.islower()\n",
      "    return flag\n",
      "\n",
      "def any_lowercase4(s):\n",
      "    flag = False\n",
      "    for c in s:\n",
      "        flag = flag or c.islower()\n",
      "    return flag\n",
      "\n",
      "def any_lowercase5(s):\n",
      "    for c in s:\n",
      "        if not c.islower():\n",
      "            return False\n",
      "    return True\n"
     ],
     "language": "python",
     "metadata": {},
     "outputs": [],
     "prompt_number": 52
    },
    {
     "cell_type": "markdown",
     "metadata": {},
     "source": [
      "****"
     ]
    },
    {
     "cell_type": "markdown",
     "metadata": {},
     "source": [
      "### Exercise 8.12  \n",
      "\n",
      "*ROT13 is a weak form of encryption that involves \u201crotating\u201d each letter in a word by 13 places. To rotate a letter means to shift it through the alphabet, wrapping around to the beginning if necessary, so \u2019A\u2019 shifted by 3 is \u2019D\u2019 and \u2019Z\u2019 shifted by 1 is \u2019A\u2019.*\n",
      "\n",
      "*Write a function called `rotate_word` that takes a string and an integer as parameters, and that returns a new string that contains the letters from the original string \u201crotated\u201d by the given amount.*\n",
      "\n",
      "*For example, \u201ccheer\u201d rotated by 7 is \u201cjolly\u201d and \u201cmelon\u201d rotated by -10 is \u201ccubed\u201d.*\n",
      "\n",
      "*You might want to use the built-in functions `ord`, which converts a character to a numeric code, and `chr`, which converts numeric codes to characters.*\n",
      "\n",
      "*Potentially offensive jokes on the Internet are sometimes encoded in ROT13. If you are not easily offended, find and decode some of them. *"
     ]
    },
    {
     "cell_type": "code",
     "collapsed": false,
     "input": [
      "print ord('a')\n",
      "print ord('b')\n",
      "print ord('A')"
     ],
     "language": "python",
     "metadata": {},
     "outputs": [
      {
       "output_type": "stream",
       "stream": "stdout",
       "text": [
        "97\n",
        "98\n",
        "65\n"
       ]
      }
     ],
     "prompt_number": 54
    },
    {
     "cell_type": "code",
     "collapsed": false,
     "input": [
      "print chr(97)\n",
      "print chr(98)\n",
      "print chr(65)"
     ],
     "language": "python",
     "metadata": {},
     "outputs": [
      {
       "output_type": "stream",
       "stream": "stdout",
       "text": [
        "a\n",
        "b\n",
        "A\n"
       ]
      }
     ],
     "prompt_number": 55
    },
    {
     "cell_type": "code",
     "collapsed": false,
     "input": [],
     "language": "python",
     "metadata": {},
     "outputs": []
    }
   ],
   "metadata": {}
  }
 ]
}