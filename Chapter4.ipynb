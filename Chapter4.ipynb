{
 "metadata": {
  "name": "",
  "signature": "sha256:565b0df8e7306349c40ff36fd8e0a4fe0b333670e0f0902a098e9d5626816149"
 },
 "nbformat": 3,
 "nbformat_minor": 0,
 "worksheets": [
  {
   "cells": [
    {
     "cell_type": "markdown",
     "metadata": {},
     "source": [
      "# License\n",
      "\n",
      "This IPython Notebook is released under the [Creative Commons Attribution-NonCommercial 3.0 Unported License](http://creativecommons.org/licenses/by-nc/3.0/)\n",
      "\n",
      "This IPython Notebook is based on [Think Python: How to Think Like a Computer Scientist](http://www.greenteapress.com/thinkpython/) by Allen B. Downey. It is available under the [Creative Commons Attribution-NonCommercial 3.0 Unported License](http://creativecommons.org/licenses/by-nc/3.0/)"
     ]
    },
    {
     "cell_type": "markdown",
     "metadata": {},
     "source": [
      "****"
     ]
    },
    {
     "cell_type": "markdown",
     "metadata": {},
     "source": [
      "# Chapter 4  Case study: interface design"
     ]
    },
    {
     "cell_type": "markdown",
     "metadata": {},
     "source": [
      "****"
     ]
    },
    {
     "cell_type": "markdown",
     "metadata": {},
     "source": [
      "## 4.1  TurtleWorld\n",
      "\n",
      "To accompany this book, I have written a package called Swampy. You can download Swampy from http://thinkpython.com/swampy; follow the instructions there to install Swampy on your system.\n",
      "\n",
      "A **package** is a collection of modules; one of the modules in Swampy is TurtleWorld, which provides a set of functions for drawing lines by steering turtles around the screen.\n",
      "\n",
      "If Swampy is installed as a package on your system, you can import TurtleWorld like this:\n",
      "\n",
      "```\n",
      "from swampy.TurtleWorld import *\n",
      "```\n",
      "\n",
      "If you downloaded the Swampy modules but did not install them as a package, you can either work in the directory that contains the Swampy files, or add that directory to Python\u2019s search path. Then you can import TurtleWorld like this:\n",
      "\n",
      "```\n",
      "from TurtleWorld import *\n",
      "```\n",
      "\n",
      "The details of the installation process and setting Python\u2019s search path depend on your system, so rather than include those details here, I will try to maintain current information for several systems at http://thinkpython.com/swampy\n",
      "Create a file named mypolygon.py and type in the following code:\n",
      "\n",
      "```\n",
      "from swampy.TurtleWorld import *\n",
      "\n",
      "world = TurtleWorld()\n",
      "bob = Turtle()\n",
      "print bob\n",
      "\n",
      "wait_for_user()\n",
      "```\n",
      "\n",
      "The first line imports everything from the TurtleWorld module in the swampy package.\n",
      "The next lines create a TurtleWorld assigned to world and a Turtle assigned to bob. Printing bob yields something like:\n",
      "\n",
      "```\n",
      "<TurtleWorld.Turtle instance at 0xb7bfbf4c>\n",
      "```\n",
      "\n",
      "This means that bob refers to an instance of a Turtle as defined in module TurtleWorld. In this context, \u201cinstance\u201d means a member of a set; this Turtle is one of the set of possible Turtles.\n",
      "\n",
      "`wait_for_user` tells TurtleWorld to wait for the user to do something, although in this case there\u2019s not much for the user to do except close the window.\n",
      "\n",
      "TurtleWorld provides several turtle-steering functions: `fd` and `bk` for forward and backward, and `lt` and `rt` for left and right turns. Also, each Turtle is holding a pen, which is either down or up; if the pen is down, the Turtle leaves a trail when it moves. The functions `pu` and `pd` stand for \u201cpen up\u201d and \u201cpen down.\u201d\n",
      "\n",
      "To draw a right angle, add these lines to the program (after creating `bob` and before calling `wait_for_user`):\n",
      "\n",
      "```\n",
      "fd(bob, 100)\n",
      "lt(bob)\n",
      "fd(bob, 100)\n",
      "```\n",
      "\n",
      "The first line tells `bob` to take 100 steps forward. The second line tells him to turn left.\n",
      "When you run this program, you should see bob move east and then north, leaving two line segments behind.\n",
      "\n",
      "Now modify the program to draw a square. Don\u2019t go on until you\u2019ve got it working!"
     ]
    },
    {
     "cell_type": "markdown",
     "metadata": {},
     "source": [
      "****"
     ]
    },
    {
     "cell_type": "markdown",
     "metadata": {},
     "source": [
      "## 4.2  Simple repetition\n",
      "\n",
      "Chances are you wrote something like this (leaving out the code that creates TurtleWorld and waits for the user):\n",
      "\n",
      "```\n",
      "fd(bob, 100)\n",
      "lt(bob)\n",
      "\n",
      "fd(bob, 100)\n",
      "lt(bob)\n",
      "\n",
      "fd(bob, 100)\n",
      "lt(bob)\n",
      "\n",
      "fd(bob, 100)\n",
      "```\n",
      "\n",
      "We can do the same thing more concisely with a for statement. Add this example to mypolygon.py and run it again:"
     ]
    },
    {
     "cell_type": "code",
     "collapsed": false,
     "input": [
      "for i in range(4):\n",
      "    print 'Hello!'"
     ],
     "language": "python",
     "metadata": {},
     "outputs": [
      {
       "output_type": "stream",
       "stream": "stdout",
       "text": [
        "Hello!\n",
        "Hello!\n",
        "Hello!\n",
        "Hello!\n"
       ]
      }
     ],
     "prompt_number": 1
    },
    {
     "cell_type": "markdown",
     "metadata": {},
     "source": [
      "You should see something like this:\n",
      "\n",
      "```\n",
      "Hello!\n",
      "Hello!\n",
      "Hello!\n",
      "Hello!\n",
      "```\n",
      "\n",
      "This is the simplest use of the for statement; we will see more later. But that should be enough to let you rewrite your square-drawing program. Don\u2019t go on until you do.\n",
      "\n",
      "Here is a for statement that draws a square:\n",
      "\n",
      "```\n",
      "for i in range(4):\n",
      "    fd(bob, 100)\n",
      "    lt(bob)\n",
      "```\n",
      "\n",
      "The syntax of a `for` statement is similar to a function definition. It has a header that ends with a colon and an indented body. The body can contain any number of statements.\n",
      "\n",
      "A `for` statement is sometimes called a **loop** because the flow of execution runs through the body and then loops back to the top. In this case, it runs the body four times.\n",
      "\n",
      "This version is actually a little different from the previous square-drawing code because it makes another turn after drawing the last side of the square. The extra turn takes a little more time, but it simplifies the code if we do the same thing every time through the loop. This version also has the effect of leaving the turtle back in the starting position, facing in the starting direction."
     ]
    },
    {
     "cell_type": "markdown",
     "metadata": {},
     "source": [
      "****"
     ]
    },
    {
     "cell_type": "markdown",
     "metadata": {},
     "source": [
      "## 4.3  Exercises\n",
      "\n"
     ]
    },
    {
     "cell_type": "markdown",
     "metadata": {},
     "source": [
      "The following is a series of exercises using TurtleWorld. They are meant to be fun, but they have a point, too. While you are working on them, think about what the point is.\n",
      "\n",
      "The following sections have solutions to the exercises, so don\u2019t look until you have finished (or at least tried).\n",
      "\n",
      "1. Write a function called `square` that takes a parameter named `t`, which is a turtle. It should use the turtle to draw a square.\n",
      "\n",
      "  Write a function call that passes `bob` as an argument to `square`, and then run the program again.\n",
      "\n",
      "2. Add another parameter, named `length`, to `square`. Modify the body so length of the sides is `length`, and then modify the function call to provide a second argument. Run the program again. Test your program with a range of values for `length`.\n",
      "\n",
      "3. The functions `lt` and `rt` make 90-degree turns by default, but you can provide a second argument that specifies the number of degrees. For example, `lt(bob, 45)` turns `bob` `45` degrees to the left.\n",
      "\n",
      "  Make a copy of `square` and change the name to `polygon`. Add another parameter named `n` and modify the body so it draws an `n`-sided regular polygon. \n",
      "  \n",
      "  Hint: The exterior angles of an n-sided regular polygon are 360/n degrees.\n",
      "\n",
      "4. Write a function called `circle` that takes a turtle, `t`, and radius, `r`, as parameters and that draws an approximate circle by invoking polygon with an appropriate length and number of sides. Test your function with a range of values of `r`.\n",
      "\n",
      "  Hint: figure out the circumference of the circle and make sure that `length * n = circumference`.\n",
      "\n",
      "  Another hint: if `bob` is too slow for you, you can speed him up by changing `bob.delay`, which is the time between moves, in seconds. `bob.delay = 0.01` ought to get him moving.\n",
      "\n",
      "5. Make a more general version of `circle` called `arc` that takes an additional parameter angle, which determines what fraction of a circle to draw. `angle` is in units of degrees, so when `angle=360`, `arc` should draw a complete circle."
     ]
    },
    {
     "cell_type": "markdown",
     "metadata": {},
     "source": [
      "****"
     ]
    },
    {
     "cell_type": "markdown",
     "metadata": {},
     "source": [
      "## 4.4  Encapsulation\n",
      "\n",
      "The first exercise asks you to put your square-drawing code into a function definition and then call the function, passing the turtle as a parameter. Here is a solution:\n",
      "\n",
      "```\n",
      "def square(t):\n",
      "    for i in range(4):\n",
      "        fd(t, 100)\n",
      "        lt(t)\n",
      "\n",
      "square(bob)\n",
      "```\n",
      "\n",
      "The innermost statements, `fd` and `lt` are indented twice to show that they are inside the for loop, which is inside the function definition. The next line, `square(bob)`, is flush with the left margin, so that is the end of both the for loop and the function definition.\n",
      "\n",
      "Inside the function, `t` refers to the same turtle `bob` refers to, so `lt(t)` has the same effect as `lt(bob)`. So why not call the parameter `bob`? The idea is that `t` can be any turtle, not just `bob`, so you could create a second turtle and pass it as an argument to square:\n",
      "\n",
      "```\n",
      "ray = Turtle()\n",
      "square(ray)\n",
      "```\n",
      "\n",
      "Wrapping a piece of code up in a function is called **encapsulation**. One of the benefits of encapsulation is that it attaches a name to the code, which serves as a kind of documentation. Another advantage is that if you re-use the code, it is more concise to call a function twice than to copy and paste the body!\n",
      "\n",
      "\n"
     ]
    },
    {
     "cell_type": "markdown",
     "metadata": {},
     "source": [
      "****"
     ]
    },
    {
     "cell_type": "markdown",
     "metadata": {},
     "source": [
      "## 4.5  Generalization\n",
      "\n",
      "The next step is to add a length parameter to square. Here is a solution:\n",
      "\n",
      "```\n",
      "def square(t, length):\n",
      "    for i in range(4):\n",
      "        fd(t, length)\n",
      "        lt(t)\n",
      "\n",
      "square(bob, 100)\n",
      "```\n",
      "\n",
      "Adding a parameter to a function is called **generalization** because it makes the function more general: in the previous version, the square is always the same size; in this version it can be any size.\n",
      "\n",
      "The next step is also a generalization. Instead of drawing squares, polygon draws regular polygons with any number of sides. Here is a solution:\n",
      "\n",
      "```\n",
      "def polygon(t, n, length):\n",
      "    angle = 360.0 / n\n",
      "    for i in range(n):\n",
      "        fd(t, length)\n",
      "        lt(t, angle)\n",
      "\n",
      "polygon(bob, 7, 70)\n",
      "```\n",
      "\n",
      "This draws a 7-sided polygon with side length 70. If you have more than a few numeric arguments, it is easy to forget what they are, or what order they should be in. It is legal, and sometimes helpful, to include the names of the parameters in the argument list:\n",
      "\n",
      "```\n",
      "polygon(bob, n=7, length=70)\n",
      "```\n",
      "\n",
      "These are called **keyword arguments** because they include the parameter names as \u201ckeywords\u201d (not to be confused with Python keywords like `while` and `def`).\n",
      "\n",
      "This syntax makes the program more readable. It is also a reminder about how arguments and parameters work: when you call a function, the arguments are assigned to the parameters."
     ]
    },
    {
     "cell_type": "markdown",
     "metadata": {},
     "source": [
      "****"
     ]
    },
    {
     "cell_type": "markdown",
     "metadata": {},
     "source": [
      "## 4.6  Interface design\n",
      "\n",
      "The next step is to write `circle`, which takes a radius, `r`, as a parameter. Here is a simple solution that uses `polygon` to draw a 50-sided polygon:\n",
      "\n",
      "```\n",
      "def circle(t, r):\n",
      "    circumference = 2 * math.pi * r\n",
      "    n = 50\n",
      "    length = circumference / n\n",
      "    polygon(t, n, length)\n",
      "```\n",
      "\n",
      "The first line computes the circumference of a circle with radius `r` using the formula $2\\pi r$. Since we use `math.pi`, we have to import `math`. By convention, import statements are usually at the beginning of the script.\n",
      "\n",
      "`n` is the number of line segments in our approximation of a circle, so length is the length of each segment. Thus, polygon draws a 50-sides polygon that approximates a circle with radius `r`.\n",
      "\n",
      "One limitation of this solution is that `n` is a constant, which means that for very big circles, the line segments are too long, and for small circles, we waste time drawing very small segments. One solution would be to generalize the function by taking `n` as a parameter. This would give the user (whoever calls circle) more control, but the interface would be less clean.\n",
      "\n",
      "The **interface** of a function is a summary of how it is used: what are the parameters? What does the function do? And what is the return value? An interface is \u201cclean\u201d if it is \u201cas simple as possible, but not simpler. (Einstein)\u201d\n",
      "\n",
      "In this example, `r` belongs in the interface because it specifies the circle to be drawn. `n` is less appropriate because it pertains to the details of how the circle should be rendered.\n",
      "\n",
      "Rather than clutter up the interface, it is better to choose an appropriate value of n depending on circumference:\n",
      "\n",
      "```\n",
      "def circle(t, r):\n",
      "    circumference = 2 * math.pi * r\n",
      "    n = int(circumference / 3) + 1\n",
      "    length = circumference / n\n",
      "    polygon(t, n, length)\n",
      "```\n",
      "\n",
      "Now the number of segments is (approximately) `circumference/3`, so the length of each segment is (approximately) `3`, which is small enough that the circles look good, but big enough to be efficient, and appropriate for any size circle."
     ]
    },
    {
     "cell_type": "markdown",
     "metadata": {},
     "source": [
      "****"
     ]
    },
    {
     "cell_type": "markdown",
     "metadata": {},
     "source": [
      "## 4.7  Refactoring\n",
      "\n",
      "When I wrote `circle`, I was able to re-use `polygon` because a many-sided polygon is a good approximation of a `circle`. But `arc` is not as cooperative; we can\u2019t use `polygon` or `circle` to draw an `arc`.\n",
      "\n",
      "One alternative is to start with a copy of `polygon` and transform it into `arc`. The result might look like this:\n",
      "\n",
      "```\n",
      "def arc(t, r, angle):\n",
      "    arc_length = 2 * math.pi * r * angle / 360\n",
      "    n = int(arc_length / 3) + 1\n",
      "    step_length = arc_length / n\n",
      "    step_angle = float(angle) / n\n",
      "    \n",
      "    for i in range(n):\n",
      "        fd(t, step_length)\n",
      "        lt(t, step_angle)\n",
      "```\n",
      "\n",
      "The second half of this function looks like `polygon`, but we can\u2019t re-use `polygon` without changing the interface. We could generalize `polygon` to take an angle as a third argument, but then `polygon` would no longer be an appropriate name! Instead, let\u2019s call the more general function `polyline`:\n",
      "\n",
      "```\n",
      "def polyline(t, n, length, angle):\n",
      "    for i in range(n):\n",
      "        fd(t, length)\n",
      "        lt(t, angle)\n",
      "```\n",
      "\n",
      "Now we can rewrite polygon and arc to use polyline:\n",
      "\n",
      "```\n",
      "def polygon(t, n, length):\n",
      "    angle = 360.0 / n\n",
      "    polyline(t, n, length, angle)\n",
      "\n",
      "def arc(t, r, angle):\n",
      "    arc_length = 2 * math.pi * r * angle / 360\n",
      "    n = int(arc_length / 3) + 1\n",
      "    step_length = arc_length / n\n",
      "    step_angle = float(angle) / n\n",
      "    polyline(t, n, step_length, step_angle)\n",
      "```\n",
      "\n",
      "Finally, we can rewrite `circle` to use `arc`:\n",
      "\n",
      "```\n",
      "def circle(t, r):\n",
      "    arc(t, r, 360)\n",
      "```    \n",
      "This process\u2014rearranging a program to improve function interfaces and facilitate code re-use\u2014is called **refactoring**. In this case, we noticed that there was similar code in `arc` and `polygon`, so we \u201cfactored it out\u201d into `polyline`.\n",
      "\n",
      "If we had planned ahead, we might have written `polyline` first and avoided refactoring, but often you don\u2019t know enough at the beginning of a project to design all the interfaces. Once you start coding, you understand the problem better. Sometimes refactoring is a sign that you have learned something."
     ]
    },
    {
     "cell_type": "markdown",
     "metadata": {},
     "source": [
      "****"
     ]
    },
    {
     "cell_type": "markdown",
     "metadata": {},
     "source": [
      "## 4.8  A development plan\n",
      "\n",
      "A **development plan** is a process for writing programs. The process we used in this case study is \u201cencapsulation and generalization.\u201d The steps of this process are:\n",
      "\n",
      "1. Start by writing a small program with no function definitions.\n",
      "\n",
      "2. Once you get the program working, encapsulate it in a function and give it a name.\n",
      "\n",
      "3. Generalize the function by adding appropriate parameters.\n",
      "\n",
      "4. Repeat steps 1\u20133 until you have a set of working functions. Copy and paste working code to avoid retyping (and re-debugging).\n",
      "\n",
      "5. Look for opportunities to improve the program by refactoring. For example, if you have similar code in several places, consider factoring it into an appropriately general function.\n",
      "\n",
      "This process has some drawbacks\u2014we will see alternatives later\u2014but it can be useful if you don\u2019t know ahead of time how to divide the program into functions. This approach lets you design as you go along."
     ]
    },
    {
     "cell_type": "markdown",
     "metadata": {},
     "source": [
      "****"
     ]
    },
    {
     "cell_type": "markdown",
     "metadata": {},
     "source": [
      "## 4.9  docstring\n",
      "\n",
      "A **docstring** is a string at the beginning of a function that explains the interface (\u201cdoc\u201d is short for \u201cdocumentation\u201d). Here is an example:\n",
      "\n",
      "```\n",
      "def polyline(t, n, length, angle):\n",
      "    \"\"\"Draws n line segments with the given length and\n",
      "    angle (in degrees) between them.  t is a turtle.\n",
      "    \"\"\"    \n",
      "    for i in range(n):\n",
      "        fd(t, length)\n",
      "        lt(t, angle)\n",
      "```        \n",
      "This docstring is a **triple-quoted** string, also known as a multiline string because the triple quotes allow the string to span more than one line.\n",
      "\n",
      "It is terse, but it contains the essential information someone would need to use this function. It explains concisely what the function does (without getting into the details of how it does it). It explains what effect each parameter has on the behavior of the function and what type each parameter should be (if it is not obvious).\n",
      "\n",
      "Writing this kind of documentation is an important part of interface design. A well-designed interface should be simple to explain; if you are having a hard time explaining one of your functions, that might be a sign that the interface could be improved."
     ]
    },
    {
     "cell_type": "markdown",
     "metadata": {},
     "source": [
      "****"
     ]
    },
    {
     "cell_type": "markdown",
     "metadata": {},
     "source": [
      "## 4.10  Debugging\n",
      "\n",
      "An interface is like a contract between a function and a caller. The caller agrees to provide certain parameters and the function agrees to do certain work.\n",
      "\n",
      "For example, polyline requires four arguments: `t` has to be a Turtle; `n` is the number of line segments, so it has to be an integer; length should be a positive number; and angle has to be a number, which is understood to be in degrees.\n",
      "\n",
      "These requirements are called **preconditions** because they are supposed to be true before the function starts executing. Conversely, conditions at the end of the function are **postconditions**. Postconditions include the intended effect of the function (like drawing line segments) and any side effects (like moving the Turtle or making other changes in the World).\n",
      "\n",
      "Preconditions are the responsibility of the caller. If the caller violates a (properly documented!) precondition and the function doesn\u2019t work correctly, the bug is in the caller, not the function."
     ]
    },
    {
     "cell_type": "markdown",
     "metadata": {},
     "source": [
      "****"
     ]
    },
    {
     "cell_type": "markdown",
     "metadata": {},
     "source": [
      "## 4.11  Glossary\n",
      "\n",
      "**instance:**\n",
      "\n",
      "A member of a set. The TurtleWorld in this chapter is a member of the set of TurtleWorlds.\n",
      "\n",
      "**loop:**\n",
      "\n",
      "A part of a program that can execute repeatedly.\n",
      "\n",
      "**encapsulation:**\n",
      "\n",
      "The process of transforming a sequence of statements into a function definition.\n",
      "\n",
      "**generalization:**\n",
      "\n",
      "The process of replacing something unnecessarily specific (like a number) with something appropriately general (like a variable or parameter).\n",
      "\n",
      "**keyword argument:**\n",
      "\n",
      "An argument that includes the name of the parameter as a \u201ckeyword.\u201d\n",
      "\n",
      "**interface:**\n",
      "\n",
      "A description of how to use a function, including the name and descriptions of the arguments and return value.\n",
      "\n",
      "**refactoring:**\n",
      "\n",
      "The process of modifying a working program to improve function interfaces and other qualities of the code.\n",
      "\n",
      "**development plan:**\n",
      "\n",
      "A process for writing programs.\n",
      "\n",
      "**docstring:**\n",
      "\n",
      "A string that appears in a function definition to document the function\u2019s interface.\n",
      "\n",
      "**precondition:**\n",
      "\n",
      "A requirement that should be satisfied by the caller before a function starts.\n",
      "\n",
      "**postcondition:**\n",
      "\n",
      "A requirement that should be satisfied by the function before it ends."
     ]
    },
    {
     "cell_type": "markdown",
     "metadata": {},
     "source": [
      "****"
     ]
    },
    {
     "cell_type": "code",
     "collapsed": false,
     "input": [],
     "language": "python",
     "metadata": {},
     "outputs": [],
     "prompt_number": 1
    }
   ],
   "metadata": {}
  }
 ]
}