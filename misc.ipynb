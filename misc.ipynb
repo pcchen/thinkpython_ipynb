{
 "metadata": {
  "name": "",
  "signature": "sha256:5eb7d0b161624fa3a0e2efa9956938e11955958a62289ccea49500294281bbf5"
 },
 "nbformat": 3,
 "nbformat_minor": 0,
 "worksheets": [
  {
   "cells": [
    {
     "cell_type": "markdown",
     "metadata": {},
     "source": [
      "# License\n",
      "\n",
      "This IPython Notebook is released under the [Creative Commons Attribution-NonCommercial 3.0 Unported License](http://creativecommons.org/licenses/by-nc/3.0/)"
     ]
    },
    {
     "cell_type": "markdown",
     "metadata": {},
     "source": [
      "****"
     ]
    },
    {
     "cell_type": "markdown",
     "metadata": {},
     "source": [
      "# PEP: Python Enhancement Proposals\n",
      "\n",
      "[PEP 0](https://www.python.org/dev/peps/) -- Index of Python Enhancement Proposals (PEPs)"
     ]
    },
    {
     "cell_type": "code",
     "collapsed": false,
     "input": [
      "import this"
     ],
     "language": "python",
     "metadata": {},
     "outputs": [
      {
       "output_type": "stream",
       "stream": "stdout",
       "text": [
        "The Zen of Python, by Tim Peters\n",
        "\n",
        "Beautiful is better than ugly.\n",
        "Explicit is better than implicit.\n",
        "Simple is better than complex.\n",
        "Complex is better than complicated.\n",
        "Flat is better than nested.\n",
        "Sparse is better than dense.\n",
        "Readability counts.\n",
        "Special cases aren't special enough to break the rules.\n",
        "Although practicality beats purity.\n",
        "Errors should never pass silently.\n",
        "Unless explicitly silenced.\n",
        "In the face of ambiguity, refuse the temptation to guess.\n",
        "There should be one-- and preferably only one --obvious way to do it.\n",
        "Although that way may not be obvious at first unless you're Dutch.\n",
        "Now is better than never.\n",
        "Although never is often better than *right* now.\n",
        "If the implementation is hard to explain, it's a bad idea.\n",
        "If the implementation is easy to explain, it may be a good idea.\n",
        "Namespaces are one honking great idea -- let's do more of those!\n"
       ]
      }
     ],
     "prompt_number": 18
    },
    {
     "cell_type": "markdown",
     "metadata": {},
     "source": [
      "****"
     ]
    },
    {
     "cell_type": "markdown",
     "metadata": {},
     "source": [
      "# `__future__` module\n",
      "\n",
      "https://docs.python.org/2/library/__future__.html \n",
      "\n",
      "`__future__` is a real module, and serves three purposes:\n",
      "\n",
      "* To avoid confusing existing tools that analyze import statements and expect to find the modules they\u2019re importing.\n",
      "* To ensure that *future statements* run under releases prior to 2.1 at least yield runtime exceptions (the import of `__future__` will fail, because there was no module of that name prior to 2.1).\n",
      "* To document when incompatible changes were introduced, and when they will be \u2014 or were \u2014 made mandatory. This is a form of executable documentation, and can be inspected programmatically via importing `__future__` and examining its contents."
     ]
    },
    {
     "cell_type": "markdown",
     "metadata": {},
     "source": [
      "## division\n",
      "\n",
      "[PEP 238](https://www.python.org/dev/peps/pep-0238/) -- Changing the Division Operator"
     ]
    },
    {
     "cell_type": "code",
     "collapsed": false,
     "input": [
      "1/2"
     ],
     "language": "python",
     "metadata": {},
     "outputs": [
      {
       "metadata": {},
       "output_type": "pyout",
       "prompt_number": 11,
       "text": [
        "0.5"
       ]
      }
     ],
     "prompt_number": 11
    },
    {
     "cell_type": "code",
     "collapsed": false,
     "input": [
      "from __future__ import division\n",
      "1/2"
     ],
     "language": "python",
     "metadata": {},
     "outputs": [
      {
       "metadata": {},
       "output_type": "pyout",
       "prompt_number": 12,
       "text": [
        "0.5"
       ]
      }
     ],
     "prompt_number": 12
    },
    {
     "cell_type": "code",
     "collapsed": false,
     "input": [
      "#del division\n",
      "1/2"
     ],
     "language": "python",
     "metadata": {},
     "outputs": [
      {
       "metadata": {},
       "output_type": "pyout",
       "prompt_number": 17,
       "text": [
        "0.5"
       ]
      }
     ],
     "prompt_number": 17
    },
    {
     "cell_type": "markdown",
     "metadata": {},
     "source": [
      "## print_function\n",
      "\n",
      "[PEP 3105](https://www.python.org/dev/peps/pep-3105/) - Make print a function"
     ]
    },
    {
     "cell_type": "code",
     "collapsed": false,
     "input": [
      "print 1,2"
     ],
     "language": "python",
     "metadata": {},
     "outputs": [
      {
       "output_type": "stream",
       "stream": "stdout",
       "text": [
        "1 2\n"
       ]
      }
     ],
     "prompt_number": 1
    },
    {
     "cell_type": "code",
     "collapsed": false,
     "input": [
      "print(1,2)"
     ],
     "language": "python",
     "metadata": {},
     "outputs": [
      {
       "output_type": "stream",
       "stream": "stdout",
       "text": [
        "(1, 2)\n"
       ]
      }
     ],
     "prompt_number": 2
    },
    {
     "cell_type": "code",
     "collapsed": false,
     "input": [
      "from __future__ import print_function\n",
      "print \"Hello\""
     ],
     "language": "python",
     "metadata": {},
     "outputs": [
      {
       "ename": "SyntaxError",
       "evalue": "invalid syntax (<ipython-input-8-9866ac971c20>, line 2)",
       "output_type": "pyerr",
       "traceback": [
        "\u001b[0;36m  File \u001b[0;32m\"<ipython-input-8-9866ac971c20>\"\u001b[0;36m, line \u001b[0;32m2\u001b[0m\n\u001b[0;31m    print \"Hello\"\u001b[0m\n\u001b[0m                ^\u001b[0m\n\u001b[0;31mSyntaxError\u001b[0m\u001b[0;31m:\u001b[0m invalid syntax\n"
       ]
      }
     ],
     "prompt_number": 8
    },
    {
     "cell_type": "code",
     "collapsed": false,
     "input": [
      "from __future__ import print_function\n",
      "print(\"Hello\")"
     ],
     "language": "python",
     "metadata": {},
     "outputs": [
      {
       "output_type": "stream",
       "stream": "stdout",
       "text": [
        "Hello\n"
       ]
      }
     ],
     "prompt_number": 9
    },
    {
     "cell_type": "markdown",
     "metadata": {},
     "source": [
      "****"
     ]
    },
    {
     "cell_type": "markdown",
     "metadata": {},
     "source": [
      "## `time` module\n",
      "\n",
      "https://docs.python.org/2/library/time.html"
     ]
    },
    {
     "cell_type": "code",
     "collapsed": false,
     "input": [
      "from time import *\n",
      "\n",
      "def f1(n):\n",
      "    for i in range(n):\n",
      "        pass\n",
      "\n",
      "def f2(n):\n",
      "    for i in range(n):\n",
      "        for j in range(n):\n",
      "            pass\n",
      "    \n",
      "def f3(n):\n",
      "    for i in range(n):\n",
      "        for j in range(n):\n",
      "            for k in range(n):\n",
      "                pass\n",
      "\n",
      "    \n",
      "start_time=time()\n",
      "# call your function\n",
      "f2(10000)\n",
      "\n",
      "end_time=time()\n",
      "used_time=end_time-start_time\n",
      "print 'Used time =',used_time, 's'"
     ],
     "language": "python",
     "metadata": {},
     "outputs": [
      {
       "output_type": "stream",
       "stream": "stdout",
       "text": [
        "Used time = 2.89059400558 s\n"
       ]
      }
     ],
     "prompt_number": 16
    },
    {
     "cell_type": "code",
     "collapsed": false,
     "input": [
      "%pylab inline"
     ],
     "language": "python",
     "metadata": {},
     "outputs": [
      {
       "output_type": "stream",
       "stream": "stdout",
       "text": [
        "Populating the interactive namespace from numpy and matplotlib\n"
       ]
      }
     ],
     "prompt_number": 9
    },
    {
     "cell_type": "code",
     "collapsed": false,
     "input": [
      "n_all = range(30)\n",
      "t1 = []\n",
      "t2 = []\n",
      "t3 = []\n",
      "\n",
      "for n in n_all:\n",
      "    start_time=time()\n",
      "    f1(n)\n",
      "    end_time=time()\n",
      "    used_time=end_time-start_time\n",
      "    t1.append(used_time)\n",
      "\n",
      "\n",
      "for n in n_all:\n",
      "    start_time=time()\n",
      "    f2(n)\n",
      "    end_time=time()\n",
      "    used_time=end_time-start_time\n",
      "    t2.append(used_time)\n",
      "\n",
      "    \n",
      "for n in n_all:\n",
      "    start_time=time()\n",
      "    f3(n)\n",
      "    end_time=time()\n",
      "    used_time=end_time-start_time\n",
      "    t3.append(used_time)\n",
      "\n",
      "yscale(\"log\")\n",
      "plot(n_all, t1,'bo-')    \n",
      "plot(n_all, t2,'ko-')    \n",
      "plot(n_all, t3,'ro-')"
     ],
     "language": "python",
     "metadata": {},
     "outputs": [
      {
       "metadata": {},
       "output_type": "pyout",
       "prompt_number": 29,
       "text": [
        "[<matplotlib.lines.Line2D at 0x10a5c7c10>]"
       ]
      },
      {
       "metadata": {},
       "output_type": "display_data",
       "png": "[encoded data removed]",
       "text": [
        "<matplotlib.figure.Figure at 0x109556d10>"
       ]
      }
     ],
     "prompt_number": 29
    },
    {
     "cell_type": "markdown",
     "metadata": {},
     "source": [
      "****"
     ]
    },
    {
     "cell_type": "markdown",
     "metadata": {},
     "source": [
      "# Special values\n",
      "\n",
      "## Boolean values\n",
      "\n",
      "## `None` is not Zero!\n",
      "\n",
      "## `NotImplemented` is not `None`!"
     ]
    },
    {
     "cell_type": "markdown",
     "metadata": {},
     "source": [
      "****"
     ]
    },
    {
     "cell_type": "markdown",
     "metadata": {},
     "source": [
      "# Modules\n"
     ]
    },
    {
     "cell_type": "markdown",
     "metadata": {},
     "source": [
      "## Importing Modules\n",
      "\n",
      "``\n",
      "import <module>\n",
      "``\n",
      "\n",
      "## Importing Variables from a Module\n",
      "\n",
      "from <module> import <var>\n",
      "from <module> import <var1>, <var2>, ...\n",
      "\n",
      "\n",
      "## Aliasing Imports\n"
     ]
    },
    {
     "cell_type": "markdown",
     "metadata": {},
     "source": [
      "## Complex numbers\n",
      "\n",
      "The imaginary unit is written as `j` in Python. A complex number $2 \u2212 3i$ is expressed as `(2-3j)` in Python, but $i$ is written as `1j`, not just `j`."
     ]
    },
    {
     "cell_type": "code",
     "collapsed": false,
     "input": [
      "print (1j)*(1j)"
     ],
     "language": "python",
     "metadata": {},
     "outputs": []
    },
    {
     "cell_type": "code",
     "collapsed": false,
     "input": [
      "u = 2.5 +3j\n",
      "v = 2\n",
      "w = u + v\n",
      "print w"
     ],
     "language": "python",
     "metadata": {},
     "outputs": []
    },
    {
     "cell_type": "code",
     "collapsed": false,
     "input": [
      "a = -2\n",
      "b = 0.5\n",
      "s = a + b*1j\n",
      "print s"
     ],
     "language": "python",
     "metadata": {},
     "outputs": []
    },
    {
     "cell_type": "code",
     "collapsed": false,
     "input": [
      "s = complex(a,b)\n",
      "print s"
     ],
     "language": "python",
     "metadata": {},
     "outputs": []
    },
    {
     "cell_type": "code",
     "collapsed": false,
     "input": [
      "print s*w\n",
      "print s/w"
     ],
     "language": "python",
     "metadata": {},
     "outputs": []
    },
    {
     "cell_type": "markdown",
     "metadata": {},
     "source": [
      "A complex object `s` has functionality for extracting the real and imaginary parts as well as computing the complex conjugate:"
     ]
    },
    {
     "cell_type": "code",
     "collapsed": false,
     "input": [
      "s = complex(-2.0, 0.5)\n",
      "\n",
      "print s\n",
      "print s.real\n",
      "print s.imag\n",
      "\n",
      "sp = s.conjugate()\n",
      "print sp\n",
      "\n",
      "print s*s.conjugate()\n",
      "print s*sp"
     ],
     "language": "python",
     "metadata": {},
     "outputs": []
    },
    {
     "cell_type": "markdown",
     "metadata": {},
     "source": [
      "****"
     ]
    },
    {
     "cell_type": "markdown",
     "metadata": {},
     "source": [
      "## List Comprehensions\n",
      "\n"
     ]
    },
    {
     "cell_type": "markdown",
     "metadata": {},
     "source": [
      "Creating a new list where each element is the result of some operations applied to each member of another sequence or iterable, or to create a subsequence of those elements that satisfy a certain condition.\n",
      "\n",
      "```\n",
      "newlist = [E(e) for e in list]\n",
      "```"
     ]
    },
    {
     "cell_type": "code",
     "collapsed": false,
     "input": [
      "squares = [x**2 for x in range(10)]\n",
      "print squares"
     ],
     "language": "python",
     "metadata": {},
     "outputs": []
    },
    {
     "cell_type": "code",
     "collapsed": false,
     "input": [
      "for x in range(10):\n",
      "    print x,"
     ],
     "language": "python",
     "metadata": {},
     "outputs": []
    },
    {
     "cell_type": "code",
     "collapsed": false,
     "input": [
      "n = 11\n",
      "Cdegrees = [-5 + i*0.5 for i in range(n)]\n",
      "Fdegrees = [(9.0/5)*C + 32 for C in Cdegrees]\n",
      "C_plus_5 = [C+5 for C in Cdegrees]\n",
      "\n",
      "print 'range(n):', range(n)\n",
      "print 'Cdegrees:', Cdegrees\n",
      "print 'Fdegrees:', Fdegrees\n",
      "print 'C_plus_5:', C_plus_5"
     ],
     "language": "python",
     "metadata": {},
     "outputs": []
    },
    {
     "cell_type": "code",
     "collapsed": false,
     "input": [
      "n = 11\n",
      "for i in range(n):\n",
      "    print -5 + i*0.5, "
     ],
     "language": "python",
     "metadata": {},
     "outputs": []
    },
    {
     "cell_type": "markdown",
     "metadata": {},
     "source": [
      "A list comprehension consists of brackets containing an expression followed by a `for` clause, then zero or more `for` or `if` clauses. \n",
      "\n",
      "The result will be a new list resulting from evaluating the expression in the context of the `for` and `if` clauses which follow it. \n",
      "\n",
      "For example, this listcomp combines the elements of two lists if they are not equal:"
     ]
    },
    {
     "cell_type": "code",
     "collapsed": false,
     "input": [
      "list1 = [1, 2, 3]\n",
      "list2 = [3, 1, 4]\n",
      "\n",
      "combs = []\n",
      "for x in list1:\n",
      "    for y in list2:\n",
      "        if x != y:\n",
      "            combs.append((x, y))\n",
      "print combs"
     ],
     "language": "python",
     "metadata": {},
     "outputs": []
    },
    {
     "cell_type": "code",
     "collapsed": false,
     "input": [
      "combs_all = [(x, y) for x in list1 for y in list2]\n",
      "combs_not_equal = [(x, y) for x in list1 for y in list2 if x != y]\n",
      "combs_equal = [(x, y) for x in list1 for y in list2 if x == y]\n",
      "print combs_all\n",
      "print combs_not_equal\n",
      "print combs_equal"
     ],
     "language": "python",
     "metadata": {},
     "outputs": []
    },
    {
     "cell_type": "code",
     "collapsed": false,
     "input": [
      "scores = [1, 11, 22, 45, 54, 64, 73, 75, 79, 81, 84, 89, 90, 91, 99]\n",
      "F = [x for x in scores if x < 60]\n",
      "print F"
     ],
     "language": "python",
     "metadata": {},
     "outputs": []
    },
    {
     "cell_type": "markdown",
     "metadata": {},
     "source": [
      "## `range` and `xrange`"
     ]
    },
    {
     "cell_type": "code",
     "collapsed": false,
     "input": [],
     "language": "python",
     "metadata": {},
     "outputs": []
    }
   ],
   "metadata": {}
  }
 ]
}