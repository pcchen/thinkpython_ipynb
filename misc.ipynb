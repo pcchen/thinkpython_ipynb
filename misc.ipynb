{
 "metadata": {
  "name": "",
  "signature": "sha256:941c907ce8f1b9dbb7eb77315426fa4ab5277933e9ea355a02addaf2e20a384f"
 },
 "nbformat": 3,
 "nbformat_minor": 0,
 "worksheets": [
  {
   "cells": [
    {
     "cell_type": "markdown",
     "metadata": {},
     "source": [
      "# License\n",
      "\n",
      "This IPython Notebook is released under the [Creative Commons Attribution-NonCommercial 3.0 Unported License](http://creativecommons.org/licenses/by-nc/3.0/)"
     ]
    },
    {
     "cell_type": "markdown",
     "metadata": {},
     "source": [
      "****"
     ]
    },
    {
     "cell_type": "markdown",
     "metadata": {},
     "source": [
      "## Complex numbers\n",
      "\n",
      "The imaginary unit is written as `j` in Python. A complex number $2 \u2212 3i$ is expressed as `(2-3j)` in Python, but $i$ is written as `1j`, not just `j`."
     ]
    },
    {
     "cell_type": "code",
     "collapsed": false,
     "input": [
      "print (1j)*(1j)"
     ],
     "language": "python",
     "metadata": {},
     "outputs": []
    },
    {
     "cell_type": "code",
     "collapsed": false,
     "input": [
      "u = 2.5 +3j\n",
      "v = 2\n",
      "w = u + v\n",
      "print w"
     ],
     "language": "python",
     "metadata": {},
     "outputs": []
    },
    {
     "cell_type": "code",
     "collapsed": false,
     "input": [
      "a = -2\n",
      "b = 0.5\n",
      "s = a + b*1j\n",
      "print s"
     ],
     "language": "python",
     "metadata": {},
     "outputs": []
    },
    {
     "cell_type": "code",
     "collapsed": false,
     "input": [
      "s = complex(a,b)\n",
      "print s"
     ],
     "language": "python",
     "metadata": {},
     "outputs": []
    },
    {
     "cell_type": "code",
     "collapsed": false,
     "input": [
      "print s*w\n",
      "print s/w"
     ],
     "language": "python",
     "metadata": {},
     "outputs": []
    },
    {
     "cell_type": "markdown",
     "metadata": {},
     "source": [
      "A complex object `s` has functionality for extracting the real and imaginary parts as well as computing the complex conjugate:"
     ]
    },
    {
     "cell_type": "code",
     "collapsed": false,
     "input": [
      "s = complex(-2.0, 0.5)\n",
      "\n",
      "print s\n",
      "print s.real\n",
      "print s.imag\n",
      "\n",
      "sp = s.conjugate()\n",
      "print sp\n",
      "\n",
      "print s*s.conjugate()\n",
      "print s*sp"
     ],
     "language": "python",
     "metadata": {},
     "outputs": []
    },
    {
     "cell_type": "markdown",
     "metadata": {},
     "source": [
      "****"
     ]
    },
    {
     "cell_type": "markdown",
     "metadata": {},
     "source": [
      "## List Comprehensions\n",
      "\n"
     ]
    },
    {
     "cell_type": "markdown",
     "metadata": {},
     "source": [
      "Creating a new list where each element is the result of some operations applied to each member of another sequence or iterable, or to create a subsequence of those elements that satisfy a certain condition.\n",
      "\n",
      "```\n",
      "newlist = [E(e) for e in list]\n",
      "```"
     ]
    },
    {
     "cell_type": "code",
     "collapsed": false,
     "input": [
      "squares = [x**2 for x in range(10)]\n",
      "print squares"
     ],
     "language": "python",
     "metadata": {},
     "outputs": []
    },
    {
     "cell_type": "code",
     "collapsed": false,
     "input": [
      "for x in range(10):\n",
      "    print x,"
     ],
     "language": "python",
     "metadata": {},
     "outputs": []
    },
    {
     "cell_type": "code",
     "collapsed": false,
     "input": [
      "n = 11\n",
      "Cdegrees = [-5 + i*0.5 for i in range(n)]\n",
      "Fdegrees = [(9.0/5)*C + 32 for C in Cdegrees]\n",
      "C_plus_5 = [C+5 for C in Cdegrees]\n",
      "\n",
      "print 'range(n):', range(n)\n",
      "print 'Cdegrees:', Cdegrees\n",
      "print 'Fdegrees:', Fdegrees\n",
      "print 'C_plus_5:', C_plus_5"
     ],
     "language": "python",
     "metadata": {},
     "outputs": []
    },
    {
     "cell_type": "code",
     "collapsed": false,
     "input": [
      "n = 11\n",
      "for i in range(n):\n",
      "    print -5 + i*0.5, "
     ],
     "language": "python",
     "metadata": {},
     "outputs": []
    },
    {
     "cell_type": "markdown",
     "metadata": {},
     "source": [
      "A list comprehension consists of brackets containing an expression followed by a `for` clause, then zero or more `for` or `if` clauses. \n",
      "\n",
      "The result will be a new list resulting from evaluating the expression in the context of the `for` and `if` clauses which follow it. \n",
      "\n",
      "For example, this listcomp combines the elements of two lists if they are not equal:"
     ]
    },
    {
     "cell_type": "code",
     "collapsed": false,
     "input": [
      "list1 = [1, 2, 3]\n",
      "list2 = [3, 1, 4]\n",
      "\n",
      "combs = []\n",
      "for x in list1:\n",
      "    for y in list2:\n",
      "        if x != y:\n",
      "            combs.append((x, y))\n",
      "print combs"
     ],
     "language": "python",
     "metadata": {},
     "outputs": []
    },
    {
     "cell_type": "code",
     "collapsed": false,
     "input": [
      "combs_all = [(x, y) for x in list1 for y in list2]\n",
      "combs_not_equal = [(x, y) for x in list1 for y in list2 if x != y]\n",
      "combs_equal = [(x, y) for x in list1 for y in list2 if x == y]\n",
      "print combs_all\n",
      "print combs_not_equal\n",
      "print combs_equal"
     ],
     "language": "python",
     "metadata": {},
     "outputs": []
    },
    {
     "cell_type": "code",
     "collapsed": false,
     "input": [
      "scores = [1, 11, 22, 45, 54, 64, 73, 75, 79, 81, 84, 89, 90, 91, 99]\n",
      "F = [x for x in scores if x < 60]\n",
      "print F"
     ],
     "language": "python",
     "metadata": {},
     "outputs": []
    },
    {
     "cell_type": "markdown",
     "metadata": {},
     "source": [
      "## `range` and `xrange`"
     ]
    },
    {
     "cell_type": "code",
     "collapsed": false,
     "input": [],
     "language": "python",
     "metadata": {},
     "outputs": []
    }
   ],
   "metadata": {}
  }
 ]
}