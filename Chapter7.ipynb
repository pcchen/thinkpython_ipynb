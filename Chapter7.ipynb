{
 "metadata": {
  "name": "",
  "signature": "sha256:ab433e8b443f78da82faed725d8910caa8a9a7a1885826d50113c36e015f12a8"
 },
 "nbformat": 3,
 "nbformat_minor": 0,
 "worksheets": [
  {
   "cells": [
    {
     "cell_type": "markdown",
     "metadata": {},
     "source": [
      "# License\n",
      "\n",
      "This IPython Notebook is released under the [Creative Commons Attribution-NonCommercial 3.0 Unported License](http://creativecommons.org/licenses/by-nc/3.0/)\n",
      "\n",
      "This IPython Notebook is based on [Think Python: How to Think Like a Computer Scientist](http://www.greenteapress.com/thinkpython/) by Allen B. Downey. It is available under the [Creative Commons Attribution-NonCommercial 3.0 Unported License](http://creativecommons.org/licenses/by-nc/3.0/)"
     ]
    },
    {
     "cell_type": "markdown",
     "metadata": {},
     "source": [
      "****"
     ]
    },
    {
     "cell_type": "markdown",
     "metadata": {},
     "source": [
      "# Chapter 7  Iteration"
     ]
    },
    {
     "cell_type": "markdown",
     "metadata": {},
     "source": [
      "****"
     ]
    },
    {
     "cell_type": "markdown",
     "metadata": {},
     "source": [
      "## 7.1  Multiple assignment\n",
      "\n",
      "It is legal to make more than one assignment to the same variable. \n",
      "* A new assignment makes an existing variable refer to a new value (and stop referring to the old value)."
     ]
    },
    {
     "cell_type": "code",
     "collapsed": false,
     "input": [
      "bruce = 5\n",
      "print bruce,\n",
      "bruce = 7\n",
      "print bruce"
     ],
     "language": "python",
     "metadata": {},
     "outputs": [
      {
       "output_type": "stream",
       "stream": "stdout",
       "text": [
        "5 7\n"
       ]
      }
     ],
     "prompt_number": 1
    },
    {
     "cell_type": "markdown",
     "metadata": {},
     "source": [
      "* The output of this program is 5 7.\n",
      " * The first time `bruce` is printed, its value is 5, and the second time, its value is 7. \n",
      "* The comma at the end of the first print statement suppresses the newline.\n",
      "\n",
      "The figure below shows what multiple assignment looks like in a state diagram\n",
      "\n",
      "<img src=\"files/figs/assign2.png\" width=\"200\" >\n"
     ]
    },
    {
     "cell_type": "markdown",
     "metadata": {},
     "source": [
      "### Mathematics v.s. Python\n",
      "\n",
      "It is important to distinguish between an **assignment operation** and a **statement of equality**.\n",
      "* Python uses the equal sign (`=`) for assignment.\n",
      "* It is tempting to interpret a statement like `a = b` as *a statement of equality*. It is not!\n",
      "\n",
      "Equality is a symmetric relation and assignment is not. \n",
      "* In mathematics, if `a = 7` then `7 = a`. \n",
      "* In Python, the statement `a = 7` is legal and `7 = a` is not.\n",
      "\n",
      "Equality\n",
      "* In mathematics, a statement of equality is either true or false, for all time. \n",
      " * If `a = b` now, then `a` will always equal `b`. \n",
      "* In Python, an assignment statement can make two variables equal, but they don\u2019t have to stay that way:\n",
      "\n",
      "``\n",
      "a = 5\n",
      "b = a    # a and b are now equal\n",
      "a = 3    # a and b are no longer equal\n",
      "``\n",
      "\n",
      "### Caution!\n",
      "Although multiple assignment is frequently helpful, you should use it with caution. \n",
      "* If the values of variables change frequently, it can make the code difficult to read and debug."
     ]
    },
    {
     "cell_type": "markdown",
     "metadata": {},
     "source": [
      "****"
     ]
    },
    {
     "cell_type": "markdown",
     "metadata": {},
     "source": [
      "## 7.2  Updating variables\n",
      "\n",
      "One of the most common forms of multiple assignment is an update, where the new value of the variable depends on the old.\n",
      "\n",
      "``\n",
      "x = x+1\n",
      "``\n",
      "\n",
      "This means \u201cget the current value of x, add one, and then update x with the new value.\u201d\n",
      "\n",
      "If you try to update a variable that doesn\u2019t exist, you get an error, \n",
      "* Because Python evaluates the *right side* **before** it assigns a value to x:"
     ]
    },
    {
     "cell_type": "code",
     "collapsed": false,
     "input": [
      "x = x + 1"
     ],
     "language": "python",
     "metadata": {},
     "outputs": [
      {
       "ename": "NameError",
       "evalue": "name 'x' is not defined",
       "output_type": "pyerr",
       "traceback": [
        "\u001b[0;31m---------------------------------------------------------------------------\u001b[0m\n\u001b[0;31mNameError\u001b[0m                                 Traceback (most recent call last)",
        "\u001b[0;32m<ipython-input-2-f2b128a9dd19>\u001b[0m in \u001b[0;36m<module>\u001b[0;34m()\u001b[0m\n\u001b[0;32m----> 1\u001b[0;31m \u001b[0mx\u001b[0m \u001b[0;34m=\u001b[0m \u001b[0mx\u001b[0m \u001b[0;34m+\u001b[0m \u001b[0;36m1\u001b[0m\u001b[0;34m\u001b[0m\u001b[0m\n\u001b[0m",
        "\u001b[0;31mNameError\u001b[0m: name 'x' is not defined"
       ]
      }
     ],
     "prompt_number": 2
    },
    {
     "cell_type": "markdown",
     "metadata": {},
     "source": [
      "Before you can update a variable, you have to **initialize** it, usually with a simple assignment:"
     ]
    },
    {
     "cell_type": "code",
     "collapsed": false,
     "input": [
      "x = 0\n",
      "print x\n",
      "x = x + 1\n",
      "print x"
     ],
     "language": "python",
     "metadata": {},
     "outputs": [
      {
       "output_type": "stream",
       "stream": "stdout",
       "text": [
        "0\n",
        "1\n"
       ]
      }
     ],
     "prompt_number": 3
    },
    {
     "cell_type": "markdown",
     "metadata": {},
     "source": [
      "### Increment and Decrement\n",
      "* Updating a variable by adding 1 is called an **increment**. \n",
      "* Updating a variable by subtracting 1 is called a **decrement**."
     ]
    },
    {
     "cell_type": "markdown",
     "metadata": {},
     "source": [
      "****"
     ]
    },
    {
     "cell_type": "markdown",
     "metadata": {},
     "source": [
      "# 7.3  The while statement\n",
      "\n",
      "Computers are often used to automate repetitive tasks. \n",
      "\n",
      "* We have used **recursion** (`countdown` and `print_n`) to perform repetition, which is also called **iteration**. \n",
      "* Because iteration is so common, Python provides several language features to make it easier.\n",
      "  * `for` statement.\n",
      "  * `while` statement.\n",
      "\n",
      "Here is a version of countdown that uses a `while` statement:"
     ]
    },
    {
     "cell_type": "code",
     "collapsed": false,
     "input": [
      "def countdown(n):\n",
      "    while n > 0:\n",
      "        print n\n",
      "        n = n-1\n",
      "    print 'Blastoff!'\n",
      "\n",
      "countdown(3)"
     ],
     "language": "python",
     "metadata": {},
     "outputs": [
      {
       "output_type": "stream",
       "stream": "stdout",
       "text": [
        "3\n",
        "2\n",
        "1\n",
        "Blastoff!\n"
       ]
      }
     ],
     "prompt_number": 4
    },
    {
     "cell_type": "markdown",
     "metadata": {},
     "source": [
      "* You can almost read the while statement as if it were English.\n",
      "* It means, \u201cWhile n is greater than 0, display the value of n and then reduce the value of n by 1. When you get to 0, display the word Blastoff!\u201d\n",
      "\n",
      "More formally, here is the flow of execution for a while statement:\n",
      "\n",
      "1. Evaluate the condition, yielding `True` or `False`.\n",
      "2. If the condition is false, exit the `while` statement and continue execution at the next statement.\n",
      "3. If the condition is true, execute the body and then go back to step 1.\n",
      "\n",
      "This type of flow is called a **loop** because the third step loops back around to the top."
     ]
    },
    {
     "cell_type": "markdown",
     "metadata": {},
     "source": [
      "### infinite loop\n",
      "\n",
      "* The body of the loop should change the value of one or more variables so that eventually the condition becomes false and the loop terminates. \n",
      "* Otherwise the loop will repeat forever, which is called an **infinite loop**. \n",
      "* In the case of `countdown`, we can prove that the loop terminates.\n",
      "* In other cases, it is not so easy to tell:"
     ]
    },
    {
     "cell_type": "code",
     "collapsed": false,
     "input": [
      "def sequence(n):\n",
      "    while n != 1:\n",
      "        print n,\n",
      "        if n%2 == 0:        # n is even\n",
      "            n = n/2\n",
      "        else:               # n is odd\n",
      "            n = n*3+1"
     ],
     "language": "python",
     "metadata": {},
     "outputs": []
    },
    {
     "cell_type": "markdown",
     "metadata": {},
     "source": [
      "* The condition for this loop is `n != 1`, so the loop will continue until `n` is `1`, which makes the condition false.\n",
      "* Since `n` sometimes increases and sometimes decreases, \n",
      " * there is no obvious proof that `n` will ever reach `1`, or that the program terminates.\n",
      "* The hard question is whether we can prove that this program terminates for all positive values of `n`. \n",
      " * So far, no one has been able to prove it or disprove it! \n",
      "* See http://en.wikipedia.org/wiki/Collatz_conjecture"
     ]
    },
    {
     "cell_type": "code",
     "collapsed": false,
     "input": [
      "sequence(3)"
     ],
     "language": "python",
     "metadata": {},
     "outputs": []
    },
    {
     "cell_type": "code",
     "collapsed": false,
     "input": [
      "sequence(6)"
     ],
     "language": "python",
     "metadata": {},
     "outputs": []
    },
    {
     "cell_type": "code",
     "collapsed": false,
     "input": [
      "sequence(9)"
     ],
     "language": "python",
     "metadata": {},
     "outputs": []
    },
    {
     "cell_type": "code",
     "collapsed": false,
     "input": [
      "sequence(27)"
     ],
     "language": "python",
     "metadata": {},
     "outputs": []
    },
    {
     "cell_type": "code",
     "collapsed": false,
     "input": [
      "sequence(26)"
     ],
     "language": "python",
     "metadata": {},
     "outputs": []
    },
    {
     "cell_type": "code",
     "collapsed": false,
     "input": [
      "sequence(28)"
     ],
     "language": "python",
     "metadata": {},
     "outputs": []
    },
    {
     "cell_type": "markdown",
     "metadata": {},
     "source": [
      "A famous address:\n",
      "\n",
      "    1 Infinite Loop, Cupertino, CA 95014, USA"
     ]
    },
    {
     "cell_type": "markdown",
     "metadata": {},
     "source": [
      "****"
     ]
    },
    {
     "cell_type": "markdown",
     "metadata": {},
     "source": [
      "## Exercise 7.1  \n",
      "\n",
      "*Rewrite the function `print_n` from Section 5.8 using iteration instead of recursion.*\n"
     ]
    },
    {
     "cell_type": "markdown",
     "metadata": {},
     "source": [
      "****"
     ]
    },
    {
     "cell_type": "markdown",
     "metadata": {},
     "source": [
      "# 7.4  `break`\n",
      "\n",
      "Sometimes you don\u2019t know it\u2019s time to end a loop until you get half way through the body. \n",
      "* In that case you can use the **break** statement to jump out of the loop.\n",
      "* For example, suppose you want to take input from the user until they type `done`.\n"
     ]
    },
    {
     "cell_type": "code",
     "collapsed": false,
     "input": [
      "while True:\n",
      "    line = raw_input('> ')\n",
      "    if line == 'done':\n",
      "        break\n",
      "    print line\n",
      "\n",
      "print 'Done!'"
     ],
     "language": "python",
     "metadata": {},
     "outputs": [
      {
       "name": "stdout",
       "output_type": "stream",
       "stream": "stdout",
       "text": [
        "> Done\n"
       ]
      },
      {
       "output_type": "stream",
       "stream": "stdout",
       "text": [
        "Done\n"
       ]
      },
      {
       "name": "stdout",
       "output_type": "stream",
       "stream": "stdout",
       "text": [
        "> done\n"
       ]
      },
      {
       "output_type": "stream",
       "stream": "stdout",
       "text": [
        "Done!\n"
       ]
      }
     ],
     "prompt_number": 5
    },
    {
     "cell_type": "markdown",
     "metadata": {},
     "source": [
      "* The loop condition is `True`, which is always true, so the loop runs until it hits the `break` statement.\n",
      "* This way of writing while loops is common because \n",
      " * you can check the condition anywhere in the loop (not just at the top) \n",
      " * you can express the stop condition **affirmatively** (\u201cstop when this happens\u201d) rather than **negatively** (\u201ckeep going until that happens.\u201d).\n"
     ]
    },
    {
     "cell_type": "markdown",
     "metadata": {},
     "source": [
      "****"
     ]
    },
    {
     "cell_type": "markdown",
     "metadata": {},
     "source": [
      "# 7.5  Square roots\n",
      "\n",
      "Loops are often used in programs that compute numerical results by starting with an approximate answer and iteratively improving it.\n",
      "\n",
      "Suppose that you want to know the square root of `a`. \n",
      "* If you start with almost any estimate, `x`, \n",
      "* you can compute a better estimate with the following formula:\n",
      "\n",
      "$$\n",
      "  y = \\frac{x+a/x}{2}\n",
      "$$\n",
      "* This is [Newton\u2019s method](https://en.wikipedia.org/wiki/Newton%27s_method)"
     ]
    },
    {
     "cell_type": "code",
     "collapsed": false,
     "input": [
      "# For example, if a is 4 and x is 3, with one iternation\n",
      "a = 4.0\n",
      "x = 3.0\n",
      "y = (x + a / x) / 2.0\n",
      "print y"
     ],
     "language": "python",
     "metadata": {},
     "outputs": [
      {
       "output_type": "stream",
       "stream": "stdout",
       "text": [
        "2.16666666667\n"
       ]
      }
     ],
     "prompt_number": 6
    },
    {
     "cell_type": "code",
     "collapsed": false,
     "input": [
      "# For example, if a is 4 and x is 3, with more interations\n",
      "a = 4.0\n",
      "x = 3.0\n",
      "y = (x + a / x) / 2.0\n",
      "print y\n",
      "\n",
      "x = y\n",
      "y = (x + a / x) / 2.0\n",
      "print y\n",
      "\n",
      "x = y\n",
      "y = (x + a / x) / 2.0\n",
      "print y\n",
      "\n",
      "x = y\n",
      "y = (x + a / x) / 2.0\n",
      "print y\n",
      "\n",
      "x = y\n",
      "y = (x + a / x) / 2.0\n",
      "print y\n",
      "\n",
      "x = y\n",
      "y = (x + a / x) / 2.0\n",
      "print y\n",
      "\n",
      "x = y\n",
      "y = (x + a / x) / 2.0\n",
      "print y"
     ],
     "language": "python",
     "metadata": {},
     "outputs": [
      {
       "output_type": "stream",
       "stream": "stdout",
       "text": [
        "2.16666666667\n",
        "2.00641025641\n",
        "2.00001024003\n",
        "2.00000000003\n",
        "2.0\n",
        "2.0\n",
        "2.0\n"
       ]
      }
     ],
     "prompt_number": 7
    },
    {
     "cell_type": "markdown",
     "metadata": {},
     "source": [
      "In general we don\u2019t know ahead of time how many steps it takes to get to the right answer, \n",
      " * but we know when we get there because the estimate **stops changing**.\n",
      "\n",
      "When `y == x`, we can stop.\n",
      "\n",
      "Here is a loop that starts with an initial estimate, `x`, and improves it until it stops changing:"
     ]
    },
    {
     "cell_type": "code",
     "collapsed": false,
     "input": [
      "a = 4.0\n",
      "x = 3.0\n",
      "while True:\n",
      "    print x\n",
      "    y = (x + a/x) / 2\n",
      "    if y == x:\n",
      "        break\n",
      "    x = y"
     ],
     "language": "python",
     "metadata": {},
     "outputs": [
      {
       "output_type": "stream",
       "stream": "stdout",
       "text": [
        "3.0\n",
        "2.16666666667\n",
        "2.00641025641\n",
        "2.00001024003\n",
        "2.00000000003\n",
        "2.0\n"
       ]
      }
     ],
     "prompt_number": 8
    },
    {
     "cell_type": "code",
     "collapsed": false,
     "input": [
      "a = 2.0\n",
      "x = 3.0\n",
      "while True:\n",
      "    print x\n",
      "    y = (x + a/x) / 2\n",
      "    if y == x:\n",
      "        break\n",
      "    x = y"
     ],
     "language": "python",
     "metadata": {},
     "outputs": [
      {
       "output_type": "stream",
       "stream": "stdout",
       "text": [
        "3.0\n",
        "1.83333333333\n",
        "1.46212121212\n",
        "1.41499842989\n",
        "1.41421378005\n",
        "1.41421356237\n",
        "1.41421356237\n"
       ]
      }
     ],
     "prompt_number": 9
    },
    {
     "cell_type": "markdown",
     "metadata": {},
     "source": [
      "### Caution!\n",
      "\n",
      "For most values of `a` this works fine, but in general it is dangerous to test `float` equality. \n",
      "* Floating-point values are only approximately right: \n",
      "* most rational numbers, like $1/3$, and irrational numbers, like $\\sqrt{2}$, can\u2019t be represented exactly with a float.\n",
      "* It is safer to use the built-in function `abs` to compute the absolute value, or magnitude, of the **difference** between them:\n",
      "\n",
      "``\n",
      "    if abs(y-x) < epsilon:\n",
      "        break\n",
      "``\n",
      "* Where epsilon has a value like 0.0000001 that determines how close is close enough."
     ]
    },
    {
     "cell_type": "markdown",
     "metadata": {},
     "source": [
      "****"
     ]
    },
    {
     "cell_type": "markdown",
     "metadata": {},
     "source": [
      "## Exercise 7.2  \n",
      "\n",
      "*Encapsulate this loop in a function called `square_root` that takes `a` as a parameter, chooses a reasonable value of `x`, and returns an estimate of the square root of `a`.*\n"
     ]
    },
    {
     "cell_type": "markdown",
     "metadata": {},
     "source": [
      "****"
     ]
    },
    {
     "cell_type": "markdown",
     "metadata": {},
     "source": [
      "## 7.6  Algorithms\n",
      "\n",
      "Newton\u2019s method is an example of an algorithm: it is a mechanical process for solving a category of problems (in this case, computing square roots)."
     ]
    },
    {
     "cell_type": "markdown",
     "metadata": {},
     "source": [
      "****"
     ]
    },
    {
     "cell_type": "markdown",
     "metadata": {},
     "source": [
      "## 7.7  Debugging\n",
      "\n",
      "As you start writing bigger programs, you might find yourself spending more time debugging. \n",
      "* More code means more chances to make an error and more place for bugs to hide.\n",
      "\n",
      "One way to cut your debugging time is **\u201cdebugging by bisection.\u201d** \n",
      "* For example, if there are 100 lines in your program and you check them one at a time, it would take 100 steps.\n",
      "\n",
      "Instead, try to break the problem in half. \n",
      "* Look at the middle of the program, or near it, for an intermediate value you can check. \n",
      "* Add a print statement (or something else that has a verifiable effect) and run the program.\n",
      "* If the mid-point check is incorrect, there must be a problem in the first half of the program. \n",
      "* If it is correct, the problem is in the second half.\n",
      "\n",
      "Every time you perform a check like this, you halve the number of lines you have to search. \n",
      "* After six steps (which is fewer than 100), you would be down to one or two lines of code, at least in theory.\n",
      "\n",
      "In practice it is not always clear what the \u201cmiddle of the program\u201d is and not always possible to check it. \n",
      "* It doesn\u2019t make sense to count lines and find the exact midpoint. \n",
      "* Instead, think about places in the program where there might be errors and places where it is easy to put a check. \n",
      "* Then choose a spot where you think the chances are about the same that the bug is before or after the check."
     ]
    },
    {
     "cell_type": "markdown",
     "metadata": {},
     "source": [
      "****"
     ]
    },
    {
     "cell_type": "markdown",
     "metadata": {},
     "source": [
      "## 7.8  Glossary\n",
      "\n",
      "**multiple assignment:**\n",
      "\n",
      "Making more than one assignment to the same variable during the execution of a program.\n",
      "\n",
      "**update:**\n",
      "\n",
      "An assignment where the new value of the variable depends on the old.\n",
      "\n",
      "**initialization:**\n",
      "\n",
      "An assignment that gives an initial value to a variable that will be updated.\n",
      "\n",
      "**increment:**\n",
      "\n",
      "An update that increases the value of a variable (often by one).\n",
      "\n",
      "**decrement:**\n",
      "\n",
      "An update that decreases the value of a variable.\n",
      "\n",
      "**iteration:**\n",
      "\n",
      "Repeated execution of a set of statements using either a recursive function call or a loop.\n",
      "\n",
      "**infinite loop:**\n",
      "\n",
      "A loop in which the terminating condition is never satisfied."
     ]
    },
    {
     "cell_type": "markdown",
     "metadata": {},
     "source": [
      "****"
     ]
    },
    {
     "cell_type": "markdown",
     "metadata": {},
     "source": [
      "## 7.9  Exercises"
     ]
    },
    {
     "cell_type": "markdown",
     "metadata": {},
     "source": [
      "****"
     ]
    },
    {
     "cell_type": "markdown",
     "metadata": {},
     "source": [
      "## Exercise 7.3  \n",
      "\n",
      "*To test the square root algorithm in this chapter, you could compare it with `math.sqrt`. Write a function named `test_square_root` that prints a table like this:*\n",
      "\n",
      "``\n",
      "1.0 1.0           1.0           0.0\n",
      "2.0 1.41421356237 1.41421356237 2.22044604925e-16\n",
      "3.0 1.73205080757 1.73205080757 0.0\n",
      "4.0 2.0           2.0           0.0\n",
      "5.0 2.2360679775  2.2360679775  0.0\n",
      "6.0 2.44948974278 2.44948974278 0.0\n",
      "7.0 2.64575131106 2.64575131106 0.0\n",
      "8.0 2.82842712475 2.82842712475 4.4408920985e-16\n",
      "9.0 3.0           3.0           0.0\n",
      "``\n",
      "\n",
      "*The first column is a number, `a`; the second column is the square root of a computed with the function from Section 7.5; the third column is the square root computed by `math.sqrt`; the fourth column is the absolute value of the difference between the two estimates.*"
     ]
    },
    {
     "cell_type": "markdown",
     "metadata": {},
     "source": [
      "****"
     ]
    },
    {
     "cell_type": "markdown",
     "metadata": {},
     "source": [
      "## Exercise 7.4  \n",
      "\n",
      "*The built-in function `eval` takes a string and evaluates it using the Python interpreter. For example:*"
     ]
    },
    {
     "cell_type": "code",
     "collapsed": false,
     "input": [
      "eval('1 + 2 * 3')"
     ],
     "language": "python",
     "metadata": {},
     "outputs": [
      {
       "metadata": {},
       "output_type": "pyout",
       "prompt_number": 10,
       "text": [
        "7"
       ]
      }
     ],
     "prompt_number": 10
    },
    {
     "cell_type": "code",
     "collapsed": false,
     "input": [
      "import math\n",
      "eval('math.sqrt(5)')"
     ],
     "language": "python",
     "metadata": {},
     "outputs": [
      {
       "metadata": {},
       "output_type": "pyout",
       "prompt_number": 11,
       "text": [
        "2.23606797749979"
       ]
      }
     ],
     "prompt_number": 11
    },
    {
     "cell_type": "code",
     "collapsed": false,
     "input": [
      "import math\n",
      "eval('type(math.pi)')"
     ],
     "language": "python",
     "metadata": {},
     "outputs": [
      {
       "metadata": {},
       "output_type": "pyout",
       "prompt_number": 12,
       "text": [
        "float"
       ]
      }
     ],
     "prompt_number": 12
    },
    {
     "cell_type": "markdown",
     "metadata": {},
     "source": [
      "*Write a function called `eval_loop` that iteratively prompts the user, takes the resulting input and evaluates it using `eval`, and prints the result.*\n",
      "\n",
      "*It should continue until the user enters `'done'`, and then return the value of the last expression it evaluated.*\n",
      "\n",
      "\n"
     ]
    },
    {
     "cell_type": "markdown",
     "metadata": {},
     "source": [
      "****"
     ]
    },
    {
     "cell_type": "markdown",
     "metadata": {},
     "source": [
      "## Exercise 7.5  \n",
      "\n",
      "*The mathematician Srinivasa Ramanujan found an infinite series that can be used to generate a numerical approximation of $1/\\pi$:*\n",
      "\n",
      "$$\n",
      "  \\frac{1}{2} \\pi = \\frac{2\\sqrt{2}}{9801}\n",
      "  \\sum_{k=0}^{\\infty} \\frac{(4k)!(1103+26390k)}{(k!)^4 396^{4k}}\n",
      "$$ \n",
      " \t\n",
      "\n",
      "\n",
      " \n",
      "*Write a function called `estimate_pi` that uses this formula to compute and return an estimate of $\\pi$. It should use a `while` loop to compute terms of the summation until the last term is smaller than 1`e-15` (which is Python notation for $10^{\u221215}$). You can check the result by comparing it to `math.pi`.*\n"
     ]
    }
   ],
   "metadata": {}
  }
 ]
}