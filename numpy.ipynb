{
 "metadata": {
  "name": "",
  "signature": "sha256:d6bab9c52c0c65402881bf6d7eefc61dc9f2196a99c3b34cb65c42235d2303fb"
 },
 "nbformat": 3,
 "nbformat_minor": 0,
 "worksheets": [
  {
   "cells": [
    {
     "cell_type": "markdown",
     "metadata": {},
     "source": [
      "# License\n",
      "\n",
      "This IPython Notebook is released under the [Creative Commons Attribution-NonCommercial 3.0 Unported License](http://creativecommons.org/licenses/by-nc/3.0/)\n",
      "\n"
     ]
    },
    {
     "cell_type": "markdown",
     "metadata": {},
     "source": [
      "****"
     ]
    },
    {
     "cell_type": "markdown",
     "metadata": {},
     "source": [
      "# Numpy"
     ]
    },
    {
     "cell_type": "markdown",
     "metadata": {},
     "source": [
      "****"
     ]
    },
    {
     "cell_type": "markdown",
     "metadata": {},
     "source": [
      "## Introduction\n",
      "\n",
      "**NumPy** is the fundamental package for scientific computing with Python. It contains among other things:\n",
      "\n",
      "* a powerful N-dimensional array object.\n",
      "* sophisticated (broadcasting) functions.\n",
      "* tools for integrating C/C++ and Fortran code.\n",
      "* useful linear algebra, Fourier transform, and random number capabilities.\n"
     ]
    },
    {
     "cell_type": "markdown",
     "metadata": {},
     "source": [
      "****"
     ]
    },
    {
     "cell_type": "markdown",
     "metadata": {},
     "source": [
      "## Numpy Array"
     ]
    },
    {
     "cell_type": "markdown",
     "metadata": {},
     "source": [
      "Suppose we have a function $f(x)$ and want to evaluate this function at a number of $x$ points $x_0, x_1,\\dots , x_{n\u22121}$.\n",
      "\n",
      "We could collect the `n` pairs $(x_i , f(x_i))$ in a list, or we could collect all the $x_i$ values, for $i = 0 \\dots ,n\u22121$, in a list and all the associated $f(x_i)$ values in another list."
     ]
    },
    {
     "cell_type": "code",
     "collapsed": false,
     "input": [
      "def f(x):\n",
      "    return x**3\n",
      "\n",
      "n=5\n",
      "dx = 1.0/(n-1)\n",
      "xlist = [ i*dx for i in range(n)]\n",
      "ylist = [ f(x) for x in xlist]\n",
      "pairs = [[x, y] for x, y in zip(xlist, ylist)]\n",
      "\n",
      "print xlist\n",
      "print ylist\n",
      "print pairs"
     ],
     "language": "python",
     "metadata": {},
     "outputs": [
      {
       "output_type": "stream",
       "stream": "stdout",
       "text": [
        "[0.0, 0.25, 0.5, 0.75, 1.0]\n",
        "[0.0, 0.015625, 0.125, 0.421875, 1.0]\n",
        "[[0.0, 0.0], [0.25, 0.015625], [0.5, 0.125], [0.75, 0.421875], [1.0, 1.0]]\n"
       ]
      }
     ],
     "prompt_number": 1
    },
    {
     "cell_type": "markdown",
     "metadata": {},
     "source": [
      "But it is not easy to work with this."
     ]
    },
    {
     "cell_type": "markdown",
     "metadata": {},
     "source": [
      "A `numpy` **array** object can be viewed as a variant of a list, but with the following assumptions and features:\n",
      "\n",
      "* All elements must be of the same type, preferably integer, real, or complex numbers.\n",
      "* The number of elements must be known when the array is created.\n",
      "* Arrays are not part of standard Python, one needs an additional package called Numerical Python, often abbreviated as **NumPy**.\n",
      "* With `numpy`, a wide range of mathematical operations can be done directly on complete arrays, thereby removing the need for loops over array elements.\n",
      "* Arrays with one index are often called vectors. Arrays with two indices are used as an efficient data structure for tables, instead of lists of lists. Arrays can also have three or more indices."
     ]
    },
    {
     "cell_type": "markdown",
     "metadata": {},
     "source": [
      "The standard import statement for Numerical Python reads"
     ]
    },
    {
     "cell_type": "code",
     "collapsed": false,
     "input": [
      "import numpy as np"
     ],
     "language": "python",
     "metadata": {},
     "outputs": [],
     "prompt_number": 2
    },
    {
     "cell_type": "markdown",
     "metadata": {},
     "source": [
      "To convert a list or a tuple to an array, we use the `array` function from numpy:"
     ]
    },
    {
     "cell_type": "code",
     "collapsed": false,
     "input": [
      "r = [1,2,3,4]\n",
      "v = np.array(r)\n",
      "print v\n",
      "print type(v)"
     ],
     "language": "python",
     "metadata": {},
     "outputs": [
      {
       "output_type": "stream",
       "stream": "stdout",
       "text": [
        "[1 2 3 4]\n",
        "<type 'numpy.ndarray'>\n"
       ]
      }
     ],
     "prompt_number": 3
    },
    {
     "cell_type": "code",
     "collapsed": false,
     "input": [
      "r = (1,2,3,4)\n",
      "v = np.array(r)\n",
      "print v\n",
      "print type(v)"
     ],
     "language": "python",
     "metadata": {},
     "outputs": [
      {
       "output_type": "stream",
       "stream": "stdout",
       "text": [
        "[1 2 3 4]\n",
        "<type 'numpy.ndarray'>\n"
       ]
      }
     ],
     "prompt_number": 4
    },
    {
     "cell_type": "markdown",
     "metadata": {},
     "source": [
      "To create a new array of length n, filled with zeros, we write"
     ]
    },
    {
     "cell_type": "code",
     "collapsed": false,
     "input": [
      "n = 5\n",
      "v = np.zeros(n)\n",
      "print v"
     ],
     "language": "python",
     "metadata": {},
     "outputs": [
      {
       "output_type": "stream",
       "stream": "stdout",
       "text": [
        "[ 0.  0.  0.  0.  0.]\n"
       ]
      }
     ],
     "prompt_number": 5
    },
    {
     "cell_type": "markdown",
     "metadata": {},
     "source": [
      "Use the second argument to create a new array of length n, filled with zeros of other types"
     ]
    },
    {
     "cell_type": "code",
     "collapsed": false,
     "input": [
      "n = 5\n",
      "v = np.zeros(n, int)\n",
      "print v"
     ],
     "language": "python",
     "metadata": {},
     "outputs": [
      {
       "output_type": "stream",
       "stream": "stdout",
       "text": [
        "[0 0 0 0 0]\n"
       ]
      }
     ],
     "prompt_number": 6
    },
    {
     "cell_type": "markdown",
     "metadata": {},
     "source": [
      "To generates an array of zeros where the length is that of the array `r` and the element type is the same as those in `r`."
     ]
    },
    {
     "cell_type": "code",
     "collapsed": false,
     "input": [
      "r1 = [1,2,3,4]\n",
      "v1 = np.zeros_like(r1)\n",
      "print v1\n",
      "\n",
      "r2 = [1.,2.,3.,4.]\n",
      "v2 = np.zeros_like(r2)\n",
      "print v2"
     ],
     "language": "python",
     "metadata": {},
     "outputs": [
      {
       "output_type": "stream",
       "stream": "stdout",
       "text": [
        "[0 0 0 0]\n",
        "[ 0.  0.  0.  0.]\n"
       ]
      }
     ],
     "prompt_number": 7
    },
    {
     "cell_type": "markdown",
     "metadata": {},
     "source": [
      "To generate an array to have `n` elements with *uniformly disributed* values in an interval $[p, q]$ one uses `linspace`."
     ]
    },
    {
     "cell_type": "code",
     "collapsed": false,
     "input": [
      "p = 0.0\n",
      "q = 10.0\n",
      "n = 11\n",
      "a = np.linspace(p, q, n)\n",
      "print a"
     ],
     "language": "python",
     "metadata": {},
     "outputs": [
      {
       "output_type": "stream",
       "stream": "stdout",
       "text": [
        "[  0.   1.   2.   3.   4.   5.   6.   7.   8.   9.  10.]\n"
       ]
      }
     ],
     "prompt_number": 8
    },
    {
     "cell_type": "markdown",
     "metadata": {},
     "source": [
      "### Index, slice, copying"
     ]
    },
    {
     "cell_type": "markdown",
     "metadata": {},
     "source": [
      "Array elements are accessed by square brackets as for lists:"
     ]
    },
    {
     "cell_type": "code",
     "collapsed": false,
     "input": [
      "a = np.linspace(1., 10., 10)\n",
      "print a\n",
      "print a[2]"
     ],
     "language": "python",
     "metadata": {},
     "outputs": [
      {
       "output_type": "stream",
       "stream": "stdout",
       "text": [
        "[  1.   2.   3.   4.   5.   6.   7.   8.   9.  10.]\n",
        "3.0\n"
       ]
      }
     ],
     "prompt_number": 9
    },
    {
     "cell_type": "markdown",
     "metadata": {},
     "source": [
      "Slices also work as for lists, for example, `a[1:-1]` picks out all elements except the first and the last.\n"
     ]
    },
    {
     "cell_type": "code",
     "collapsed": false,
     "input": [
      "a = np.linspace(1., 10., 10)\n",
      "print a[1:-1]"
     ],
     "language": "python",
     "metadata": {},
     "outputs": [
      {
       "output_type": "stream",
       "stream": "stdout",
       "text": [
        "[ 2.  3.  4.  5.  6.  7.  8.  9.]\n"
       ]
      }
     ],
     "prompt_number": 10
    },
    {
     "cell_type": "markdown",
     "metadata": {},
     "source": [
      "But contrary to lists, `a[1:-1]` is **not** a copy of the data in `a`. Hence,"
     ]
    },
    {
     "cell_type": "code",
     "collapsed": false,
     "input": [
      "a = np.linspace(1., 10., 10)\n",
      "b = a[1:-1]\n",
      "print 'b=', b\n",
      "b[2] = 0.1\n",
      "print 'a=', a\n",
      "print 'a[3]=', a[3]"
     ],
     "language": "python",
     "metadata": {},
     "outputs": [
      {
       "output_type": "stream",
       "stream": "stdout",
       "text": [
        "b= [ 2.  3.  4.  5.  6.  7.  8.  9.]\n",
        "a= [  1.    2.    3.    0.1   5.    6.    7.    8.    9.   10. ]\n",
        "a[3]= 0.1\n"
       ]
      }
     ],
     "prompt_number": 11
    },
    {
     "cell_type": "markdown",
     "metadata": {},
     "source": [
      "will also change `a[3]` to 0.1.`\n",
      "\n",
      "Let `a` be an array. The statement `b = a` makes a refer to the same array as `a`. Changing `b` will then also affect `a`."
     ]
    },
    {
     "cell_type": "code",
     "collapsed": false,
     "input": [
      "a = np.linspace(1., 10., 10)\n",
      "print 'a=', a\n",
      "b = a\n",
      "b[-1] = 3000\n",
      "print 'a=', a"
     ],
     "language": "python",
     "metadata": {},
     "outputs": [
      {
       "output_type": "stream",
       "stream": "stdout",
       "text": [
        "a= [  1.   2.   3.   4.   5.   6.   7.   8.   9.  10.]\n",
        "a= [  1.00000000e+00   2.00000000e+00   3.00000000e+00   4.00000000e+00\n",
        "   5.00000000e+00   6.00000000e+00   7.00000000e+00   8.00000000e+00\n",
        "   9.00000000e+00   3.00000000e+03]\n"
       ]
      }
     ],
     "prompt_number": 12
    },
    {
     "cell_type": "markdown",
     "metadata": {},
     "source": [
      "Changing `b` without changing `a` requires `b` to be a copy of `a`:"
     ]
    },
    {
     "cell_type": "code",
     "collapsed": false,
     "input": [
      "a = np.linspace(1., 10., 10)\n",
      "print 'a=', a\n",
      "b = a.copy()\n",
      "b[-1] = 3000\n",
      "print 'b=', b\n",
      "print 'a=', a"
     ],
     "language": "python",
     "metadata": {},
     "outputs": [
      {
       "output_type": "stream",
       "stream": "stdout",
       "text": [
        "a= [  1.   2.   3.   4.   5.   6.   7.   8.   9.  10.]\n",
        "b= [  1.00000000e+00   2.00000000e+00   3.00000000e+00   4.00000000e+00\n",
        "   5.00000000e+00   6.00000000e+00   7.00000000e+00   8.00000000e+00\n",
        "   9.00000000e+00   3.00000000e+03]\n",
        "a= [  1.   2.   3.   4.   5.   6.   7.   8.   9.  10.]\n"
       ]
      }
     ],
     "prompt_number": 13
    },
    {
     "cell_type": "markdown",
     "metadata": {},
     "source": [
      "### Vectorization\n",
      "\n",
      "Loops over very long arrays may run slowly. A great advantage with arrays is that we can get rid of the loops and apply f directly to the whole array:\n"
     ]
    },
    {
     "cell_type": "code",
     "collapsed": false,
     "input": [
      "def f(x):\n",
      "    return x**3\n",
      "\n",
      "x = [1.0, 2.0, 3.0, 4.0]\n",
      "f(x)"
     ],
     "language": "python",
     "metadata": {},
     "outputs": [
      {
       "ename": "TypeError",
       "evalue": "unsupported operand type(s) for ** or pow(): 'list' and 'int'",
       "output_type": "pyerr",
       "traceback": [
        "\u001b[0;31m---------------------------------------------------------------------------\u001b[0m\n\u001b[0;31mTypeError\u001b[0m                                 Traceback (most recent call last)",
        "\u001b[0;32m<ipython-input-14-52d056f26598>\u001b[0m in \u001b[0;36m<module>\u001b[0;34m()\u001b[0m\n\u001b[1;32m      3\u001b[0m \u001b[0;34m\u001b[0m\u001b[0m\n\u001b[1;32m      4\u001b[0m \u001b[0mx\u001b[0m \u001b[0;34m=\u001b[0m \u001b[0;34m[\u001b[0m\u001b[0;36m1.0\u001b[0m\u001b[0;34m,\u001b[0m \u001b[0;36m2.0\u001b[0m\u001b[0;34m,\u001b[0m \u001b[0;36m3.0\u001b[0m\u001b[0;34m,\u001b[0m \u001b[0;36m4.0\u001b[0m\u001b[0;34m]\u001b[0m\u001b[0;34m\u001b[0m\u001b[0m\n\u001b[0;32m----> 5\u001b[0;31m \u001b[0mf\u001b[0m\u001b[0;34m(\u001b[0m\u001b[0mx\u001b[0m\u001b[0;34m)\u001b[0m\u001b[0;34m\u001b[0m\u001b[0m\n\u001b[0m",
        "\u001b[0;32m<ipython-input-14-52d056f26598>\u001b[0m in \u001b[0;36mf\u001b[0;34m(x)\u001b[0m\n\u001b[1;32m      1\u001b[0m \u001b[0;32mdef\u001b[0m \u001b[0mf\u001b[0m\u001b[0;34m(\u001b[0m\u001b[0mx\u001b[0m\u001b[0;34m)\u001b[0m\u001b[0;34m:\u001b[0m\u001b[0;34m\u001b[0m\u001b[0m\n\u001b[0;32m----> 2\u001b[0;31m     \u001b[0;32mreturn\u001b[0m \u001b[0mx\u001b[0m\u001b[0;34m**\u001b[0m\u001b[0;36m3\u001b[0m\u001b[0;34m\u001b[0m\u001b[0m\n\u001b[0m\u001b[1;32m      3\u001b[0m \u001b[0;34m\u001b[0m\u001b[0m\n\u001b[1;32m      4\u001b[0m \u001b[0mx\u001b[0m \u001b[0;34m=\u001b[0m \u001b[0;34m[\u001b[0m\u001b[0;36m1.0\u001b[0m\u001b[0;34m,\u001b[0m \u001b[0;36m2.0\u001b[0m\u001b[0;34m,\u001b[0m \u001b[0;36m3.0\u001b[0m\u001b[0;34m,\u001b[0m \u001b[0;36m4.0\u001b[0m\u001b[0;34m]\u001b[0m\u001b[0;34m\u001b[0m\u001b[0m\n\u001b[1;32m      5\u001b[0m \u001b[0mf\u001b[0m\u001b[0;34m(\u001b[0m\u001b[0mx\u001b[0m\u001b[0;34m)\u001b[0m\u001b[0;34m\u001b[0m\u001b[0m\n",
        "\u001b[0;31mTypeError\u001b[0m: unsupported operand type(s) for ** or pow(): 'list' and 'int'"
       ]
      }
     ],
     "prompt_number": 14
    },
    {
     "cell_type": "code",
     "collapsed": false,
     "input": [
      "def f(x):\n",
      "    return x**3\n",
      "\n",
      "n = 5\n",
      "x = np.linspace(0, 1, n)\n",
      "y = f(x)\n",
      "\n",
      "print x\n",
      "print y"
     ],
     "language": "python",
     "metadata": {},
     "outputs": [
      {
       "output_type": "stream",
       "stream": "stdout",
       "text": [
        "[ 0.    0.25  0.5   0.75  1.  ]\n",
        "[ 0.        0.015625  0.125     0.421875  1.      ]\n"
       ]
      }
     ],
     "prompt_number": 15
    },
    {
     "cell_type": "code",
     "collapsed": false,
     "input": [
      "n = 5\n",
      "x = np.linspace(0, 1, n)\n",
      "y = x**3\n",
      "\n",
      "print x\n",
      "print y"
     ],
     "language": "python",
     "metadata": {},
     "outputs": [
      {
       "output_type": "stream",
       "stream": "stdout",
       "text": [
        "[ 0.    0.25  0.5   0.75  1.  ]\n",
        "[ 0.        0.015625  0.125     0.421875  1.      ]\n"
       ]
      }
     ],
     "prompt_number": 16
    },
    {
     "cell_type": "markdown",
     "metadata": {},
     "source": [
      "`numpy` implements vector arithmetics for arrays of any dimension.\n",
      "\n",
      "`numpy` provides its own versions of math ematical functions like `cos`, `sin`, `exp`, `log`, etc., which work for array arguments and apply the mathematical function to each element."
     ]
    },
    {
     "cell_type": "code",
     "collapsed": false,
     "input": [
      "import math\n",
      "import numpy as np\n",
      "\n",
      "n = 5\n",
      "x = np.linspace(0, 1, n)\n",
      "r = np.zeros(len(x))\n",
      "for i in range(len(x)):\n",
      "    r[i] = math.sin(x[i])*math.cos(x[i])*math.exp(-x[i]**2) + 2 + x[i]**2\n",
      "print r"
     ],
     "language": "python",
     "metadata": {},
     "outputs": [
      {
       "output_type": "stream",
       "stream": "stdout",
       "text": [
        "[ 2.          2.28768931  2.57766913  2.84667776  3.16725591]\n"
       ]
      }
     ],
     "prompt_number": 17
    },
    {
     "cell_type": "code",
     "collapsed": false,
     "input": [
      "import numpy as np\n",
      "\n",
      "n = 5\n",
      "x = np.linspace(0, 1, n)\n",
      "r = np.zeros(len(x))\n",
      "r = np.sin(x) * np.cos(x) * np.exp(-x**2) + 2 + x**2\n",
      "print r"
     ],
     "language": "python",
     "metadata": {},
     "outputs": [
      {
       "output_type": "stream",
       "stream": "stdout",
       "text": [
        "[ 2.          2.28768931  2.57766913  2.84667776  3.16725591]\n"
       ]
      }
     ],
     "prompt_number": 18
    },
    {
     "cell_type": "markdown",
     "metadata": {},
     "source": [
      "Scalar code:"
     ]
    },
    {
     "cell_type": "code",
     "collapsed": false,
     "input": [
      "import math\n",
      "import numpy as np\n",
      "\n",
      "n = 10\n",
      "x = np.zeros(n)\n",
      "y = np.zeros(n)\n",
      "dx = 2.0/(n-1) # spacing of x coordinates\n",
      "for i in range(n):\n",
      "    x[i] = -1 + dx*i\n",
      "    y[i] = math.exp(-x[i])*x[i]\n",
      "print x\n",
      "print y"
     ],
     "language": "python",
     "metadata": {},
     "outputs": [
      {
       "output_type": "stream",
       "stream": "stdout",
       "text": [
        "[-1.         -0.77777778 -0.55555556 -0.33333333 -0.11111111  0.11111111\n",
        "  0.33333333  0.55555556  0.77777778  1.        ]\n",
        "[-2.71828183 -1.69293439 -0.96828278 -0.46520414 -0.12416879  0.09942659\n",
        "  0.23884377  0.3187519   0.3573312   0.36787944]\n"
       ]
      }
     ],
     "prompt_number": 19
    },
    {
     "cell_type": "markdown",
     "metadata": {},
     "source": [
      "Vectorized code:"
     ]
    },
    {
     "cell_type": "code",
     "collapsed": false,
     "input": [
      "import math\n",
      "import numpy as np\n",
      "\n",
      "n = 10\n",
      "x = np.linspace(-1, 1, n)\n",
      "y = np.exp(-x)*x\n",
      "\n",
      "print x\n",
      "print y"
     ],
     "language": "python",
     "metadata": {},
     "outputs": [
      {
       "output_type": "stream",
       "stream": "stdout",
       "text": [
        "[-1.         -0.77777778 -0.55555556 -0.33333333 -0.11111111  0.11111111\n",
        "  0.33333333  0.55555556  0.77777778  1.        ]\n",
        "[-2.71828183 -1.69293439 -0.96828278 -0.46520414 -0.12416879  0.09942659\n",
        "  0.23884377  0.3187519   0.3573312   0.36787944]\n"
       ]
      }
     ],
     "prompt_number": 20
    },
    {
     "cell_type": "markdown",
     "metadata": {},
     "source": [
      "List comprehensions result in scalar code:"
     ]
    },
    {
     "cell_type": "code",
     "collapsed": false,
     "input": [
      "import math\n",
      "import numpy as np\n",
      "\n",
      "n = 10\n",
      "dx = 2.0/(n-1) # spacing of x coordinates\n",
      "x = np.array([-1 + dx*i for i in range(n)])\n",
      "y = np.array([np.exp(-xi)*xi for xi in x])\n",
      "print x\n",
      "print y"
     ],
     "language": "python",
     "metadata": {},
     "outputs": [
      {
       "output_type": "stream",
       "stream": "stdout",
       "text": [
        "[-1.         -0.77777778 -0.55555556 -0.33333333 -0.11111111  0.11111111\n",
        "  0.33333333  0.55555556  0.77777778  1.        ]\n",
        "[-2.71828183 -1.69293439 -0.96828278 -0.46520414 -0.12416879  0.09942659\n",
        "  0.23884377  0.3187519   0.3573312   0.36787944]\n"
       ]
      }
     ],
     "prompt_number": 21
    },
    {
     "cell_type": "markdown",
     "metadata": {},
     "source": [
      "### `arange`\n",
      "\n",
      "`arange` creates an \u201carrange range\u201d that is similar to the `range` except it returns a numpy array and the step doesn\u2019t have to be an integer."
     ]
    },
    {
     "cell_type": "raw",
     "metadata": {},
     "source": []
    },
    {
     "cell_type": "code",
     "collapsed": false,
     "input": [
      "import numpy as np\n",
      "print np.arange(0, 1, 0.25)\n",
      "print np.arange(0, 1.01, 0.25)"
     ],
     "language": "python",
     "metadata": {},
     "outputs": [
      {
       "output_type": "stream",
       "stream": "stdout",
       "text": [
        "[ 0.    0.25  0.5   0.75]\n",
        "[ 0.    0.25  0.5   0.75  1.  ]\n"
       ]
      }
     ],
     "prompt_number": 22
    },
    {
     "cell_type": "markdown",
     "metadata": {},
     "source": [
      "### `linspace`\n",
      "\n",
      "`linspace` creates an \u201clinearly-spaced\u201d array that is similar to `arange` except instead of the step value you tell it the number of points you want. The resulting array will contain both endpoints and evenly-spaced values between those points.\n"
     ]
    },
    {
     "cell_type": "code",
     "collapsed": false,
     "input": [
      "print np.linspace(0, 1, 5)"
     ],
     "language": "python",
     "metadata": {},
     "outputs": [
      {
       "output_type": "stream",
       "stream": "stdout",
       "text": [
        "[ 0.    0.25  0.5   0.75  1.  ]\n"
       ]
      }
     ],
     "prompt_number": 23
    },
    {
     "cell_type": "markdown",
     "metadata": {},
     "source": [
      "### `logspace`\n",
      "\n",
      "`logspace` is like `linspace` but the values are spaced so that they are evenly distributed on a logarithmic scale. The stop and start values should be given as the powers of 10 that are desired."
     ]
    },
    {
     "cell_type": "code",
     "collapsed": false,
     "input": [
      "print np.logspace(0, 3, 4)\n",
      "print np.logspace(1, 3, 4)"
     ],
     "language": "python",
     "metadata": {},
     "outputs": [
      {
       "output_type": "stream",
       "stream": "stdout",
       "text": [
        "[    1.    10.   100.  1000.]\n",
        "[   10.            46.41588834   215.443469    1000.        ]\n"
       ]
      }
     ],
     "prompt_number": 24
    },
    {
     "cell_type": "markdown",
     "metadata": {},
     "source": [
      "### `zeros`\n",
      "\n",
      "`zeros(shape, dtype=float, order='C')` \n",
      "\n",
      "Return a new array of given shape and type, filled with zeros."
     ]
    },
    {
     "cell_type": "code",
     "collapsed": false,
     "input": [
      "print np.zeros(5)"
     ],
     "language": "python",
     "metadata": {},
     "outputs": [
      {
       "output_type": "stream",
       "stream": "stdout",
       "text": [
        "[ 0.  0.  0.  0.  0.]\n"
       ]
      }
     ],
     "prompt_number": 25
    },
    {
     "cell_type": "code",
     "collapsed": false,
     "input": [
      "print np.zeros(5, dtype=np.int)"
     ],
     "language": "python",
     "metadata": {},
     "outputs": [
      {
       "output_type": "stream",
       "stream": "stdout",
       "text": [
        "[0 0 0 0 0]\n"
       ]
      }
     ],
     "prompt_number": 26
    },
    {
     "cell_type": "markdown",
     "metadata": {},
     "source": [
      "### `ones`\n",
      "\n",
      "`ones(shape, dtype=None, order='C')` \n",
      "\n",
      "Return a new array of given shape and type, filled with ones."
     ]
    },
    {
     "cell_type": "code",
     "collapsed": false,
     "input": [
      "print np.ones(5)"
     ],
     "language": "python",
     "metadata": {},
     "outputs": [
      {
       "output_type": "stream",
       "stream": "stdout",
       "text": [
        "[ 1.  1.  1.  1.  1.]\n"
       ]
      }
     ],
     "prompt_number": 27
    },
    {
     "cell_type": "code",
     "collapsed": false,
     "input": [
      "print np.ones(5, dtype=np.int)"
     ],
     "language": "python",
     "metadata": {},
     "outputs": [
      {
       "output_type": "stream",
       "stream": "stdout",
       "text": [
        "[1 1 1 1 1]\n"
       ]
      }
     ],
     "prompt_number": 28
    },
    {
     "cell_type": "markdown",
     "metadata": {},
     "source": [
      "### `zeros_like`\n",
      "\n",
      "`zeros_like(a, dtype=None, order='K', subok=True)` \n",
      "\n",
      "Return an array of zeros with the same shape and type as a given array.\n"
     ]
    },
    {
     "cell_type": "code",
     "collapsed": false,
     "input": [
      "x = np.arange(6)\n",
      "y = np.zeros_like(x)\n",
      "print x\n",
      "print y"
     ],
     "language": "python",
     "metadata": {},
     "outputs": [
      {
       "output_type": "stream",
       "stream": "stdout",
       "text": [
        "[0 1 2 3 4 5]\n",
        "[0 0 0 0 0 0]\n"
       ]
      }
     ],
     "prompt_number": 29
    },
    {
     "cell_type": "markdown",
     "metadata": {},
     "source": [
      "### `ones_like`\n",
      "\n",
      "`ones_like(a, dtype=None, order='K', subok=True)`\n",
      "\n",
      "Return an array of ones with the same shape and type as a given array."
     ]
    },
    {
     "cell_type": "code",
     "collapsed": false,
     "input": [
      "x = np.arange(6)\n",
      "y = np.ones_like(x)\n",
      "print x\n",
      "print y"
     ],
     "language": "python",
     "metadata": {},
     "outputs": [
      {
       "output_type": "stream",
       "stream": "stdout",
       "text": [
        "[0 1 2 3 4 5]\n",
        "[1 1 1 1 1 1]\n"
       ]
      }
     ],
     "prompt_number": 30
    },
    {
     "cell_type": "code",
     "collapsed": false,
     "input": [],
     "language": "python",
     "metadata": {},
     "outputs": [],
     "prompt_number": 30
    }
   ],
   "metadata": {}
  }
 ]
}