{
 "metadata": {
  "name": "",
  "signature": "sha256:1939c7c89ef2c2e7689597dcb1370c3120ca997502caeba8a5e140a3b865aa72"
 },
 "nbformat": 3,
 "nbformat_minor": 0,
 "worksheets": [
  {
   "cells": [
    {
     "cell_type": "markdown",
     "metadata": {},
     "source": [
      "# License\n",
      "\n",
      "This IPython Notebook is released under the [Creative Commons Attribution-NonCommercial 3.0 Unported License](http://creativecommons.org/licenses/by-nc/3.0/)"
     ]
    },
    {
     "cell_type": "markdown",
     "metadata": {},
     "source": [
      "****"
     ]
    },
    {
     "cell_type": "markdown",
     "metadata": {},
     "source": [
      "## Numerical error\n",
      "\n",
      "Floating-point numbers have limited precision. In Python the standard level of precision is 16 significant digits."
     ]
    },
    {
     "cell_type": "code",
     "collapsed": false,
     "input": [
      "import math"
     ],
     "language": "python",
     "metadata": {},
     "outputs": [],
     "prompt_number": 1
    },
    {
     "cell_type": "code",
     "collapsed": false,
     "input": [
      "math.pi"
     ],
     "language": "python",
     "metadata": {},
     "outputs": [
      {
       "metadata": {},
       "output_type": "pyout",
       "prompt_number": 2,
       "text": [
        "3.141592653589793"
       ]
      }
     ],
     "prompt_number": 2
    },
    {
     "cell_type": "code",
     "collapsed": false,
     "input": [
      "import sympy"
     ],
     "language": "python",
     "metadata": {},
     "outputs": [],
     "prompt_number": 3
    },
    {
     "cell_type": "code",
     "collapsed": false,
     "input": [
      "sympy.pi"
     ],
     "language": "python",
     "metadata": {},
     "outputs": [
      {
       "metadata": {},
       "output_type": "pyout",
       "prompt_number": 4,
       "text": [
        "pi"
       ]
      }
     ],
     "prompt_number": 4
    },
    {
     "cell_type": "code",
     "collapsed": false,
     "input": [
      "sympy.pi.evalf(32)-math.pi"
     ],
     "language": "python",
     "metadata": {},
     "outputs": [
      {
       "metadata": {},
       "output_type": "pyout",
       "prompt_number": 5,
       "text": [
        "1.2246467991473531763588849192626e-16"
       ]
      }
     ],
     "prompt_number": 5
    },
    {
     "cell_type": "markdown",
     "metadata": {},
     "source": [
      "The difference between the true value of a number and its value on the com- puter is called the **rounding error** on the number."
     ]
    },
    {
     "cell_type": "code",
     "collapsed": false,
     "input": [
      "x = 3.299999999999999"
     ],
     "language": "python",
     "metadata": {},
     "outputs": [],
     "prompt_number": 6
    },
    {
     "cell_type": "code",
     "collapsed": false,
     "input": [
      "if x == 3.3:\n",
      "    print x"
     ],
     "language": "python",
     "metadata": {},
     "outputs": [],
     "prompt_number": 7
    },
    {
     "cell_type": "markdown",
     "metadata": {},
     "source": [
      "If you need to test the equality of floats, you should do"
     ]
    },
    {
     "cell_type": "code",
     "collapsed": false,
     "input": [
      "x = 3.299999999999999\n",
      "\n",
      "epsilon = 1e-12\n",
      "if abs(x-3.3)<epsilon:\n",
      "    print(x)"
     ],
     "language": "python",
     "metadata": {},
     "outputs": [
      {
       "output_type": "stream",
       "stream": "stdout",
       "text": [
        "3.3\n"
       ]
      }
     ],
     "prompt_number": 8
    },
    {
     "cell_type": "markdown",
     "metadata": {},
     "source": [
      "The value of `epsilon` has to be chosen appropriately for the situation."
     ]
    },
    {
     "cell_type": "markdown",
     "metadata": {},
     "source": [
      "The **rounding error** $\\epsilon$ on a number is defined to be difference between the computer value and true value.\n",
      "\n",
      "For example"
     ]
    },
    {
     "cell_type": "code",
     "collapsed": false,
     "input": [
      "x = math.sqrt(2)"
     ],
     "language": "python",
     "metadata": {},
     "outputs": [],
     "prompt_number": 9
    },
    {
     "cell_type": "markdown",
     "metadata": {},
     "source": [
      "Due to the finite precision, we will have $x+\\epsilon=\\sqrt{2}$ or $\\sqrt{2}=x-\\epsilon$, where $\\epsilon$ is the rounding error."
     ]
    },
    {
     "cell_type": "code",
     "collapsed": false,
     "input": [
      "epsilon = sympy.sqrt(2)-x"
     ],
     "language": "python",
     "metadata": {},
     "outputs": [],
     "prompt_number": 10
    },
    {
     "cell_type": "code",
     "collapsed": false,
     "input": [
      "print epsilon.evalf(32)"
     ],
     "language": "python",
     "metadata": {},
     "outputs": [
      {
       "output_type": "stream",
       "stream": "stdout",
       "text": [
        "-9.6672933134529130371871688598256e-17\n"
       ]
      }
     ],
     "prompt_number": 11
    },
    {
     "cell_type": "markdown",
     "metadata": {},
     "source": [
      "It\u2019s usually a good assumption to consider the error to be a random number with standard deviation $\\sigma = C x$, where $C \\approx 10^{\u221216}$ in this case. We will refer to the constant $C$ as the **error constant**."
     ]
    },
    {
     "cell_type": "markdown",
     "metadata": {},
     "source": [
      "### Error propogatation\n",
      "\n",
      "If we add or subtract two numbers $x_1$ and $x_2$, with standard deviations $\\sigma_1$ and $\\sigma_2$, then the error on the sum or difference $x = x_1 \\pm x_2$ is $\\sigma$, where\n",
      "\n",
      "\n",
      "$$\n",
      "  \\sigma^2 = \\sigma^2_1 + \\sigma^2_2\n",
      "$$\n",
      "\n",
      "Assume $\\sigma_i = C x_i$ one has\n",
      "\n",
      "$$\n",
      "  \\sigma = C \\sqrt{x^2_1+x^2_2}\n",
      "$$\n",
      "\n",
      "If we  multiply or divide two numbers $x_1$ and $x_2$ then one has\n",
      "\n",
      "$$\n",
      "  \\frac{\\sigma^2}{x^2}  = \\frac{\\sigma^2_1}{x^2_1}  + \\frac{\\sigma^2_2}{x^2_2} = \\sqrt{2} Cx\n",
      "$$"
     ]
    },
    {
     "cell_type": "markdown",
     "metadata": {},
     "source": [
      "### Subtracting numbers"
     ]
    },
    {
     "cell_type": "code",
     "collapsed": false,
     "input": [
      "x = 1000000000000000\n",
      "y = 1000000000000001.2345678901234\n",
      "zp = 1.2345678901234\n",
      "print x\n",
      "print y\n",
      "\n",
      "z = y - x\n",
      "print z\n",
      "print zp\n",
      "print (z-zp),(z-zp)/zp"
     ],
     "language": "python",
     "metadata": {},
     "outputs": [
      {
       "output_type": "stream",
       "stream": "stdout",
       "text": [
        "1000000000000000\n",
        "1e+15\n",
        "1.25\n",
        "1.23456789012\n",
        "0.0154321098766 0.0125000091125\n"
       ]
      }
     ],
     "prompt_number": 12
    },
    {
     "cell_type": "markdown",
     "metadata": {},
     "source": [
      "If the difference between two numbers is very small, comparable with the error on the numbers, i.e., with the accuracy of the computer, then the fractional error can become large and you may have a problem."
     ]
    },
    {
     "cell_type": "markdown",
     "metadata": {},
     "source": [
      "### The difference between two numbers\n",
      "\n",
      "Consider the two numbers\n",
      "\n",
      "$$\n",
      "  x = 1, \\; y = 1+10^{-14}\\sqrt{2} \n",
      "$$\n",
      "so that\n",
      "\n",
      "$$\n",
      "  10^{14}(y-x)=\\sqrt{2}\n",
      "$$"
     ]
    },
    {
     "cell_type": "code",
     "collapsed": false,
     "input": [
      "x = 1.0\n",
      "y = 1.0 + (1e-14)*math.sqrt(2)\n",
      "print((1e14)*(y-x))\n",
      "print(math.sqrt(2))"
     ],
     "language": "python",
     "metadata": {},
     "outputs": [
      {
       "output_type": "stream",
       "stream": "stdout",
       "text": [
        "1.42108547152\n",
        "1.41421356237\n"
       ]
      }
     ],
     "prompt_number": 13
    },
    {
     "cell_type": "markdown",
     "metadata": {},
     "source": [
      "The calculation is accurate to only the **first decimal place**!"
     ]
    },
    {
     "cell_type": "code",
     "collapsed": false,
     "input": [],
     "language": "python",
     "metadata": {},
     "outputs": [],
     "prompt_number": 13
    }
   ],
   "metadata": {}
  }
 ]
}