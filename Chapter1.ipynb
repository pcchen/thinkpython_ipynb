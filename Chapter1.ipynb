{
 "metadata": {
  "name": "",
  "signature": "sha256:8a5d9db84222b9892fa75ad8cd8936cc60e6a9dd2fdd13688bff77d3281050c0"
 },
 "nbformat": 3,
 "nbformat_minor": 0,
 "worksheets": [
  {
   "cells": [
    {
     "cell_type": "markdown",
     "metadata": {},
     "source": [
      "# License\n",
      "\n",
      "This IPython Notebook is released under the [Creative Commons Attribution-NonCommercial 3.0 Unported License](http://creativecommons.org/licenses/by-nc/3.0/)\n",
      "\n",
      "This IPython Notebook is based on [Think Python: How to Think Like a Computer Scientist](http://www.greenteapress.com/thinkpython/) by Allen B. Downey. It is available under the [Creative Commons Attribution-NonCommercial 3.0 Unported License](http://creativecommons.org/licenses/by-nc/3.0/)"
     ]
    },
    {
     "cell_type": "markdown",
     "metadata": {},
     "source": [
      "****"
     ]
    },
    {
     "cell_type": "markdown",
     "metadata": {},
     "source": [
      "# Chapter 1  The way of the program"
     ]
    },
    {
     "cell_type": "markdown",
     "metadata": {},
     "source": [
      "The single most important skill for a computer scientist is **problem solving**. \n",
      "* The ability to formulate problems, think creatively about solutions, and express a solution clearly and accurately. \n",
      "* The process of learning to program is an excellent opportunity to practice problem-solving skills. "
     ]
    },
    {
     "cell_type": "markdown",
     "metadata": {},
     "source": [
      "****"
     ]
    },
    {
     "cell_type": "markdown",
     "metadata": {},
     "source": [
      "## 1.1  The Python programming language\n",
      "\n",
      "* High-level language:\n",
      " * Python, Perl, PHP, Jave, C, C++, \u00b7 \u00b7 \u00b7 .\n",
      " * Have to be processed before they can run.\n",
      " * Easier to program and portable.\n",
      " \n",
      "* Low-level language:\n",
      " * \u201cmachine languages\u201d or \u201cassembly languages\u201d.\n",
      " * Can be run directly on computers. Difficult to write and not portable."
     ]
    },
    {
     "cell_type": "markdown",
     "metadata": {},
     "source": [
      "### Interpreters and Compilers\n",
      "\n",
      "Two kinds of programs process high-level languages into low-level languages: **interpreters** and **compilers**.\n",
      "\n",
      "* An interpreter reads a high-level program and executes it, meaning that it does what the program says. \n",
      "  * It processes the program a little at a time, alternately reading lines and performing computations.\n",
      "\n",
      "<img src=\"files/figs/interpret.png\" height=\"300\" >\n",
      "\n",
      "* A compiler reads the program and translates it completely before the program starts running. \n",
      "  * The high-level program is called the **source code**, and the translated program is called the **object code** or the **executable**. \n",
      "  * Once a program is compiled, you can execute it repeatedly without further translation.\n",
      "\n",
      "<img src=\"files/figs/compile.png\" height=\"300\" >"
     ]
    },
    {
     "cell_type": "markdown",
     "metadata": {},
     "source": [
      "### Python as an interpreted language\n",
      "\n",
      "Python is considered an interpreted language because Python programs are executed by an interpreter. \n",
      "* There are two ways to use the interpreter: **interactive mode** and **script mode**. \n",
      "\n",
      "In interactive mode, you type Python programs and the interpreter displays the result:\n",
      "\n",
      "```>>> 1 + 1\n",
      "2```\n",
      "\n",
      "The chevron, `>>>`, is the **prompt** the interpreter uses to indicate that it is ready. \n",
      "* If you type 1 + 1, the interpreter replies 2.\n",
      "\n",
      "In script mode, you store code in a file and use the interpreter to execute the contents of the file, which is called a script. * By convention, Python scripts have names that end with .py."
     ]
    },
    {
     "cell_type": "markdown",
     "metadata": {},
     "source": [
      "****"
     ]
    },
    {
     "cell_type": "markdown",
     "metadata": {},
     "source": [
      "## [PEP 20 - PEP 20 -- The Zen of Python](https://www.python.org/dev/peps/pep-0020/)\n",
      "\n",
      "The Zen of Python\n",
      "\n",
      "    Beautiful is better than ugly.\n",
      "    Explicit is better than implicit.\n",
      "    Simple is better than complex.\n",
      "    Complex is better than complicated.\n",
      "    Flat is better than nested.\n",
      "    Sparse is better than dense.\n",
      "    Readability counts.\n",
      "    Special cases aren't special enough to break the rules.\n",
      "    Although practicality beats purity.\n",
      "    Errors should never pass silently.\n",
      "    Unless explicitly silenced.\n",
      "    In the face of ambiguity, refuse the temptation to guess.\n",
      "    There should be one-- and preferably only one --obvious way to do it.\n",
      "    Although that way may not be obvious at first unless you're Dutch.\n",
      "    Now is better than never.\n",
      "    Although never is often better than *right* now.\n",
      "    If the implementation is hard to explain, it's a bad idea.\n",
      "    If the implementation is easy to explain, it may be a good idea.\n",
      "    Namespaces are one honking great idea -- let's do more of those!"
     ]
    },
    {
     "cell_type": "markdown",
     "metadata": {},
     "source": [
      "****"
     ]
    },
    {
     "cell_type": "markdown",
     "metadata": {},
     "source": [
      "## 1.2  What is a program?"
     ]
    },
    {
     "cell_type": "markdown",
     "metadata": {},
     "source": [
      "A **program** is a sequence of instructions that specifies how to perform a computation. \n",
      "\n",
      "The details look different in different languages, but a few basic instructions appear in just about every language:\n",
      "\n",
      "* **input:**\n",
      " * Get data from the keyboard, a file, or some other device.\n",
      "* **output:**\n",
      " * Display data on the screen or send data to a file or other device.\n",
      "* **math:**\n",
      " * Perform basic mathematical operations like addition and multiplication.\n",
      "* **conditional execution:**\n",
      " * Check for certain conditions and execute the appropriate code.\n",
      "* **repetition:**\n",
      " * Perform some action repeatedly, usually with some variation.\n",
      " \n",
      "we will come back to this topic when we talk about **algorithms**."
     ]
    },
    {
     "cell_type": "markdown",
     "metadata": {},
     "source": [
      "****"
     ]
    },
    {
     "cell_type": "markdown",
     "metadata": {},
     "source": [
      "## 1.3  What is debugging?\n",
      "\n",
      "Programming is error-prone. \n",
      "* Programming errors are called **bugs** a\n",
      "* Process of tracking them down is called **debugging**.\n",
      "\n",
      "Three kinds of errors can occur in a program: \n",
      "* syntax errors.\n",
      "* runtime errors. \n",
      "* semantic errors. \n",
      "\n",
      "It is useful to distinguish between them in order to track them down more quickly."
     ]
    },
    {
     "cell_type": "markdown",
     "metadata": {},
     "source": [
      "### 1.3.1  Syntax errors\n",
      "\n",
      "Python can only execute a program if the syntax is correct; otherwise, the interpreter displays an error message. \n",
      "* Syntax refers to the structure of a program and the rules about that structure. \n",
      "* For example, parentheses have to come in matching pairs, \n",
      " * `(1 + 2)` is legal.\n",
      " * `8)` is a **syntax error**."
     ]
    },
    {
     "cell_type": "markdown",
     "metadata": {},
     "source": [
      "### 1.3.2  Runtime errors\n",
      "\n",
      "The second type of error is a runtime error, so called because the error does not appear until after the program has started running. \n",
      "* These errors are also called **exceptions** because they usually indicate that something exceptional (and bad) has happened.\n",
      "\n",
      "Runtime errors are rare in the simple programs you will see in the first few chapters, so it might be a while before you encounter one."
     ]
    },
    {
     "cell_type": "markdown",
     "metadata": {},
     "source": [
      "### 1.3.3  Semantic errors\n",
      "\n",
      "The third type of error is the **semantic error**. \n",
      "* The program will run successfully in the sense that the computer will not generate any error messages.\n",
      "* The program will not do the right thing. It will do something else.\n",
      "\n",
      "The problem is that the program you wrote is not the program you wanted to write. \n",
      "* The meaning of the program (its semantics) is wrong. \n",
      "* Identifying semantic errors can be tricky because it requires you to work backward by looking at the output of the program and trying to figure out what it is doing."
     ]
    },
    {
     "cell_type": "markdown",
     "metadata": {},
     "source": [
      "### 1.3.4  Experimental debugging\n",
      "\n",
      "** One of the most important skills:**\n",
      "\n",
      "* Although it can be frustrating, debugging is one of the most intellectually rich, challenging, and interesting parts of programming.\n",
      "\n",
      "** Debugging is like detective work:**\n",
      "\n",
      "* You are confronted with clues, and you have to infer the processes and events that led to the results you see.\n",
      "\n",
      "** Debugging is like an experimental science:**\n",
      "\n",
      "* Once you have an idea about what is going wrong, you modify your program and try again. \n",
      "* If your hypothesis was correct, then you can predict the result of the modification, and you take a step closer to a working program.\n",
      "\n",
      "**Programming** is the process of gradually debugging a program until it does what you want!"
     ]
    },
    {
     "cell_type": "markdown",
     "metadata": {},
     "source": [
      "****"
     ]
    },
    {
     "cell_type": "markdown",
     "metadata": {},
     "source": [
      "## 1.4  Formal and natural languages\n",
      "\n",
      "**Natural languages** are the languages people speak, such as English, Spanish, and French. \n",
      "\n",
      "* They were not designed by people (although people try to impose some order on them).\n",
      "* They evolved naturally.\n",
      "\n",
      "**Formal languages** are languages that are designed by people for specific applications. \n",
      "\n",
      "* The notation that mathematicians use is a formal language that is particularly good at denoting relationships among numbers and symbols. \n",
      "* Chemists use a formal language to represent the chemical structure of molecules. \n",
      "\n",
      "\n",
      "> **Programming languages are formal languages that have been designed to express computations.**\n",
      "\n",
      "Formal languages tend to have strict rules about syntax. \n",
      "\n",
      "* `3 + 3 = 6` is a syntactically correct mathematical statement, but `3 + = 3 $ 6` is not.\n",
      "* $H_2O$ is a syntactically correct chemical formula, but $_2Zz$ is not.\n",
      "\n",
      "Syntax rules come in two flavors, pertaining to **tokens** and **structure**. \n",
      "* Tokens are the basic elements of the language, such as words, numbers, and chemical elements. \n",
      " * One of the problems with `3 + = 3 $ 6` is that `$` is not a legal token in mathematics. \n",
      " * Similarly, $_2Zz$ is not legal because there is no element with the abbreviation $Zz$.\n",
      "* The second type of syntax rule pertains to the structure of a statement; that is, the way the tokens are arranged. \n",
      " * The statement `3 + = 3` is illegal because even though `+` and `=` are legal tokens, you can\u2019t have one right after the other. \n",
      " * Similarly, in a chemical formula the subscript comes after the element name, not before."
     ]
    },
    {
     "cell_type": "markdown",
     "metadata": {},
     "source": [
      "### Exercise 1.1  \n",
      "*Write a well-structured English sentence with invalid tokens in it. Then write another sentence with all valid tokens but with invalid structure.*"
     ]
    },
    {
     "cell_type": "markdown",
     "metadata": {},
     "source": [
      "When you read a sentence in English or a statement in a formal language, you have to figure out what the structure of the sentence is (although in a natural language you do this subconsciously). This process is called **parsing**.\n",
      "\n",
      "For example, when you hear the sentence, \u201cThe penny dropped,\u201d you understand that \u201cthe penny\u201d is the subject and \u201cdropped\u201d is the predicate. Once you have parsed a sentence, you can figure out what it means, or the semantics of the sentence. Assuming that you know what a penny is and what it means to drop, you will understand the general implication of this sentence."
     ]
    },
    {
     "cell_type": "markdown",
     "metadata": {},
     "source": [
      "****"
     ]
    },
    {
     "cell_type": "markdown",
     "metadata": {},
     "source": [
      "## 1.5  The first program"
     ]
    },
    {
     "cell_type": "markdown",
     "metadata": {},
     "source": [
      "Traditionally, the first program you write in a new language is called \u201cHello, World!\u201d because all it does is display the words \u201cHello, World!\u201d. In Python, it looks like this:"
     ]
    },
    {
     "cell_type": "code",
     "collapsed": false,
     "input": [
      "print 'Hello, World'"
     ],
     "language": "python",
     "metadata": {},
     "outputs": [
      {
       "output_type": "stream",
       "stream": "stdout",
       "text": [
        "Hello, World\n"
       ]
      }
     ],
     "prompt_number": 1
    },
    {
     "cell_type": "markdown",
     "metadata": {},
     "source": [
      "This is an example of a **print statement**, which doesn\u2019t actually print anything on paper. It displays a value on the screen.\n",
      "\n",
      "The quotation marks in the program mark the beginning and end of the text to be displayed; they don\u2019t appear in the result."
     ]
    },
    {
     "cell_type": "markdown",
     "metadata": {},
     "source": [
      "****"
     ]
    },
    {
     "cell_type": "markdown",
     "metadata": {},
     "source": [
      "## 1.6  Debugging\n",
      "\n",
      "Whenever you are experimenting with a new feature, you should try to make mistakes. \n",
      "\n",
      "For example, in the \u201cHello, world!\u201d program, \n",
      "* What happens if you leave out one of the quotation marks? \n",
      "* What if you leave out both? \n",
      "* What if you spell print wrong?"
     ]
    },
    {
     "cell_type": "code",
     "collapsed": false,
     "input": [
      "# What happens if you leave out one of the quotation marks? \n",
      "print 'Hello, World"
     ],
     "language": "python",
     "metadata": {},
     "outputs": [
      {
       "ename": "SyntaxError",
       "evalue": "EOL while scanning string literal (<ipython-input-2-182a894b53b9>, line 2)",
       "output_type": "pyerr",
       "traceback": [
        "\u001b[0;36m  File \u001b[0;32m\"<ipython-input-2-182a894b53b9>\"\u001b[0;36m, line \u001b[0;32m2\u001b[0m\n\u001b[0;31m    print 'Hello, World\u001b[0m\n\u001b[0m                      ^\u001b[0m\n\u001b[0;31mSyntaxError\u001b[0m\u001b[0;31m:\u001b[0m EOL while scanning string literal\n"
       ]
      }
     ],
     "prompt_number": 2
    },
    {
     "cell_type": "code",
     "collapsed": false,
     "input": [
      "# What happens if you leave out one of the quotation marks? \n",
      "print Hello, World'"
     ],
     "language": "python",
     "metadata": {},
     "outputs": [
      {
       "ename": "SyntaxError",
       "evalue": "EOL while scanning string literal (<ipython-input-3-e39ca9eb4b65>, line 2)",
       "output_type": "pyerr",
       "traceback": [
        "\u001b[0;36m  File \u001b[0;32m\"<ipython-input-3-e39ca9eb4b65>\"\u001b[0;36m, line \u001b[0;32m2\u001b[0m\n\u001b[0;31m    print Hello, World'\u001b[0m\n\u001b[0m                      ^\u001b[0m\n\u001b[0;31mSyntaxError\u001b[0m\u001b[0;31m:\u001b[0m EOL while scanning string literal\n"
       ]
      }
     ],
     "prompt_number": 3
    },
    {
     "cell_type": "code",
     "collapsed": false,
     "input": [
      "# What if you leave out both?\n",
      "print Hello, World"
     ],
     "language": "python",
     "metadata": {},
     "outputs": [
      {
       "ename": "NameError",
       "evalue": "name 'Hello' is not defined",
       "output_type": "pyerr",
       "traceback": [
        "\u001b[0;31m---------------------------------------------------------------------------\u001b[0m\n\u001b[0;31mNameError\u001b[0m                                 Traceback (most recent call last)",
        "\u001b[0;32m<ipython-input-4-f07c25330732>\u001b[0m in \u001b[0;36m<module>\u001b[0;34m()\u001b[0m\n\u001b[1;32m      1\u001b[0m \u001b[0;31m# What if you leave out both?\u001b[0m\u001b[0;34m\u001b[0m\u001b[0;34m\u001b[0m\u001b[0m\n\u001b[0;32m----> 2\u001b[0;31m \u001b[0;32mprint\u001b[0m \u001b[0mHello\u001b[0m\u001b[0;34m,\u001b[0m \u001b[0mWorld\u001b[0m\u001b[0;34m\u001b[0m\u001b[0m\n\u001b[0m",
        "\u001b[0;31mNameError\u001b[0m: name 'Hello' is not defined"
       ]
      }
     ],
     "prompt_number": 4
    },
    {
     "cell_type": "code",
     "collapsed": false,
     "input": [
      "# What if you spell print wrong?\n",
      "prlnt 'Hello, World'"
     ],
     "language": "python",
     "metadata": {},
     "outputs": [
      {
       "ename": "SyntaxError",
       "evalue": "invalid syntax (<ipython-input-5-16b6085e3c66>, line 2)",
       "output_type": "pyerr",
       "traceback": [
        "\u001b[0;36m  File \u001b[0;32m\"<ipython-input-5-16b6085e3c66>\"\u001b[0;36m, line \u001b[0;32m2\u001b[0m\n\u001b[0;31m    prlnt 'Hello, World'\u001b[0m\n\u001b[0m                       ^\u001b[0m\n\u001b[0;31mSyntaxError\u001b[0m\u001b[0;31m:\u001b[0m invalid syntax\n"
       ]
      }
     ],
     "prompt_number": 5
    },
    {
     "cell_type": "markdown",
     "metadata": {},
     "source": [
      "This kind of experiment helps you remember what you read; it also helps with debugging, because you get to know what the error messages mean. It is better to make mistakes now and on purpose than later and accidentally.\n",
      "\n",
      "Programming, and especially debugging, sometimes brings out strong emotions. If you are struggling with a difficult bug, you might feel angry, despondent or embarrassed.\n",
      "\n",
      "There is evidence that people naturally respond to computers as if they were people. When they work well, we think of them as teammates, and when they are obstinate or rude, we respond to them the same way we respond to rude, obstinate people (Reeves and Nass, The Media Equation: How People Treat Computers, Television, and New Media Like Real People and Places).\n",
      "\n",
      "Preparing for these reactions might help you deal with them. One approach is to think of the computer as an employee with certain strengths, like speed and precision, and particular weaknesses, like lack of empathy and inability to grasp the big picture.\n",
      "\n",
      "Your job is to be a good manager: find ways to take advantage of the strengths and mitigate the weaknesses. And find ways to use your emotions to engage with the problem, without letting your reactions interfere with your ability to work effectively.\n",
      "\n",
      "Learning to debug can be frustrating, but it is a valuable skill that is useful for many activities beyond programming. At the end of each chapter there is a debugging section, like this one, with my thoughts about debugging. I hope they help!"
     ]
    },
    {
     "cell_type": "markdown",
     "metadata": {},
     "source": [
      "****"
     ]
    },
    {
     "cell_type": "markdown",
     "metadata": {},
     "source": [
      "## 1.8  Exercises"
     ]
    },
    {
     "cell_type": "markdown",
     "metadata": {},
     "source": [
      "### Exercise 1.2  \n",
      "\n",
      "*Use a web browser to go to the Python website http://python.org. This page contains information about Python and links to Python-related pages, and it gives you the ability to search the Python documentation.*\n",
      "\n",
      "*For example, if you enter print in the search window, the first link that appears is the documentation of the print statement. At this point, not all of it will make sense to you, but it is good to know where it is.*"
     ]
    },
    {
     "cell_type": "markdown",
     "metadata": {},
     "source": [
      "### Exercise 1.3  \n",
      "\n",
      "*Start the Python interpreter and type `help()` to start the online help utility. Or you can type `help('print')` to get information about the print statement.*\n",
      "\n",
      "If this example doesn\u2019t work, you may need to install additional Python documentation or set an environment variable; the details depend on your operating system and version of Python."
     ]
    },
    {
     "cell_type": "code",
     "collapsed": false,
     "input": [
      "help()"
     ],
     "language": "python",
     "metadata": {},
     "outputs": [
      {
       "output_type": "stream",
       "stream": "stdout",
       "text": [
        "\n",
        "Welcome to Python 2.7!  This is the online help utility.\n",
        "\n",
        "If this is your first time using Python, you should definitely check out\n",
        "the tutorial on the Internet at http://docs.python.org/2.7/tutorial/.\n",
        "\n",
        "Enter the name of any module, keyword, or topic to get help on writing\n",
        "Python programs and using Python modules.  To quit this help utility and\n",
        "return to the interpreter, just type \"quit\".\n",
        "\n",
        "To get a list of available modules, keywords, or topics, type \"modules\",\n",
        "\"keywords\", or \"topics\".  Each module also comes with a one-line summary\n",
        "of what it does; to list the modules whose summaries contain a given word\n",
        "such as \"spam\", type \"modules spam\".\n",
        "\n"
       ]
      },
      {
       "name": "stdout",
       "output_type": "stream",
       "stream": "stdout",
       "text": [
        "help> \n"
       ]
      },
      {
       "output_type": "stream",
       "stream": "stdout",
       "text": [
        "\n",
        "You are now leaving help and returning to the Python interpreter.\n",
        "If you want to ask for help on a particular object directly from the\n",
        "interpreter, you can type \"help(object)\".  Executing \"help('string')\"\n",
        "has the same effect as typing a particular string at the help> prompt.\n"
       ]
      }
     ],
     "prompt_number": 6
    },
    {
     "cell_type": "code",
     "collapsed": false,
     "input": [
      "help('print')"
     ],
     "language": "python",
     "metadata": {},
     "outputs": [
      {
       "output_type": "stream",
       "stream": "stdout",
       "text": [
        "The \"print\" statement\n",
        "*********************\n",
        "\n",
        "   print_stmt ::= \"print\" ([expression (\",\" expression)* [\",\"]]\n",
        "                  | \">>\" expression [(\",\" expression)+ [\",\"]])\n",
        "\n",
        "\"print\" evaluates each expression in turn and writes the resulting\n",
        "object to standard output (see below).  If an object is not a string,\n",
        "it is first converted to a string using the rules for string\n",
        "conversions.  The (resulting or original) string is then written.  A\n",
        "space is written before each object is (converted and) written, unless\n",
        "the output system believes it is positioned at the beginning of a\n",
        "line.  This is the case (1) when no characters have yet been written\n",
        "to standard output, (2) when the last character written to standard\n",
        "output is a whitespace character except \"' '\", or (3) when the last\n",
        "write operation on standard output was not a \"print\" statement. (In\n",
        "some cases it may be functional to write an empty string to standard\n",
        "output for this reason.)\n",
        "\n",
        "Note: Objects which act like file objects but which are not the\n",
        "  built-in file objects often do not properly emulate this aspect of\n",
        "  the file object's behavior, so it is best not to rely on this.\n",
        "\n",
        "A \"'\\n'\" character is written at the end, unless the \"print\" statement\n",
        "ends with a comma.  This is the only action if the statement contains\n",
        "just the keyword \"print\".\n",
        "\n",
        "Standard output is defined as the file object named \"stdout\" in the\n",
        "built-in module \"sys\".  If no such object exists, or if it does not\n",
        "have a \"write()\" method, a \"RuntimeError\" exception is raised.\n",
        "\n",
        "\"print\" also has an extended form, defined by the second portion of\n",
        "the syntax described above. This form is sometimes referred to as\n",
        "\"\"print\" chevron.\" In this form, the first expression after the \">>\"\n",
        "must evaluate to a \"file-like\" object, specifically an object that has\n",
        "a \"write()\" method as described above.  With this extended form, the\n",
        "subsequent expressions are printed to this file object.  If the first\n",
        "expression evaluates to \"None\", then \"sys.stdout\" is used as the file\n",
        "for output.\n",
        "\n"
       ]
      }
     ],
     "prompt_number": 7
    },
    {
     "cell_type": "markdown",
     "metadata": {},
     "source": [
      "### Exercise 1.4\n",
      "\n",
      "*Start the Python interpreter and use it as a calculator. Python\u2019s syntax for math operations is almost the same as standard mathematical notation. For example, the symbols `+`, `-` and `/` denote addition, subtraction and division, as you would expect. The symbol for multiplication is* `*`.\n",
      "\n",
      "*If you run a 10 kilometer race in 43 minutes 30 seconds, what is your average time per mile? What is your average speed in miles per hour? (Hint: there are 1.61 kilometers in a mile).*\n"
     ]
    },
    {
     "cell_type": "code",
     "collapsed": false,
     "input": [
      "3 + 3 "
     ],
     "language": "python",
     "metadata": {},
     "outputs": []
    }
   ],
   "metadata": {}
  }
 ]
}