{
 "metadata": {
  "name": "",
  "signature": "sha256:ecf61281d40494bf1bfcb5454d0a6667b39d0091b86fc34f472629c3ac5b846e"
 },
 "nbformat": 3,
 "nbformat_minor": 0,
 "worksheets": [
  {
   "cells": [
    {
     "cell_type": "markdown",
     "metadata": {},
     "source": [
      "# License\n",
      "\n",
      "This IPython Notebook is released under the [Creative Commons Attribution-NonCommercial 3.0 Unported License](http://creativecommons.org/licenses/by-nc/3.0/)\n",
      "\n",
      "This IPython Notebook is based on [Think Python: How to Think Like a Computer Scientist](http://www.greenteapress.com/thinkpython/) by Allen B. Downey. It is available under the [Creative Commons Attribution-NonCommercial 3.0 Unported License](http://creativecommons.org/licenses/by-nc/3.0/)"
     ]
    },
    {
     "cell_type": "markdown",
     "metadata": {},
     "source": [
      "****"
     ]
    },
    {
     "cell_type": "markdown",
     "metadata": {},
     "source": [
      "# Chapter 5  Conditionals and recursion"
     ]
    },
    {
     "cell_type": "markdown",
     "metadata": {},
     "source": [
      "****"
     ]
    },
    {
     "cell_type": "markdown",
     "metadata": {},
     "source": [
      "## 5.1  Modulus operator\n",
      "\n",
      "The **modulus operator** works on integers and yields the remainder when the first operand is divided by the second. \n",
      "* In Python, the modulus operator is a percent sign (`%`). \n",
      "* The syntax is the same as for other operators:"
     ]
    },
    {
     "cell_type": "code",
     "collapsed": false,
     "input": [
      "quotient = 7 / 3\n",
      "print quotient"
     ],
     "language": "python",
     "metadata": {},
     "outputs": [
      {
       "output_type": "stream",
       "stream": "stdout",
       "text": [
        "2\n"
       ]
      }
     ],
     "prompt_number": 1
    },
    {
     "cell_type": "code",
     "collapsed": false,
     "input": [
      "remainder = 7 % 3\n",
      "print remainder"
     ],
     "language": "python",
     "metadata": {},
     "outputs": [
      {
       "output_type": "stream",
       "stream": "stdout",
       "text": [
        "1\n"
       ]
      }
     ],
     "prompt_number": 2
    },
    {
     "cell_type": "markdown",
     "metadata": {},
     "source": [
      "So 7 divided by 3 is 2 with 1 left over. That is: `7 = 3 * 2 + 1`\n",
      "\n",
      "* You can check whether one number is divisible by another\u2014if `x % y` is zero, then `x` is divisible by `y`.\n",
      "* You can extract the right-most digit or digits from a number. \n",
      " * `x % 10` yields the right-most digit of `x` (in base `10`). \n",
      " * `x % 100` yields the last two digits."
     ]
    },
    {
     "cell_type": "markdown",
     "metadata": {},
     "source": [
      "****"
     ]
    },
    {
     "cell_type": "markdown",
     "metadata": {},
     "source": [
      "## 5.2  Boolean expressions\n",
      "\n",
      "A **boolean expression** is an expression that is either true or false. \n",
      "* The following examples use the operator `==`, which compares two operands and produces `True` if they are equal and `False` otherwise:"
     ]
    },
    {
     "cell_type": "code",
     "collapsed": false,
     "input": [
      "5 == 5"
     ],
     "language": "python",
     "metadata": {},
     "outputs": [
      {
       "metadata": {},
       "output_type": "pyout",
       "prompt_number": 3,
       "text": [
        "True"
       ]
      }
     ],
     "prompt_number": 3
    },
    {
     "cell_type": "code",
     "collapsed": false,
     "input": [
      "5 == 6"
     ],
     "language": "python",
     "metadata": {},
     "outputs": [
      {
       "metadata": {},
       "output_type": "pyout",
       "prompt_number": 4,
       "text": [
        "False"
       ]
      }
     ],
     "prompt_number": 4
    },
    {
     "cell_type": "markdown",
     "metadata": {},
     "source": [
      "`True` and `False` are special values that belong to the type `bool`.\n",
      "* They are **NOT** strings:"
     ]
    },
    {
     "cell_type": "code",
     "collapsed": false,
     "input": [
      "type(True)"
     ],
     "language": "python",
     "metadata": {},
     "outputs": [
      {
       "metadata": {},
       "output_type": "pyout",
       "prompt_number": 5,
       "text": [
        "bool"
       ]
      }
     ],
     "prompt_number": 5
    },
    {
     "cell_type": "code",
     "collapsed": false,
     "input": [
      "type(False)"
     ],
     "language": "python",
     "metadata": {},
     "outputs": [
      {
       "metadata": {},
       "output_type": "pyout",
       "prompt_number": 6,
       "text": [
        "bool"
       ]
      }
     ],
     "prompt_number": 6
    },
    {
     "cell_type": "markdown",
     "metadata": {},
     "source": [
      "The `==` operator is one of the **relational operators**; the others are:\n",
      "\n",
      "```\n",
      "      x != y               # x is not equal to y\n",
      "      x > y                # x is greater than y\n",
      "      x < y                # x is less than y\n",
      "      x >= y               # x is greater than or equal to y\n",
      "      x <= y               # x is less than or equal to y\n",
      "```"
     ]
    },
    {
     "cell_type": "code",
     "collapsed": false,
     "input": [
      "3 != 4"
     ],
     "language": "python",
     "metadata": {},
     "outputs": [
      {
       "metadata": {},
       "output_type": "pyout",
       "prompt_number": 7,
       "text": [
        "True"
       ]
      }
     ],
     "prompt_number": 7
    },
    {
     "cell_type": "code",
     "collapsed": false,
     "input": [
      "3 > 4"
     ],
     "language": "python",
     "metadata": {},
     "outputs": [
      {
       "metadata": {},
       "output_type": "pyout",
       "prompt_number": 8,
       "text": [
        "False"
       ]
      }
     ],
     "prompt_number": 8
    },
    {
     "cell_type": "code",
     "collapsed": false,
     "input": [
      "3 < 4"
     ],
     "language": "python",
     "metadata": {},
     "outputs": [
      {
       "metadata": {},
       "output_type": "pyout",
       "prompt_number": 9,
       "text": [
        "True"
       ]
      }
     ],
     "prompt_number": 9
    },
    {
     "cell_type": "code",
     "collapsed": false,
     "input": [
      "3 >= 3"
     ],
     "language": "python",
     "metadata": {},
     "outputs": [
      {
       "metadata": {},
       "output_type": "pyout",
       "prompt_number": 10,
       "text": [
        "True"
       ]
      }
     ],
     "prompt_number": 10
    },
    {
     "cell_type": "code",
     "collapsed": false,
     "input": [
      "4 <= 4"
     ],
     "language": "python",
     "metadata": {},
     "outputs": [
      {
       "metadata": {},
       "output_type": "pyout",
       "prompt_number": 11,
       "text": [
        "True"
       ]
      }
     ],
     "prompt_number": 11
    },
    {
     "cell_type": "markdown",
     "metadata": {},
     "source": [
      "Python symbols sometimes are different from the mathematical symbols. \n",
      "* A common error is to use a single equal sign (`=`) instead of a double equal sign (`==`). \n",
      "* Remember that `=` is an assignment operator and `==` is a relational operator. \n",
      "* There is no such thing as `=<` or `=>`."
     ]
    },
    {
     "cell_type": "markdown",
     "metadata": {},
     "source": [
      "****"
     ]
    },
    {
     "cell_type": "markdown",
     "metadata": {},
     "source": [
      "## 5.3  Logical operators\n",
      "\n",
      "There are three **logical operators**: \n",
      " * `and`, \n",
      " * `or`, \n",
      " * `not`. \n",
      "\n",
      "The semantics (meaning) of these operators is similar to their meaning in English. \n",
      "\n",
      "* `x > 0 and x < 10` is true only if `x` is greater than `0` and less than `10`.\n",
      "* `n%2 == 0 or n%3 == 0` is true if either of the conditions is true, that is, if the number is divisible by `2` or `3`.\n",
      "* The not operator negates a boolean expression.\n",
      "* `not (x > y)` is true if `x > y` is false, that is, if `x` is less than or equal to `y`."
     ]
    },
    {
     "cell_type": "code",
     "collapsed": false,
     "input": [
      "x = 3\n",
      "x > 0 and x < 10"
     ],
     "language": "python",
     "metadata": {},
     "outputs": [
      {
       "metadata": {},
       "output_type": "pyout",
       "prompt_number": 12,
       "text": [
        "True"
       ]
      }
     ],
     "prompt_number": 12
    },
    {
     "cell_type": "code",
     "collapsed": false,
     "input": [
      "n = 10\n",
      "n%2 == 0 or n%3 == 0"
     ],
     "language": "python",
     "metadata": {},
     "outputs": [
      {
       "metadata": {},
       "output_type": "pyout",
       "prompt_number": 13,
       "text": [
        "True"
       ]
      }
     ],
     "prompt_number": 13
    },
    {
     "cell_type": "code",
     "collapsed": false,
     "input": [
      "x = 4\n",
      "y = 3\n",
      "not (x > y)"
     ],
     "language": "python",
     "metadata": {},
     "outputs": [
      {
       "metadata": {},
       "output_type": "pyout",
       "prompt_number": 14,
       "text": [
        "False"
       ]
      }
     ],
     "prompt_number": 14
    },
    {
     "cell_type": "markdown",
     "metadata": {},
     "source": [
      "### Advanced\n",
      "Strictly speaking, the operands of the logical operators should be boolean expressions, but Python is not very strict.\n",
      "\n",
      "* Any nonzero number is interpreted as \u201ctrue.\u201d\n",
      "* zero is interpreted as \u201cfalse.\u201d"
     ]
    },
    {
     "cell_type": "code",
     "collapsed": false,
     "input": [
      "17 and True"
     ],
     "language": "python",
     "metadata": {},
     "outputs": [
      {
       "metadata": {},
       "output_type": "pyout",
       "prompt_number": 15,
       "text": [
        "True"
       ]
      }
     ],
     "prompt_number": 15
    },
    {
     "cell_type": "code",
     "collapsed": false,
     "input": [
      "-17.1 and True"
     ],
     "language": "python",
     "metadata": {},
     "outputs": [
      {
       "metadata": {},
       "output_type": "pyout",
       "prompt_number": 16,
       "text": [
        "True"
       ]
      }
     ],
     "prompt_number": 16
    },
    {
     "cell_type": "code",
     "collapsed": false,
     "input": [
      "0 or (3 > 2 )"
     ],
     "language": "python",
     "metadata": {},
     "outputs": [
      {
       "metadata": {},
       "output_type": "pyout",
       "prompt_number": 17,
       "text": [
        "True"
       ]
      }
     ],
     "prompt_number": 17
    },
    {
     "cell_type": "markdown",
     "metadata": {},
     "source": [
      "This flexibility can be useful, but there are some subtleties to it that might be confusing. You might want to avoid it (unless you know what you are doing)."
     ]
    },
    {
     "cell_type": "markdown",
     "metadata": {},
     "source": [
      "****"
     ]
    },
    {
     "cell_type": "markdown",
     "metadata": {},
     "source": [
      "## 5.4  Conditional execution\n",
      "\n",
      "**Conditional statements** give us the ability to check conditions and change the behavior of the program accordingly.\n",
      "* The simplest form is the `if` statement:"
     ]
    },
    {
     "cell_type": "code",
     "collapsed": false,
     "input": [
      "x = 3\n",
      "if x > 0:\n",
      "    print 'x is positive'"
     ],
     "language": "python",
     "metadata": {},
     "outputs": [
      {
       "output_type": "stream",
       "stream": "stdout",
       "text": [
        "x is positive\n"
       ]
      }
     ],
     "prompt_number": 18
    },
    {
     "cell_type": "code",
     "collapsed": false,
     "input": [
      "x = -3\n",
      "if x > 0:\n",
      "    print 'x is positive'"
     ],
     "language": "python",
     "metadata": {},
     "outputs": [],
     "prompt_number": 19
    },
    {
     "cell_type": "markdown",
     "metadata": {},
     "source": [
      "The boolean expression after `if` is called the **condition**. \n",
      "* If it is true, then the indented statement gets executed. \n",
      "* If not, nothing happens.\n",
      "\n",
      "`if` statements have the same structure as function definitions: \n",
      "* A header followed by an indented body. \n",
      "* Statements like this are called **compound statements**.\n",
      "\n",
      "There is no limit on the number of statements that can appear in the body, but there has to be at least one. \n",
      "* It is useful to have a body with no statements (usually as a place keeper for code you haven\u2019t written yet). \n",
      "* You can use the `pass` statement, which does nothing."
     ]
    },
    {
     "cell_type": "code",
     "collapsed": false,
     "input": [
      "if x < 0:\n",
      "    pass          # need to handle negative values!"
     ],
     "language": "python",
     "metadata": {},
     "outputs": [],
     "prompt_number": 20
    },
    {
     "cell_type": "markdown",
     "metadata": {},
     "source": [
      "****"
     ]
    },
    {
     "cell_type": "markdown",
     "metadata": {},
     "source": [
      "## 5.5  Alternative execution\n",
      "\n",
      "A second form of the `if` statement is **alternative execution**:\n",
      "* There are two possibilities.\n",
      "* The condition determines which one gets executed. \n",
      "* The syntax looks like this:"
     ]
    },
    {
     "cell_type": "code",
     "collapsed": false,
     "input": [
      "x = 3\n",
      "if x%2 == 0:\n",
      "    print 'x is even'\n",
      "else:\n",
      "    print 'x is odd'"
     ],
     "language": "python",
     "metadata": {},
     "outputs": [
      {
       "output_type": "stream",
       "stream": "stdout",
       "text": [
        "x is odd\n"
       ]
      }
     ],
     "prompt_number": 21
    },
    {
     "cell_type": "markdown",
     "metadata": {},
     "source": [
      "* If the remainder when `x` is divided by `2` is `0`,\n",
      "  * Then we know that x is even, and the program displays a message to that effect. \n",
      "* If the condition is false, \n",
      "  * Then the second set of statements is executed. \n",
      "\n",
      "\n",
      "Since the condition must be `true` or `false`, exactly one of the alternatives will be executed. \n",
      "* The alternatives are called **branches**, because they are branches in the flow of execution."
     ]
    },
    {
     "cell_type": "markdown",
     "metadata": {},
     "source": [
      "****"
     ]
    },
    {
     "cell_type": "markdown",
     "metadata": {},
     "source": [
      "## 5.6  Chained conditionals\n",
      "\n",
      "Sometimes there are more than two possibilities and we need more than two branches. \n",
      "* One way to express a computation like that is a **chained conditional**:"
     ]
    },
    {
     "cell_type": "code",
     "collapsed": false,
     "input": [
      "x = 3\n",
      "y = 3\n",
      "if x < y:\n",
      "    print 'x is less than y'\n",
      "elif x > y:\n",
      "    print 'x is greater than y'\n",
      "else:\n",
      "    print 'x and y are equal'"
     ],
     "language": "python",
     "metadata": {},
     "outputs": [
      {
       "output_type": "stream",
       "stream": "stdout",
       "text": [
        "x and y are equal\n"
       ]
      }
     ],
     "prompt_number": 22
    },
    {
     "cell_type": "markdown",
     "metadata": {},
     "source": [
      "* `elif` is an abbreviation of \u201celse if.\u201d Again, exactly one branch will be executed. \n",
      "* There is no limit on the number of `elif` statements. \n",
      "* If there is an `else` clause, it has to be at the end, but there doesn\u2019t have to be one.\n",
      "\n",
      "```\n",
      "if choice == 'a':\n",
      "    draw_a()\n",
      "elif choice == 'b':\n",
      "    draw_b()\n",
      "elif choice == 'c':\n",
      "    draw_c()\n",
      "```"
     ]
    },
    {
     "cell_type": "code",
     "collapsed": false,
     "input": [
      "def draw_a():\n",
      "    pass\n",
      "\n",
      "def draw_b():\n",
      "    print 'draw_b'\n",
      "    pass\n",
      "\n",
      "def draw_c():\n",
      "    print 'darw_c'\n",
      "    pass\n",
      "\n",
      "choice = 'c'\n",
      "\n",
      "if choice == 'a':\n",
      "    draw_a()\n",
      "elif choice == 'b':\n",
      "    draw_b()\n",
      "elif choice == 'c':\n",
      "    draw_c()"
     ],
     "language": "python",
     "metadata": {},
     "outputs": [
      {
       "output_type": "stream",
       "stream": "stdout",
       "text": [
        "darw_c\n"
       ]
      }
     ],
     "prompt_number": 23
    },
    {
     "cell_type": "markdown",
     "metadata": {},
     "source": [
      "****"
     ]
    },
    {
     "cell_type": "markdown",
     "metadata": {},
     "source": [
      "* Each condition is checked in order. \n",
      "* If the first is false, the next is checked, and so on. \n",
      "* If one of them is true, the corresponding branch executes, and the statement ends. \n",
      "* Even if more than one condition is true, only the first true branch executes."
     ]
    },
    {
     "cell_type": "code",
     "collapsed": false,
     "input": [
      "def draw_a():\n",
      "    pass\n",
      "\n",
      "def draw_b():\n",
      "    print 'draw_b'\n",
      "    pass\n",
      "\n",
      "def draw_c():\n",
      "    print 'darw_c'\n",
      "    pass\n",
      "\n",
      "choice = 'c'\n",
      "\n",
      "if choice == 'a':\n",
      "    draw_a()\n",
      "elif choice == 'c':\n",
      "    draw_b()\n",
      "elif choice == 'c':\n",
      "    draw_c()"
     ],
     "language": "python",
     "metadata": {},
     "outputs": [
      {
       "output_type": "stream",
       "stream": "stdout",
       "text": [
        "draw_b\n"
       ]
      }
     ],
     "prompt_number": 24
    },
    {
     "cell_type": "markdown",
     "metadata": {},
     "source": [
      "****"
     ]
    },
    {
     "cell_type": "markdown",
     "metadata": {},
     "source": [
      "## 5.7  Nested conditionals\n",
      "\n",
      "One conditional can also be **nested** within another. \n",
      "* We could have written the trichotomy example like this:"
     ]
    },
    {
     "cell_type": "code",
     "collapsed": false,
     "input": [
      "x = 3\n",
      "y = 2 \n",
      "if x == y:\n",
      "    print 'x and y are equal'\n",
      "else:\n",
      "    if x < y:\n",
      "        print 'x is less than y'\n",
      "    else:\n",
      "        print 'x is greater than y'"
     ],
     "language": "python",
     "metadata": {},
     "outputs": [
      {
       "output_type": "stream",
       "stream": "stdout",
       "text": [
        "x is greater than y\n"
       ]
      }
     ],
     "prompt_number": 25
    },
    {
     "cell_type": "markdown",
     "metadata": {},
     "source": [
      "* The outer conditional contains two branches. \n",
      "  * The first branch contains a simple statement. \n",
      "  * The second branch contains another if statement, which has two branches of its own. \n",
      "   * Those two branches are both simple statements, although they could have been conditional statements as well.\n",
      "\n",
      "** Note: **\n",
      "* The indentation of the statements makes the structure apparent, \n",
      "* The nested conditionals become difficult to read very quickly. \n",
      "* In general, it is a good idea to avoid them when you can."
     ]
    },
    {
     "cell_type": "markdown",
     "metadata": {},
     "source": [
      "Logical operators often provide a way to simplify nested conditional statements. \n",
      "* We can rewrite the following code using a single conditional:"
     ]
    },
    {
     "cell_type": "code",
     "collapsed": false,
     "input": [
      "x = 2\n",
      "if 0 < x:\n",
      "    if x < 10:\n",
      "        print 'x is a positive single-digit number.'"
     ],
     "language": "python",
     "metadata": {},
     "outputs": [
      {
       "output_type": "stream",
       "stream": "stdout",
       "text": [
        "x is a positive single-digit number.\n"
       ]
      }
     ],
     "prompt_number": 26
    },
    {
     "cell_type": "markdown",
     "metadata": {},
     "source": [
      "The `print` statement is executed only if we make it past both conditionals,\n",
      "* we can get the same effect with the `and` operator:"
     ]
    },
    {
     "cell_type": "code",
     "collapsed": false,
     "input": [
      "x = 2 \n",
      "if 0 < x and x < 10:\n",
      "    print 'x is a positive single-digit number.'"
     ],
     "language": "python",
     "metadata": {},
     "outputs": [
      {
       "output_type": "stream",
       "stream": "stdout",
       "text": [
        "x is a positive single-digit number.\n"
       ]
      }
     ],
     "prompt_number": 27
    },
    {
     "cell_type": "markdown",
     "metadata": {},
     "source": [
      "****"
     ]
    },
    {
     "cell_type": "markdown",
     "metadata": {},
     "source": [
      "# 5.8  Recursion\n",
      "\n",
      "It is legal for one function to call another; \n",
      "* It is also legal for a function to call **itself**. \n",
      "* It turns out to be one of the most magical things a program can do. \n",
      "* For example, look at the following function:"
     ]
    },
    {
     "cell_type": "code",
     "collapsed": false,
     "input": [
      "# For example, look at the following function:\n",
      "def countdown(n):\n",
      "    if n <= 0:\n",
      "        print 'Blastoff!'\n",
      "    else:\n",
      "        print n\n",
      "        countdown(n-1)\n",
      "\n",
      "countdown(3)"
     ],
     "language": "python",
     "metadata": {},
     "outputs": [
      {
       "output_type": "stream",
       "stream": "stdout",
       "text": [
        "3\n",
        "2\n",
        "1\n",
        "Blastoff!\n"
       ]
      }
     ],
     "prompt_number": 28
    },
    {
     "cell_type": "markdown",
     "metadata": {},
     "source": [
      "* If `n` is `0` or negative, it outputs the word, \u201cBlastoff!\u201d.\n",
      " * Otherwise, it outputs `n` and then calls a function named **countdown**\u2014itself\u2014passing `n-1` as an argument."
     ]
    },
    {
     "cell_type": "markdown",
     "metadata": {},
     "source": [
      "What happens if we call this function like this?\n",
      "\n",
      "* The execution of countdown begins with n=3, and since n is greater than 0, it outputs the value 3, and then calls itself...\n",
      " * The execution of countdown begins with n=2, and since n is greater than 0, it outputs the value 2, and then calls itself...\n",
      "   * The execution of countdown begins with n=1, and since n is greater than 0, it outputs the value 1, and then calls itself...\n",
      "     * The execution of countdown begins with n=0, and since n is not greater than 0, it outputs the word, \u201cBlastoff!\u201d and then returns.\n",
      "   * The countdown that got n=1 returns.\n",
      " * The countdown that got n=2 returns.\n",
      "* The countdown that got n=3 returns.\n",
      "* And then you\u2019re back in __main__. \n",
      "\n",
      "So, the total output looks like this:\n",
      "\n",
      "```\n",
      "3\n",
      "2\n",
      "1\n",
      "Blastoff!\n",
      "```"
     ]
    },
    {
     "cell_type": "markdown",
     "metadata": {},
     "source": [
      "* A function that calls itself is **recursive**; the process is called **recursion**."
     ]
    },
    {
     "cell_type": "markdown",
     "metadata": {},
     "source": [
      "As another example, we can write a function that prints a string `n` times."
     ]
    },
    {
     "cell_type": "code",
     "collapsed": false,
     "input": [
      "# a function that prints a string n times.\n",
      "def print_n(s, n):\n",
      "    if n <= 0:\n",
      "        return\n",
      "    print s\n",
      "    print_n(s, n-1)\n",
      "\n",
      "print_n('Hello', 3)"
     ],
     "language": "python",
     "metadata": {},
     "outputs": [
      {
       "output_type": "stream",
       "stream": "stdout",
       "text": [
        "Hello\n",
        "Hello\n",
        "Hello\n"
       ]
      }
     ],
     "prompt_number": 29
    },
    {
     "cell_type": "markdown",
     "metadata": {},
     "source": [
      "* If n <= 0 the return statement exits the function. \n",
      " * The flow of execution immediately returns to the caller, and the remaining lines of the function are not executed.\n",
      "* If n is greater than 0, it displays s and then calls itself to display s n\u22121 additional times. \n",
      "* The number of lines of output is `1 + (n - 1)`, which adds up to `n`.\n",
      "\n",
      "For simple examples like this, it is probably easier to use a for loop.\n",
      "* We will see examples later that are hard to write with a for loop and easy to write with recursion, so it is good to start early."
     ]
    },
    {
     "cell_type": "markdown",
     "metadata": {},
     "source": [
      "## 5.9  Stack diagrams for recursive functions\n",
      "\n",
      "Every time a function gets called, \n",
      "* Python creates a new function frame, \n",
      "  * which contains the function\u2019s local variables and parameters. \n",
      "  \n",
      "For a recursive function, \n",
      "* there might be more than one frame on the stack at the same time.\n",
      "\n",
      "Here is a stack diagram for `countdown` called with `n = 3`.\n",
      "\n",
      "<img src=\"files/figs/stack2.png\" width=\"300\" >\n",
      "\n",
      "The top of the stack is the frame for `__main__`. \n",
      "* It is empty because we did not create any variables in `__main__` or pass any arguments to it.\n",
      "\n",
      "The four countdown frames have different values for the parameter `n`. \n",
      "* The bottom of the stack, where `n=0`, is called the **base case**. \n",
      " * It does not make a recursive call, so there are no more frames."
     ]
    },
    {
     "cell_type": "markdown",
     "metadata": {},
     "source": [
      "****"
     ]
    },
    {
     "cell_type": "markdown",
     "metadata": {},
     "source": [
      "### Exercise 5.1   \n",
      "\n",
      "*Draw a stack diagram for `print_n` called with `s = 'Hello'` and `n=2`.*"
     ]
    },
    {
     "cell_type": "markdown",
     "metadata": {},
     "source": [
      "****"
     ]
    },
    {
     "cell_type": "markdown",
     "metadata": {},
     "source": [
      "### Exercise 5.2   \n",
      "\n",
      "*Write a function called `do_n` that takes a function object and a number, `n`, as arguments, and that calls the given function n times.*"
     ]
    },
    {
     "cell_type": "markdown",
     "metadata": {},
     "source": [
      "****"
     ]
    },
    {
     "cell_type": "markdown",
     "metadata": {},
     "source": [
      "## 5.10  Infinite recursion\n",
      "\n",
      "If a recursion never reaches a base case, \n",
      "* It goes on making recursive calls forever, and the program never terminates. \n",
      "\n",
      "This is known as **infinite recursion**, \n",
      "* It is generally not a good idea. \n",
      "\n",
      "Here is a minimal program with an infinite recursion:\n",
      "\n",
      "```\n",
      "def recurse():\n",
      "    recurse()\n",
      "```\n",
      "\n",
      "* In most programming environments, a program with infinite recursion does not really run forever. \n",
      "* Python reports an error message when the maximum recursion depth is reached:"
     ]
    },
    {
     "cell_type": "code",
     "collapsed": false,
     "input": [
      "def recurse():\n",
      "    recurse()\n",
      "# recurse()"
     ],
     "language": "python",
     "metadata": {},
     "outputs": [],
     "prompt_number": 30
    },
    {
     "cell_type": "markdown",
     "metadata": {},
     "source": [
      "****"
     ]
    },
    {
     "cell_type": "markdown",
     "metadata": {},
     "source": [
      "## 5.11  Keyboard input\n",
      "\n",
      "Python 2 provides a built-in function called **raw_input** that gets input from the keyboard.\n",
      "* When this function is called, the program stops and waits for the user to type something. \n",
      "* When the user presses **Return** or **Enter**, the program resumes and `raw_input` returns what the user typed as a string."
     ]
    },
    {
     "cell_type": "code",
     "collapsed": false,
     "input": [
      "# What are you waiting for?\n",
      ">>> text = raw_input()\n",
      "print text"
     ],
     "language": "python",
     "metadata": {},
     "outputs": [
      {
       "name": "stdout",
       "output_type": "stream",
       "stream": "stdout",
       "text": [
        "What are you waiting for?\n"
       ]
      },
      {
       "output_type": "stream",
       "stream": "stdout",
       "text": [
        "What are you waiting for?\n"
       ]
      }
     ],
     "prompt_number": 31
    },
    {
     "cell_type": "markdown",
     "metadata": {},
     "source": [
      "Before getting input from the user, it is a good idea to print a prompt telling the user what to input. raw_input can take a prompt as an argument:"
     ]
    },
    {
     "cell_type": "code",
     "collapsed": false,
     "input": [
      "# Arthur, King of the Britons!\n",
      "name = raw_input('What...is your name?\\n')\n",
      "print name"
     ],
     "language": "python",
     "metadata": {},
     "outputs": [
      {
       "name": "stdout",
       "output_type": "stream",
       "stream": "stdout",
       "text": [
        "What...is your name?\n",
        "Hahaha\n"
       ]
      },
      {
       "output_type": "stream",
       "stream": "stdout",
       "text": [
        "Hahaha\n"
       ]
      }
     ],
     "prompt_number": 32
    },
    {
     "cell_type": "markdown",
     "metadata": {},
     "source": [
      "* The sequence `\\n` at the end of the prompt represents a newline, which is a special character that causes a line break. \n",
      "* That\u2019s why the user\u2019s input appears below the prompt."
     ]
    },
    {
     "cell_type": "markdown",
     "metadata": {},
     "source": [
      "If you expect the user to type an integer, you can try to convert the return value to `int`:"
     ]
    },
    {
     "cell_type": "code",
     "collapsed": false,
     "input": [
      "prompt = 'What...is the airspeed velocity of an unladen swallow?\\n'\n",
      "speed = raw_input(prompt)\n",
      "int(speed)"
     ],
     "language": "python",
     "metadata": {},
     "outputs": [
      {
       "name": "stdout",
       "output_type": "stream",
       "stream": "stdout",
       "text": [
        "What...is the airspeed velocity of an unladen swallow?\n",
        "17\n"
       ]
      },
      {
       "metadata": {},
       "output_type": "pyout",
       "prompt_number": 33,
       "text": [
        "17"
       ]
      }
     ],
     "prompt_number": 33
    },
    {
     "cell_type": "markdown",
     "metadata": {},
     "source": [
      "But if the user types something other than a string of digits, you get an error:"
     ]
    },
    {
     "cell_type": "code",
     "collapsed": false,
     "input": [
      "speed = raw_input(prompt)\n",
      "int(speed) "
     ],
     "language": "python",
     "metadata": {},
     "outputs": [
      {
       "name": "stdout",
       "output_type": "stream",
       "stream": "stdout",
       "text": [
        "What...is the airspeed velocity of an unladen swallow?\n",
        "adfdfd\n"
       ]
      },
      {
       "ename": "ValueError",
       "evalue": "invalid literal for int() with base 10: 'adfdfd'",
       "output_type": "pyerr",
       "traceback": [
        "\u001b[0;31m---------------------------------------------------------------------------\u001b[0m\n\u001b[0;31mValueError\u001b[0m                                Traceback (most recent call last)",
        "\u001b[0;32m<ipython-input-34-51db9690da43>\u001b[0m in \u001b[0;36m<module>\u001b[0;34m()\u001b[0m\n\u001b[1;32m      1\u001b[0m \u001b[0mspeed\u001b[0m \u001b[0;34m=\u001b[0m \u001b[0mraw_input\u001b[0m\u001b[0;34m(\u001b[0m\u001b[0mprompt\u001b[0m\u001b[0;34m)\u001b[0m\u001b[0;34m\u001b[0m\u001b[0m\n\u001b[0;32m----> 2\u001b[0;31m \u001b[0mint\u001b[0m\u001b[0;34m(\u001b[0m\u001b[0mspeed\u001b[0m\u001b[0;34m)\u001b[0m\u001b[0;34m\u001b[0m\u001b[0m\n\u001b[0m",
        "\u001b[0;31mValueError\u001b[0m: invalid literal for int() with base 10: 'adfdfd'"
       ]
      }
     ],
     "prompt_number": 34
    },
    {
     "cell_type": "markdown",
     "metadata": {},
     "source": [
      "We will see how to handle this kind of error later."
     ]
    },
    {
     "cell_type": "markdown",
     "metadata": {},
     "source": [
      "****"
     ]
    },
    {
     "cell_type": "markdown",
     "metadata": {},
     "source": [
      "## 5.12  Debugging\n",
      "\n",
      "The traceback Python displays when an error occurs contains a lot of information.\n",
      "* It can be overwhelming, especially when there are many frames on the stack. \n",
      "* The most useful parts are usually:\n",
      " * What kind of error it was, and\n",
      " * Where it occurred."
     ]
    },
    {
     "cell_type": "markdown",
     "metadata": {},
     "source": [
      "**Syntax errors** are usually easy to find, but there are a few gotchas. \n",
      "* Whitespace errors can be tricky because spaces and tabs are invisible and we are used to ignoring them."
     ]
    },
    {
     "cell_type": "code",
     "collapsed": false,
     "input": [
      ">>> x = 5\n",
      ">>>  y = 6\n",
      "  File \"<stdin>\", line 1\n",
      "    y = 6"
     ],
     "language": "python",
     "metadata": {},
     "outputs": [
      {
       "ename": "IndentationError",
       "evalue": "unexpected indent (<ipython-input-35-62c8eeae9904>, line 2)",
       "output_type": "pyerr",
       "traceback": [
        "\u001b[0;36m  File \u001b[0;32m\"<ipython-input-35-62c8eeae9904>\"\u001b[0;36m, line \u001b[0;32m2\u001b[0m\n\u001b[0;31m    y = 6\u001b[0m\n\u001b[0m    ^\u001b[0m\n\u001b[0;31mIndentationError\u001b[0m\u001b[0;31m:\u001b[0m unexpected indent\n"
       ]
      }
     ],
     "prompt_number": 35
    },
    {
     "cell_type": "markdown",
     "metadata": {},
     "source": [
      "* The problem is that the second line is indented by one space. \n",
      "* The error message points to `y`, which is misleading. \n",
      "* In general, error messages indicate where the problem was discovered, \n",
      " * but the actual error might be earlier in the code, sometimes on a previous line."
     ]
    },
    {
     "cell_type": "markdown",
     "metadata": {},
     "source": [
      "The same is true of **runtime errors**.\n",
      "\n",
      "Suppose you are trying to compute a signal-to-noise ratio in decibels. \n",
      "* The formula is \n",
      "$$SNR_{db} = 10 \\log_{10} (P_{signal} / P_{noise})$$. \n",
      "* In Python, you might write something like this:"
     ]
    },
    {
     "cell_type": "code",
     "collapsed": false,
     "input": [
      "import math\n",
      "signal_power = 9\n",
      "noise_power = 10\n",
      "ratio = signal_power / noise_power\n",
      "print ratio\n",
      "decibels = 10 * math.log10(ratio)\n",
      "print decibels"
     ],
     "language": "python",
     "metadata": {},
     "outputs": [
      {
       "output_type": "stream",
       "stream": "stdout",
       "text": [
        "0\n"
       ]
      },
      {
       "ename": "ValueError",
       "evalue": "math domain error",
       "output_type": "pyerr",
       "traceback": [
        "\u001b[0;31m---------------------------------------------------------------------------\u001b[0m\n\u001b[0;31mValueError\u001b[0m                                Traceback (most recent call last)",
        "\u001b[0;32m<ipython-input-36-7dc8a80e8f5a>\u001b[0m in \u001b[0;36m<module>\u001b[0;34m()\u001b[0m\n\u001b[1;32m      4\u001b[0m \u001b[0mratio\u001b[0m \u001b[0;34m=\u001b[0m \u001b[0msignal_power\u001b[0m \u001b[0;34m/\u001b[0m \u001b[0mnoise_power\u001b[0m\u001b[0;34m\u001b[0m\u001b[0m\n\u001b[1;32m      5\u001b[0m \u001b[0;32mprint\u001b[0m \u001b[0mratio\u001b[0m\u001b[0;34m\u001b[0m\u001b[0m\n\u001b[0;32m----> 6\u001b[0;31m \u001b[0mdecibels\u001b[0m \u001b[0;34m=\u001b[0m \u001b[0;36m10\u001b[0m \u001b[0;34m*\u001b[0m \u001b[0mmath\u001b[0m\u001b[0;34m.\u001b[0m\u001b[0mlog10\u001b[0m\u001b[0;34m(\u001b[0m\u001b[0mratio\u001b[0m\u001b[0;34m)\u001b[0m\u001b[0;34m\u001b[0m\u001b[0m\n\u001b[0m\u001b[1;32m      7\u001b[0m \u001b[0;32mprint\u001b[0m \u001b[0mdecibels\u001b[0m\u001b[0;34m\u001b[0m\u001b[0m\n",
        "\u001b[0;31mValueError\u001b[0m: math domain error"
       ]
      }
     ],
     "prompt_number": 36
    },
    {
     "cell_type": "markdown",
     "metadata": {},
     "source": [
      "* The error message indicates line 5, but there is nothing wrong with that line. \n",
      " * To find the real error, it might be useful to print the value of ratio, which turns out to be 0. \n",
      "* The problem is in line 4, because dividing two integers does floor division. \n",
      "* The solution is to represent signal power and noise power with floating-point values.\n",
      "* In general, error messages tell you where the problem was discovered, but that is often not where it was caused.\n",
      "\n"
     ]
    },
    {
     "cell_type": "markdown",
     "metadata": {},
     "source": [
      "****"
     ]
    },
    {
     "cell_type": "markdown",
     "metadata": {},
     "source": [
      "## 5.13  Glossary\n",
      "\n",
      "**modulus operator:**\n",
      "\n",
      "An operator, denoted with a percent sign (`%`), that works on integers and yields the remainder when one number is divided by another.\n",
      "\n",
      "**boolean expression:**\n",
      "\n",
      "An expression whose value is either `True` or `False`.\n",
      "\n",
      "**relational operator:**\n",
      "\n",
      "One of the operators that compares its operands: `==`, `!=`, `>`, `<`, `>=`, and `<=`.\n",
      "\n",
      "**logical operator:**\n",
      "\n",
      "One of the operators that combines boolean expressions: `and`, `or`, and `not`.\n",
      "\n",
      "**conditional statement:**\n",
      "\n",
      "A statement that controls the flow of execution depending on some condition.\n",
      "\n",
      "**condition:**\n",
      "\n",
      "The boolean expression in a conditional statement that determines which branch is executed.\n",
      "\n",
      "**compound statement:**\n",
      "\n",
      "A statement that consists of a header and a body. The header ends with a colon (`:`). \n",
      "\n",
      "The body is indented relative to the header.\n",
      "\n",
      "**branch:**\n",
      "\n",
      "One of the alternative sequences of statements in a conditional statement.\n",
      "\n",
      "**chained conditional:**\n",
      "\n",
      "A conditional statement with a series of alternative branches.\n",
      "\n",
      "**nested conditional:**\n",
      "\n",
      "A conditional statement that appears in one of the branches of another conditional statement.\n",
      "\n",
      "**recursion:**\n",
      "\n",
      "The process of calling the function that is currently executing.\n",
      "\n",
      "**base case:**\n",
      "\n",
      "A conditional branch in a recursive function that does not make a recursive call.\n",
      "\n",
      "**infinite recursion:**\n",
      "\n",
      "A recursion that doesn\u2019t have a base case, or never reaches it. Eventually, an infinite recursion causes a runtime error.\n"
     ]
    },
    {
     "cell_type": "markdown",
     "metadata": {},
     "source": [
      "****"
     ]
    },
    {
     "cell_type": "markdown",
     "metadata": {},
     "source": [
      "## 5.14  Exercises"
     ]
    },
    {
     "cell_type": "markdown",
     "metadata": {},
     "source": [
      "### Exercise 5.3  \n",
      "\n",
      "*Fermat\u2019s Last Theorem says that there are no positive integers $a$, $b$, and $c$ such that*\n",
      "\n",
      "$$\n",
      "  a^n + b^n = c^n \n",
      "$$\n",
      "*for any values of $n$ greater than 2.*\n",
      "\n",
      "1. *Write a function named `check_fermat` that takes four parameters\u2014`a`, `b`, `c` and `n`\u2014and that checks to see if Fermat\u2019s theorem holds.*\n",
      " * *If `n` is greater than 2 and it turns out to be true that $a^n + b^n = c^n$ \n",
      "the program should print, \u201cHoly smokes, Fermat was wrong!\u201d.*\n",
      " * *Otherwise the program should print, \u201cNo, that doesn\u2019t work.\u201d*\n",
      "\n",
      "2. Write a function that prompts the user to input values for `a`, `b`, `c` and `n`, converts them to integers, and uses `check_fermat` to check whether they violate Fermat\u2019s theorem.\n"
     ]
    },
    {
     "cell_type": "markdown",
     "metadata": {},
     "source": [
      "****"
     ]
    },
    {
     "cell_type": "markdown",
     "metadata": {},
     "source": [
      "### Exercise 5.4  \n",
      "\n",
      "*If you are given three sticks, you may or may not be able to arrange them in a triangle. For example, if one of the sticks is 12 inches long and the other two are one inch long, it is clear that you will not be able to get the short sticks to meet in the middle. For any three lengths, there is a simple test to see if it is possible to form a triangle:*\n",
      "\n",
      "> *If any of the three lengths is greater than the sum of the other two, then you cannot form a triangle. Otherwise, you can.* \n",
      "> *(If the sum of two lengths equals the third, they form what is called a \u201cdegenerate\u201d triangle.)*\n",
      "\n",
      "1. Write a function named `is_triangle` that takes three integers as arguments, and that prints either \u201cYes\u201d or \u201cNo,\u201d depending on whether you can or cannot form a triangle from sticks with the given lengths.\n",
      "\n",
      "2. Write a function that prompts the user to input three stick lengths, converts them to integers, and uses `is_triangle` to check whether sticks with the given lengths can form a triangle"
     ]
    }
   ],
   "metadata": {}
  }
 ]
}