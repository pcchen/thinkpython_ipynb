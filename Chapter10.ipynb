{
 "metadata": {
  "name": "",
  "signature": "sha256:b69d1aaff5f65207da9857e1152507427a78b79592a0e43abcdb54ecf8a79d18"
 },
 "nbformat": 3,
 "nbformat_minor": 0,
 "worksheets": [
  {
   "cells": [
    {
     "cell_type": "markdown",
     "metadata": {},
     "source": [
      "# License\n",
      "\n",
      "This IPython Notebook is released under the [Creative Commons Attribution-NonCommercial 3.0 Unported License](http://creativecommons.org/licenses/by-nc/3.0/)\n",
      "\n",
      "This IPython Notebook is based on [Think Python: How to Think Like a Computer Scientist](http://www.greenteapress.com/thinkpython/) by Allen B. Downey. It is available under the [Creative Commons Attribution-NonCommercial 3.0 Unported License](http://creativecommons.org/licenses/by-nc/3.0/)"
     ]
    },
    {
     "cell_type": "markdown",
     "metadata": {},
     "source": [
      "****"
     ]
    },
    {
     "cell_type": "markdown",
     "metadata": {},
     "source": [
      "# Chapter 10  Lists"
     ]
    },
    {
     "cell_type": "markdown",
     "metadata": {},
     "source": [
      "****"
     ]
    },
    {
     "cell_type": "markdown",
     "metadata": {},
     "source": [
      "## 10.1  A list is a sequence\n",
      "\n",
      "Like a string, a **list** is a sequence of values. In a string, the values are characters; in a list, they can be any type. The values in a list are called **elements** or sometimes **items**.\n",
      "\n",
      "There are several ways to create a new list; the simplest is to enclose the elements in **square brackets** `([` and `])`:\n",
      "\n"
     ]
    },
    {
     "cell_type": "code",
     "collapsed": false,
     "input": [
      "[10, 20, 30, 40]\n",
      "['crunchy frog', 'ram bladder', 'lark vomit']"
     ],
     "language": "python",
     "metadata": {},
     "outputs": [
      {
       "metadata": {},
       "output_type": "pyout",
       "prompt_number": 1,
       "text": [
        "['crunchy frog', 'ram bladder', 'lark vomit']"
       ]
      }
     ],
     "prompt_number": 1
    },
    {
     "cell_type": "markdown",
     "metadata": {},
     "source": [
      "* The first example is a list of four integers. \n",
      "* The second is a list of three strings. \n",
      "\n",
      "The elements of a list don\u2019t have to be the same type. \n",
      "* The following list contains a string, a float, an integer, and (lo!) another list:"
     ]
    },
    {
     "cell_type": "code",
     "collapsed": false,
     "input": [
      "['spam', 2.0, 5, [10, 20]]"
     ],
     "language": "python",
     "metadata": {},
     "outputs": [
      {
       "metadata": {},
       "output_type": "pyout",
       "prompt_number": 2,
       "text": [
        "['spam', 2.0, 5, [10, 20]]"
       ]
      }
     ],
     "prompt_number": 2
    },
    {
     "cell_type": "markdown",
     "metadata": {},
     "source": [
      "A list within another list is **nested**.\n",
      "\n",
      "A list that contains no elements is called an **empty list**; you can create one with empty brackets, `[]`.\n",
      "\n",
      "As you might expect, you can assign list values to variables:"
     ]
    },
    {
     "cell_type": "code",
     "collapsed": false,
     "input": [
      "cheeses = ['Cheddar', 'Edam', 'Gouda']\n",
      "numbers = [17, 123]\n",
      "empty = []\n",
      "print cheeses, numbers, empty"
     ],
     "language": "python",
     "metadata": {},
     "outputs": [
      {
       "output_type": "stream",
       "stream": "stdout",
       "text": [
        "['Cheddar', 'Edam', 'Gouda'] [17, 123] []\n"
       ]
      }
     ],
     "prompt_number": 3
    },
    {
     "cell_type": "markdown",
     "metadata": {},
     "source": [
      "****"
     ]
    },
    {
     "cell_type": "markdown",
     "metadata": {},
     "source": [
      "## 10.2  Lists are mutable"
     ]
    },
    {
     "cell_type": "markdown",
     "metadata": {},
     "source": [
      "The syntax for accessing the elements of a list is the same as for accessing the characters of a string\u2014the bracket operator. \n",
      "* The expression inside the brackets specifies the index. \n",
      "* Remember that the indices start at 0:"
     ]
    },
    {
     "cell_type": "code",
     "collapsed": false,
     "input": [
      "cheeses = ['Cheddar', 'Edam', 'Gouda']\n",
      "print cheeses[0]"
     ],
     "language": "python",
     "metadata": {},
     "outputs": [
      {
       "output_type": "stream",
       "stream": "stdout",
       "text": [
        "Cheddar\n"
       ]
      }
     ],
     "prompt_number": 4
    },
    {
     "cell_type": "markdown",
     "metadata": {},
     "source": [
      "Unlike strings, lists are **mutable**. \n",
      "* When the bracket operator appears on the left side of an assignment, it identifies the element of the list that will be assigned."
     ]
    },
    {
     "cell_type": "code",
     "collapsed": false,
     "input": [
      "numbers = [17, 123]\n",
      "print numbers\n",
      "numbers[1] = 5\n",
      "print numbers"
     ],
     "language": "python",
     "metadata": {},
     "outputs": [
      {
       "output_type": "stream",
       "stream": "stdout",
       "text": [
        "[17, 123]\n",
        "[17, 5]\n"
       ]
      }
     ],
     "prompt_number": 5
    },
    {
     "cell_type": "markdown",
     "metadata": {},
     "source": [
      "* The one-eth element of numbers, which used to be 123, is now 5.\n",
      "\n",
      "You can think of a list as a relationship between **indices** and **elements**. \n",
      "* This relationship is called a **mapping**; \n",
      "* Each index \u201cmaps to\u201d one of the elements. \n",
      "* Figure below shows the state diagram for cheeses, numbers and empty:\n",
      "\n",
      "<img src=\"files/figs/liststate.png\" width=\"300\" >\n",
      "\n",
      "Lists are represented by boxes with the word \u201clist\u201d outside and the elements of the list inside. \n",
      "* cheeses refers to a list with three elements indexed 0, 1 and 2. \n",
      "* numbers contains two elements; the diagram shows that the value of the second element has been reassigned from 123 to 5. \n",
      "* empty refers to a list with no elements.\n",
      "\n",
      "List indices work the same way as string indices:\n",
      "* Any integer expression can be used as an index.\n",
      "* If you try to read or write an element that does not exist, you get an IndexError.\n",
      "* If an index has a negative value, it counts backward from the end of the list.\n",
      "\n",
      "The `in` operator also works on lists."
     ]
    },
    {
     "cell_type": "code",
     "collapsed": false,
     "input": [
      "cheeses = ['Cheddar', 'Edam', 'Gouda']\n",
      "print 'Edam' in cheeses\n",
      "print 'Brie' in cheeses"
     ],
     "language": "python",
     "metadata": {},
     "outputs": [
      {
       "output_type": "stream",
       "stream": "stdout",
       "text": [
        "True\n",
        "False\n"
       ]
      }
     ],
     "prompt_number": 6
    },
    {
     "cell_type": "markdown",
     "metadata": {},
     "source": [
      "****"
     ]
    },
    {
     "cell_type": "markdown",
     "metadata": {},
     "source": [
      "## 10.3  Traversing a list\n",
      "\n",
      "The most common way to traverse the elements of a list is with a for loop. The syntax is the same as for strings:"
     ]
    },
    {
     "cell_type": "code",
     "collapsed": false,
     "input": [
      "cheeses = ['Cheddar', 'Edam', 'Gouda']\n",
      "for cheese in cheeses:\n",
      "    print cheese"
     ],
     "language": "python",
     "metadata": {},
     "outputs": [
      {
       "output_type": "stream",
       "stream": "stdout",
       "text": [
        "Cheddar\n",
        "Edam\n",
        "Gouda\n"
       ]
      }
     ],
     "prompt_number": 7
    },
    {
     "cell_type": "markdown",
     "metadata": {},
     "source": [
      "This works well if you only need to read the elements of the list. \n",
      "* But if you want to write or update the elements, you need the indices. \n",
      "* A common way to do that is to combine the functions `range` and `len`:"
     ]
    },
    {
     "cell_type": "code",
     "collapsed": false,
     "input": [
      "numbers = [17, 123]\n",
      "print numbers\n",
      "\n",
      "for i in range(len(numbers)):\n",
      "    numbers[i] = numbers[i] * 2\n",
      "\n",
      "print numbers"
     ],
     "language": "python",
     "metadata": {},
     "outputs": [
      {
       "output_type": "stream",
       "stream": "stdout",
       "text": [
        "[17, 123]\n",
        "[34, 246]\n"
       ]
      }
     ],
     "prompt_number": 8
    },
    {
     "cell_type": "markdown",
     "metadata": {},
     "source": [
      "This loop traverses the list and updates each element. \n",
      "* `len` returns the number of elements in the list. \n",
      "* `range` returns a list of indices from `0` to `n\u22121`, where `n` is the length of the list. \n",
      "* Each time through the loop `i` gets the index of the next element. \n",
      "* The assignment statement in the body uses `i` to read the old value of the element and to assign the new value.\n",
      "\n",
      "A for loop over an empty list never executes the body:"
     ]
    },
    {
     "cell_type": "code",
     "collapsed": false,
     "input": [
      "for x in []:\n",
      "    print 'This never happens.'"
     ],
     "language": "python",
     "metadata": {},
     "outputs": [],
     "prompt_number": 9
    },
    {
     "cell_type": "markdown",
     "metadata": {},
     "source": [
      "Although a list can contain another list, the nested list still counts as a single element. \n",
      "* The length of this list is four:"
     ]
    },
    {
     "cell_type": "code",
     "collapsed": false,
     "input": [
      "x = ['spam', 1, ['Brie', 'Roquefort', 'Pol le Veq'], [1, 2, 3]]\n",
      "print len(x)"
     ],
     "language": "python",
     "metadata": {},
     "outputs": [
      {
       "output_type": "stream",
       "stream": "stdout",
       "text": [
        "4\n"
       ]
      }
     ],
     "prompt_number": 10
    },
    {
     "cell_type": "code",
     "collapsed": false,
     "input": [
      "help('range')"
     ],
     "language": "python",
     "metadata": {},
     "outputs": [
      {
       "output_type": "stream",
       "stream": "stdout",
       "text": [
        "Help on built-in function range in module __builtin__:\n",
        "\n",
        "range(...)\n",
        "    range(stop) -> list of integers\n",
        "    range(start, stop[, step]) -> list of integers\n",
        "    \n",
        "    Return a list containing an arithmetic progression of integers.\n",
        "    range(i, j) returns [i, i+1, i+2, ..., j-1]; start (!) defaults to 0.\n",
        "    When step is given, it specifies the increment (or decrement).\n",
        "    For example, range(4) returns [0, 1, 2, 3].  The end point is omitted!\n",
        "    These are exactly the valid indices for a list of 4 elements.\n",
        "\n"
       ]
      }
     ],
     "prompt_number": 42
    },
    {
     "cell_type": "code",
     "collapsed": false,
     "input": [
      "print range(10)\n",
      "print range(1, 11)\n",
      "print range(0, 30, 5)\n",
      "print range(0, 10, 3)\n",
      "print range(0, -10, -1)\n",
      "print range(0)\n",
      "print range(1, 0)"
     ],
     "language": "python",
     "metadata": {},
     "outputs": [
      {
       "output_type": "stream",
       "stream": "stdout",
       "text": [
        "[0, 1, 2, 3, 4, 5, 6, 7, 8, 9]\n",
        "[1, 2, 3, 4, 5, 6, 7, 8, 9, 10]\n",
        "[0, 5, 10, 15, 20, 25]\n",
        "[0, 3, 6, 9]\n",
        "[0, -1, -2, -3, -4, -5, -6, -7, -8, -9]\n",
        "[]\n",
        "[]\n"
       ]
      }
     ],
     "prompt_number": 45
    },
    {
     "cell_type": "markdown",
     "metadata": {},
     "source": [
      "****"
     ]
    },
    {
     "cell_type": "markdown",
     "metadata": {},
     "source": [
      "## 10.4  List operations\n",
      "\n",
      "The `+` operator concatenates lists:"
     ]
    },
    {
     "cell_type": "code",
     "collapsed": false,
     "input": [
      "a = [1, 2, 3]\n",
      "b = [4, 5, 6]\n",
      "c = a + b\n",
      "print c"
     ],
     "language": "python",
     "metadata": {},
     "outputs": [
      {
       "output_type": "stream",
       "stream": "stdout",
       "text": [
        "[1, 2, 3, 4, 5, 6]\n"
       ]
      }
     ],
     "prompt_number": 11
    },
    {
     "cell_type": "markdown",
     "metadata": {},
     "source": [
      "Similarly, the `*` operator repeats a list a given number of times:"
     ]
    },
    {
     "cell_type": "code",
     "collapsed": false,
     "input": [
      "print [0] * 4\n",
      "[0, 0, 0, 0]\n",
      "print [1, 2, 3] * 3"
     ],
     "language": "python",
     "metadata": {},
     "outputs": [
      {
       "output_type": "stream",
       "stream": "stdout",
       "text": [
        "[0, 0, 0, 0]\n",
        "[1, 2, 3, 1, 2, 3, 1, 2, 3]\n"
       ]
      }
     ],
     "prompt_number": 12
    },
    {
     "cell_type": "markdown",
     "metadata": {},
     "source": [
      "The first example repeats `[0]` four times. The second example repeats the list `[1, 2, 3]` three times.\n"
     ]
    },
    {
     "cell_type": "markdown",
     "metadata": {},
     "source": [
      "## 10.5  List slices"
     ]
    },
    {
     "cell_type": "markdown",
     "metadata": {},
     "source": [
      "The slice operator also works on lists:"
     ]
    },
    {
     "cell_type": "code",
     "collapsed": false,
     "input": [
      "t = ['a', 'b', 'c', 'd', 'e', 'f']\n",
      "print t[1:3]\n",
      "print t[:4]\n",
      "print t[3:]\n",
      "print t[:]"
     ],
     "language": "python",
     "metadata": {},
     "outputs": [
      {
       "output_type": "stream",
       "stream": "stdout",
       "text": [
        "['b', 'c']\n",
        "['a', 'b', 'c', 'd']\n",
        "['d', 'e', 'f']\n",
        "['a', 'b', 'c', 'd', 'e', 'f']\n"
       ]
      }
     ],
     "prompt_number": 13
    },
    {
     "cell_type": "markdown",
     "metadata": {},
     "source": [
      "* If you omit the first index, the slice starts at the beginning. \n",
      "* If you omit the second, the slice goes to the end. \n",
      "* If you omit both, the slice is a copy of the whole list."
     ]
    },
    {
     "cell_type": "markdown",
     "metadata": {},
     "source": [
      "Since lists are mutable, it is often useful to make a copy before performing operations that fold, spindle or mutilate lists.\n",
      "\n",
      "A slice operator on the left side of an assignment can update multiple elements:"
     ]
    },
    {
     "cell_type": "code",
     "collapsed": false,
     "input": [
      "t = ['a', 'b', 'c', 'd', 'e', 'f']\n",
      "t[1:3] = ['x', 'y']\n",
      "print t"
     ],
     "language": "python",
     "metadata": {},
     "outputs": [
      {
       "output_type": "stream",
       "stream": "stdout",
       "text": [
        "['a', 'x', 'y', 'd', 'e', 'f']\n"
       ]
      }
     ],
     "prompt_number": 14
    },
    {
     "cell_type": "markdown",
     "metadata": {},
     "source": [
      "****"
     ]
    },
    {
     "cell_type": "markdown",
     "metadata": {},
     "source": [
      "## 10.6  List methods\n",
      "\n",
      "Python provides methods that operate on lists. \n",
      "\n",
      "`append` adds a new element to the end of a list:"
     ]
    },
    {
     "cell_type": "code",
     "collapsed": false,
     "input": [
      "t = ['a', 'b', 'c']\n",
      "t.append('d')\n",
      "print t"
     ],
     "language": "python",
     "metadata": {},
     "outputs": [
      {
       "output_type": "stream",
       "stream": "stdout",
       "text": [
        "['a', 'b', 'c', 'd']\n"
       ]
      }
     ],
     "prompt_number": 15
    },
    {
     "cell_type": "markdown",
     "metadata": {},
     "source": [
      "`extend` takes a list as an argument and appends all of the elements:"
     ]
    },
    {
     "cell_type": "code",
     "collapsed": false,
     "input": [
      "t1 = ['a', 'b', 'c']\n",
      "t2 = ['d', 'e']\n",
      "t1.extend(t2)\n",
      "print t1\n",
      "print t2"
     ],
     "language": "python",
     "metadata": {},
     "outputs": [
      {
       "output_type": "stream",
       "stream": "stdout",
       "text": [
        "['a', 'b', 'c', 'd', 'e']\n",
        "['d', 'e']\n"
       ]
      }
     ],
     "prompt_number": 16
    },
    {
     "cell_type": "markdown",
     "metadata": {},
     "source": [
      "* This example leaves t2 unmodified.\n",
      "\n",
      "`sort` arranges the elements of the list from low to high:"
     ]
    },
    {
     "cell_type": "code",
     "collapsed": false,
     "input": [
      "t = ['d', 'c', 'e', 'b', 'a']\n",
      "t.sort()\n",
      "print t"
     ],
     "language": "python",
     "metadata": {},
     "outputs": [
      {
       "output_type": "stream",
       "stream": "stdout",
       "text": [
        "['a', 'b', 'c', 'd', 'e']\n"
       ]
      }
     ],
     "prompt_number": 17
    },
    {
     "cell_type": "markdown",
     "metadata": {},
     "source": [
      "List methods are all `void`; \n",
      "* They modify the list and return `None`. \n",
      "* If you accidentally write `t = t.sort()`, you will be disappointed with the result."
     ]
    },
    {
     "cell_type": "code",
     "collapsed": false,
     "input": [
      "t = ['d', 'c', 'e', 'b', 'a']\n",
      "t = t.sort()\n",
      "print t"
     ],
     "language": "python",
     "metadata": {},
     "outputs": [
      {
       "output_type": "stream",
       "stream": "stdout",
       "text": [
        "None\n"
       ]
      }
     ],
     "prompt_number": 18
    },
    {
     "cell_type": "markdown",
     "metadata": {},
     "source": [
      "****"
     ]
    },
    {
     "cell_type": "markdown",
     "metadata": {},
     "source": [
      "## 10.7  Map, filter and reduce\n",
      "\n",
      "To add up all the numbers in a list, you can use a loop like this:"
     ]
    },
    {
     "cell_type": "code",
     "collapsed": false,
     "input": [
      "def add_all(t):\n",
      "    total = 0\n",
      "    for x in t:\n",
      "        total += x\n",
      "    return total\n",
      "\n",
      "t = [4, 5, 6]\n",
      "print add_all(t)"
     ],
     "language": "python",
     "metadata": {},
     "outputs": [
      {
       "output_type": "stream",
       "stream": "stdout",
       "text": [
        "15\n"
       ]
      }
     ],
     "prompt_number": 19
    },
    {
     "cell_type": "markdown",
     "metadata": {},
     "source": [
      "* `total` is initialized to `0`. \n",
      "* Each time through the loop, `x` gets one element from the list. \n",
      "* The `+=` operator provides a short way to update a variable. \n",
      "* The **augmented assignment statement**:\n",
      "\n",
      "  ``\n",
      "  total += x\n",
      "  ``\n",
      "\n",
      " is equivalent to:\n",
      "\n",
      "  ``\n",
      "  total = total + x\n",
      "  ``\n",
      "* As the loop executes, total accumulates the sum of the elements; a variable used this way is sometimes called an **accumulator**.\n",
      "* Adding up the elements of a list is such a common operation that Python provides it as a built-in function, `sum`:"
     ]
    },
    {
     "cell_type": "code",
     "collapsed": false,
     "input": [
      "t = [1, 2, 3]\n",
      "print sum(t)"
     ],
     "language": "python",
     "metadata": {},
     "outputs": [
      {
       "output_type": "stream",
       "stream": "stdout",
       "text": [
        "6\n"
       ]
      }
     ],
     "prompt_number": 20
    },
    {
     "cell_type": "markdown",
     "metadata": {},
     "source": [
      "An operation like this that combines a sequence of elements into a single value is sometimes called **reduce**."
     ]
    },
    {
     "cell_type": "markdown",
     "metadata": {},
     "source": [
      "### Exercise 10.1  \n",
      "Write a function called nested_sum that takes a nested list of integers and add up the elements from all of the nested lists."
     ]
    },
    {
     "cell_type": "markdown",
     "metadata": {},
     "source": [
      "****"
     ]
    },
    {
     "cell_type": "markdown",
     "metadata": {},
     "source": [
      "Sometimes you want to traverse one list while building another. \n",
      "* The following function takes a list of strings and returns a new list that contains capitalized strings:"
     ]
    },
    {
     "cell_type": "code",
     "collapsed": false,
     "input": [
      "def capitalize_all(t):\n",
      "    res = []\n",
      "    for s in t:\n",
      "        res.append(s.capitalize())\n",
      "    return res\n",
      "\n",
      "cheeses = ['cheddar', 'ddam', 'gouda']\n",
      "print capitalize_all(cheeses)"
     ],
     "language": "python",
     "metadata": {},
     "outputs": [
      {
       "output_type": "stream",
       "stream": "stdout",
       "text": [
        "['Cheddar', 'Ddam', 'Gouda']\n"
       ]
      }
     ],
     "prompt_number": 21
    },
    {
     "cell_type": "markdown",
     "metadata": {},
     "source": [
      "* `res` is initialized with an empty list; \n",
      " * Each time through the loop, we append the next element. \n",
      " * `res` is another kind of accumulator.\n",
      "\n",
      "An operation like `capitalize_all` is sometimes called a **map** because it \u201cmaps\u201d a function (in this case the method capitalize) onto each of the elements in a sequence.\n",
      "\n",
      " "
     ]
    },
    {
     "cell_type": "markdown",
     "metadata": {},
     "source": [
      "### Exercise 10.2  \n",
      "\n",
      "Use `capitalize_all` to write a function named `capitalize_nested` that takes a nested list of strings and returns a new nested list with all strings capitalized."
     ]
    },
    {
     "cell_type": "markdown",
     "metadata": {},
     "source": [
      "****"
     ]
    },
    {
     "cell_type": "markdown",
     "metadata": {},
     "source": [
      "Another common operation is to select some of the elements from a list and return a sublist.\n",
      "* The following function takes a list of strings and returns a list that contains only the uppercase strings:"
     ]
    },
    {
     "cell_type": "code",
     "collapsed": false,
     "input": [
      "def only_upper(t):\n",
      "    res = []\n",
      "    for s in t:\n",
      "        if s.isupper():\n",
      "            res.append(s)\n",
      "    return res\n",
      "\n",
      "cheese = ['CHEDDAR', 'Ddam', 'gouda']\n",
      "print only_upper(cheese)"
     ],
     "language": "python",
     "metadata": {},
     "outputs": [
      {
       "output_type": "stream",
       "stream": "stdout",
       "text": [
        "['CHEDDAR']\n"
       ]
      }
     ],
     "prompt_number": 22
    },
    {
     "cell_type": "markdown",
     "metadata": {},
     "source": [
      "* `isupper` is a string method that returns `True` if the string contains only upper case letters.\n",
      "\n",
      "An operation like only_upper is called a **filter** because it selects some of the elements and filters out the others.\n",
      "\n",
      "Most common list operations can be expressed as a combination of **map**, **filter** and **reduce**. \n",
      "\n",
      "Because these operations are so common, Python provides language features to support them:\n",
      "* including the built-in function `map` and an operator called a **\u201clist comprehension.\u201d**"
     ]
    },
    {
     "cell_type": "markdown",
     "metadata": {},
     "source": [
      "### Exercise 10.3  \n",
      "\n",
      "Write a function that takes a list of numbers and returns the cumulative sum; that is, a new list where the ith element is the sum of the first i+1 elements from the original list. For example, the cumulative sum of [1, 2, 3] is [1, 3, 6]."
     ]
    },
    {
     "cell_type": "markdown",
     "metadata": {},
     "source": [
      "****"
     ]
    },
    {
     "cell_type": "markdown",
     "metadata": {},
     "source": [
      "## 10.8  Deleting elements\n",
      "\n",
      "There are several ways to delete elements from a list. \n",
      "\n",
      "If you know the index of the element you want, you can use `pop`:"
     ]
    },
    {
     "cell_type": "code",
     "collapsed": false,
     "input": [
      "t = ['a', 'b', 'c']\n",
      "x = t.pop(1)\n",
      "print t\n",
      "print x"
     ],
     "language": "python",
     "metadata": {},
     "outputs": [
      {
       "output_type": "stream",
       "stream": "stdout",
       "text": [
        "['a', 'c']\n",
        "b\n"
       ]
      }
     ],
     "prompt_number": 23
    },
    {
     "cell_type": "markdown",
     "metadata": {},
     "source": [
      "* `pop` modifies the list and returns the element that was removed. \n",
      "* If you don\u2019t provide an index, it deletes and returns the last element.\n",
      "\n",
      "If you don\u2019t need the removed value, you can use the `del` operator:"
     ]
    },
    {
     "cell_type": "code",
     "collapsed": false,
     "input": [
      "t = ['a', 'b', 'c']\n",
      "del t[1]\n",
      "print t"
     ],
     "language": "python",
     "metadata": {},
     "outputs": [
      {
       "output_type": "stream",
       "stream": "stdout",
       "text": [
        "['a', 'c']\n"
       ]
      }
     ],
     "prompt_number": 24
    },
    {
     "cell_type": "markdown",
     "metadata": {},
     "source": [
      "If you know the element you want to remove (but not the index), you can use `remove`:"
     ]
    },
    {
     "cell_type": "code",
     "collapsed": false,
     "input": [
      "t = ['a', 'b', 'c']\n",
      "t.remove('b')\n",
      "print t"
     ],
     "language": "python",
     "metadata": {},
     "outputs": [
      {
       "output_type": "stream",
       "stream": "stdout",
       "text": [
        "['a', 'c']\n"
       ]
      }
     ],
     "prompt_number": 25
    },
    {
     "cell_type": "code",
     "collapsed": false,
     "input": [
      "t = ['a', 'b', 'c', 'd', 'b']\n",
      "t.remove('b')\n",
      "print t\n",
      "print t.remove('c')"
     ],
     "language": "python",
     "metadata": {},
     "outputs": [
      {
       "output_type": "stream",
       "stream": "stdout",
       "text": [
        "['a', 'c', 'd', 'b']\n",
        "None\n"
       ]
      }
     ],
     "prompt_number": 26
    },
    {
     "cell_type": "markdown",
     "metadata": {},
     "source": [
      "* The return value from remove is None.\n",
      "\n",
      "To remove more than one element, you can use `del` with a slice index:"
     ]
    },
    {
     "cell_type": "code",
     "collapsed": false,
     "input": [
      "t = ['a', 'b', 'c', 'd', 'e', 'f']\n",
      "del t[1:5]\n",
      "print t\n",
      "['a', 'f']"
     ],
     "language": "python",
     "metadata": {},
     "outputs": [
      {
       "output_type": "stream",
       "stream": "stdout",
       "text": [
        "['a', 'f']\n"
       ]
      },
      {
       "metadata": {},
       "output_type": "pyout",
       "prompt_number": 27,
       "text": [
        "['a', 'f']"
       ]
      }
     ],
     "prompt_number": 27
    },
    {
     "cell_type": "markdown",
     "metadata": {},
     "source": [
      "As usual, the slice selects all the elements up to, but not including, the second index."
     ]
    },
    {
     "cell_type": "markdown",
     "metadata": {},
     "source": [
      "****"
     ]
    },
    {
     "cell_type": "markdown",
     "metadata": {},
     "source": [
      "## 10.9  Lists and strings\n",
      "\n",
      "A string is a sequence of characters and a list is a sequence of values.\n",
      "* But a list of characters is not the same as a string. \n",
      "* To convert from a string to a list of characters, you can use `list`:"
     ]
    },
    {
     "cell_type": "code",
     "collapsed": false,
     "input": [
      "s = 'spam'\n",
      "t = list(s)\n",
      "print t"
     ],
     "language": "python",
     "metadata": {},
     "outputs": [
      {
       "output_type": "stream",
       "stream": "stdout",
       "text": [
        "['s', 'p', 'a', 'm']\n"
       ]
      }
     ],
     "prompt_number": 28
    },
    {
     "cell_type": "markdown",
     "metadata": {},
     "source": [
      "* Because `list` is the name of a built-in function, you should avoid using it as a variable name. \n",
      "* I also avoid `l` because it looks too much like `1`. So that\u2019s why I use `t`."
     ]
    },
    {
     "cell_type": "markdown",
     "metadata": {},
     "source": [
      "The `list` function breaks a string into individual letters. \n",
      "\n",
      "If you want to break a string into words, you can use the `split` method:"
     ]
    },
    {
     "cell_type": "code",
     "collapsed": false,
     "input": [
      "s = 'pining for the fjords'\n",
      "t = s.split()\n",
      "print t"
     ],
     "language": "python",
     "metadata": {},
     "outputs": [
      {
       "output_type": "stream",
       "stream": "stdout",
       "text": [
        "['pining', 'for', 'the', 'fjords']\n"
       ]
      }
     ],
     "prompt_number": 29
    },
    {
     "cell_type": "markdown",
     "metadata": {},
     "source": [
      "An optional argument called a **delimiter** specifies which characters to use as word boundaries. \n",
      "* The following example uses a hyphen as a delimiter:"
     ]
    },
    {
     "cell_type": "code",
     "collapsed": false,
     "input": [
      "s = 'spam-spam-spam'\n",
      "delimiter = '-'\n",
      "s.split(delimiter)"
     ],
     "language": "python",
     "metadata": {},
     "outputs": [
      {
       "metadata": {},
       "output_type": "pyout",
       "prompt_number": 30,
       "text": [
        "['spam', 'spam', 'spam']"
       ]
      }
     ],
     "prompt_number": 30
    },
    {
     "cell_type": "markdown",
     "metadata": {},
     "source": [
      "`join` is the inverse of `split`. \n",
      "* It takes a list of strings and concatenates the elements. \n",
      "* `join` is a string method, so you have to invoke it on the delimiter and pass the list as a parameter:"
     ]
    },
    {
     "cell_type": "code",
     "collapsed": false,
     "input": [
      "t = ['pining', 'for', 'the', 'fjords']\n",
      "delimiter = ' '\n",
      "delimiter.join(t)"
     ],
     "language": "python",
     "metadata": {},
     "outputs": [
      {
       "metadata": {},
       "output_type": "pyout",
       "prompt_number": 31,
       "text": [
        "'pining for the fjords'"
       ]
      }
     ],
     "prompt_number": 31
    },
    {
     "cell_type": "markdown",
     "metadata": {},
     "source": [
      "In this case the delimiter is a space character, so join puts a space between words. \n",
      "* To concatenate strings without spaces, you can use the empty string, `''`, as a delimiter."
     ]
    },
    {
     "cell_type": "markdown",
     "metadata": {},
     "source": [
      "****"
     ]
    },
    {
     "cell_type": "markdown",
     "metadata": {},
     "source": [
      "## 10.10  Objects and values\n",
      "\n",
      "If we execute these assignment statements:"
     ]
    },
    {
     "cell_type": "code",
     "collapsed": false,
     "input": [
      "a = 'banana'\n",
      "b = 'banana'"
     ],
     "language": "python",
     "metadata": {},
     "outputs": [],
     "prompt_number": 32
    },
    {
     "cell_type": "markdown",
     "metadata": {},
     "source": [
      "We know that `a` and `b` both refer to a string, \n",
      "* But we don\u2019t know whether they refer to the **same** string. \n",
      "* There are two possible states, shown in Figure below:\n",
      "\n",
      "<img src=\"files/figs/list2.png\" width=\"200\" >\n",
      "<img src=\"files/figs/list3.png\" width=\"200\" >\n",
      "\n",
      "* In one case, `a` and `b` refer to two different objects that have the same value. \n",
      "* In the second case, they refer to the same object.\n",
      "\n",
      "To check whether two variables refer to the same object, you can use the `is` operator."
     ]
    },
    {
     "cell_type": "code",
     "collapsed": false,
     "input": [
      "a = 'banana'\n",
      "b = 'banana'\n",
      "a is b"
     ],
     "language": "python",
     "metadata": {},
     "outputs": [
      {
       "metadata": {},
       "output_type": "pyout",
       "prompt_number": 33,
       "text": [
        "True"
       ]
      }
     ],
     "prompt_number": 33
    },
    {
     "cell_type": "markdown",
     "metadata": {},
     "source": [
      "In this example, Python only created one string object, and both `a` and `b` refer to it.\n",
      "\n",
      "But when you create two lists, you get two objects:"
     ]
    },
    {
     "cell_type": "code",
     "collapsed": false,
     "input": [
      "a = [1, 2, 3]\n",
      "b = [1, 2, 3]\n",
      "a is b"
     ],
     "language": "python",
     "metadata": {},
     "outputs": [
      {
       "metadata": {},
       "output_type": "pyout",
       "prompt_number": 34,
       "text": [
        "False"
       ]
      }
     ],
     "prompt_number": 34
    },
    {
     "cell_type": "markdown",
     "metadata": {},
     "source": [
      "The state diagram looks like \n",
      "<img src=\"files/figs/list2.png\" width=\"200\" >\n",
      "\n",
      "In this case we would say that the two lists are **equivalent**, because they have the same elements, but not identical, because they are not the same object. \n",
      "* If two objects are identical, they are also equivalent, \n",
      "* But if they are equivalent, they are not necessarily identical.\n",
      "\n",
      "Until now, we have been using **\u201cobject\u201d** and **\u201cvalue\u201d** interchangeably, \n",
      "* It is more precise to say that an object has a value. \n",
      "* If you execute `[1,2,3]`, you get a list object whose value is a sequence of integers. \n",
      "* If another list has the same elements, we say it has *the same value*, but it is **not the same object**."
     ]
    },
    {
     "cell_type": "markdown",
     "metadata": {},
     "source": [
      "****"
     ]
    },
    {
     "cell_type": "markdown",
     "metadata": {},
     "source": [
      "## 10.11  Aliasing\n",
      "\n",
      "If `a` refers to an object and you assign `b = a`, then both variables refer to the same object:"
     ]
    },
    {
     "cell_type": "code",
     "collapsed": false,
     "input": [
      "a = [1, 2, 3]\n",
      "b = a\n",
      "b is a"
     ],
     "language": "python",
     "metadata": {},
     "outputs": [
      {
       "metadata": {},
       "output_type": "pyout",
       "prompt_number": 35,
       "text": [
        "True"
       ]
      }
     ],
     "prompt_number": 35
    },
    {
     "cell_type": "markdown",
     "metadata": {},
     "source": [
      "The state diagram looks like \n",
      "<img src=\"files/figs/list3.png\" width=\"200\" >"
     ]
    },
    {
     "cell_type": "markdown",
     "metadata": {},
     "source": [
      "The association of a variable with an object is called a **reference**. \n",
      "* In this example, there are two references to the same object.\n",
      "\n",
      "An object with more than one reference has more than one name, so we say that the object is **aliased**.\n",
      "\n",
      "If the aliased object is **mutable**, changes made with one alias affect the other:"
     ]
    },
    {
     "cell_type": "code",
     "collapsed": false,
     "input": [
      "a = [1, 2, 3]\n",
      "b = a\n",
      "b is a\n",
      "b[0] = 17\n",
      "print a"
     ],
     "language": "python",
     "metadata": {},
     "outputs": [
      {
       "output_type": "stream",
       "stream": "stdout",
       "text": [
        "[17, 2, 3]\n"
       ]
      }
     ],
     "prompt_number": 36
    },
    {
     "cell_type": "markdown",
     "metadata": {},
     "source": [
      "Although this behavior can be useful, it is **error-prone**. \n",
      "* In general, it is safer to avoid aliasing when you are working with mutable objects.\n",
      "\n",
      "For immutable objects like strings, aliasing is not as much of a problem. In this example:"
     ]
    },
    {
     "cell_type": "code",
     "collapsed": false,
     "input": [
      "a = 'banana'\n",
      "b = 'banana'\n",
      "print a is b\n",
      "print b is a"
     ],
     "language": "python",
     "metadata": {},
     "outputs": [
      {
       "output_type": "stream",
       "stream": "stdout",
       "text": [
        "True\n",
        "True\n"
       ]
      }
     ],
     "prompt_number": 37
    },
    {
     "cell_type": "markdown",
     "metadata": {},
     "source": [
      "It almost never makes a difference whether `a` and `b` refer to the same string or not."
     ]
    },
    {
     "cell_type": "markdown",
     "metadata": {},
     "source": [
      "****"
     ]
    },
    {
     "cell_type": "markdown",
     "metadata": {},
     "source": [
      "## 10.12  List arguments\n",
      "\n",
      "When you pass a list to a function, the function gets a **reference** to the list. \n",
      "* If the function modifies a list parameter, the caller sees the change. \n",
      "* For example, `delete_head` removes the first element from a list:"
     ]
    },
    {
     "cell_type": "code",
     "collapsed": false,
     "input": [
      "def delete_head(t):\n",
      "    del t[0]\n",
      "    \n",
      "# Here\u2019s how it is used:\n",
      "\n",
      "letters = ['a', 'b', 'c']\n",
      "delete_head(letters)\n",
      "print letters"
     ],
     "language": "python",
     "metadata": {},
     "outputs": [
      {
       "output_type": "stream",
       "stream": "stdout",
       "text": [
        "['b', 'c']\n"
       ]
      }
     ],
     "prompt_number": 38
    },
    {
     "cell_type": "markdown",
     "metadata": {},
     "source": [
      "The parameter `t` and the variable letters are aliases for the same object. \n",
      "* The **stack diagram** looks like\n",
      "\n",
      "<img src=\"files/figs/stack5.png\" width=\"600\" >\n",
      "\n",
      "Since the list is shared by two frames, I drew it between them.\n",
      "\n",
      "It is important to distinguish between operations that **modify** lists and operations that **create** new lists. \n",
      "* For example, the `append `method modifies a list, but the `+` operator creates a new list:"
     ]
    },
    {
     "cell_type": "code",
     "collapsed": false,
     "input": [
      "t1 = [1, 2]\n",
      "t2 = t1.append(3)\n",
      "print t1\n",
      "print t2\n",
      "\n",
      "t3 = t1 + [4]\n",
      "print t3"
     ],
     "language": "python",
     "metadata": {},
     "outputs": [
      {
       "output_type": "stream",
       "stream": "stdout",
       "text": [
        "[1, 2, 3]\n",
        "None\n",
        "[1, 2, 3, 4]\n"
       ]
      }
     ],
     "prompt_number": 39
    },
    {
     "cell_type": "markdown",
     "metadata": {},
     "source": [
      "This difference is important when you write functions that are supposed to modify lists. \n",
      "* For example, this function **does not** delete the head of a list:"
     ]
    },
    {
     "cell_type": "code",
     "collapsed": false,
     "input": [
      "def bad_delete_head(t):\n",
      "    t = t[1:]              # WRONG!\n",
      "\n",
      "t1 = [1, 2]\n",
      "bad_delete_head(t1)\n",
      "print t1"
     ],
     "language": "python",
     "metadata": {},
     "outputs": [
      {
       "output_type": "stream",
       "stream": "stdout",
       "text": [
        "[1, 2]\n"
       ]
      }
     ],
     "prompt_number": 40
    },
    {
     "cell_type": "markdown",
     "metadata": {},
     "source": [
      "The slice operator creates a **new** list and the assignment makes `t` refer to it, \n",
      "* but none of that has any effect on the list that was passed as an argument.\n",
      "\n",
      "An alternative is to write a function that creates and returns a new list. \n",
      "* For example, tail returns all but the first element of a list:"
     ]
    },
    {
     "cell_type": "code",
     "collapsed": false,
     "input": [
      "def tail(t):\n",
      "    return t[1:]\n",
      "\n",
      "t1 = [1, 2]\n",
      "print tail(t1)\n",
      "print t1\n",
      "\n",
      "letters = ['a', 'b', 'c']\n",
      "rest = tail(letters)\n",
      "print rest"
     ],
     "language": "python",
     "metadata": {},
     "outputs": [
      {
       "output_type": "stream",
       "stream": "stdout",
       "text": [
        "[2]\n",
        "[1, 2]\n",
        "['b', 'c']\n"
       ]
      }
     ],
     "prompt_number": 41
    },
    {
     "cell_type": "markdown",
     "metadata": {},
     "source": [
      "****"
     ]
    },
    {
     "cell_type": "markdown",
     "metadata": {},
     "source": [
      "## 10.13  Debugging\n",
      "\n",
      "Careless use of lists (and other mutable objects) can lead to long hours of debugging. \n",
      "\n",
      "Here are some common pitfalls and ways to avoid them:\n",
      "\n",
      "1.  Don\u2019t forget that most list methods modify the argument and return `None`.  \n",
      "    * This is the opposite of the string methods, which return a new string and leave the original alone.\n",
      "\n",
      "    If you are used to writing string code like this:\n",
      "   \n",
      "    ``\n",
      "    word = word.strip()\n",
      "    ``\n",
      "   \n",
      "    It is tempting to write list code like this:\n",
      "   \n",
      "    ``\n",
      "    t = t.sort()           # WRONG!\n",
      "    ``\n",
      "   \n",
      "    Because sort returns `None`, the next operation you perform with t is likely to fail.\n",
      "       \n",
      "2.  Pick an idiom and stick with it.\n",
      "\n",
      "    Part of the problem with lists is that there are too many ways to do things. \n",
      "    * For example, to remove an element from a list, you can use `pop`, `remove`, `del`, or even a slice assignment.\n",
      "    \n",
      "    To add an element, you can use the `append` method or the `+` operator. Assuming that `t` is a list and `x` is a list element, these are right:\n",
      "    \n",
      "    ``\n",
      "    t.append(x)\n",
      "    t = t + [x]\n",
      "    ``\n",
      "    \n",
      "    And these are wrong:\n",
      "    \n",
      "    ``\n",
      "    t.append([x])          # WRONG!\n",
      "    t = t.append(x)        # WRONG!\n",
      "    t + [x]                # WRONG!\n",
      "    t = t + x              # WRONG!\n",
      "    ``\n",
      "    \n",
      "    Try out each of these examples in interactive mode to make sure you understand what they do. Notice that only the last one causes a runtime error; the other three are legal, but they do the wrong thing.\n",
      "    \n",
      "3.  Make copies to avoid aliasing.\n",
      "\n",
      "    If you want to use a method like `sort` that modifies the argument, but you need to keep the original list as well, you can make a copy.\n",
      "    \n",
      "    ``\n",
      "    orig = t[:]\n",
      "    t.sort()\n",
      "    ``\n",
      "    \n",
      "    In this example you could also use the built-in function `sorted`, which returns a new, sorted list and leaves the original alone. But in that case you should avoid using sorted as a variable name!"
     ]
    },
    {
     "cell_type": "markdown",
     "metadata": {},
     "source": [
      "****"
     ]
    },
    {
     "cell_type": "markdown",
     "metadata": {},
     "source": [
      "## 10.14  Glossary\n",
      "\n",
      "**list:**\n",
      "\n",
      "A sequence of values.\n",
      "\n",
      "**element:**\n",
      "\n",
      "One of the values in a list (or other sequence), also called items.\n",
      "\n",
      "**index:**\n",
      "\n",
      "An integer value that indicates an element in a list.\n",
      "\n",
      "**nested list:**\n",
      "\n",
      "A list that is an element of another list.\n",
      "\n",
      "**list traversal:**\n",
      "\n",
      "The sequential accessing of each element in a list.\n",
      "\n",
      "**mapping:**\n",
      "\n",
      "A relationship in which each element of one set corresponds to an element of another set. For example, a list is a mapping from \n",
      "indices to elements.\n",
      "\n",
      "**accumulator:**\n",
      "\n",
      "A variable used in a loop to add up or accumulate a result.\n",
      "\n",
      "**augmented assignment:**\n",
      "\n",
      "A statement that updates the value of a variable using an operator like +=.\n",
      "\n",
      "**reduce:**\n",
      "\n",
      "A processing pattern that traverses a sequence and accumulates the elements into a single result.\n",
      "\n",
      "**map:**\n",
      "\n",
      "A processing pattern that traverses a sequence and performs an operation on each element.\n",
      "\n",
      "**filter:**\n",
      "\n",
      "A processing pattern that traverses a list and selects the elements that satisfy some criterion.\n",
      "\n",
      "**object:**\n",
      "\n",
      "Something a variable can refer to. An object has a type and a value.\n",
      "\n",
      "**equivalent:**\n",
      "Having the same value.\n",
      "\n",
      "**identical:**\n",
      "\n",
      "Being the same object (which implies equivalence).\n",
      "\n",
      "**reference:**\n",
      "\n",
      "The association between a variable and its value.\n",
      "\n",
      "**aliasing:**\n",
      "\n",
      "A circumstance where two or more variables refer to the same object.\n",
      "\n",
      "**delimiter:**\n",
      "\n",
      "A character or string used to indicate where a string should be split."
     ]
    },
    {
     "cell_type": "markdown",
     "metadata": {},
     "source": [
      "****"
     ]
    },
    {
     "cell_type": "markdown",
     "metadata": {},
     "source": [
      "## 10.15  Exercises"
     ]
    },
    {
     "cell_type": "markdown",
     "metadata": {},
     "source": [
      "****"
     ]
    },
    {
     "cell_type": "markdown",
     "metadata": {},
     "source": [
      "### Exercise 10.6\n",
      "\n",
      "Write a function called `is_sorted` that takes a list as a parameter and returns `True` if the list is sorted in ascending order and False otherwise. You can assume (as a precondition) that the elements of the list can be compared with the relational operators `<`, `>`, etc.\n",
      "\n",
      "For example, `is_sorted([1,2,2])` should return `True` and `is_sorted(['b','a'])` should return `False`."
     ]
    },
    {
     "cell_type": "markdown",
     "metadata": {},
     "source": [
      "****"
     ]
    },
    {
     "cell_type": "markdown",
     "metadata": {},
     "source": [
      "### Exercise 10.7  \n",
      "Two words are anagrams if you can rearrange the letters from one to spell the other. Write a function called `is_anagram` that takes two strings and returns `True` if they are anagrams."
     ]
    },
    {
     "cell_type": "markdown",
     "metadata": {},
     "source": [
      "****"
     ]
    },
    {
     "cell_type": "markdown",
     "metadata": {},
     "source": [
      "### Exercise 10.8  \n",
      "\n",
      "The (so-called) Birthday Paradox:\n",
      "\n",
      "1. Write a function called `has_duplicates` that takes a list and returns `True` if there is any element that appears more than once. It should not modify the original list.\n",
      "\n",
      "2. If there are 23 students in your class, what are the chances that two of you have the same birthday? You can estimate this probability by generating random samples of 23 birthdays and checking for matches. Hint: you can generate random birthdays with the `randint` function in the `random` module.\n",
      "\n",
      "You can read about this problem at http://en.wikipedia.org/wiki/Birthday_paradox, "
     ]
    },
    {
     "cell_type": "markdown",
     "metadata": {},
     "source": [
      "****"
     ]
    },
    {
     "cell_type": "markdown",
     "metadata": {},
     "source": [
      "### Exercise 10.9  \n",
      "\n",
      "Write a function called remove_duplicates that takes a list and returns a new list with only the unique elements from the original. Hint: they don\u2019t have to be in the same order."
     ]
    },
    {
     "cell_type": "markdown",
     "metadata": {},
     "source": [
      "****"
     ]
    },
    {
     "cell_type": "markdown",
     "metadata": {},
     "source": [
      "### Exercise 10.10  \n",
      "\n",
      "Write a function that reads the file `words.txt` and builds a list with one element per word. Write two versions of this function, one using the `append` method and the other using the idiom `t = t + [x]`. Which one takes longer to run? Why?\n",
      "\n",
      "Hint: use the `time` module to measure elapsed time."
     ]
    },
    {
     "cell_type": "markdown",
     "metadata": {},
     "source": [
      "****"
     ]
    },
    {
     "cell_type": "markdown",
     "metadata": {},
     "source": [
      "### Exercise 10.11  \n",
      "\n",
      "To check whether a word is in the word list, you could use the `in` operator, but it would be slow because it searches through the words in order.\n",
      "\n",
      "Because the words are in alphabetical order, we can speed things up with a bisection search (also known as binary search), which is similar to what you do when you look a word up in the dictionary. You start in the middle and check to see whether the word you are looking for comes before the word in the middle of the list. If so, then you search the first half of the list the same way. Otherwise you search the second half.\n",
      "\n",
      "Either way, you cut the remaining search space in half. If the word list has 113,809 words, it will take about 17 steps to find the word or conclude that it\u2019s not there.\n",
      "\n",
      "Write a function called `bisect` that takes a sorted list and a target value and returns the index of the value in the list, if it\u2019s there, or `None` if it\u2019s not.\n",
      "\n",
      "Or you could read the documentation of the bisect module and use that!"
     ]
    },
    {
     "cell_type": "markdown",
     "metadata": {},
     "source": [
      "****"
     ]
    },
    {
     "cell_type": "markdown",
     "metadata": {},
     "source": [
      "### Exercise 10.12  \n",
      "Two words are a \u201creverse pair\u201d if each is the reverse of the other. Write a program that finds all the reverse pairs in the word list."
     ]
    },
    {
     "cell_type": "markdown",
     "metadata": {},
     "source": [
      "****"
     ]
    },
    {
     "cell_type": "markdown",
     "metadata": {},
     "source": [
      "### Exercise 10.13  \n",
      "\n",
      "Two words \u201cinterlock\u201d if taking alternating letters from each forms a new word. For example, \u201cshoe\u201d and \u201ccold\u201d interlock to form \u201cschooled.\u201d \n",
      "\n",
      "Write a program that finds all pairs of words that interlock. Hint: don\u2019t enumerate all pairs!\n",
      "\n",
      "Can you find any words that are three-way interlocked; that is, every third letter forms a word, starting from the first, second or third?"
     ]
    },
    {
     "cell_type": "code",
     "collapsed": false,
     "input": [],
     "language": "python",
     "metadata": {},
     "outputs": [],
     "prompt_number": 41
    }
   ],
   "metadata": {}
  }
 ]
}