{
 "metadata": {
  "name": "",
  "signature": "sha256:e8ceda5b32a61dbbf7db6eb2425b11bbe40c30bdf2b8b78daa8fee659f35d504"
 },
 "nbformat": 3,
 "nbformat_minor": 0,
 "worksheets": [
  {
   "cells": [
    {
     "cell_type": "markdown",
     "metadata": {},
     "source": [
      "# Chapter 17  Classes and methods"
     ]
    },
    {
     "cell_type": "markdown",
     "metadata": {},
     "source": [
      "****"
     ]
    },
    {
     "cell_type": "markdown",
     "metadata": {},
     "source": [
      "## 17.1  Object-oriented features\n",
      "\n",
      "Python is an **object-oriented programming language**, which means that it provides features that support object-oriented programming.\n",
      "\n",
      "It is not easy to define object-oriented programming, but we have already seen some of its characteristics:\n",
      "\n",
      "* Programs are made up of object definitions and function definitions, and most of the computation is expressed in terms of operations on objects.\n",
      "\n",
      "* Each object definition corresponds to some object or concept in the real world, and the functions that operate on that object correspond to the ways real-world objects interact.\n",
      "\n",
      "For example, the `Time` class defined in Chapter 16 corresponds to the way people record the time of day, and the functions we defined correspond to the kinds of things people do with times. Similarly, the `Point` and `Rectangle` classes correspond to the mathematical concepts of a point and a rectangle.\n",
      "\n",
      "So far, we have not taken advantage of the features Python provides to support object-oriented programming. These features are not strictly necessary; most of them provide alternative syntax for things we have already done. But in many cases, the alternative is more concise and more accurately conveys the structure of the program.\n",
      "\n",
      "For example, in the `Time` program, there is no obvious connection between the class definition and the function definitions that follow. With some examination, it is apparent that every function takes at least one `Time` object as an argument.\n",
      "\n",
      "This observation is the motivation for **methods**; a method is a function that is associated with a particular class. We have seen methods for strings, lists, dictionaries and tuples. In this chapter, we will define methods for user-defined types.\n",
      "\n",
      "Methods are semantically the same as functions, but there are two syntactic differences:\n",
      "\n",
      "* Methods are defined inside a class definition in order to make the relationship between the class and the method explicit.\n",
      "* The syntax for invoking a method is different from the syntax for calling a function.\n",
      "\n",
      "In the next few sections, we will take the functions from the previous two chapters and transform them into methods. This transformation is purely mechanical; you can do it simply by following a sequence of steps. If you are comfortable converting from one form to another, you will be able to choose the best form for whatever you are doing.\n",
      "`"
     ]
    },
    {
     "cell_type": "markdown",
     "metadata": {},
     "source": [
      "****"
     ]
    },
    {
     "cell_type": "markdown",
     "metadata": {},
     "source": [
      "## 17.2  Printing objects\n",
      "\n",
      "In Chapter 16, we defined a class named `Time` and in Exercise 1, you wrote a function named `print_time`:"
     ]
    },
    {
     "cell_type": "code",
     "collapsed": false,
     "input": [
      "class Time(object):\n",
      "    \"\"\"Represents the time of day.\"\"\"\n",
      "\n",
      "def print_time(time):\n",
      "    print '%.2d:%.2d:%.2d' % (time.hour, time.minute, time.second)"
     ],
     "language": "python",
     "metadata": {},
     "outputs": [],
     "prompt_number": 1
    },
    {
     "cell_type": "markdown",
     "metadata": {},
     "source": [
      "To call this function, you have to pass a `Time` object as an argument:"
     ]
    },
    {
     "cell_type": "code",
     "collapsed": false,
     "input": [
      "start = Time()\n",
      "start.hour = 9\n",
      "start.minute = 45\n",
      "start.second = 00\n",
      "print_time(start)"
     ],
     "language": "python",
     "metadata": {},
     "outputs": [
      {
       "output_type": "stream",
       "stream": "stdout",
       "text": [
        "09:45:00\n"
       ]
      }
     ],
     "prompt_number": 2
    },
    {
     "cell_type": "markdown",
     "metadata": {},
     "source": [
      "To make `print_time` a **method**, all we have to do is move the function definition inside the class definition. Notice the change in indentation."
     ]
    },
    {
     "cell_type": "code",
     "collapsed": false,
     "input": [
      "class Time(object):\n",
      "    \n",
      "    # methods\n",
      "    def print_time(time):\n",
      "        print '%.2d:%.2d:%.2d' % (time.hour, time.minute, time.second)"
     ],
     "language": "python",
     "metadata": {},
     "outputs": [],
     "prompt_number": 3
    },
    {
     "cell_type": "markdown",
     "metadata": {},
     "source": [
      "Now there are two ways to call `print_time`. The first (and less common) way is to use function syntax:"
     ]
    },
    {
     "cell_type": "code",
     "collapsed": false,
     "input": [
      "start = Time()\n",
      "start.hour = 9\n",
      "start.minute = 45\n",
      "start.second = 00\n",
      "print_time(start)\n",
      "Time.print_time(start)"
     ],
     "language": "python",
     "metadata": {},
     "outputs": [
      {
       "output_type": "stream",
       "stream": "stdout",
       "text": [
        "09:45:00\n",
        "09:45:00\n"
       ]
      }
     ],
     "prompt_number": 4
    },
    {
     "cell_type": "markdown",
     "metadata": {},
     "source": [
      "In this use of dot notation, `Time` is the name of the class, and `print_time` is the name of the method. `start` is passed as a parameter.\n",
      "\n",
      "The second (and more concise) way is to use method syntax:"
     ]
    },
    {
     "cell_type": "code",
     "collapsed": false,
     "input": [
      "start = Time()\n",
      "start.hour = 9\n",
      "start.minute = 45\n",
      "start.second = 00\n",
      "print_time(start)\n",
      "start.print_time()"
     ],
     "language": "python",
     "metadata": {},
     "outputs": [
      {
       "output_type": "stream",
       "stream": "stdout",
       "text": [
        "09:45:00\n",
        "09:45:00\n"
       ]
      }
     ],
     "prompt_number": 5
    },
    {
     "cell_type": "markdown",
     "metadata": {},
     "source": [
      "In this use of dot notation, `print_time` is the name of the method (again), and `start` is the object the method is invoked on, which is called the **subject**. Just as the subject of a sentence is what the sentence is about, the subject of a method invocation is what the method is about.\n",
      "\n",
      "Inside the method, the subject is assigned to the **first parameter**, so in this case `start` is assigned to `time`.\n",
      "\n",
      "By convention, the first parameter of a method is called `self`, so it would be more common to write `print_time` like this:"
     ]
    },
    {
     "cell_type": "code",
     "collapsed": false,
     "input": [
      "class Time(object):\n",
      "    \n",
      "    # methods\n",
      "    def print_time(self):\n",
      "        print '%.2d:%.2d:%.2d' % (self.hour, self.minute, self.second)\n",
      "\n",
      "start = Time()\n",
      "start.hour = 9\n",
      "start.minute = 45\n",
      "start.second = 00\n",
      "start.print_time()        "
     ],
     "language": "python",
     "metadata": {},
     "outputs": [
      {
       "output_type": "stream",
       "stream": "stdout",
       "text": [
        "09:45:00\n"
       ]
      }
     ],
     "prompt_number": 6
    },
    {
     "cell_type": "markdown",
     "metadata": {},
     "source": [
      "The reason for this convention is an implicit metaphor:\n",
      "\n",
      "* The syntax for a function call, `print_time(start)`, suggests that the function is the active agent. It says something like, \u201cHey print_time! Here\u2019s an object for you to print.\u201d\n",
      "\n",
      "* In object-oriented programming, the objects are the active agents. A method invocation like `start.print_time()` says \u201cHey start! Please print yourself.\u201d\n",
      "\n",
      "This change in perspective might be more polite, but it is not obvious that it is useful. In the examples we have seen so far, it may not be. But sometimes shifting responsibility from the functions onto the objects makes it possible to write more versatile functions, and makes it easier to maintain and reuse code."
     ]
    },
    {
     "cell_type": "markdown",
     "metadata": {},
     "source": [
      "****"
     ]
    },
    {
     "cell_type": "markdown",
     "metadata": {},
     "source": [
      "### Exercise 17.1  \n",
      "\n",
      "Rewrite `time_to_int` (from Section 16.4) as a method. It is probably not appropriate to rewrite `int_to_time` as a method; what object you would invoke it on?"
     ]
    },
    {
     "cell_type": "code",
     "collapsed": false,
     "input": [
      "class Time(object):\n",
      "    \n",
      "    # methods\n",
      "    def print_time(self):\n",
      "        print '%.2d:%.2d:%.2d' % (self.hour, self.minute, self.second)\n",
      "    \n",
      "    def time_to_int(self):\n",
      "        minutes = self.hour * 60 + self.minute\n",
      "        seconds = minutes * 60 + self.second\n",
      "        return seconds\n",
      "\n",
      "start = Time()\n",
      "start.hour = 0\n",
      "start.minute = 2\n",
      "start.second = 00      \n",
      "start.time_to_int()"
     ],
     "language": "python",
     "metadata": {},
     "outputs": [
      {
       "metadata": {},
       "output_type": "pyout",
       "prompt_number": 7,
       "text": [
        "120"
       ]
      }
     ],
     "prompt_number": 7
    },
    {
     "cell_type": "markdown",
     "metadata": {},
     "source": [
      "****"
     ]
    },
    {
     "cell_type": "markdown",
     "metadata": {},
     "source": [
      "## 17.3  Another example\n",
      "\n",
      "Here\u2019s a version of `increment` (from Section 16.3) rewritten as a method:"
     ]
    },
    {
     "cell_type": "code",
     "collapsed": false,
     "input": [
      "def int_to_time(seconds):\n",
      "    time = Time()\n",
      "    minutes, time.second = divmod(seconds, 60)\n",
      "    time.hour, time.minute = divmod(minutes, 60)\n",
      "    return time\n",
      " \n",
      "    \n",
      "class Time(object):\n",
      "    \"\"\"Represents the time of day.\n",
      "    attributes: hour, minute, second\n",
      "    \"\"\"\n",
      "    \n",
      "    # methods\n",
      "    def print_time(time):\n",
      "        print '%.2d:%.2d:%.2d' % (time.hour, time.minute, time.second)    \n",
      "        \n",
      "    def time_to_int(self):\n",
      "        minutes = self.hour * 60 + self.minute\n",
      "        seconds = minutes * 60 + self.second\n",
      "        return seconds\n",
      "    \n",
      "    def increment(self, seconds):\n",
      "        seconds += self.time_to_int()\n",
      "        return int_to_time(seconds)\n"
     ],
     "language": "python",
     "metadata": {},
     "outputs": [],
     "prompt_number": 8
    },
    {
     "cell_type": "markdown",
     "metadata": {},
     "source": [
      "This version assumes that `time_to_int` is written as a method, as in Exercise 1. Also, note that it is a pure function, not a modifier.\n",
      "\n",
      "Here\u2019s how you would invoke increment:"
     ]
    },
    {
     "cell_type": "code",
     "collapsed": false,
     "input": [
      "start = Time()\n",
      "start.hour = 9\n",
      "start.minute = 45\n",
      "start.second = 00\n",
      "\n",
      "start.print_time()\n",
      "end = start.increment(1337)\n",
      "end.print_time()"
     ],
     "language": "python",
     "metadata": {},
     "outputs": [
      {
       "output_type": "stream",
       "stream": "stdout",
       "text": [
        "09:45:00\n",
        "10:07:17\n"
       ]
      }
     ],
     "prompt_number": 9
    },
    {
     "cell_type": "markdown",
     "metadata": {},
     "source": [
      "The subject, `start`, gets assigned to the first parameter, `self`. The argument, `1337`, gets assigned to the second parameter, `seconds`.\n",
      "\n",
      "This mechanism can be confusing, especially if you make an error. For example, if you invoke `increment` with two arguments, you get:"
     ]
    },
    {
     "cell_type": "code",
     "collapsed": false,
     "input": [
      "end = start.increment(1337, 460)"
     ],
     "language": "python",
     "metadata": {},
     "outputs": [
      {
       "ename": "TypeError",
       "evalue": "increment() takes exactly 2 arguments (3 given)",
       "output_type": "pyerr",
       "traceback": [
        "\u001b[0;31m---------------------------------------------------------------------------\u001b[0m\n\u001b[0;31mTypeError\u001b[0m                                 Traceback (most recent call last)",
        "\u001b[0;32m<ipython-input-10-fc6b983fb3d4>\u001b[0m in \u001b[0;36m<module>\u001b[0;34m()\u001b[0m\n\u001b[0;32m----> 1\u001b[0;31m \u001b[0mend\u001b[0m \u001b[0;34m=\u001b[0m \u001b[0mstart\u001b[0m\u001b[0;34m.\u001b[0m\u001b[0mincrement\u001b[0m\u001b[0;34m(\u001b[0m\u001b[0;36m1337\u001b[0m\u001b[0;34m,\u001b[0m \u001b[0;36m460\u001b[0m\u001b[0;34m)\u001b[0m\u001b[0;34m\u001b[0m\u001b[0m\n\u001b[0m",
        "\u001b[0;31mTypeError\u001b[0m: increment() takes exactly 2 arguments (3 given)"
       ]
      }
     ],
     "prompt_number": 10
    },
    {
     "cell_type": "markdown",
     "metadata": {},
     "source": [
      "The error message is initially confusing, because there are only two arguments in parentheses. But the subject is also considered an argument, so all together that\u2019s three."
     ]
    },
    {
     "cell_type": "markdown",
     "metadata": {},
     "source": [
      "****"
     ]
    },
    {
     "cell_type": "markdown",
     "metadata": {},
     "source": [
      "## 17.4  A more complicated example\n",
      "\n",
      "`is_after` (from Exercise 2) is slightly more complicated because it takes two Time objects as parameters. In this case it is conventional to name the first parameter self and the second parameter other:"
     ]
    },
    {
     "cell_type": "code",
     "collapsed": false,
     "input": [
      "def int_to_time(seconds):\n",
      "    time = Time()\n",
      "    minutes, time.second = divmod(seconds, 60)\n",
      "    time.hour, time.minute = divmod(minutes, 60)\n",
      "    return time\n",
      " \n",
      "    \n",
      "class Time(object):\n",
      "    \"\"\"Represents the time of day.\n",
      "    attributes: hour, minute, second\n",
      "    \"\"\"\n",
      "    \n",
      "    # methods\n",
      "    def print_time(time):\n",
      "        print '%.2d:%.2d:%.2d' % (time.hour, time.minute, time.second)    \n",
      "        \n",
      "    def time_to_int(self):\n",
      "        minutes = self.hour * 60 + self.minute\n",
      "        seconds = minutes * 60 + self.second\n",
      "        return seconds\n",
      "    \n",
      "    def increment(self, seconds):\n",
      "        seconds += self.time_to_int()\n",
      "        return int_to_time(seconds)\n",
      "\n",
      "    def is_after(self, other):\n",
      "        return self.time_to_int() > other.time_to_int()\n",
      "\n",
      "start = Time()\n",
      "start.hour = 9\n",
      "start.minute = 45\n",
      "start.second = 00\n",
      "\n",
      "end = start.increment(1337)\n",
      "end.is_after(start)"
     ],
     "language": "python",
     "metadata": {},
     "outputs": [
      {
       "metadata": {},
       "output_type": "pyout",
       "prompt_number": 11,
       "text": [
        "True"
       ]
      }
     ],
     "prompt_number": 11
    },
    {
     "cell_type": "markdown",
     "metadata": {},
     "source": [
      "One nice thing about this syntax is that it almost reads like English: \u201cend is after start?\u201d"
     ]
    },
    {
     "cell_type": "markdown",
     "metadata": {},
     "source": [
      "****"
     ]
    },
    {
     "cell_type": "markdown",
     "metadata": {},
     "source": [
      "## 17.5  The init method\n",
      "\n",
      "The `init` method (short for \u201cinitialization\u201d) is a **special method** that gets invoked when an object is instantiated. Its full name is `__init__` (two underscore characters, followed by `init`, and then two more underscores). An init method for the `Time` class might look like this:"
     ]
    },
    {
     "cell_type": "code",
     "collapsed": false,
     "input": [
      "class Time(object):\n",
      "    \"\"\"Represents the time of day.\n",
      "    attributes: hour, minute, second\n",
      "    \"\"\"\n",
      "    \n",
      "    # special methods\n",
      "    def __init__(self, hour=0, minute=0, second=0):\n",
      "        self.hour = hour\n",
      "        self.minute = minute\n",
      "        self.second = second\n",
      "    \n",
      "    # methods\n",
      "    def print_time(time):\n",
      "        print '%.2d:%.2d:%.2d' % (time.hour, time.minute, time.second)    \n",
      "        \n",
      "    def time_to_int(self):\n",
      "        minutes = self.hour * 60 + self.minute\n",
      "        seconds = minutes * 60 + self.second\n",
      "        return seconds\n",
      "    \n",
      "    def increment(self, seconds):\n",
      "        seconds += self.time_to_int()\n",
      "        return int_to_time(seconds)\n",
      "\n",
      "    def is_after(self, other):\n",
      "        return self.time_to_int() > other.time_to_int()"
     ],
     "language": "python",
     "metadata": {},
     "outputs": [],
     "prompt_number": 12
    },
    {
     "cell_type": "markdown",
     "metadata": {},
     "source": [
      "It is common for the parameters of `__init__` to have the same names as the attributes. The statement\n",
      "```\n",
      "        self.hour = hour\n",
      "```\n",
      "stores the value of the parameter `hour` as an attribute of `self`.\n",
      "\n",
      "The parameters are **optional**, so if you call Time with no arguments, you get the default values."
     ]
    },
    {
     "cell_type": "code",
     "collapsed": false,
     "input": [
      "time = Time()\n",
      "time.print_time()"
     ],
     "language": "python",
     "metadata": {},
     "outputs": [
      {
       "output_type": "stream",
       "stream": "stdout",
       "text": [
        "00:00:00\n"
       ]
      }
     ],
     "prompt_number": 13
    },
    {
     "cell_type": "markdown",
     "metadata": {},
     "source": [
      "If you provide one argument, it overrides `hour`:"
     ]
    },
    {
     "cell_type": "code",
     "collapsed": false,
     "input": [
      "time = Time (9)\n",
      "time.print_time()"
     ],
     "language": "python",
     "metadata": {},
     "outputs": [
      {
       "output_type": "stream",
       "stream": "stdout",
       "text": [
        "09:00:00\n"
       ]
      }
     ],
     "prompt_number": 14
    },
    {
     "cell_type": "markdown",
     "metadata": {},
     "source": [
      "If you provide two arguments, they override `hour` and `minute`."
     ]
    },
    {
     "cell_type": "code",
     "collapsed": false,
     "input": [
      "time = Time(9, 45)\n",
      "time.print_time()"
     ],
     "language": "python",
     "metadata": {},
     "outputs": [
      {
       "output_type": "stream",
       "stream": "stdout",
       "text": [
        "09:45:00\n"
       ]
      }
     ],
     "prompt_number": 15
    },
    {
     "cell_type": "markdown",
     "metadata": {},
     "source": [
      "And if you provide three arguments, they override all three default values."
     ]
    },
    {
     "cell_type": "markdown",
     "metadata": {},
     "source": [
      "****"
     ]
    },
    {
     "cell_type": "markdown",
     "metadata": {},
     "source": [
      "### Exercise 2  \n",
      "\n",
      "Write an init method for the `Point` class that takes `x` and `y` as optional parameters and assigns them to the corresponding attributes.\n"
     ]
    },
    {
     "cell_type": "markdown",
     "metadata": {},
     "source": [
      "****"
     ]
    },
    {
     "cell_type": "markdown",
     "metadata": {},
     "source": [
      "## 17.6  The `__str__` method\n",
      "\n",
      "`__str__` is a **special method**, like `__init__`, that is supposed to return a string representation of an object.\n",
      "\n",
      "For example, here is a str method for `Time` objects:\n",
      "\n"
     ]
    },
    {
     "cell_type": "code",
     "collapsed": false,
     "input": [
      "class Time(object):\n",
      "    \"\"\"Represents the time of day.\n",
      "    attributes: hour, minute, second\n",
      "    \"\"\"\n",
      "    \n",
      "    # special methods\n",
      "    def __init__(self, hour=0, minute=0, second=0):\n",
      "        self.hour = hour\n",
      "        self.minute = minute\n",
      "        self.second = second\n",
      "\n",
      "    def __str__(self):\n",
      "        return '%.2d:%.2d:%.2d' % (self.hour, self.minute, self.second)\n",
      "        \n",
      "    # methods\n",
      "    def print_time(time):\n",
      "        print '%.2d:%.2d:%.2d' % (time.hour, time.minute, time.second)    \n",
      "        \n",
      "    def time_to_int(self):\n",
      "        minutes = self.hour * 60 + self.minute\n",
      "        seconds = minutes * 60 + self.second\n",
      "        return seconds\n",
      "    \n",
      "    def increment(self, seconds):\n",
      "        seconds += self.time_to_int()\n",
      "        return int_to_time(seconds)\n",
      "\n",
      "    def is_after(self, other):\n",
      "        return self.time_to_int() > other.time_to_int()"
     ],
     "language": "python",
     "metadata": {},
     "outputs": [],
     "prompt_number": 16
    },
    {
     "cell_type": "markdown",
     "metadata": {},
     "source": [
      "When you `print` an object, Python invokes the `str` method:"
     ]
    },
    {
     "cell_type": "code",
     "collapsed": false,
     "input": [
      "time = Time(9, 45)\n",
      "print time"
     ],
     "language": "python",
     "metadata": {},
     "outputs": [
      {
       "output_type": "stream",
       "stream": "stdout",
       "text": [
        "09:45:00\n"
       ]
      }
     ],
     "prompt_number": 17
    },
    {
     "cell_type": "markdown",
     "metadata": {},
     "source": [
      "When I write a new class, I almost always start by writing `__init__`, which makes it easier to instantiate objects, and `__str__`, which is useful for debugging.\n"
     ]
    },
    {
     "cell_type": "markdown",
     "metadata": {},
     "source": [
      "****"
     ]
    },
    {
     "cell_type": "markdown",
     "metadata": {},
     "source": [
      "### Exercise 17.3  \n",
      "\n",
      "Write a str method for the `Point` class. Create a `Point` object and `print` it."
     ]
    },
    {
     "cell_type": "markdown",
     "metadata": {},
     "source": [
      "****"
     ]
    },
    {
     "cell_type": "markdown",
     "metadata": {},
     "source": [
      "## 17.7  Operator overloading\n",
      "\n",
      "By defining other special methods, you can specify the behavior of operators on user-defined types. For example, if you define a method named `__add__` for the Time class, you can use the `+` operator on Time objects.\n",
      "\n",
      "Here is what the definition might look like:"
     ]
    },
    {
     "cell_type": "code",
     "collapsed": false,
     "input": [
      "class Time(object):\n",
      "    \"\"\"Represents the time of day.\n",
      "    attributes: hour, minute, second\n",
      "    \"\"\"\n",
      "    \n",
      "    # special methods\n",
      "    def __init__(self, hour=0, minute=0, second=0):\n",
      "        self.hour = hour\n",
      "        self.minute = minute\n",
      "        self.second = second\n",
      "\n",
      "    def __str__(self):\n",
      "        return '%.2d:%.2d:%.2d' % (self.hour, self.minute, self.second)\n",
      "    \n",
      "    # methods\n",
      "    def print_time(time):\n",
      "        print '%.2d:%.2d:%.2d' % (time.hour, time.minute, time.second)    \n",
      "        \n",
      "    def time_to_int(self):\n",
      "        minutes = self.hour * 60 + self.minute\n",
      "        seconds = minutes * 60 + self.second\n",
      "        return seconds\n",
      "    \n",
      "    def increment(self, seconds):\n",
      "        seconds += self.time_to_int()\n",
      "        return int_to_time(seconds)\n",
      "\n",
      "    def is_after(self, other):\n",
      "        return self.time_to_int() > other.time_to_int()\n",
      "    \n",
      "    # operator overloading\n",
      "    def __add__(self, other):\n",
      "        seconds = self.time_to_int() + other.time_to_int()\n",
      "        return int_to_time(seconds)"
     ],
     "language": "python",
     "metadata": {},
     "outputs": [],
     "prompt_number": 18
    },
    {
     "cell_type": "markdown",
     "metadata": {},
     "source": [
      "And here is how you could use it:"
     ]
    },
    {
     "cell_type": "code",
     "collapsed": false,
     "input": [
      "start = Time(9, 45)\n",
      "duration = Time(1, 35)\n",
      "print start + duration"
     ],
     "language": "python",
     "metadata": {},
     "outputs": [
      {
       "output_type": "stream",
       "stream": "stdout",
       "text": [
        "11:20:00\n"
       ]
      }
     ],
     "prompt_number": 19
    },
    {
     "cell_type": "markdown",
     "metadata": {},
     "source": [
      "When you apply the `+` operator to `Time` objects, Python invokes `__add__`. When you print the result, Python invokes `__str__`. So there is quite a lot happening behind the scenes!\n",
      "\n",
      "Changing the behavior of an operator so that it works with user-defined types is called **operator overloading**. For every operator in Python there is a corresponding special method, like `__add__`. \n",
      "\n",
      "For more details, see http://docs.python.org/2/reference/datamodel.html#specialnames."
     ]
    },
    {
     "cell_type": "markdown",
     "metadata": {},
     "source": [
      "****"
     ]
    },
    {
     "cell_type": "markdown",
     "metadata": {},
     "source": [
      "### Exercise 17.4  \n",
      "\n",
      "Write an add method for the `Point` class."
     ]
    },
    {
     "cell_type": "markdown",
     "metadata": {},
     "source": [
      "****"
     ]
    },
    {
     "cell_type": "markdown",
     "metadata": {},
     "source": [
      "## 17.8  Type-based dispatch\n",
      "\n",
      "In the previous section we added two Time objects, but you also might want to add an integer to a `Time` object. The following is a version of `__add__` that checks the type of other and invokes either `add_time` or `increment`:\n"
     ]
    },
    {
     "cell_type": "code",
     "collapsed": false,
     "input": [
      "def int_to_time(seconds):\n",
      "    time = Time()\n",
      "    minutes, time.second = divmod(seconds, 60)\n",
      "    time.hour, time.minute = divmod(minutes, 60)\n",
      "    return time\n",
      "\n",
      "\n",
      "class Time(object):\n",
      "    \"\"\"Represents the time of day.\n",
      "    attributes: hour, minute, second\n",
      "    \"\"\"\n",
      "    \n",
      "    # special methods\n",
      "    def __init__(self, hour=0, minute=0, second=0):\n",
      "        self.hour = hour\n",
      "        self.minute = minute\n",
      "        self.second = second\n",
      "\n",
      "    def __str__(self):\n",
      "        return '%.2d:%.2d:%.2d' % (self.hour, self.minute, self.second)\n",
      "    \n",
      "    # methods\n",
      "    def print_time(time):\n",
      "        print '%.2d:%.2d:%.2d' % (time.hour, time.minute, time.second)    \n",
      "        \n",
      "    def time_to_int(self):\n",
      "        minutes = self.hour * 60 + self.minute\n",
      "        seconds = minutes * 60 + self.second\n",
      "        return seconds\n",
      "    \n",
      "    def increment(self, seconds):\n",
      "        seconds += self.time_to_int()\n",
      "        return int_to_time(seconds)\n",
      "\n",
      "    def is_after(self, other):\n",
      "        return self.time_to_int() > other.time_to_int()\n",
      "    \n",
      "    \n",
      "    def add_time(self, other):\n",
      "        seconds = self.time_to_int() + other.time_to_int()\n",
      "        return int_to_time(seconds)\n",
      "    \n",
      "    # operator overloading\n",
      "    def __add__(self, other):\n",
      "        if isinstance(other, Time):\n",
      "            return self.add_time(other)\n",
      "        else:\n",
      "            return self.increment(other)"
     ],
     "language": "python",
     "metadata": {},
     "outputs": [],
     "prompt_number": 20
    },
    {
     "cell_type": "markdown",
     "metadata": {},
     "source": [
      "The built-in function `isinstance` takes a value and a class object, and returns `True` if the value is an instance of the class.\n",
      "\n",
      "If `other` is a `Time` object, `__add__` invokes `add_time`. Otherwise it assumes that the parameter is a number and invokes `increment`. This operation is called a **type-based dispatch** because it dispatches the computation to different methods based on the type of the arguments.\n",
      "\n",
      "Here are examples that use the `+` operator with different types:"
     ]
    },
    {
     "cell_type": "code",
     "collapsed": false,
     "input": [
      "start = Time(9, 45)\n",
      "duration = Time(1, 35)\n",
      "print start + duration\n",
      "print start + 1337"
     ],
     "language": "python",
     "metadata": {},
     "outputs": [
      {
       "output_type": "stream",
       "stream": "stdout",
       "text": [
        "11:20:00\n",
        "10:07:17\n"
       ]
      }
     ],
     "prompt_number": 21
    },
    {
     "cell_type": "markdown",
     "metadata": {},
     "source": [
      "Unfortunately, this implementation of addition is not commutative. If the integer is the first operand, you get"
     ]
    },
    {
     "cell_type": "code",
     "collapsed": false,
     "input": [
      "print 1337 + start"
     ],
     "language": "python",
     "metadata": {},
     "outputs": [
      {
       "ename": "TypeError",
       "evalue": "unsupported operand type(s) for +: 'int' and 'Time'",
       "output_type": "pyerr",
       "traceback": [
        "\u001b[0;31m---------------------------------------------------------------------------\u001b[0m\n\u001b[0;31mTypeError\u001b[0m                                 Traceback (most recent call last)",
        "\u001b[0;32m<ipython-input-22-843bc27e3074>\u001b[0m in \u001b[0;36m<module>\u001b[0;34m()\u001b[0m\n\u001b[0;32m----> 1\u001b[0;31m \u001b[0;32mprint\u001b[0m \u001b[0;36m1337\u001b[0m \u001b[0;34m+\u001b[0m \u001b[0mstart\u001b[0m\u001b[0;34m\u001b[0m\u001b[0m\n\u001b[0m",
        "\u001b[0;31mTypeError\u001b[0m: unsupported operand type(s) for +: 'int' and 'Time'"
       ]
      }
     ],
     "prompt_number": 22
    },
    {
     "cell_type": "markdown",
     "metadata": {},
     "source": [
      "The problem is, instead of asking the `Time` object to add an integer, Python is asking an integer to add a `Time` object, and it doesn\u2019t know how to do that. But there is a clever solution for this problem: the special method `__radd__`, which stands for \u201cright-side add.\u201d This method is invoked when a `Time` object appears on the right side of the `+` operator. Here\u2019s the definition:"
     ]
    },
    {
     "cell_type": "code",
     "collapsed": false,
     "input": [
      "def int_to_time(seconds):\n",
      "    time = Time()\n",
      "    minutes, time.second = divmod(seconds, 60)\n",
      "    time.hour, time.minute = divmod(minutes, 60)\n",
      "    return time\n",
      "\n",
      "\n",
      "class Time(object):\n",
      "    \"\"\"Represents the time of day.\n",
      "    attributes: hour, minute, second\n",
      "    \"\"\"\n",
      "    \n",
      "    # special methods\n",
      "    def __init__(self, hour=0, minute=0, second=0):\n",
      "        self.hour = hour\n",
      "        self.minute = minute\n",
      "        self.second = second\n",
      "\n",
      "    def __str__(self):\n",
      "        return '%.2d:%.2d:%.2d' % (self.hour, self.minute, self.second)\n",
      "    \n",
      "    # methods\n",
      "    def print_time(time):\n",
      "        print '%.2d:%.2d:%.2d' % (time.hour, time.minute, time.second)    \n",
      "        \n",
      "    def time_to_int(self):\n",
      "        minutes = self.hour * 60 + self.minute\n",
      "        seconds = minutes * 60 + self.second\n",
      "        return seconds\n",
      "    \n",
      "    def increment(self, seconds):\n",
      "        seconds += self.time_to_int()\n",
      "        return int_to_time(seconds)\n",
      "\n",
      "    def is_after(self, other):\n",
      "        return self.time_to_int() > other.time_to_int()\n",
      "    \n",
      "    \n",
      "    def add_time(self, other):\n",
      "        seconds = self.time_to_int() + other.time_to_int()\n",
      "        return int_to_time(seconds)\n",
      "    \n",
      "    # operator overloading\n",
      "    def __add__(self, other):\n",
      "        if isinstance(other, Time):\n",
      "            return self.add_time(other)\n",
      "        else:\n",
      "            return self.increment(other)\n",
      "\n",
      "    def __radd__(self, other):\n",
      "        return self.__add__(other)"
     ],
     "language": "python",
     "metadata": {},
     "outputs": [],
     "prompt_number": 23
    },
    {
     "cell_type": "markdown",
     "metadata": {},
     "source": [
      "And here\u2019s how it\u2019s used:"
     ]
    },
    {
     "cell_type": "code",
     "collapsed": false,
     "input": [
      "start = Time(9, 45)\n",
      "duration = Time(1, 35)\n",
      "print start + duration\n",
      "print start + 1337\n",
      "print 1337 + start"
     ],
     "language": "python",
     "metadata": {},
     "outputs": [
      {
       "output_type": "stream",
       "stream": "stdout",
       "text": [
        "11:20:00\n",
        "10:07:17\n",
        "10:07:17\n"
       ]
      }
     ],
     "prompt_number": 24
    },
    {
     "cell_type": "markdown",
     "metadata": {},
     "source": [
      "****"
     ]
    },
    {
     "cell_type": "markdown",
     "metadata": {},
     "source": [
      "### Exercise 17.5  \n",
      "\n",
      "Write an add method for `Points` that works with either a `Point` object or a tuple:\n",
      "\n",
      "* If the second operand is a `Point`, the method should return a new `Point` whose `x` coordinate is the sum of the `x` coordinates of the operands, and likewise for the `y` coordinates.\n",
      "* If the second operand is a tuple, the method should add the first element of the tuple to the `x` coordinate and the second element to the `y` coordinate, and return a new `Point` with the result.\n"
     ]
    },
    {
     "cell_type": "markdown",
     "metadata": {},
     "source": [
      "****"
     ]
    },
    {
     "cell_type": "markdown",
     "metadata": {},
     "source": [
      "## 17.9  Polymorphism\n",
      "\n",
      "Type-based dispatch is useful when it is necessary, but (fortunately) it is not always necessary. Often you can avoid it by writing functions that work correctly for arguments with different types.\n",
      "\n",
      "Many of the functions we wrote for strings will actually work for any kind of sequence. For example, in Section 11.1 we used histogram to count the number of times each letter appears in a word."
     ]
    },
    {
     "cell_type": "code",
     "collapsed": false,
     "input": [
      "def histogram(s):\n",
      "    d = dict()\n",
      "    for c in s:\n",
      "        if c not in d:\n",
      "            d[c] = 1\n",
      "        else:\n",
      "            d[c] = d[c]+1\n",
      "    return d"
     ],
     "language": "python",
     "metadata": {},
     "outputs": [],
     "prompt_number": 25
    },
    {
     "cell_type": "markdown",
     "metadata": {},
     "source": [
      "This function also works for lists, tuples, and even dictionaries, as long as the elements of s are hashable, so they can be used as keys in `d`"
     ]
    },
    {
     "cell_type": "code",
     "collapsed": false,
     "input": [
      "s = 'brontosaurus'\n",
      "print histogram(s)\n",
      "\n",
      "t = ['spam', 'egg', 'spam', 'spam', 'bacon', 'spam']\n",
      "print histogram(t)"
     ],
     "language": "python",
     "metadata": {},
     "outputs": [
      {
       "output_type": "stream",
       "stream": "stdout",
       "text": [
        "{'a': 1, 'b': 1, 'o': 2, 'n': 1, 's': 2, 'r': 2, 'u': 2, 't': 1}\n",
        "{'bacon': 1, 'egg': 1, 'spam': 4}\n"
       ]
      }
     ],
     "prompt_number": 26
    },
    {
     "cell_type": "markdown",
     "metadata": {},
     "source": [
      "Functions that can work with several types are called **polymorphic**. Polymorphism can facilitate code reuse. For example, the built-in function sum, which adds the elements of a sequence, works as long as the elements of the sequence support addition.\n",
      "\n",
      "Since Time objects provide an `add` method, they work with `sum`:"
     ]
    },
    {
     "cell_type": "code",
     "collapsed": false,
     "input": [
      "t1 = Time(7, 43)\n",
      "t2 = Time(7, 41)\n",
      "t3 = Time(7, 37)\n",
      "total = sum([t1, t2, t3])\n",
      "print total"
     ],
     "language": "python",
     "metadata": {},
     "outputs": [
      {
       "output_type": "stream",
       "stream": "stdout",
       "text": [
        "23:01:00\n"
       ]
      }
     ],
     "prompt_number": 27
    },
    {
     "cell_type": "markdown",
     "metadata": {},
     "source": [
      "In general, if all of the operations inside a function work with a given type, then the function works with that type.\n",
      "\n",
      "The best kind of polymorphism is the unintentional kind, where you discover that a function you already wrote can be applied to a type you never planned for."
     ]
    },
    {
     "cell_type": "markdown",
     "metadata": {},
     "source": [
      "****"
     ]
    },
    {
     "cell_type": "markdown",
     "metadata": {},
     "source": [
      "## 17.10  Debugging\n",
      "\n",
      "It is legal to add attributes to objects at any point in the execution of a program, but if you are a stickler for type theory, it is a dubious practice to have objects of the same type with different attribute sets. It is usually a good idea to initialize all of an object\u2019s attributes in the init method.\n",
      "\n",
      "If you are not sure whether an object has a particular attribute, you can use the built-in function `hasattr` (see Section 15.7).\n",
      "\n",
      "Another way to access the attributes of an object is through the special attribute `__dict__`, which is a dictionary that maps attribute names (as strings) and values:"
     ]
    },
    {
     "cell_type": "code",
     "collapsed": false,
     "input": [
      "class Point(object):\n",
      "    \"\"\"Represents a point in 2-D space.\"\"\"\n",
      "    \n",
      "p = Point()\n",
      "p.x = 4\n",
      "p.y = 3\n",
      "\n",
      "print p.__dict__"
     ],
     "language": "python",
     "metadata": {},
     "outputs": [
      {
       "output_type": "stream",
       "stream": "stdout",
       "text": [
        "{'y': 3, 'x': 4}\n"
       ]
      }
     ],
     "prompt_number": 28
    },
    {
     "cell_type": "markdown",
     "metadata": {},
     "source": [
      "For purposes of debugging, you might find it useful to keep this function handy:"
     ]
    },
    {
     "cell_type": "code",
     "collapsed": false,
     "input": [
      "def print_attributes(obj):\n",
      "    for attr in obj.__dict__:\n",
      "        print attr, getattr(obj, attr)"
     ],
     "language": "python",
     "metadata": {},
     "outputs": [],
     "prompt_number": 29
    },
    {
     "cell_type": "markdown",
     "metadata": {},
     "source": [
      "`print_attributes` traverses the items in the object\u2019s dictionary and prints each attribute name and its corresponding value.\n",
      "The built-in function `getattr` takes an object and an attribute name (as a string) and returns the attribute\u2019s value.\n"
     ]
    },
    {
     "cell_type": "code",
     "collapsed": false,
     "input": [
      "print_attributes(p)"
     ],
     "language": "python",
     "metadata": {},
     "outputs": [
      {
       "output_type": "stream",
       "stream": "stdout",
       "text": [
        "y 3\n",
        "x 4\n"
       ]
      }
     ],
     "prompt_number": 30
    },
    {
     "cell_type": "markdown",
     "metadata": {},
     "source": [
      "****"
     ]
    },
    {
     "cell_type": "markdown",
     "metadata": {},
     "source": [
      "## 17.11  Interface and implementation\n",
      "\n",
      "One of the goals of object-oriented design is to make software more maintainable, which means that you can keep the program working when other parts of the system change, and modify the program to meet new requirements.\n",
      "\n",
      "A design principle that helps achieve that goal is to keep interfaces separate from implementations. For objects, that means that the methods a class provides should not depend on how the attributes are represented.\n",
      "\n",
      "For example, in this chapter we developed a class that represents a time of day. Methods provided by this class include `time_to_int`, `is_after`, and `add_time`.\n",
      "\n",
      "We could implement those methods in several ways. The details of the implementation depend on how we represent time. In this chapter, the attributes of a `Time` object are `hour`, `minute`, and `second`.\n",
      "\n",
      "As an alternative, we could replace these attributes with a single integer representing the number of seconds since midnight. This implementation would make some methods, like `is_after`, easier to write, but it makes some methods harder.\n",
      "\n",
      "After you deploy a new class, you might discover a better implementation. If other parts of the program are using your class, it might be time-consuming and error-prone to change the interface.\n",
      "\n",
      "But if you designed the interface carefully, you can change the implementation without changing the interface, which means that other parts of the program don\u2019t have to change.\n",
      "\n",
      "Keeping the interface separate from the implementation means that you have to hide the attributes. Code in other parts of the program (outside the class definition) should use methods to read and modify the state of the object. They should not access the attributes directly. This principle is called **information hiding**; see http://en.wikipedia.org/wiki/Information_hiding."
     ]
    },
    {
     "cell_type": "markdown",
     "metadata": {},
     "source": [
      "****"
     ]
    },
    {
     "cell_type": "markdown",
     "metadata": {},
     "source": [
      "## 17.12  Glossary\n",
      "\n",
      "**object-oriented language:**\n",
      "\n",
      "A language that provides features, such as user-defined classes and method syntax, that facilitate object-oriented programming.\n",
      "\n",
      "**object-oriented programming:**\n",
      "\n",
      "A style of programming in which data and the operations that manipulate it are organized into classes and methods.\n",
      "\n",
      "**method:**\n",
      "\n",
      "A function that is defined inside a class definition and is invoked on instances of that class.\n",
      "\n",
      "**subject:**\n",
      "\n",
      "The object a method is invoked on.\n",
      "\n",
      "**operator overloading:**\n",
      "\n",
      "Changing the behavior of an operator like + so it works with a user-defined type.\n",
      "\n",
      "**type-based dispatch:**\n",
      "\n",
      "A programming pattern that checks the type of an operand and invokes different functions for different types.\n",
      "\n",
      "**polymorphic:**\n",
      "\n",
      "Pertaining to a function that can work with more than one type.\n",
      "\n",
      "**information hiding:**\n",
      "\n",
      "The principle that the interface provided by an object should not depend on its implementation, in particular the representation of its attributes."
     ]
    },
    {
     "cell_type": "markdown",
     "metadata": {},
     "source": [
      "****"
     ]
    },
    {
     "cell_type": "code",
     "collapsed": false,
     "input": [],
     "language": "python",
     "metadata": {},
     "outputs": [],
     "prompt_number": 30
    }
   ],
   "metadata": {}
  }
 ]
}