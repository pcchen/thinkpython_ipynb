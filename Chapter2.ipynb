{
 "metadata": {
  "name": "",
  "signature": "sha256:09440634d99cd69bdf964ae88aee6006be4098f99e437a6aaf8b145a91832f43"
 },
 "nbformat": 3,
 "nbformat_minor": 0,
 "worksheets": [
  {
   "cells": [
    {
     "cell_type": "markdown",
     "metadata": {},
     "source": [
      "# License\n",
      "\n",
      "This IPython Notebook is released under the [Creative Commons Attribution-NonCommercial 3.0 Unported License](http://creativecommons.org/licenses/by-nc/3.0/)\n",
      "\n",
      "This IPython Notebook is based on [Think Python: How to Think Like a Computer Scientist](http://www.greenteapress.com/thinkpython/) by Allen B. Downey. It is available under the [Creative Commons Attribution-NonCommercial 3.0 Unported License](http://creativecommons.org/licenses/by-nc/3.0/)"
     ]
    },
    {
     "cell_type": "markdown",
     "metadata": {},
     "source": [
      "****"
     ]
    },
    {
     "cell_type": "markdown",
     "metadata": {},
     "source": [
      "# Chapter 2  Variables, expressions and statements"
     ]
    },
    {
     "cell_type": "markdown",
     "metadata": {},
     "source": [
      "****"
     ]
    },
    {
     "cell_type": "markdown",
     "metadata": {},
     "source": [
      "## 2.1  Values and types"
     ]
    },
    {
     "cell_type": "markdown",
     "metadata": {},
     "source": [
      "A **value** is one of the basic things a program works with, like a letter or a number. \n",
      "* The values we have seen so far are `1`, `2`, and `'Hello, World!'`.\n",
      "\n",
      "These values belong to different **types**. \n",
      "* `2` is an integer\n",
      "* `'Hello, World!'` is a **string**, so-called because it contains a \u201cstring\u201d of letters. \n",
      "* You (and the interpreter) can identify strings because they are enclosed in quotation marks.\n",
      "* If you are not sure what type a value has, the interpreter can tell you."
     ]
    },
    {
     "cell_type": "code",
     "collapsed": false,
     "input": [
      "type('Hello, World')"
     ],
     "language": "python",
     "metadata": {},
     "outputs": [
      {
       "metadata": {},
       "output_type": "pyout",
       "prompt_number": 1,
       "text": [
        "str"
       ]
      }
     ],
     "prompt_number": 1
    },
    {
     "cell_type": "code",
     "collapsed": false,
     "input": [
      "type(17)"
     ],
     "language": "python",
     "metadata": {},
     "outputs": [
      {
       "metadata": {},
       "output_type": "pyout",
       "prompt_number": 2,
       "text": [
        "int"
       ]
      }
     ],
     "prompt_number": 2
    },
    {
     "cell_type": "markdown",
     "metadata": {},
     "source": [
      "* Strings belong to the type `str` \n",
      "* Integers belong to the type `int`. \n",
      "* Numbers with a decimal point belong to a type called `float`, because these numbers are represented in a format called **floating-point**."
     ]
    },
    {
     "cell_type": "code",
     "collapsed": false,
     "input": [
      "type(3.2)"
     ],
     "language": "python",
     "metadata": {},
     "outputs": [
      {
       "metadata": {},
       "output_type": "pyout",
       "prompt_number": 3,
       "text": [
        "float"
       ]
      }
     ],
     "prompt_number": 3
    },
    {
     "cell_type": "code",
     "collapsed": false,
     "input": [
      "type('17')"
     ],
     "language": "python",
     "metadata": {},
     "outputs": [
      {
       "metadata": {},
       "output_type": "pyout",
       "prompt_number": 4,
       "text": [
        "str"
       ]
      }
     ],
     "prompt_number": 4
    },
    {
     "cell_type": "code",
     "collapsed": false,
     "input": [
      "type('3.2')"
     ],
     "language": "python",
     "metadata": {},
     "outputs": [
      {
       "metadata": {},
       "output_type": "pyout",
       "prompt_number": 5,
       "text": [
        "str"
       ]
      }
     ],
     "prompt_number": 5
    },
    {
     "cell_type": "markdown",
     "metadata": {},
     "source": [
      "When you type a **large integer**, you might be tempted to use commas between groups of three digits, as in `1,000,000`. \n",
      "* This is not a legal integer in Python, but it is legal:"
     ]
    },
    {
     "cell_type": "code",
     "collapsed": false,
     "input": [
      "1,000,000"
     ],
     "language": "python",
     "metadata": {},
     "outputs": [
      {
       "metadata": {},
       "output_type": "pyout",
       "prompt_number": 6,
       "text": [
        "(1, 0, 0)"
       ]
      }
     ],
     "prompt_number": 6
    },
    {
     "cell_type": "markdown",
     "metadata": {},
     "source": [
      "Not what we expected at all! \n",
      "* Python interprets 1,000,000 as a comma-separated sequence of integers. \n",
      "* This is the first example we have seen of a **semantic error**: \n",
      " * The code runs without producing an error message, but it doesn\u2019t do the \u201cright\u201d thing."
     ]
    },
    {
     "cell_type": "markdown",
     "metadata": {},
     "source": [
      "****"
     ]
    },
    {
     "cell_type": "markdown",
     "metadata": {},
     "source": [
      "## 2.2  Variables"
     ]
    },
    {
     "cell_type": "markdown",
     "metadata": {},
     "source": [
      "A **variable** is a name that refers to a value.\n",
      "\n",
      "An **assignment statement** creates new variables and gives them values:"
     ]
    },
    {
     "cell_type": "code",
     "collapsed": false,
     "input": [
      "message = 'And now for something completely different'\n",
      "n = 17\n",
      "pi = 3.1415926535897932"
     ],
     "language": "python",
     "metadata": {},
     "outputs": [],
     "prompt_number": 7
    },
    {
     "cell_type": "code",
     "collapsed": false,
     "input": [
      "message"
     ],
     "language": "python",
     "metadata": {},
     "outputs": [
      {
       "metadata": {},
       "output_type": "pyout",
       "prompt_number": 8,
       "text": [
        "'And now for something completely different'"
       ]
      }
     ],
     "prompt_number": 8
    },
    {
     "cell_type": "code",
     "collapsed": false,
     "input": [
      "n"
     ],
     "language": "python",
     "metadata": {},
     "outputs": [
      {
       "metadata": {},
       "output_type": "pyout",
       "prompt_number": 9,
       "text": [
        "17"
       ]
      }
     ],
     "prompt_number": 9
    },
    {
     "cell_type": "code",
     "collapsed": false,
     "input": [
      "pi"
     ],
     "language": "python",
     "metadata": {},
     "outputs": [
      {
       "metadata": {},
       "output_type": "pyout",
       "prompt_number": 10,
       "text": [
        "3.141592653589793"
       ]
      }
     ],
     "prompt_number": 10
    },
    {
     "cell_type": "markdown",
     "metadata": {},
     "source": [
      "To display the value of a variable, use a **print** statement:"
     ]
    },
    {
     "cell_type": "code",
     "collapsed": false,
     "input": [
      "print message"
     ],
     "language": "python",
     "metadata": {},
     "outputs": [
      {
       "output_type": "stream",
       "stream": "stdout",
       "text": [
        "And now for something completely different\n"
       ]
      }
     ],
     "prompt_number": 11
    },
    {
     "cell_type": "code",
     "collapsed": false,
     "input": [
      "print n"
     ],
     "language": "python",
     "metadata": {},
     "outputs": [
      {
       "output_type": "stream",
       "stream": "stdout",
       "text": [
        "17\n"
       ]
      }
     ],
     "prompt_number": 12
    },
    {
     "cell_type": "code",
     "collapsed": false,
     "input": [
      "print pi"
     ],
     "language": "python",
     "metadata": {},
     "outputs": [
      {
       "output_type": "stream",
       "stream": "stdout",
       "text": [
        "3.14159265359\n"
       ]
      }
     ],
     "prompt_number": 13
    },
    {
     "cell_type": "markdown",
     "metadata": {},
     "source": [
      "A common way to represent variables on paper is to write the name with an arrow pointing to the variable\u2019s value. \n",
      "* This kind of figure is called a **state diagram** because it shows what state each of the variables is in."
     ]
    },
    {
     "cell_type": "markdown",
     "metadata": {},
     "source": [
      "<img src=\"files/figs/state2.png\" width=\"600\" >"
     ]
    },
    {
     "cell_type": "markdown",
     "metadata": {},
     "source": [
      "The type of a variable is the type of the value it refers to.\n",
      "* To find out the type of a variable, use **type** statement:"
     ]
    },
    {
     "cell_type": "code",
     "collapsed": false,
     "input": [
      "type(message)"
     ],
     "language": "python",
     "metadata": {},
     "outputs": [
      {
       "metadata": {},
       "output_type": "pyout",
       "prompt_number": 14,
       "text": [
        "str"
       ]
      }
     ],
     "prompt_number": 14
    },
    {
     "cell_type": "code",
     "collapsed": false,
     "input": [
      "type(n)"
     ],
     "language": "python",
     "metadata": {},
     "outputs": [
      {
       "metadata": {},
       "output_type": "pyout",
       "prompt_number": 15,
       "text": [
        "int"
       ]
      }
     ],
     "prompt_number": 15
    },
    {
     "cell_type": "code",
     "collapsed": false,
     "input": [
      "type(pi)"
     ],
     "language": "python",
     "metadata": {},
     "outputs": [
      {
       "metadata": {},
       "output_type": "pyout",
       "prompt_number": 16,
       "text": [
        "float"
       ]
      }
     ],
     "prompt_number": 16
    },
    {
     "cell_type": "markdown",
     "metadata": {},
     "source": [
      "****"
     ]
    },
    {
     "cell_type": "markdown",
     "metadata": {},
     "source": [
      "### Exercise 2.1"
     ]
    },
    {
     "cell_type": "markdown",
     "metadata": {},
     "source": [
      "*If you type an integer with a leading zero, you might get a confusing error:*"
     ]
    },
    {
     "cell_type": "code",
     "collapsed": false,
     "input": [
      "zipcode = 02492"
     ],
     "language": "python",
     "metadata": {},
     "outputs": [
      {
       "ename": "SyntaxError",
       "evalue": "invalid token (<ipython-input-17-46987990af52>, line 1)",
       "output_type": "pyerr",
       "traceback": [
        "\u001b[0;36m  File \u001b[0;32m\"<ipython-input-17-46987990af52>\"\u001b[0;36m, line \u001b[0;32m1\u001b[0m\n\u001b[0;31m    zipcode = 02492\u001b[0m\n\u001b[0m                  ^\u001b[0m\n\u001b[0;31mSyntaxError\u001b[0m\u001b[0;31m:\u001b[0m invalid token\n"
       ]
      }
     ],
     "prompt_number": 17
    },
    {
     "cell_type": "markdown",
     "metadata": {},
     "source": [
      "*Other numbers seem to work, but the results are bizarre:*"
     ]
    },
    {
     "cell_type": "code",
     "collapsed": false,
     "input": [
      "zipcode = 02132"
     ],
     "language": "python",
     "metadata": {},
     "outputs": [],
     "prompt_number": 18
    },
    {
     "cell_type": "code",
     "collapsed": false,
     "input": [
      "zipcode"
     ],
     "language": "python",
     "metadata": {},
     "outputs": [
      {
       "metadata": {},
       "output_type": "pyout",
       "prompt_number": 19,
       "text": [
        "1114"
       ]
      }
     ],
     "prompt_number": 19
    },
    {
     "cell_type": "markdown",
     "metadata": {},
     "source": [
      "*Can you figure out what is going on? Hint: display the values 01, 010, 0100 and 01000.*"
     ]
    },
    {
     "cell_type": "code",
     "collapsed": false,
     "input": [
      "print 01, 010, 0100, 01000"
     ],
     "language": "python",
     "metadata": {},
     "outputs": [
      {
       "output_type": "stream",
       "stream": "stdout",
       "text": [
        "1 8 64 512\n"
       ]
      }
     ],
     "prompt_number": 20
    },
    {
     "cell_type": "markdown",
     "metadata": {},
     "source": [
      "****"
     ]
    },
    {
     "cell_type": "markdown",
     "metadata": {},
     "source": [
      "## 2.3  Variable names and keywords"
     ]
    },
    {
     "cell_type": "markdown",
     "metadata": {},
     "source": [
      "Programmers generally choose names for their variables that are meaningful\n",
      "* They document what the variable is used for.\n",
      "* Variable names can be arbitrarily long. \n",
      "* They can contain both letters and numbers, but they have to begin with a letter. \n",
      "* It is legal to use uppercase letters, but it is a good idea to begin variable names with a lowercase letter.\n",
      "* The underscore character, `_`, can appear in a name. \n",
      " * It is often used in names with multiple words, such as `my_name` or `airspeed_of_unladen_swallow`.\n",
      "* The interpreter uses **keywords** to recognize the structure of the program, and they **cannot** be used as variable names."
     ]
    },
    {
     "cell_type": "markdown",
     "metadata": {},
     "source": [
      "If you give a variable an illegal name, you get a syntax error:"
     ]
    },
    {
     "cell_type": "code",
     "collapsed": false,
     "input": [
      "76trombones = 'big parade'"
     ],
     "language": "python",
     "metadata": {},
     "outputs": [
      {
       "ename": "SyntaxError",
       "evalue": "invalid syntax (<ipython-input-21-a5f509298d77>, line 1)",
       "output_type": "pyerr",
       "traceback": [
        "\u001b[0;36m  File \u001b[0;32m\"<ipython-input-21-a5f509298d77>\"\u001b[0;36m, line \u001b[0;32m1\u001b[0m\n\u001b[0;31m    76trombones = 'big parade'\u001b[0m\n\u001b[0m              ^\u001b[0m\n\u001b[0;31mSyntaxError\u001b[0m\u001b[0;31m:\u001b[0m invalid syntax\n"
       ]
      }
     ],
     "prompt_number": 21
    },
    {
     "cell_type": "markdown",
     "metadata": {},
     "source": [
      "`76trombones` is illegal because it does not begin with a letter"
     ]
    },
    {
     "cell_type": "code",
     "collapsed": false,
     "input": [
      "# more@ = 1000000"
     ],
     "language": "python",
     "metadata": {},
     "outputs": [],
     "prompt_number": 22
    },
    {
     "cell_type": "code",
     "collapsed": false,
     "input": [
      "class = 'Advanced Theoretical Zymurgy'"
     ],
     "language": "python",
     "metadata": {},
     "outputs": [
      {
       "ename": "SyntaxError",
       "evalue": "invalid syntax (<ipython-input-23-30191cc6716c>, line 1)",
       "output_type": "pyerr",
       "traceback": [
        "\u001b[0;36m  File \u001b[0;32m\"<ipython-input-23-30191cc6716c>\"\u001b[0;36m, line \u001b[0;32m1\u001b[0m\n\u001b[0;31m    class = 'Advanced Theoretical Zymurgy'\u001b[0m\n\u001b[0m          ^\u001b[0m\n\u001b[0;31mSyntaxError\u001b[0m\u001b[0;31m:\u001b[0m invalid syntax\n"
       ]
      }
     ],
     "prompt_number": 23
    },
    {
     "cell_type": "markdown",
     "metadata": {},
     "source": [
      "`class` is illegal because `class` is one of Python\u2019s **keywords**. \n",
      "* The interpreter uses keywords to recognize the structure of the program, and they cannot be used as variable names."
     ]
    },
    {
     "cell_type": "markdown",
     "metadata": {},
     "source": [
      "Python 2 has 31 [keywords](https://docs.python.org/2/reference/lexical_analysis.html#keywords):\n",
      "\n",
      "\n",
      "    and       del       from      not       while    \n",
      "    as        elif      global    or        with     \n",
      "    assert    else      if        pass      yield    \n",
      "    break     except    import    print              \n",
      "    class     exec      in        raise              \n",
      "    continue  finally   is        return             \n",
      "    def       for       lambda    try"
     ]
    },
    {
     "cell_type": "markdown",
     "metadata": {},
     "source": [
      "****"
     ]
    },
    {
     "cell_type": "markdown",
     "metadata": {},
     "source": [
      "## 2.4  Operators and operands\n",
      "\n",
      "**Operators** are special symbols that represent computations like addition and multiplication. \n",
      "* The values the operator is applied to are called **operands**.\n",
      "* The operators `+`, `-`, `*`, `/` and `**` perform addition, subtraction, multiplication, division and exponentiation."
     ]
    },
    {
     "cell_type": "code",
     "collapsed": false,
     "input": [
      "20 + 32"
     ],
     "language": "python",
     "metadata": {},
     "outputs": [
      {
       "metadata": {},
       "output_type": "pyout",
       "prompt_number": 24,
       "text": [
        "52"
       ]
      }
     ],
     "prompt_number": 24
    },
    {
     "cell_type": "code",
     "collapsed": false,
     "input": [
      "hour = 10\n",
      "hour - 1"
     ],
     "language": "python",
     "metadata": {},
     "outputs": [
      {
       "metadata": {},
       "output_type": "pyout",
       "prompt_number": 25,
       "text": [
        "9"
       ]
      }
     ],
     "prompt_number": 25
    },
    {
     "cell_type": "code",
     "collapsed": false,
     "input": [
      "minute = 5\n",
      "hour * 60 + minute"
     ],
     "language": "python",
     "metadata": {},
     "outputs": [
      {
       "metadata": {},
       "output_type": "pyout",
       "prompt_number": 26,
       "text": [
        "605"
       ]
      }
     ],
     "prompt_number": 26
    },
    {
     "cell_type": "code",
     "collapsed": false,
     "input": [
      "minute / 60"
     ],
     "language": "python",
     "metadata": {},
     "outputs": [
      {
       "metadata": {},
       "output_type": "pyout",
       "prompt_number": 27,
       "text": [
        "0"
       ]
      }
     ],
     "prompt_number": 27
    },
    {
     "cell_type": "code",
     "collapsed": false,
     "input": [
      "5 ** 2"
     ],
     "language": "python",
     "metadata": {},
     "outputs": [
      {
       "metadata": {},
       "output_type": "pyout",
       "prompt_number": 28,
       "text": [
        "25"
       ]
      }
     ],
     "prompt_number": 28
    },
    {
     "cell_type": "code",
     "collapsed": false,
     "input": [
      "(5 + 9) * (15 - 7)"
     ],
     "language": "python",
     "metadata": {},
     "outputs": [
      {
       "metadata": {},
       "output_type": "pyout",
       "prompt_number": 29,
       "text": [
        "112"
       ]
      }
     ],
     "prompt_number": 29
    },
    {
     "cell_type": "markdown",
     "metadata": {},
     "source": [
      "In Python 2, the division operator might not do what you expect:"
     ]
    },
    {
     "cell_type": "code",
     "collapsed": false,
     "input": [
      "minute = 59\n",
      "minute / 60\n",
      "0"
     ],
     "language": "python",
     "metadata": {},
     "outputs": [
      {
       "metadata": {},
       "output_type": "pyout",
       "prompt_number": 30,
       "text": [
        "0"
       ]
      }
     ],
     "prompt_number": 30
    },
    {
     "cell_type": "markdown",
     "metadata": {},
     "source": [
      "* The value of minute is 59, and in conventional arithmetic 59 divided by 60 is 0.98333, not 0. \n",
      "* Python is performing **floor division**. \n",
      "* When both of the operands are integers, the result is also an integer.\n",
      "* Floor division chops off the fraction part, so in this example it rounds down to zero.\n",
      " "
     ]
    },
    {
     "cell_type": "markdown",
     "metadata": {},
     "source": [
      "If either of the operands is a floating-point number, Python performs floating-point division, and the result is a float:"
     ]
    },
    {
     "cell_type": "code",
     "collapsed": false,
     "input": [
      "minute / 60.0\n",
      "0.98333333333333328"
     ],
     "language": "python",
     "metadata": {},
     "outputs": [
      {
       "metadata": {},
       "output_type": "pyout",
       "prompt_number": 31,
       "text": [
        "0.9833333333333333"
       ]
      }
     ],
     "prompt_number": 31
    },
    {
     "cell_type": "markdown",
     "metadata": {},
     "source": [
      "In Python 3, the result of this division is a float. The new operator `//` performs floor division."
     ]
    },
    {
     "cell_type": "markdown",
     "metadata": {},
     "source": [
      "To perform the division in Python 3's way in a Python 2 environment, one can do the following"
     ]
    },
    {
     "cell_type": "code",
     "collapsed": false,
     "input": [
      "from __future__ import division\n",
      "minute = 59\n",
      "minute / 60"
     ],
     "language": "python",
     "metadata": {},
     "outputs": [
      {
       "metadata": {},
       "output_type": "pyout",
       "prompt_number": 32,
       "text": [
        "0.9833333333333333"
       ]
      }
     ],
     "prompt_number": 32
    },
    {
     "cell_type": "markdown",
     "metadata": {},
     "source": [
      "****"
     ]
    },
    {
     "cell_type": "markdown",
     "metadata": {},
     "source": [
      "## 2.5  Expressions and statements\n",
      "\n",
      "An **expression** is a combination of values, variables, and operators. \n",
      "* A value all by itself is considered an expression, and so is a variable.\n",
      "\n",
      "```\n",
      "    17\n",
      "    x\n",
      "    x + 17\n",
      "```\n",
      "\n",
      "A **statement** is a unit of code that the Python interpreter can execute. \n",
      "* We have seen two kinds of statement: `print` and `assignment`.\n",
      "\n",
      "Technically an expression is also a statement, but it is probably simpler to think of them as different things. \n",
      "* The important difference is\n",
      " * An expression has a value.\n",
      " * A statement does not have a value."
     ]
    },
    {
     "cell_type": "markdown",
     "metadata": {},
     "source": [
      "****"
     ]
    },
    {
     "cell_type": "markdown",
     "metadata": {},
     "source": [
      "## 2.6  Interactive mode and script mode"
     ]
    },
    {
     "cell_type": "markdown",
     "metadata": {},
     "source": [
      "The first line assigns a value to miles, but it has no visible effect. "
     ]
    },
    {
     "cell_type": "code",
     "collapsed": false,
     "input": [
      "miles = 26.2"
     ],
     "language": "python",
     "metadata": {},
     "outputs": [],
     "prompt_number": 33
    },
    {
     "cell_type": "markdown",
     "metadata": {},
     "source": [
      "The second line is an expression, so the interpreter evaluates it and displays the result. "
     ]
    },
    {
     "cell_type": "code",
     "collapsed": false,
     "input": [
      "miles * 1.61"
     ],
     "language": "python",
     "metadata": {},
     "outputs": [
      {
       "metadata": {},
       "output_type": "pyout",
       "prompt_number": 34,
       "text": [
        "42.182"
       ]
      }
     ],
     "prompt_number": 34
    },
    {
     "cell_type": "markdown",
     "metadata": {},
     "source": [
      "But if you type the same code into a script and run it, you get no output at all. "
     ]
    },
    {
     "cell_type": "code",
     "collapsed": false,
     "input": [],
     "language": "python",
     "metadata": {},
     "outputs": [],
     "prompt_number": 34
    },
    {
     "cell_type": "markdown",
     "metadata": {},
     "source": [
      "A script usually contains a sequence of statements. \n",
      "* If there is more than one statement, the results appear one at a time as the statements execute."
     ]
    },
    {
     "cell_type": "code",
     "collapsed": false,
     "input": [
      "print 1\n",
      "x = 2\n",
      "print x"
     ],
     "language": "python",
     "metadata": {},
     "outputs": [
      {
       "output_type": "stream",
       "stream": "stdout",
       "text": [
        "1\n",
        "2\n"
       ]
      }
     ],
     "prompt_number": 35
    },
    {
     "cell_type": "markdown",
     "metadata": {},
     "source": [
      "The assignment statement produces no output."
     ]
    },
    {
     "cell_type": "markdown",
     "metadata": {},
     "source": [
      "****"
     ]
    },
    {
     "cell_type": "markdown",
     "metadata": {},
     "source": [
      "### Exercise 2.2\n",
      "\n",
      "*Type the following statements in the Python interpreter to see what they do:*\n",
      "```\n",
      "5\n",
      "x = 5\n",
      "x + 1\n",
      "```\n",
      "\n",
      "*Now put the same statements into a script and run it. *\n",
      "* *What is the output? *\n",
      "* *Modify the script by transforming each expression into a print statement and then run it again.*"
     ]
    },
    {
     "cell_type": "markdown",
     "metadata": {},
     "source": [
      "****"
     ]
    },
    {
     "cell_type": "markdown",
     "metadata": {},
     "source": [
      "## 2.7  Order of operations\n",
      "\n",
      "When more than one operator appears in an expression, the order of evaluation depends on the **rules of precedence**. \n",
      "* The acronym **PEMDAS** is a useful way to remember the rules."
     ]
    },
    {
     "cell_type": "markdown",
     "metadata": {},
     "source": [
      "### PEMDAS\n",
      "\n",
      "* **P**arentheses have the highest precedence and can be used to force an expression to evaluate in the order you want. \n",
      " * `2 * (3-1)` is `4`, and `(1+1)**(5-2)` is `8`. \n",
      "* You can also use parentheses to make an expression easier to read.\n",
      " * `(minute * 100) / 60`"
     ]
    },
    {
     "cell_type": "code",
     "collapsed": false,
     "input": [
      "2 * (3-1)"
     ],
     "language": "python",
     "metadata": {},
     "outputs": [
      {
       "metadata": {},
       "output_type": "pyout",
       "prompt_number": 36,
       "text": [
        "4"
       ]
      }
     ],
     "prompt_number": 36
    },
    {
     "cell_type": "code",
     "collapsed": false,
     "input": [
      "(1+1)**(5-2)"
     ],
     "language": "python",
     "metadata": {},
     "outputs": [
      {
       "metadata": {},
       "output_type": "pyout",
       "prompt_number": 37,
       "text": [
        "8"
       ]
      }
     ],
     "prompt_number": 37
    },
    {
     "cell_type": "code",
     "collapsed": false,
     "input": [
      "minute = 30.\n",
      "(minute * 100) / 60"
     ],
     "language": "python",
     "metadata": {},
     "outputs": [
      {
       "metadata": {},
       "output_type": "pyout",
       "prompt_number": 38,
       "text": [
        "50.0"
       ]
      }
     ],
     "prompt_number": 38
    },
    {
     "cell_type": "markdown",
     "metadata": {},
     "source": [
      "* **E**xponentiation has the next highest precedence, so `2**1+1` is `3`, not `4`, and `3*1**3` is `3`, not `27`."
     ]
    },
    {
     "cell_type": "code",
     "collapsed": false,
     "input": [
      "2**1+1"
     ],
     "language": "python",
     "metadata": {},
     "outputs": [
      {
       "metadata": {},
       "output_type": "pyout",
       "prompt_number": 39,
       "text": [
        "3"
       ]
      }
     ],
     "prompt_number": 39
    },
    {
     "cell_type": "code",
     "collapsed": false,
     "input": [
      "3*1**3"
     ],
     "language": "python",
     "metadata": {},
     "outputs": [
      {
       "metadata": {},
       "output_type": "pyout",
       "prompt_number": 40,
       "text": [
        "3"
       ]
      }
     ],
     "prompt_number": 40
    },
    {
     "cell_type": "markdown",
     "metadata": {},
     "source": [
      "* **M**ultiplication and **D**ivision have the same precedence, which is higher than **A**ddition and **S**ubtraction, which also have the same precedence."
     ]
    },
    {
     "cell_type": "code",
     "collapsed": false,
     "input": [
      "2*3-1"
     ],
     "language": "python",
     "metadata": {},
     "outputs": [
      {
       "metadata": {},
       "output_type": "pyout",
       "prompt_number": 41,
       "text": [
        "5"
       ]
      }
     ],
     "prompt_number": 41
    },
    {
     "cell_type": "code",
     "collapsed": false,
     "input": [
      "6+4/2"
     ],
     "language": "python",
     "metadata": {},
     "outputs": [
      {
       "metadata": {},
       "output_type": "pyout",
       "prompt_number": 42,
       "text": [
        "8.0"
       ]
      }
     ],
     "prompt_number": 42
    },
    {
     "cell_type": "markdown",
     "metadata": {},
     "source": [
      "* Operators with the same precedence are evaluated from left to right (except exponentiation). \n",
      " * In the expression `degrees / 2 * pi`, the division happens first and the result is multiplied by `pi`. \n",
      " * To divide by 2 $\\pi$, you can use parentheses  `degrees / (2 * pi)`or write `degrees / 2 / pi`.\n"
     ]
    },
    {
     "cell_type": "code",
     "collapsed": false,
     "input": [
      "2**2**3"
     ],
     "language": "python",
     "metadata": {},
     "outputs": [
      {
       "metadata": {},
       "output_type": "pyout",
       "prompt_number": 43,
       "text": [
        "256"
       ]
      }
     ],
     "prompt_number": 43
    },
    {
     "cell_type": "code",
     "collapsed": false,
     "input": [
      "2**(2**3)"
     ],
     "language": "python",
     "metadata": {},
     "outputs": [
      {
       "metadata": {},
       "output_type": "pyout",
       "prompt_number": 44,
       "text": [
        "256"
       ]
      }
     ],
     "prompt_number": 44
    },
    {
     "cell_type": "code",
     "collapsed": false,
     "input": [
      "(2**2)**3"
     ],
     "language": "python",
     "metadata": {},
     "outputs": [
      {
       "metadata": {},
       "output_type": "pyout",
       "prompt_number": 45,
       "text": [
        "64"
       ]
      }
     ],
     "prompt_number": 45
    },
    {
     "cell_type": "markdown",
     "metadata": {},
     "source": [
      "****"
     ]
    },
    {
     "cell_type": "markdown",
     "metadata": {},
     "source": [
      "## 2.8  String operations"
     ]
    },
    {
     "cell_type": "markdown",
     "metadata": {},
     "source": [
      "In general, you can\u2019t perform mathematical operations on strings, even if the strings look like numbers, so the following are illegal:\n",
      "\n",
      "    '2'-'1'    'eggs'/'easy'    'third'*'a charm'\n",
      "\n",
      "The `+` operator works with strings, but it might not do what you expect: \n",
      "* it performs **concatenation**, which means joining the strings by linking them end-to-end. "
     ]
    },
    {
     "cell_type": "code",
     "collapsed": false,
     "input": [
      "first = 'throat'\n",
      "second = 'warbler'\n",
      "print first + second"
     ],
     "language": "python",
     "metadata": {},
     "outputs": [
      {
       "output_type": "stream",
       "stream": "stdout",
       "text": [
        "throatwarbler\n"
       ]
      }
     ],
     "prompt_number": 46
    },
    {
     "cell_type": "markdown",
     "metadata": {},
     "source": [
      "The `*` operator also works on strings; \n",
      "* it performs repetition. \n",
      "* If one of the operands is a string, the other has to be an integer."
     ]
    },
    {
     "cell_type": "code",
     "collapsed": false,
     "input": [
      "'spam' * 3"
     ],
     "language": "python",
     "metadata": {},
     "outputs": [
      {
       "metadata": {},
       "output_type": "pyout",
       "prompt_number": 47,
       "text": [
        "'spamspamspam'"
       ]
      }
     ],
     "prompt_number": 47
    },
    {
     "cell_type": "code",
     "collapsed": false,
     "input": [
      "3 * 'spam'"
     ],
     "language": "python",
     "metadata": {},
     "outputs": [
      {
       "metadata": {},
       "output_type": "pyout",
       "prompt_number": 48,
       "text": [
        "'spamspamspam'"
       ]
      }
     ],
     "prompt_number": 48
    },
    {
     "cell_type": "markdown",
     "metadata": {},
     "source": [
      "****"
     ]
    },
    {
     "cell_type": "markdown",
     "metadata": {},
     "source": [
      "## 2.9  Comments"
     ]
    },
    {
     "cell_type": "markdown",
     "metadata": {},
     "source": [
      "As programs get bigger and more complicated, they get more difficult to read. \n",
      "* It is a good idea to add notes to your programs to explain in natural language what the program is doing. \n",
      "* These notes are called **comments**, and they start with the `#` symbol:"
     ]
    },
    {
     "cell_type": "code",
     "collapsed": false,
     "input": [
      "# compute the percentage of the hour that has elapsed\n",
      "percentage = (minute * 100) / 60"
     ],
     "language": "python",
     "metadata": {},
     "outputs": [],
     "prompt_number": 49
    },
    {
     "cell_type": "markdown",
     "metadata": {},
     "source": [
      "You can also put comments at the end of a line:"
     ]
    },
    {
     "cell_type": "code",
     "collapsed": false,
     "input": [
      "percentage = (minute * 100) / 60     # percentage of an hour"
     ],
     "language": "python",
     "metadata": {},
     "outputs": [],
     "prompt_number": 50
    },
    {
     "cell_type": "markdown",
     "metadata": {},
     "source": [
      "* Comments are most useful when they document non-obvious features of the code. \n",
      "* It is reasonable to assume that the reader can figure out what the code does.\n",
      "* It is much more useful to explain *why*.\n"
     ]
    },
    {
     "cell_type": "code",
     "collapsed": false,
     "input": [
      "# This comment is redundant with the code and useless:\n",
      "v = 5     # assign 5 to v\n",
      "\n",
      "# This comment contains useful information that is not in the code:\n",
      "v = 5     # velocity in meters/second. "
     ],
     "language": "python",
     "metadata": {},
     "outputs": [],
     "prompt_number": 51
    },
    {
     "cell_type": "markdown",
     "metadata": {},
     "source": [
      "* Good variable names can reduce the need for comments, but long names can make complex expressions hard to read, so there is a tradeoff."
     ]
    },
    {
     "cell_type": "markdown",
     "metadata": {},
     "source": [
      "****"
     ]
    },
    {
     "cell_type": "markdown",
     "metadata": {},
     "source": [
      "## 2.10  Debugging\n",
      "\n",
      "If you put a space in a variable name, Python thinks it is two operands without an operator:"
     ]
    },
    {
     "cell_type": "code",
     "collapsed": false,
     "input": [
      "bad name = 5"
     ],
     "language": "python",
     "metadata": {},
     "outputs": [
      {
       "ename": "SyntaxError",
       "evalue": "invalid syntax (<ipython-input-52-badd05d11fe8>, line 1)",
       "output_type": "pyerr",
       "traceback": [
        "\u001b[0;36m  File \u001b[0;32m\"<ipython-input-52-badd05d11fe8>\"\u001b[0;36m, line \u001b[0;32m1\u001b[0m\n\u001b[0;31m    bad name = 5\u001b[0m\n\u001b[0m           ^\u001b[0m\n\u001b[0;31mSyntaxError\u001b[0m\u001b[0;31m:\u001b[0m invalid syntax\n"
       ]
      }
     ],
     "prompt_number": 52
    },
    {
     "cell_type": "markdown",
     "metadata": {},
     "source": [
      "For syntax errors, the error messages don\u2019t help much. \n",
      "* The most common messages are `SyntaxError: invalid syntax` and `SyntaxError: invalid token`, neither of which is very informative."
     ]
    },
    {
     "cell_type": "markdown",
     "metadata": {},
     "source": [
      "The runtime error you are most likely to make is a \u201cuse before def;\u201d that is, trying to use a variable before you have assigned a value. This can happen if you spell a variable name wrong:\n"
     ]
    },
    {
     "cell_type": "code",
     "collapsed": false,
     "input": [
      "principal = 327.68\n",
      "interest = principle * rate"
     ],
     "language": "python",
     "metadata": {},
     "outputs": [
      {
       "ename": "NameError",
       "evalue": "name 'principle' is not defined",
       "output_type": "pyerr",
       "traceback": [
        "\u001b[0;31m---------------------------------------------------------------------------\u001b[0m\n\u001b[0;31mNameError\u001b[0m                                 Traceback (most recent call last)",
        "\u001b[0;32m<ipython-input-53-bc5964040f77>\u001b[0m in \u001b[0;36m<module>\u001b[0;34m()\u001b[0m\n\u001b[1;32m      1\u001b[0m \u001b[0mprincipal\u001b[0m \u001b[0;34m=\u001b[0m \u001b[0;36m327.68\u001b[0m\u001b[0;34m\u001b[0m\u001b[0m\n\u001b[0;32m----> 2\u001b[0;31m \u001b[0minterest\u001b[0m \u001b[0;34m=\u001b[0m \u001b[0mprinciple\u001b[0m \u001b[0;34m*\u001b[0m \u001b[0mrate\u001b[0m\u001b[0;34m\u001b[0m\u001b[0m\n\u001b[0m",
        "\u001b[0;31mNameError\u001b[0m: name 'principle' is not defined"
       ]
      }
     ],
     "prompt_number": 53
    },
    {
     "cell_type": "markdown",
     "metadata": {},
     "source": [
      "Variables names are case sensitive, so `LaTeX` is not the same as `latex`."
     ]
    },
    {
     "cell_type": "markdown",
     "metadata": {},
     "source": [
      "At this point the most likely cause of a semantic error is the order of operations. \n",
      "* For example, to evaluate $1/2\\pi$, you might be tempted to write"
     ]
    },
    {
     "cell_type": "code",
     "collapsed": false,
     "input": [
      "1.0 / 2.0 * pi"
     ],
     "language": "python",
     "metadata": {},
     "outputs": [
      {
       "metadata": {},
       "output_type": "pyout",
       "prompt_number": 54,
       "text": [
        "1.5707963267948966"
       ]
      }
     ],
     "prompt_number": 54
    },
    {
     "cell_type": "markdown",
     "metadata": {},
     "source": [
      "But the division happens first, so you would get $\\pi/2$, which is not the same thing! "
     ]
    },
    {
     "cell_type": "markdown",
     "metadata": {},
     "source": [
      "****"
     ]
    },
    {
     "cell_type": "markdown",
     "metadata": {},
     "source": [
      "## 2.12  Exercises"
     ]
    },
    {
     "cell_type": "markdown",
     "metadata": {},
     "source": [
      "### Exercise 2.3\n",
      "\n",
      "*Assume that we execute the following assignment statements:*\n",
      "\n",
      "```\n",
      "    width = 17\n",
      "    height = 12.0\n",
      "    delimiter = '.'\n",
      "```\n",
      "\n",
      "*For each of the following expressions, write the value of the expression and the type (of the value of the expression).*\n",
      "1. width/2\n",
      "2. width/2.0\n",
      "3. height/3\n",
      "4. 1 + 2 * 5\n",
      "5. delimiter * 5\n"
     ]
    },
    {
     "cell_type": "markdown",
     "metadata": {},
     "source": [
      "### Exercise 2.4\n",
      "\n",
      "*Practice using the Python interpreter as a calculator:*\n",
      "\n",
      "1. *The volume of a sphere with radius $r$ is $4/3 \\pi r^3$. What is the volume of a sphere with radius 5? Hint: 392.7 is wrong!*\n",
      "\n",
      "2. *Suppose the cover price of a book is $24.95, but bookstores get a 40% discount. Shipping costs $3 for the first copy and 75 cents for each additional copy. What is the total wholesale cost for 60 copies?*\n",
      "\n",
      "3. *If I leave my house at 6:52 am and run 1 mile at an easy pace (8:15 per mile), then 3 miles at tempo (7:12 per mile) and 1 mile at easy pace again, what time do I get home for breakfast?*"
     ]
    }
   ],
   "metadata": {}
  }
 ]
}