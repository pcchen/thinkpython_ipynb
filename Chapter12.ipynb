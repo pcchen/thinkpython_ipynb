{
 "metadata": {
  "name": "",
  "signature": "sha256:346c927737f97a949de42b6166b04b294046a0ac08c940f66704b381e7fab809"
 },
 "nbformat": 3,
 "nbformat_minor": 0,
 "worksheets": [
  {
   "cells": [
    {
     "cell_type": "markdown",
     "metadata": {},
     "source": [
      "# License\n",
      "\n",
      "This IPython Notebook is released under the [Creative Commons Attribution-NonCommercial 3.0 Unported License](http://creativecommons.org/licenses/by-nc/3.0/)\n",
      "\n",
      "This IPython Notebook is based on [Think Python: How to Think Like a Computer Scientist](http://www.greenteapress.com/thinkpython/) by Allen B. Downey. It is available under the [Creative Commons Attribution-NonCommercial 3.0 Unported License](http://creativecommons.org/licenses/by-nc/3.0/)"
     ]
    },
    {
     "cell_type": "markdown",
     "metadata": {},
     "source": [
      "****"
     ]
    },
    {
     "cell_type": "markdown",
     "metadata": {},
     "source": [
      "# Chapter 12  Tuples"
     ]
    },
    {
     "cell_type": "markdown",
     "metadata": {},
     "source": [
      "****"
     ]
    },
    {
     "cell_type": "markdown",
     "metadata": {},
     "source": [
      "## 12.1  Tuples are immutable\n",
      "\n",
      "A **tuple** is a sequence of values. \n",
      "* The values can be any type, and they are indexed by integers, so in that respect tuples are a lot like lists. \n",
      "* The important difference is that tuples are **immutable**.\n",
      "\n",
      "Syntactically, a tuple is a comma-separated list of values:"
     ]
    },
    {
     "cell_type": "code",
     "collapsed": false,
     "input": [
      "t = 'a', 'b', 'c', 'd', 'e'\n",
      "print type(t)\n",
      "print t"
     ],
     "language": "python",
     "metadata": {},
     "outputs": [
      {
       "output_type": "stream",
       "stream": "stdout",
       "text": [
        "<type 'tuple'>\n",
        "('a', 'b', 'c', 'd', 'e')\n"
       ]
      }
     ],
     "prompt_number": 1
    },
    {
     "cell_type": "markdown",
     "metadata": {},
     "source": [
      "Although it is not necessary, it is common to enclose tuples in parentheses:"
     ]
    },
    {
     "cell_type": "code",
     "collapsed": false,
     "input": [
      "t = ('a', 'b', 'c', 'd', 'e')\n",
      "print type(t)\n",
      "print t"
     ],
     "language": "python",
     "metadata": {},
     "outputs": [
      {
       "output_type": "stream",
       "stream": "stdout",
       "text": [
        "<type 'tuple'>\n",
        "('a', 'b', 'c', 'd', 'e')\n"
       ]
      }
     ],
     "prompt_number": 2
    },
    {
     "cell_type": "markdown",
     "metadata": {},
     "source": [
      "To create a tuple with a single element, you have to include a final comma:"
     ]
    },
    {
     "cell_type": "code",
     "collapsed": false,
     "input": [
      "t1 = 'a',\n",
      "print type(t1)\n",
      "print t1"
     ],
     "language": "python",
     "metadata": {},
     "outputs": [
      {
       "output_type": "stream",
       "stream": "stdout",
       "text": [
        "<type 'tuple'>\n",
        "('a',)\n"
       ]
      }
     ],
     "prompt_number": 3
    },
    {
     "cell_type": "markdown",
     "metadata": {},
     "source": [
      "A value in parentheses is not a tuple:"
     ]
    },
    {
     "cell_type": "code",
     "collapsed": false,
     "input": [
      "t2 = ('a')\n",
      "print type(t2)"
     ],
     "language": "python",
     "metadata": {},
     "outputs": [
      {
       "output_type": "stream",
       "stream": "stdout",
       "text": [
        "<type 'str'>\n"
       ]
      }
     ],
     "prompt_number": 4
    },
    {
     "cell_type": "code",
     "collapsed": false,
     "input": [
      "t2 = ('a',)\n",
      "print type(t2)"
     ],
     "language": "python",
     "metadata": {},
     "outputs": [
      {
       "output_type": "stream",
       "stream": "stdout",
       "text": [
        "<type 'tuple'>\n"
       ]
      }
     ],
     "prompt_number": 5
    },
    {
     "cell_type": "markdown",
     "metadata": {},
     "source": [
      "Another way to create a tuple is the built-in function `tuple`. \n",
      "* With no argument, it creates an empty tuple:\n"
     ]
    },
    {
     "cell_type": "code",
     "collapsed": false,
     "input": [
      "t = tuple()\n",
      "print type(t)\n",
      "print t"
     ],
     "language": "python",
     "metadata": {},
     "outputs": [
      {
       "output_type": "stream",
       "stream": "stdout",
       "text": [
        "<type 'tuple'>\n",
        "()\n"
       ]
      }
     ],
     "prompt_number": 6
    },
    {
     "cell_type": "markdown",
     "metadata": {},
     "source": [
      "If the argument is a **sequence** (string, list or tuple), the result is a tuple with the elements of the sequence:"
     ]
    },
    {
     "cell_type": "code",
     "collapsed": false,
     "input": [
      "t = tuple('lupins')\n",
      "print t"
     ],
     "language": "python",
     "metadata": {},
     "outputs": [
      {
       "output_type": "stream",
       "stream": "stdout",
       "text": [
        "('l', 'u', 'p', 'i', 'n', 's')\n"
       ]
      }
     ],
     "prompt_number": 7
    },
    {
     "cell_type": "code",
     "collapsed": false,
     "input": [
      "t = tuple(['a', 'b', 'c'])\n",
      "print t"
     ],
     "language": "python",
     "metadata": {},
     "outputs": [
      {
       "output_type": "stream",
       "stream": "stdout",
       "text": [
        "('a', 'b', 'c')\n"
       ]
      }
     ],
     "prompt_number": 8
    },
    {
     "cell_type": "markdown",
     "metadata": {},
     "source": [
      "Because `tuple` is the name of a built-in function, you should avoid using it as a variable name.\n",
      "\n",
      "Most list operators also work on tuples. The bracket operator indexes an element:"
     ]
    },
    {
     "cell_type": "code",
     "collapsed": false,
     "input": [
      "t = ('a', 'b', 'c', 'd', 'e')\n",
      "print t\n",
      "print t[0]"
     ],
     "language": "python",
     "metadata": {},
     "outputs": [
      {
       "output_type": "stream",
       "stream": "stdout",
       "text": [
        "('a', 'b', 'c', 'd', 'e')\n",
        "a\n"
       ]
      }
     ],
     "prompt_number": 9
    },
    {
     "cell_type": "markdown",
     "metadata": {},
     "source": [
      "And the slice operator selects a range of elements."
     ]
    },
    {
     "cell_type": "code",
     "collapsed": false,
     "input": [
      "t = ('a', 'b', 'c', 'd', 'e')\n",
      "print t\n",
      "print t[1:3]"
     ],
     "language": "python",
     "metadata": {},
     "outputs": [
      {
       "output_type": "stream",
       "stream": "stdout",
       "text": [
        "('a', 'b', 'c', 'd', 'e')\n",
        "('b', 'c')\n"
       ]
      }
     ],
     "prompt_number": 10
    },
    {
     "cell_type": "markdown",
     "metadata": {},
     "source": [
      "But if you try to modify one of the elements of the tuple, you get an error:"
     ]
    },
    {
     "cell_type": "code",
     "collapsed": false,
     "input": [
      "t = ('a', 'b', 'c', 'd', 'e')\n",
      "print t\n",
      "t[0] = 'A'"
     ],
     "language": "python",
     "metadata": {},
     "outputs": [
      {
       "output_type": "stream",
       "stream": "stdout",
       "text": [
        "('a', 'b', 'c', 'd', 'e')\n"
       ]
      },
      {
       "ename": "TypeError",
       "evalue": "'tuple' object does not support item assignment",
       "output_type": "pyerr",
       "traceback": [
        "\u001b[0;31m---------------------------------------------------------------------------\u001b[0m\n\u001b[0;31mTypeError\u001b[0m                                 Traceback (most recent call last)",
        "\u001b[0;32m<ipython-input-11-c7ab5c46a200>\u001b[0m in \u001b[0;36m<module>\u001b[0;34m()\u001b[0m\n\u001b[1;32m      1\u001b[0m \u001b[0mt\u001b[0m \u001b[0;34m=\u001b[0m \u001b[0;34m(\u001b[0m\u001b[0;34m'a'\u001b[0m\u001b[0;34m,\u001b[0m \u001b[0;34m'b'\u001b[0m\u001b[0;34m,\u001b[0m \u001b[0;34m'c'\u001b[0m\u001b[0;34m,\u001b[0m \u001b[0;34m'd'\u001b[0m\u001b[0;34m,\u001b[0m \u001b[0;34m'e'\u001b[0m\u001b[0;34m)\u001b[0m\u001b[0;34m\u001b[0m\u001b[0m\n\u001b[1;32m      2\u001b[0m \u001b[0;32mprint\u001b[0m \u001b[0mt\u001b[0m\u001b[0;34m\u001b[0m\u001b[0m\n\u001b[0;32m----> 3\u001b[0;31m \u001b[0mt\u001b[0m\u001b[0;34m[\u001b[0m\u001b[0;36m0\u001b[0m\u001b[0;34m]\u001b[0m \u001b[0;34m=\u001b[0m \u001b[0;34m'A'\u001b[0m\u001b[0;34m\u001b[0m\u001b[0m\n\u001b[0m",
        "\u001b[0;31mTypeError\u001b[0m: 'tuple' object does not support item assignment"
       ]
      }
     ],
     "prompt_number": 11
    },
    {
     "cell_type": "markdown",
     "metadata": {},
     "source": [
      "You can\u2019t modify the elements of a tuple, but you can replace one tuple with another:"
     ]
    },
    {
     "cell_type": "code",
     "collapsed": false,
     "input": [
      "t = ('a', 'b', 'c', 'd', 'e')\n",
      "print t\n",
      "t = ('A',) + t[1:]\n",
      "print t"
     ],
     "language": "python",
     "metadata": {},
     "outputs": [
      {
       "output_type": "stream",
       "stream": "stdout",
       "text": [
        "('a', 'b', 'c', 'd', 'e')\n",
        "('A', 'b', 'c', 'd', 'e')\n"
       ]
      }
     ],
     "prompt_number": 12
    },
    {
     "cell_type": "markdown",
     "metadata": {},
     "source": [
      "****"
     ]
    },
    {
     "cell_type": "markdown",
     "metadata": {},
     "source": [
      "## 12.2  Tuple assignment\n",
      "\n",
      "It is often useful to swap the values of two variables. \n",
      "* With conventional assignments, you have to use a temporary variable. \n",
      "* For example, to swap `a` and `b`:"
     ]
    },
    {
     "cell_type": "code",
     "collapsed": false,
     "input": [
      "a = 3\n",
      "b = 4\n",
      "print a, b\n",
      "temp = a\n",
      "a = b\n",
      "b = temp\n",
      "print a, b"
     ],
     "language": "python",
     "metadata": {},
     "outputs": [
      {
       "output_type": "stream",
       "stream": "stdout",
       "text": [
        "3 4\n",
        "4 3\n"
       ]
      }
     ],
     "prompt_number": 13
    },
    {
     "cell_type": "markdown",
     "metadata": {},
     "source": [
      "This solution is cumbersome; **tuple assignment** is more elegant:"
     ]
    },
    {
     "cell_type": "code",
     "collapsed": false,
     "input": [
      "a = 3\n",
      "b = 4\n",
      "print a, b\n",
      "a, b = b, a\n",
      "print a, b"
     ],
     "language": "python",
     "metadata": {},
     "outputs": [
      {
       "output_type": "stream",
       "stream": "stdout",
       "text": [
        "3 4\n",
        "4 3\n"
       ]
      }
     ],
     "prompt_number": 14
    },
    {
     "cell_type": "markdown",
     "metadata": {},
     "source": [
      "* The left side is a tuple of variables; the right side is a tuple of expressions. \n",
      "* Each value is assigned to its respective variable. \n",
      "* All the expressions on the right side are evaluated before any of the assignments.\n",
      "\n",
      "\n",
      "The number of variables on the left and the number of values on the right have to be the same:"
     ]
    },
    {
     "cell_type": "code",
     "collapsed": false,
     "input": [
      "a, b = 1, 2, 3"
     ],
     "language": "python",
     "metadata": {},
     "outputs": [
      {
       "ename": "ValueError",
       "evalue": "too many values to unpack",
       "output_type": "pyerr",
       "traceback": [
        "\u001b[0;31m---------------------------------------------------------------------------\u001b[0m\n\u001b[0;31mValueError\u001b[0m                                Traceback (most recent call last)",
        "\u001b[0;32m<ipython-input-15-f840016b8414>\u001b[0m in \u001b[0;36m<module>\u001b[0;34m()\u001b[0m\n\u001b[0;32m----> 1\u001b[0;31m \u001b[0ma\u001b[0m\u001b[0;34m,\u001b[0m \u001b[0mb\u001b[0m \u001b[0;34m=\u001b[0m \u001b[0;36m1\u001b[0m\u001b[0;34m,\u001b[0m \u001b[0;36m2\u001b[0m\u001b[0;34m,\u001b[0m \u001b[0;36m3\u001b[0m\u001b[0;34m\u001b[0m\u001b[0m\n\u001b[0m",
        "\u001b[0;31mValueError\u001b[0m: too many values to unpack"
       ]
      }
     ],
     "prompt_number": 15
    },
    {
     "cell_type": "code",
     "collapsed": false,
     "input": [
      "a, b = 1, 2\n",
      "print a, b"
     ],
     "language": "python",
     "metadata": {},
     "outputs": [
      {
       "output_type": "stream",
       "stream": "stdout",
       "text": [
        "1 2\n"
       ]
      }
     ],
     "prompt_number": 16
    },
    {
     "cell_type": "markdown",
     "metadata": {},
     "source": [
      "More generally, the right side can be any kind of sequence (string, list or tuple). \n",
      "\n",
      "For example, to split an email address into a user name and a domain, you could write:\n",
      "* The return value from `split` is a list with two elements; \n",
      "* The first element is assigned to uname, the second to domain."
     ]
    },
    {
     "cell_type": "code",
     "collapsed": false,
     "input": [
      "addr = 'monty@python.org'\n",
      "uname, domain = addr.split('@')\n",
      "print uname\n",
      "print domain"
     ],
     "language": "python",
     "metadata": {},
     "outputs": [
      {
       "output_type": "stream",
       "stream": "stdout",
       "text": [
        "monty\n",
        "python.org\n"
       ]
      }
     ],
     "prompt_number": 17
    },
    {
     "cell_type": "markdown",
     "metadata": {},
     "source": [
      "****"
     ]
    },
    {
     "cell_type": "markdown",
     "metadata": {},
     "source": [
      "## 12.3  Tuples as return values\n",
      "\n",
      "Strictly speaking, a function can only return one value, but if the value is a tuple, the effect is the same as returning multiple values. \n",
      "\n",
      "For example, if you want to divide two integers and compute the quotient and remainder, it is inefficient to compute x/y and then x%y. It is better to compute them both at the same time.\n",
      "\n",
      "The built-in function `divmod` takes two arguments and returns a tuple of two values, the quotient and remainder. You can store the result as a tuple:"
     ]
    },
    {
     "cell_type": "code",
     "collapsed": false,
     "input": [
      "t = divmod(7, 3)\n",
      "print t"
     ],
     "language": "python",
     "metadata": {},
     "outputs": [
      {
       "output_type": "stream",
       "stream": "stdout",
       "text": [
        "(2, 1)\n"
       ]
      }
     ],
     "prompt_number": 18
    },
    {
     "cell_type": "markdown",
     "metadata": {},
     "source": [
      "Or use tuple assignment to store the elements separately:"
     ]
    },
    {
     "cell_type": "code",
     "collapsed": false,
     "input": [
      "quot, rem = divmod(7, 3)\n",
      "print quot\n",
      "print rem"
     ],
     "language": "python",
     "metadata": {},
     "outputs": [
      {
       "output_type": "stream",
       "stream": "stdout",
       "text": [
        "2\n",
        "1\n"
       ]
      }
     ],
     "prompt_number": 19
    },
    {
     "cell_type": "markdown",
     "metadata": {},
     "source": [
      "Here is an example of a function that returns a tuple:\n",
      "* `max` and `min` are built-in functions that find the largest and smallest elements of a sequence. \n",
      "* `min_max` computes both and returns a tuple of two values."
     ]
    },
    {
     "cell_type": "code",
     "collapsed": false,
     "input": [
      "def min_max(t):\n",
      "    return min(t), max(t)\n",
      "\n",
      "t = [1, 2, 3, 4, 5, 6, 7]\n",
      "print min_max(t)"
     ],
     "language": "python",
     "metadata": {},
     "outputs": [
      {
       "output_type": "stream",
       "stream": "stdout",
       "text": [
        "(1, 7)\n"
       ]
      }
     ],
     "prompt_number": 20
    },
    {
     "cell_type": "markdown",
     "metadata": {},
     "source": [
      "****"
     ]
    },
    {
     "cell_type": "markdown",
     "metadata": {},
     "source": [
      "## 12.4  Variable-length argument tuples\n",
      "\n",
      "Functions can take a variable number of arguments. \n",
      "* A parameter name that begins with `*` **gathers** arguments into a tuple. \n",
      "* For example, printall takes any number of arguments and prints them.\n",
      "* The gather parameter can have any name you like, but **args** is *conventional*. Here\u2019s how the function works."
     ]
    },
    {
     "cell_type": "code",
     "collapsed": false,
     "input": [
      "def printall(*args):\n",
      "    print args\n",
      "\n",
      "printall(1, 2.0, '3')\n",
      "printall('a', [1, 2, 3,], 100)"
     ],
     "language": "python",
     "metadata": {},
     "outputs": [
      {
       "output_type": "stream",
       "stream": "stdout",
       "text": [
        "(1, 2.0, '3')\n",
        "('a', [1, 2, 3], 100)\n"
       ]
      }
     ],
     "prompt_number": 22
    },
    {
     "cell_type": "markdown",
     "metadata": {},
     "source": [
      "The complement of gather is **scatter**. \n",
      "* If you have a sequence of values and you want to pass it to a function as multiple arguments, you can use the `*` operator. \n",
      "* For example, `divmod` takes exactly two arguments; it doesn\u2019t work with a tuple."
     ]
    },
    {
     "cell_type": "code",
     "collapsed": false,
     "input": [
      "print divmod(7, 3)\n",
      "t = (7, 3)\n",
      "print divmod(t)"
     ],
     "language": "python",
     "metadata": {},
     "outputs": [
      {
       "output_type": "stream",
       "stream": "stdout",
       "text": [
        "(2, 1)\n"
       ]
      },
      {
       "ename": "TypeError",
       "evalue": "divmod expected 2 arguments, got 1",
       "output_type": "pyerr",
       "traceback": [
        "\u001b[0;31m---------------------------------------------------------------------------\u001b[0m\n\u001b[0;31mTypeError\u001b[0m                                 Traceback (most recent call last)",
        "\u001b[0;32m<ipython-input-23-8cc9c4a3ad95>\u001b[0m in \u001b[0;36m<module>\u001b[0;34m()\u001b[0m\n\u001b[1;32m      1\u001b[0m \u001b[0;32mprint\u001b[0m \u001b[0mdivmod\u001b[0m\u001b[0;34m(\u001b[0m\u001b[0;36m7\u001b[0m\u001b[0;34m,\u001b[0m \u001b[0;36m3\u001b[0m\u001b[0;34m)\u001b[0m\u001b[0;34m\u001b[0m\u001b[0m\n\u001b[1;32m      2\u001b[0m \u001b[0mt\u001b[0m \u001b[0;34m=\u001b[0m \u001b[0;34m(\u001b[0m\u001b[0;36m7\u001b[0m\u001b[0;34m,\u001b[0m \u001b[0;36m3\u001b[0m\u001b[0;34m)\u001b[0m\u001b[0;34m\u001b[0m\u001b[0m\n\u001b[0;32m----> 3\u001b[0;31m \u001b[0;32mprint\u001b[0m \u001b[0mdivmod\u001b[0m\u001b[0;34m(\u001b[0m\u001b[0mt\u001b[0m\u001b[0;34m)\u001b[0m\u001b[0;34m\u001b[0m\u001b[0m\n\u001b[0m",
        "\u001b[0;31mTypeError\u001b[0m: divmod expected 2 arguments, got 1"
       ]
      }
     ],
     "prompt_number": 23
    },
    {
     "cell_type": "markdown",
     "metadata": {},
     "source": [
      "* But if you scatter the tuple, it works."
     ]
    },
    {
     "cell_type": "code",
     "collapsed": false,
     "input": [
      "t = (7, 3)\n",
      "print divmod(*t)"
     ],
     "language": "python",
     "metadata": {},
     "outputs": [
      {
       "output_type": "stream",
       "stream": "stdout",
       "text": [
        "(2, 1)\n"
       ]
      }
     ],
     "prompt_number": 29
    },
    {
     "cell_type": "code",
     "collapsed": false,
     "input": [
      "t = [7, 3]\n",
      "print divmod(*t)"
     ],
     "language": "python",
     "metadata": {},
     "outputs": [
      {
       "output_type": "stream",
       "stream": "stdout",
       "text": [
        "(2, 1)\n"
       ]
      }
     ],
     "prompt_number": 30
    },
    {
     "cell_type": "code",
     "collapsed": false,
     "input": [
      "t = '73'\n",
      "print divmod(*t)"
     ],
     "language": "python",
     "metadata": {},
     "outputs": [
      {
       "ename": "TypeError",
       "evalue": "unsupported operand type(s) for divmod(): 'str' and 'str'",
       "output_type": "pyerr",
       "traceback": [
        "\u001b[0;31m---------------------------------------------------------------------------\u001b[0m\n\u001b[0;31mTypeError\u001b[0m                                 Traceback (most recent call last)",
        "\u001b[0;32m<ipython-input-25-2362f23f9725>\u001b[0m in \u001b[0;36m<module>\u001b[0;34m()\u001b[0m\n\u001b[1;32m      1\u001b[0m \u001b[0mt\u001b[0m \u001b[0;34m=\u001b[0m \u001b[0;34m'73'\u001b[0m\u001b[0;34m\u001b[0m\u001b[0m\n\u001b[0;32m----> 2\u001b[0;31m \u001b[0;32mprint\u001b[0m \u001b[0mdivmod\u001b[0m\u001b[0;34m(\u001b[0m\u001b[0;34m*\u001b[0m\u001b[0mt\u001b[0m\u001b[0;34m)\u001b[0m\u001b[0;34m\u001b[0m\u001b[0m\n\u001b[0m",
        "\u001b[0;31mTypeError\u001b[0m: unsupported operand type(s) for divmod(): 'str' and 'str'"
       ]
      }
     ],
     "prompt_number": 25
    },
    {
     "cell_type": "markdown",
     "metadata": {},
     "source": [
      "### Exercise 12.1  \n",
      "\n",
      "Many of the built-in functions use variable-length argument tuples. For example, `max` and `min` can take any number of arguments:"
     ]
    },
    {
     "cell_type": "code",
     "collapsed": false,
     "input": [
      "print max(1,2,3)"
     ],
     "language": "python",
     "metadata": {},
     "outputs": [
      {
       "output_type": "stream",
       "stream": "stdout",
       "text": [
        "3\n"
       ]
      }
     ],
     "prompt_number": 31
    },
    {
     "cell_type": "markdown",
     "metadata": {},
     "source": [
      "But `sum` does not."
     ]
    },
    {
     "cell_type": "code",
     "collapsed": false,
     "input": [
      "sum(1,2,3)"
     ],
     "language": "python",
     "metadata": {},
     "outputs": [
      {
       "ename": "TypeError",
       "evalue": "sum expected at most 2 arguments, got 3",
       "output_type": "pyerr",
       "traceback": [
        "\u001b[0;31m---------------------------------------------------------------------------\u001b[0m\n\u001b[0;31mTypeError\u001b[0m                                 Traceback (most recent call last)",
        "\u001b[0;32m<ipython-input-32-81001a733aec>\u001b[0m in \u001b[0;36m<module>\u001b[0;34m()\u001b[0m\n\u001b[0;32m----> 1\u001b[0;31m \u001b[0msum\u001b[0m\u001b[0;34m(\u001b[0m\u001b[0;36m1\u001b[0m\u001b[0;34m,\u001b[0m\u001b[0;36m2\u001b[0m\u001b[0;34m,\u001b[0m\u001b[0;36m3\u001b[0m\u001b[0;34m)\u001b[0m\u001b[0;34m\u001b[0m\u001b[0m\n\u001b[0m",
        "\u001b[0;31mTypeError\u001b[0m: sum expected at most 2 arguments, got 3"
       ]
      }
     ],
     "prompt_number": 32
    },
    {
     "cell_type": "markdown",
     "metadata": {},
     "source": [
      "Write a function called `sumall` that takes any number of arguments and returns their sum."
     ]
    },
    {
     "cell_type": "markdown",
     "metadata": {},
     "source": [
      "****"
     ]
    },
    {
     "cell_type": "markdown",
     "metadata": {},
     "source": [
      "## 12.5  Lists and tuples\n",
      "\n",
      "`zip` is a built-in function that takes two or more sequences and \u201czips\u201d them into a list of tuples where each tuple contains one element from each sequence. \n",
      "\n",
      "This example zips a string and a list:"
     ]
    },
    {
     "cell_type": "code",
     "collapsed": false,
     "input": [
      "s = 'abc'\n",
      "t = [0, 1, 2]\n",
      "print zip(s, t)"
     ],
     "language": "python",
     "metadata": {},
     "outputs": [
      {
       "output_type": "stream",
       "stream": "stdout",
       "text": [
        "[('a', 0), ('b', 1), ('c', 2)]\n"
       ]
      }
     ],
     "prompt_number": 42
    },
    {
     "cell_type": "markdown",
     "metadata": {},
     "source": [
      "* The result is a list of tuples.\n",
      "* Each tuple contains a character from the string and the corresponding element from the list.\n",
      "\n",
      "If the sequences are not the same length, the result has the length of the **shorter** one."
     ]
    },
    {
     "cell_type": "code",
     "collapsed": false,
     "input": [
      "print zip('Anne', 'Elk')"
     ],
     "language": "python",
     "metadata": {},
     "outputs": [
      {
       "output_type": "stream",
       "stream": "stdout",
       "text": [
        "[('A', 'E'), ('n', 'l'), ('n', 'k')]\n"
       ]
      }
     ],
     "prompt_number": 43
    },
    {
     "cell_type": "markdown",
     "metadata": {},
     "source": [
      "You can use tuple assignment in a for `loop` to traverse a *list of tuples*:\n",
      "* Each time through the loop, Python selects the next tuple in the list and assigns the elements to letter and number."
     ]
    },
    {
     "cell_type": "code",
     "collapsed": false,
     "input": [
      "t = [('a', 0), ('b', 1), ('c', 2)]\n",
      "for letter, number in t:\n",
      "    print number, letter"
     ],
     "language": "python",
     "metadata": {},
     "outputs": [
      {
       "output_type": "stream",
       "stream": "stdout",
       "text": [
        "0 a\n",
        "1 b\n",
        "2 c\n"
       ]
      }
     ],
     "prompt_number": 44
    },
    {
     "cell_type": "markdown",
     "metadata": {},
     "source": [
      "If you combine `zip`, `for` and tuple assignment, you get a useful **idiom** for traversing two (or more) sequences at the same time. \n",
      "* For example, `has_match` takes two sequences, `t1` and `t2`, and returns `True` if there is an index `i` such that `t1[i] == t2[i]`:\n"
     ]
    },
    {
     "cell_type": "code",
     "collapsed": false,
     "input": [
      "def has_match(t1, t2):\n",
      "    for x, y in zip(t1, t2):\n",
      "        if x == y:\n",
      "            return True\n",
      "    return False\n",
      "\n",
      "t1 = [1, 3, 2, 4]\n",
      "t2 = [0, 2, 3, 5]\n",
      "print has_match(t1, t2)\n",
      "\n",
      "t1 = [1, 3, 2, 4]\n",
      "t2 = [0, 2, 3, 4]\n",
      "print has_match(t1, t2)"
     ],
     "language": "python",
     "metadata": {},
     "outputs": [
      {
       "output_type": "stream",
       "stream": "stdout",
       "text": [
        "False\n",
        "True\n"
       ]
      }
     ],
     "prompt_number": 49
    },
    {
     "cell_type": "markdown",
     "metadata": {},
     "source": [
      "If you need to traverse the elements of a sequence and their indices, you can use the built-in function `enumerate`:"
     ]
    },
    {
     "cell_type": "code",
     "collapsed": false,
     "input": [
      "for index, element in enumerate('abc'):\n",
      "    print index, element"
     ],
     "language": "python",
     "metadata": {},
     "outputs": [
      {
       "output_type": "stream",
       "stream": "stdout",
       "text": [
        "<type 'enumerate'>\n",
        "0 a\n",
        "1 b\n",
        "2 c\n"
       ]
      }
     ],
     "prompt_number": 54
    },
    {
     "cell_type": "code",
     "collapsed": false,
     "input": [
      "print enumerate('abc')\n",
      "print list(enumerate('abc'))"
     ],
     "language": "python",
     "metadata": {},
     "outputs": [
      {
       "output_type": "stream",
       "stream": "stdout",
       "text": [
        "<enumerate object at 0x105782af0>\n",
        "[(0, 'a'), (1, 'b'), (2, 'c')]\n"
       ]
      }
     ],
     "prompt_number": 56
    },
    {
     "cell_type": "markdown",
     "metadata": {},
     "source": [
      "****"
     ]
    },
    {
     "cell_type": "markdown",
     "metadata": {},
     "source": [
      "## 12.6  Dictionaries and tuples\n",
      "\n",
      "Dictionaries have a method called `items` that returns a list of tuples, where each tuple is a key-value pair."
     ]
    },
    {
     "cell_type": "code",
     "collapsed": false,
     "input": [
      "d = {'a':0, 'b':1, 'c':2}\n",
      "t = d.items()\n",
      "print t"
     ],
     "language": "python",
     "metadata": {},
     "outputs": [
      {
       "output_type": "stream",
       "stream": "stdout",
       "text": [
        "[('a', 0), ('c', 2), ('b', 1)]\n"
       ]
      }
     ],
     "prompt_number": 35
    },
    {
     "cell_type": "markdown",
     "metadata": {},
     "source": [
      "As you should expect from a dictionary, the items are in no particular order. \n",
      "\n",
      "Going in the other direction, you can use a list of tuples to initialize a new dictionary:"
     ]
    },
    {
     "cell_type": "code",
     "collapsed": false,
     "input": [
      "t = [('a', 0), ('c', 2), ('b', 1)]\n",
      "d = dict(t)\n",
      "print d"
     ],
     "language": "python",
     "metadata": {},
     "outputs": [
      {
       "output_type": "stream",
       "stream": "stdout",
       "text": [
        "{'a': 0, 'c': 2, 'b': 1}\n"
       ]
      }
     ],
     "prompt_number": 36
    },
    {
     "cell_type": "markdown",
     "metadata": {},
     "source": [
      "Combining `dict` with `zip` yields a concise way to create a dictionary:"
     ]
    },
    {
     "cell_type": "code",
     "collapsed": false,
     "input": [
      "d = dict(zip('abc', range(3)))\n",
      "print d"
     ],
     "language": "python",
     "metadata": {},
     "outputs": [
      {
       "output_type": "stream",
       "stream": "stdout",
       "text": [
        "{'a': 0, 'c': 2, 'b': 1}\n"
       ]
      }
     ],
     "prompt_number": 60
    },
    {
     "cell_type": "markdown",
     "metadata": {},
     "source": [
      "The dictionary method `update` also takes a list of tuples and adds them, as key-value pairs, to an existing dictionary."
     ]
    },
    {
     "cell_type": "code",
     "collapsed": false,
     "input": [
      "# example?\n",
      "d = {'a': 0, 'c': 2, 'b': 1}\n",
      "print d\n",
      "d.update([('d', 3), ('e', 4)])\n",
      "print d"
     ],
     "language": "python",
     "metadata": {},
     "outputs": [
      {
       "output_type": "stream",
       "stream": "stdout",
       "text": [
        "{'a': 0, 'c': 2, 'b': 1}\n",
        "{'a': 0, 'c': 2, 'b': 1, 'e': 4, 'd': 3}\n"
       ]
      }
     ],
     "prompt_number": 45
    },
    {
     "cell_type": "markdown",
     "metadata": {},
     "source": [
      "Combining `items`, tuple assignment and `for`, you get the idiom for traversing the keys and values of a dictionary:"
     ]
    },
    {
     "cell_type": "code",
     "collapsed": false,
     "input": [
      "d = dict(zip('abc', range(3)))\n",
      "for key, val in d.items():\n",
      "    print val, key"
     ],
     "language": "python",
     "metadata": {},
     "outputs": [
      {
       "output_type": "stream",
       "stream": "stdout",
       "text": [
        "0 a\n",
        "2 c\n",
        "1 b\n"
       ]
      }
     ],
     "prompt_number": 62
    },
    {
     "cell_type": "code",
     "collapsed": false,
     "input": [
      "d = dict(zip('abc', range(3)))\n",
      "for key, val in d.iteritems():\n",
      "    print val, key"
     ],
     "language": "python",
     "metadata": {},
     "outputs": [
      {
       "output_type": "stream",
       "stream": "stdout",
       "text": [
        "0 a\n",
        "2 c\n",
        "1 b\n"
       ]
      }
     ],
     "prompt_number": 46
    },
    {
     "cell_type": "markdown",
     "metadata": {},
     "source": [
      "It is common to use `tuples` as keys in dictionaries (primarily because you can\u2019t use `lists`). \n",
      "\n",
      "For example, \n",
      "* A telephone directory might map from last-name, first-name pairs to telephone numbers. \n",
      "* Assuming that we have defined last, first and number, we could write.\n",
      "* The expression in brackets is a `tuple`. \n",
      "* We could use tuple assignment to traverse this dictionary."
     ]
    },
    {
     "cell_type": "code",
     "collapsed": false,
     "input": [
      "# create an empty directory\n",
      "directory = {}\n",
      "\n",
      "# directory[last,first] = number\n",
      "directory['Chen', 'Pochung'] = 1234\n",
      "directory['Lin', 'Paul'] = 1234\n",
      "\n",
      "print directory\n",
      "\n",
      "# traverse the list\n",
      "for last, first in directory:\n",
      "    print first, last, directory[last,first]\n"
     ],
     "language": "python",
     "metadata": {},
     "outputs": [
      {
       "output_type": "stream",
       "stream": "stdout",
       "text": [
        "{('Chen', 'Pochung'): 1234, ('Lin', 'Paul'): 1234}\n",
        "Pochung Chen 1234\n",
        "Paul Lin 1234\n"
       ]
      }
     ],
     "prompt_number": 68
    },
    {
     "cell_type": "markdown",
     "metadata": {},
     "source": [
      "* This loop traverses the keys in directory, which are tuples. \n",
      "* It assigns the elements of each tuple to last and first, then prints the name and corresponding telephone number."
     ]
    },
    {
     "cell_type": "markdown",
     "metadata": {},
     "source": [
      "There are two ways to represent tuples in a state diagram. \n",
      "\n",
      "The more detailed version shows the indices and elements just as they appear in a list. \n",
      "* For example, the tuple ('Cleese', 'John') would appear as in Figure below.\n",
      "\n",
      "<img src=\"files/figs/tuple1.png\" width=\"200\" >\n",
      "\n",
      "\n",
      "But in a larger diagram you might want to leave out the details. \n",
      "* For example, a diagram of the telephone directory might appear as in Figure below.\n",
      "\n",
      "<img src=\"files/figs/dict2.png\" width=\"300\" >\n",
      "\n",
      "\n",
      "Here the tuples are shown using Python syntax as a graphical shorthand.\n",
      " "
     ]
    },
    {
     "cell_type": "markdown",
     "metadata": {},
     "source": [
      "****"
     ]
    },
    {
     "cell_type": "markdown",
     "metadata": {},
     "source": [
      "## 12.7  Comparing tuples\n",
      "\n",
      "The relational operators work with tuples and other sequences.\n",
      "\n",
      "* Python starts by comparing the **first** element from each sequence. \n",
      "* If they are **equal**, it goes on to the **next** elements, and so on, until it finds elements that differ. \n",
      "* Subsequent elements are not considered (even if they are really big)."
     ]
    },
    {
     "cell_type": "code",
     "collapsed": false,
     "input": [
      "print (0, 1, 2) < (0, 3, 4)\n",
      "print (0, 1, 2000000) < (0, 3, 4)"
     ],
     "language": "python",
     "metadata": {},
     "outputs": [
      {
       "output_type": "stream",
       "stream": "stdout",
       "text": [
        "True\n",
        "True\n"
       ]
      }
     ],
     "prompt_number": 70
    },
    {
     "cell_type": "code",
     "collapsed": false,
     "input": [
      "print [0, 1, 2] < [0, 3, 4]\n",
      "print [0, 1, 2000000] < [0, 3, 4]"
     ],
     "language": "python",
     "metadata": {},
     "outputs": [
      {
       "output_type": "stream",
       "stream": "stdout",
       "text": [
        "True\n",
        "True\n"
       ]
      }
     ],
     "prompt_number": 48
    },
    {
     "cell_type": "markdown",
     "metadata": {},
     "source": [
      "The `sort` function works the same way. \n",
      "* It sorts primarily by first element, but in the case of a tie, it sorts by second element, and so on."
     ]
    },
    {
     "cell_type": "code",
     "collapsed": false,
     "input": [
      "t = [5, 3, 4, 1, 2]\n",
      "t.sort()\n",
      "print t\n",
      "t.sort(reverse=True)\n",
      "print t\n",
      "\n",
      "t = [5, 3, 4, 1, 2]\n",
      "t1 = sorted(t)\n",
      "t2 = sorted(t, reverse=True)\n",
      "print t1\n",
      "print t2"
     ],
     "language": "python",
     "metadata": {},
     "outputs": [
      {
       "output_type": "stream",
       "stream": "stdout",
       "text": [
        "[1, 2, 3, 4, 5]\n",
        "[5, 4, 3, 2, 1]\n",
        "[1, 2, 3, 4, 5]\n",
        "[5, 4, 3, 2, 1]\n"
       ]
      }
     ],
     "prompt_number": 59
    },
    {
     "cell_type": "code",
     "collapsed": false,
     "input": [
      "t = [(5,3, 3), (4, 8), (5, 2, 7)]\n",
      "\n",
      "t.sort()\n",
      "print t\n",
      "\n",
      "t1 = sorted(t)\n",
      "print t1"
     ],
     "language": "python",
     "metadata": {},
     "outputs": [
      {
       "output_type": "stream",
       "stream": "stdout",
       "text": [
        "[(4, 8), (5, 2, 7), (5, 3, 3)]\n",
        "[(4, 8), (5, 2, 7), (5, 3, 3)]\n"
       ]
      }
     ],
     "prompt_number": 77
    },
    {
     "cell_type": "markdown",
     "metadata": {},
     "source": [
      "You can also read the [Sorting Mini-HOW TO](https://wiki.python.org/moin/HowTo/Sorting)"
     ]
    },
    {
     "cell_type": "markdown",
     "metadata": {},
     "source": [
      "This feature lends itself to a pattern called **DSU** for\n",
      "\n",
      "* **Decorate** a sequence by building a list of tuples with one or more sort keys preceding the elements from the sequence,\n",
      "* **Sort** the list of tuples, and\n",
      "* **Undecorate** by extracting the sorted elements of the sequence.\n",
      "\n",
      "For example, suppose you have a list of words and you want to sort them from longest to shortest:"
     ]
    },
    {
     "cell_type": "code",
     "collapsed": false,
     "input": [
      "def sort_by_length(words):\n",
      "    t = []\n",
      "    for word in words:\n",
      "       t.append((len(word), word))\n",
      "\n",
      "    t.sort(reverse=True)\n",
      "\n",
      "    res = []\n",
      "    for length, word in t:\n",
      "        res.append(word)\n",
      "    return res\n",
      "\n",
      "words = ['happy', 'money', 'physics', 'eat', 'chapter', 'I']\n",
      "print sort_by_length(words)"
     ],
     "language": "python",
     "metadata": {},
     "outputs": [
      {
       "output_type": "stream",
       "stream": "stdout",
       "text": [
        "['physics', 'chapter', 'money', 'happy', 'eat', 'I']\n"
       ]
      }
     ],
     "prompt_number": 75
    },
    {
     "cell_type": "markdown",
     "metadata": {},
     "source": [
      "* The first loop builds a list of tuples, where each tuple is a word preceded by its length.\n",
      "* `sort` compares the first element, length, first, and only considers the second element to break ties. \n",
      "* The keyword argument `reverse=True` tells sort to go in decreasing order.\n",
      "* The second loop traverses the list of tuples and builds a list of words in descending order of length."
     ]
    },
    {
     "cell_type": "markdown",
     "metadata": {},
     "source": [
      "### Exercise 12.2  \n",
      "\n",
      "In this example, ties are broken by comparing words, so words with the same length appear in reverse alphabetical order. For other applications you might want to break ties at random. Modify this example so that words with the same length appear in random order. Hint: see the random function in the random module. "
     ]
    },
    {
     "cell_type": "markdown",
     "metadata": {},
     "source": [
      "****"
     ]
    },
    {
     "cell_type": "markdown",
     "metadata": {},
     "source": [
      "## 12.8  Sequences of sequences\n",
      "\n",
      "I have focused on lists of tuples, but almost all of the examples in this chapter also work with lists of lists, tuples of tuples, and tuples of lists. \n",
      "\n",
      "To avoid enumerating the possible combinations, it is sometimes easier to talk about **sequences of sequences**.\n",
      "\n",
      "In many contexts, the different kinds of sequences (strings, lists and tuples) can be used interchangeably. So how and why do you choose one over the others?\n",
      "\n",
      "### String \n",
      "* Strings are more limited than other sequences because the elements have to be characters. \n",
      "* They are also **immutable**. \n",
      "* If you need the ability to change the characters in a string (as opposed to creating a new string), you might want to use a list of characters instead.\n",
      "\n",
      "### List and Tuple\n",
      "* Lists are more common than tuples, mostly because they are mutable. \n",
      "* But there are a few cases where you might prefer tuples.\n",
      " * In some contexts, like a return statement, it is syntactically simpler to create a tuple than a list. \n",
      " * In other contexts, you might prefer a list.\n",
      " \n",
      " \n",
      "* If you want to use a sequence as a dictionary key, you have to use an immutable type like a tuple or string.\n",
      "\n",
      "* If you are passing a sequence as an argument to a function, using tuples reduces the potential for unexpected behavior due to aliasing.\n",
      "\n",
      "* Because tuples are immutable, they don\u2019t provide methods like `sort` and `reverse`, which modify existing lists. \n",
      "* But Python provides the built-in functions `sorted` and `reversed`, which take any sequence as a parameter and return a new list with the same elements in a different order.\n"
     ]
    },
    {
     "cell_type": "code",
     "collapsed": false,
     "input": [
      "t = ((5,3, 3), (4, 8), (5, 2, 7))\n",
      "\n",
      "t.sort()\n",
      "print t"
     ],
     "language": "python",
     "metadata": {},
     "outputs": [
      {
       "ename": "AttributeError",
       "evalue": "'tuple' object has no attribute 'sort'",
       "output_type": "pyerr",
       "traceback": [
        "\u001b[0;31m---------------------------------------------------------------------------\u001b[0m\n\u001b[0;31mAttributeError\u001b[0m                            Traceback (most recent call last)",
        "\u001b[0;32m<ipython-input-79-66ca3c43be48>\u001b[0m in \u001b[0;36m<module>\u001b[0;34m()\u001b[0m\n\u001b[1;32m      1\u001b[0m \u001b[0mt\u001b[0m \u001b[0;34m=\u001b[0m \u001b[0;34m(\u001b[0m\u001b[0;34m(\u001b[0m\u001b[0;36m5\u001b[0m\u001b[0;34m,\u001b[0m\u001b[0;36m3\u001b[0m\u001b[0;34m,\u001b[0m \u001b[0;36m3\u001b[0m\u001b[0;34m)\u001b[0m\u001b[0;34m,\u001b[0m \u001b[0;34m(\u001b[0m\u001b[0;36m4\u001b[0m\u001b[0;34m,\u001b[0m \u001b[0;36m8\u001b[0m\u001b[0;34m)\u001b[0m\u001b[0;34m,\u001b[0m \u001b[0;34m(\u001b[0m\u001b[0;36m5\u001b[0m\u001b[0;34m,\u001b[0m \u001b[0;36m2\u001b[0m\u001b[0;34m,\u001b[0m \u001b[0;36m7\u001b[0m\u001b[0;34m)\u001b[0m\u001b[0;34m)\u001b[0m\u001b[0;34m\u001b[0m\u001b[0m\n\u001b[1;32m      2\u001b[0m \u001b[0;34m\u001b[0m\u001b[0m\n\u001b[0;32m----> 3\u001b[0;31m \u001b[0mt\u001b[0m\u001b[0;34m.\u001b[0m\u001b[0msort\u001b[0m\u001b[0;34m(\u001b[0m\u001b[0;34m)\u001b[0m\u001b[0;34m\u001b[0m\u001b[0m\n\u001b[0m\u001b[1;32m      4\u001b[0m \u001b[0;32mprint\u001b[0m \u001b[0mt\u001b[0m\u001b[0;34m\u001b[0m\u001b[0m\n",
        "\u001b[0;31mAttributeError\u001b[0m: 'tuple' object has no attribute 'sort'"
       ]
      }
     ],
     "prompt_number": 79
    },
    {
     "cell_type": "code",
     "collapsed": false,
     "input": [
      "t = ((5,3, 3), (4, 8), (5, 2, 7))\n",
      "\n",
      "t1 = sorted(t)\n",
      "print t1"
     ],
     "language": "python",
     "metadata": {},
     "outputs": [
      {
       "output_type": "stream",
       "stream": "stdout",
       "text": [
        "[(4, 8), (5, 2, 7), (5, 3, 3)]\n"
       ]
      }
     ],
     "prompt_number": 80
    },
    {
     "cell_type": "markdown",
     "metadata": {},
     "source": [
      "****"
     ]
    },
    {
     "cell_type": "markdown",
     "metadata": {},
     "source": [
      "## 12.9  Debugging"
     ]
    },
    {
     "cell_type": "markdown",
     "metadata": {},
     "source": [
      "****"
     ]
    },
    {
     "cell_type": "markdown",
     "metadata": {},
     "source": [
      "## 12.10  Glossary\n",
      "\n",
      "**tuple:**\n",
      "\n",
      "An immutable sequence of elements.\n",
      "\n",
      "**tuple assignment:**\n",
      "\n",
      "An assignment with a sequence on the right side and a tuple of variables on the left. The right side is evaluated and then its \n",
      "elements are assigned to the variables on the left.\n",
      "\n",
      "**gather:**\n",
      "\n",
      "The operation of assembling a variable-length argument tuple.\n",
      "\n",
      "**scatter:**\n",
      "\n",
      "The operation of treating a sequence as a list of arguments.\n",
      "\n",
      "**DSU:**\n",
      "\n",
      "Abbreviation of \u201cdecorate-sort-undecorate,\u201d a pattern that involves building a list of tuples, sorting, and extracting part of the result.\n",
      "\n",
      "**data structure:**\n",
      "\n",
      "A collection of related values, often organized in lists, dictionaries, tuples, etc.\n",
      "\n",
      "**shape (of a data structure):**\n",
      "\n",
      "A summary of the type, size and composition of a data structure.\n"
     ]
    },
    {
     "cell_type": "markdown",
     "metadata": {},
     "source": [
      "****"
     ]
    },
    {
     "cell_type": "markdown",
     "metadata": {},
     "source": [
      "## 12.11  Exercises"
     ]
    },
    {
     "cell_type": "code",
     "collapsed": false,
     "input": [],
     "language": "python",
     "metadata": {},
     "outputs": []
    }
   ],
   "metadata": {}
  }
 ]
}