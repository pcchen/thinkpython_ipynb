{
 "metadata": {
  "name": "",
  "signature": "sha256:0bd6f8348d97c3e0cabebac6d7bb097b8e83e32668a6a22ff26502a44ec3b656"
 },
 "nbformat": 3,
 "nbformat_minor": 0,
 "worksheets": [
  {
   "cells": [
    {
     "cell_type": "markdown",
     "metadata": {},
     "source": [
      "# License\n",
      "\n",
      "This IPython Notebook is released under the [Creative Commons Attribution-NonCommercial 3.0 Unported License](http://creativecommons.org/licenses/by-nc/3.0/)\n",
      "\n",
      "This IPython Notebook is based on [Think Python: How to Think Like a Computer Scientist](http://www.greenteapress.com/thinkpython/) by Allen B. Downey. It is available under the [Creative Commons Attribution-NonCommercial 3.0 Unported License](http://creativecommons.org/licenses/by-nc/3.0/)"
     ]
    },
    {
     "cell_type": "markdown",
     "metadata": {},
     "source": [
      "****"
     ]
    },
    {
     "cell_type": "markdown",
     "metadata": {},
     "source": [
      "# Chapter 3 Functions"
     ]
    },
    {
     "cell_type": "markdown",
     "metadata": {},
     "source": [
      "****"
     ]
    },
    {
     "cell_type": "markdown",
     "metadata": {},
     "source": [
      "## 3.1  Function calls\n",
      "\n",
      "A **function** is a named sequence of **statements** that performs a computation. \n",
      "* When you define a function, you specify the name and the sequence of statements. \n",
      "* Later, you can \u201ccall\u201d the function by name.\n",
      "\n",
      "Example of a **function call**:"
     ]
    },
    {
     "cell_type": "code",
     "collapsed": false,
     "input": [
      "type(32)"
     ],
     "language": "python",
     "metadata": {},
     "outputs": [
      {
       "metadata": {},
       "output_type": "pyout",
       "prompt_number": 1,
       "text": [
        "int"
       ]
      }
     ],
     "prompt_number": 1
    },
    {
     "cell_type": "markdown",
     "metadata": {},
     "source": [
      "* The name of the function is `type`. \n",
      "* The **expression** in parentheses is called the **argument** of the function. \n",
      "* The result, for this function, is the type of the argument.\n",
      "* It is common to say that a function \u201ctakes\u201d an argument and \u201creturns\u201d a result. \n",
      "* The result is called the **return value**."
     ]
    },
    {
     "cell_type": "markdown",
     "metadata": {},
     "source": [
      "****"
     ]
    },
    {
     "cell_type": "markdown",
     "metadata": {},
     "source": [
      "## 3.2  Type conversion function\n",
      "\n",
      "Python provides built-in functions that convert values from one type to another. "
     ]
    },
    {
     "cell_type": "markdown",
     "metadata": {},
     "source": [
      "The `int` function takes any value and converts it to an integer, if it can, or complains otherwise:\n",
      "* `int` can convert floating-point values to integers, but it doesn\u2019t round off; it chops off the fraction part:"
     ]
    },
    {
     "cell_type": "code",
     "collapsed": false,
     "input": [
      "int('32')"
     ],
     "language": "python",
     "metadata": {},
     "outputs": [
      {
       "metadata": {},
       "output_type": "pyout",
       "prompt_number": 2,
       "text": [
        "32"
       ]
      }
     ],
     "prompt_number": 2
    },
    {
     "cell_type": "code",
     "collapsed": false,
     "input": [
      "int('Hello')"
     ],
     "language": "python",
     "metadata": {},
     "outputs": [
      {
       "ename": "ValueError",
       "evalue": "invalid literal for int() with base 10: 'Hello'",
       "output_type": "pyerr",
       "traceback": [
        "\u001b[0;31m---------------------------------------------------------------------------\u001b[0m\n\u001b[0;31mValueError\u001b[0m                                Traceback (most recent call last)",
        "\u001b[0;32m<ipython-input-3-3f8bc6d8fcab>\u001b[0m in \u001b[0;36m<module>\u001b[0;34m()\u001b[0m\n\u001b[0;32m----> 1\u001b[0;31m \u001b[0mint\u001b[0m\u001b[0;34m(\u001b[0m\u001b[0;34m'Hello'\u001b[0m\u001b[0;34m)\u001b[0m\u001b[0;34m\u001b[0m\u001b[0m\n\u001b[0m",
        "\u001b[0;31mValueError\u001b[0m: invalid literal for int() with base 10: 'Hello'"
       ]
      }
     ],
     "prompt_number": 3
    },
    {
     "cell_type": "code",
     "collapsed": false,
     "input": [
      "int(3.99999)"
     ],
     "language": "python",
     "metadata": {},
     "outputs": [
      {
       "metadata": {},
       "output_type": "pyout",
       "prompt_number": 4,
       "text": [
        "3"
       ]
      }
     ],
     "prompt_number": 4
    },
    {
     "cell_type": "code",
     "collapsed": false,
     "input": [
      "int(-2.3)"
     ],
     "language": "python",
     "metadata": {},
     "outputs": [
      {
       "metadata": {},
       "output_type": "pyout",
       "prompt_number": 5,
       "text": [
        "-2"
       ]
      }
     ],
     "prompt_number": 5
    },
    {
     "cell_type": "markdown",
     "metadata": {},
     "source": [
      "`float` converts integers and strings to floating-point numbers:"
     ]
    },
    {
     "cell_type": "code",
     "collapsed": false,
     "input": [
      "float(32)"
     ],
     "language": "python",
     "metadata": {},
     "outputs": [
      {
       "metadata": {},
       "output_type": "pyout",
       "prompt_number": 6,
       "text": [
        "32.0"
       ]
      }
     ],
     "prompt_number": 6
    },
    {
     "cell_type": "code",
     "collapsed": false,
     "input": [
      "float('3.14159')"
     ],
     "language": "python",
     "metadata": {},
     "outputs": [
      {
       "metadata": {},
       "output_type": "pyout",
       "prompt_number": 7,
       "text": [
        "3.14159"
       ]
      }
     ],
     "prompt_number": 7
    },
    {
     "cell_type": "markdown",
     "metadata": {},
     "source": [
      "`str` converts its argument to a string:"
     ]
    },
    {
     "cell_type": "code",
     "collapsed": false,
     "input": [
      "str(32)"
     ],
     "language": "python",
     "metadata": {},
     "outputs": [
      {
       "metadata": {},
       "output_type": "pyout",
       "prompt_number": 8,
       "text": [
        "'32'"
       ]
      }
     ],
     "prompt_number": 8
    },
    {
     "cell_type": "code",
     "collapsed": false,
     "input": [
      "str(3.14159)"
     ],
     "language": "python",
     "metadata": {},
     "outputs": [
      {
       "metadata": {},
       "output_type": "pyout",
       "prompt_number": 9,
       "text": [
        "'3.14159'"
       ]
      }
     ],
     "prompt_number": 9
    },
    {
     "cell_type": "markdown",
     "metadata": {},
     "source": [
      "****"
     ]
    },
    {
     "cell_type": "markdown",
     "metadata": {},
     "source": [
      "## 3.3  Math functions\n",
      "\n",
      "Python has a math module that provides most of the familiar mathematical functions. \n",
      "\n",
      "A **module** is a file that contains a collection of related functions."
     ]
    },
    {
     "cell_type": "code",
     "collapsed": false,
     "input": [
      "pi"
     ],
     "language": "python",
     "metadata": {},
     "outputs": [
      {
       "ename": "NameError",
       "evalue": "name 'pi' is not defined",
       "output_type": "pyerr",
       "traceback": [
        "\u001b[0;31m---------------------------------------------------------------------------\u001b[0m\n\u001b[0;31mNameError\u001b[0m                                 Traceback (most recent call last)",
        "\u001b[0;32m<ipython-input-10-68f7b1e53523>\u001b[0m in \u001b[0;36m<module>\u001b[0;34m()\u001b[0m\n\u001b[0;32m----> 1\u001b[0;31m \u001b[0mpi\u001b[0m\u001b[0;34m\u001b[0m\u001b[0m\n\u001b[0m",
        "\u001b[0;31mNameError\u001b[0m: name 'pi' is not defined"
       ]
      }
     ],
     "prompt_number": 10
    },
    {
     "cell_type": "code",
     "collapsed": false,
     "input": [
      "sqrt(2)"
     ],
     "language": "python",
     "metadata": {},
     "outputs": [
      {
       "ename": "NameError",
       "evalue": "name 'sqrt' is not defined",
       "output_type": "pyerr",
       "traceback": [
        "\u001b[0;31m---------------------------------------------------------------------------\u001b[0m\n\u001b[0;31mNameError\u001b[0m                                 Traceback (most recent call last)",
        "\u001b[0;32m<ipython-input-11-40e415486bd6>\u001b[0m in \u001b[0;36m<module>\u001b[0;34m()\u001b[0m\n\u001b[0;32m----> 1\u001b[0;31m \u001b[0msqrt\u001b[0m\u001b[0;34m(\u001b[0m\u001b[0;36m2\u001b[0m\u001b[0;34m)\u001b[0m\u001b[0;34m\u001b[0m\u001b[0m\n\u001b[0m",
        "\u001b[0;31mNameError\u001b[0m: name 'sqrt' is not defined"
       ]
      }
     ],
     "prompt_number": 11
    },
    {
     "cell_type": "markdown",
     "metadata": {},
     "source": [
      "Before we can use the module, we have to **import** it:"
     ]
    },
    {
     "cell_type": "code",
     "collapsed": false,
     "input": [
      "import math"
     ],
     "language": "python",
     "metadata": {},
     "outputs": [],
     "prompt_number": 12
    },
    {
     "cell_type": "markdown",
     "metadata": {},
     "source": [
      "* This statement creates a **module object** named math. \n",
      "* If you print the module object, you get some information about it.\n",
      "* The module object contains the functions and variables defined in the module. "
     ]
    },
    {
     "cell_type": "code",
     "collapsed": false,
     "input": [
      "print math"
     ],
     "language": "python",
     "metadata": {},
     "outputs": [
      {
       "output_type": "stream",
       "stream": "stdout",
       "text": [
        "<module 'math' from '/Users/pcchen/anaconda/lib/python2.7/lib-dynload/math.so'>\n"
       ]
      }
     ],
     "prompt_number": 13
    },
    {
     "cell_type": "markdown",
     "metadata": {},
     "source": [
      "To access one of the functions, you have to specify the name of the module and the name of the function, separated by a dot (also known as a period). \n",
      "* This format is called **dot notation**."
     ]
    },
    {
     "cell_type": "code",
     "collapsed": false,
     "input": [
      "import math\n",
      "signal_power = 10.\n",
      "noise_power = 2.\n",
      "ratio = signal_power / noise_power\n",
      "decibels = 10 * math.log10(ratio)\n",
      "print decibels"
     ],
     "language": "python",
     "metadata": {},
     "outputs": [
      {
       "output_type": "stream",
       "stream": "stdout",
       "text": [
        "6.98970004336\n"
       ]
      }
     ],
     "prompt_number": 14
    },
    {
     "cell_type": "code",
     "collapsed": false,
     "input": [
      "import math\n",
      "radians = 0.7\n",
      "height = math.sin(radians)\n",
      "print height"
     ],
     "language": "python",
     "metadata": {},
     "outputs": [
      {
       "output_type": "stream",
       "stream": "stdout",
       "text": [
        "0.644217687238\n"
       ]
      }
     ],
     "prompt_number": 15
    },
    {
     "cell_type": "code",
     "collapsed": false,
     "input": [
      "import math\n",
      "degrees = 45\n",
      "radians = degrees / 360.0 * 2 * math.pi\n",
      "height = math.sin(radians)\n",
      "print height"
     ],
     "language": "python",
     "metadata": {},
     "outputs": [
      {
       "output_type": "stream",
       "stream": "stdout",
       "text": [
        "0.707106781187\n"
       ]
      }
     ],
     "prompt_number": 16
    },
    {
     "cell_type": "markdown",
     "metadata": {},
     "source": [
      "Check the result"
     ]
    },
    {
     "cell_type": "code",
     "collapsed": false,
     "input": [
      "import math\n",
      "print math.sqrt(2) / 2.0"
     ],
     "language": "python",
     "metadata": {},
     "outputs": [
      {
       "output_type": "stream",
       "stream": "stdout",
       "text": [
        "0.707106781187\n"
       ]
      }
     ],
     "prompt_number": 17
    },
    {
     "cell_type": "markdown",
     "metadata": {},
     "source": [
      "The expression `math.pi` gets the variable pi from the math module. \n",
      "* The value of this variable is an approximation of $\\pi$, accurate to about 15 digits."
     ]
    },
    {
     "cell_type": "code",
     "collapsed": false,
     "input": [
      "import math\n",
      "math.pi"
     ],
     "language": "python",
     "metadata": {},
     "outputs": [
      {
       "metadata": {},
       "output_type": "pyout",
       "prompt_number": 18,
       "text": [
        "3.141592653589793"
       ]
      }
     ],
     "prompt_number": 18
    },
    {
     "cell_type": "markdown",
     "metadata": {},
     "source": [
      "****"
     ]
    },
    {
     "cell_type": "markdown",
     "metadata": {},
     "source": [
      "## 3.4  Composition\n",
      "\n",
      "One of the most useful features of programming languages is their ability to take small building blocks and **compose** them. \n",
      "* The argument of a function can be any kind of expression, including arithmetic operators:"
     ]
    },
    {
     "cell_type": "code",
     "collapsed": false,
     "input": [
      "import math\n",
      "x = math.sin(degrees / 360.0 * 2 * math.pi)\n",
      "print x"
     ],
     "language": "python",
     "metadata": {},
     "outputs": [
      {
       "output_type": "stream",
       "stream": "stdout",
       "text": [
        "0.707106781187\n"
       ]
      }
     ],
     "prompt_number": 19
    },
    {
     "cell_type": "code",
     "collapsed": false,
     "input": [
      "import math\n",
      "x = math.exp(math.log(x+1))\n",
      "print x"
     ],
     "language": "python",
     "metadata": {},
     "outputs": [
      {
       "output_type": "stream",
       "stream": "stdout",
       "text": [
        "1.70710678119\n"
       ]
      }
     ],
     "prompt_number": 20
    },
    {
     "cell_type": "markdown",
     "metadata": {},
     "source": [
      "Almost anywhere you can put a value, you can put an arbitrary expression, with one exception: \n",
      "* The left side of an assignment statement has to be a variable name. \n",
      "* Any other expression on the left side is a syntax error"
     ]
    },
    {
     "cell_type": "code",
     "collapsed": false,
     "input": [
      "hours = 3\n",
      "minutes = hours * 60"
     ],
     "language": "python",
     "metadata": {},
     "outputs": [],
     "prompt_number": 21
    },
    {
     "cell_type": "code",
     "collapsed": false,
     "input": [
      "hours = 3\n",
      "hours * 60 = minutes  "
     ],
     "language": "python",
     "metadata": {},
     "outputs": [
      {
       "ename": "SyntaxError",
       "evalue": "can't assign to operator (<ipython-input-22-91c3c5b2c6eb>, line 2)",
       "output_type": "pyerr",
       "traceback": [
        "\u001b[0;36m  File \u001b[0;32m\"<ipython-input-22-91c3c5b2c6eb>\"\u001b[0;36m, line \u001b[0;32m2\u001b[0m\n\u001b[0;31m    hours * 60 = minutes\u001b[0m\n\u001b[0;31mSyntaxError\u001b[0m\u001b[0;31m:\u001b[0m can't assign to operator\n"
       ]
      }
     ],
     "prompt_number": 22
    },
    {
     "cell_type": "markdown",
     "metadata": {},
     "source": [
      "****"
     ]
    },
    {
     "cell_type": "markdown",
     "metadata": {},
     "source": [
      "## 3.5  Adding new functions\n",
      "\n",
      "A **function definition** specifies the name of a new function and the sequence of statements that execute when the function is called.\n",
      "\n",
      "In the example below\n",
      "* `def` is a keyword that indicates that this is a function definition. \n",
      "* The name of the function is `print_lyrics`. \n"
     ]
    },
    {
     "cell_type": "code",
     "collapsed": false,
     "input": [
      "def print_lyrics():\n",
      "    print \"I'm a lumberjack, and I'm okay.\"\n",
      "    print \"I sleep all night and I work all day.\""
     ],
     "language": "python",
     "metadata": {},
     "outputs": [],
     "prompt_number": 23
    },
    {
     "cell_type": "markdown",
     "metadata": {},
     "source": [
      "* The first line of the function definition is called the **header**; the rest is called the **body**. \n",
      "* The header has to **end with a colon** and the body has **to be indented**. \n",
      "* By convention, the indentation is always **four spaces**. \n",
      "* The body can contain any number of statements."
     ]
    },
    {
     "cell_type": "code",
     "collapsed": false,
     "input": [
      "# Wrong! Indentation error!\n",
      "def print_lyrics():\n",
      "print \"I'm a lumberjack, and I'm okay.\"\n",
      "print \"I sleep all night and I work all day.\""
     ],
     "language": "python",
     "metadata": {},
     "outputs": [
      {
       "ename": "IndentationError",
       "evalue": "expected an indented block (<ipython-input-24-4b0860d1806c>, line 3)",
       "output_type": "pyerr",
       "traceback": [
        "\u001b[0;36m  File \u001b[0;32m\"<ipython-input-24-4b0860d1806c>\"\u001b[0;36m, line \u001b[0;32m3\u001b[0m\n\u001b[0;31m    print \"I'm a lumberjack, and I'm okay.\"\u001b[0m\n\u001b[0m        ^\u001b[0m\n\u001b[0;31mIndentationError\u001b[0m\u001b[0;31m:\u001b[0m expected an indented block\n"
       ]
      }
     ],
     "prompt_number": 24
    },
    {
     "cell_type": "markdown",
     "metadata": {},
     "source": [
      "* The strings in the print statements are enclosed in **double quotes**. \n",
      "* Single quotes and double quotes do the same thing; most people use single quotes except in cases like this where a single quote (which is also an apostrophe) appears in the string."
     ]
    },
    {
     "cell_type": "markdown",
     "metadata": {},
     "source": [
      "Defining a function creates a variable with the same name.\n",
      "* The value of print_lyrics is a **function object**, which has type 'function'."
     ]
    },
    {
     "cell_type": "code",
     "collapsed": false,
     "input": [
      "def print_lyrics():\n",
      "    print \"I'm a lumberjack, and I'm okay.\"\n",
      "    print \"I sleep all night and I work all day.\"\n",
      "print print_lyrics"
     ],
     "language": "python",
     "metadata": {},
     "outputs": [
      {
       "output_type": "stream",
       "stream": "stdout",
       "text": [
        "<function print_lyrics at 0x10648ef50>\n"
       ]
      }
     ],
     "prompt_number": 25
    },
    {
     "cell_type": "code",
     "collapsed": false,
     "input": [
      "print type(print_lyrics)"
     ],
     "language": "python",
     "metadata": {},
     "outputs": [
      {
       "output_type": "stream",
       "stream": "stdout",
       "text": [
        "<type 'function'>\n"
       ]
      }
     ],
     "prompt_number": 26
    },
    {
     "cell_type": "markdown",
     "metadata": {},
     "source": [
      "The syntax for calling the new function is the same as for built-in functions:"
     ]
    },
    {
     "cell_type": "code",
     "collapsed": false,
     "input": [
      "def print_lyrics():\n",
      "    print \"I'm a lumberjack, and I'm okay.\"\n",
      "    print \"I sleep all night and I work all day.\"\n",
      "print_lyrics()"
     ],
     "language": "python",
     "metadata": {},
     "outputs": [
      {
       "output_type": "stream",
       "stream": "stdout",
       "text": [
        "I'm a lumberjack, and I'm okay.\n",
        "I sleep all night and I work all day.\n"
       ]
      }
     ],
     "prompt_number": 27
    },
    {
     "cell_type": "markdown",
     "metadata": {},
     "source": [
      "Once you have defined a function, you can use it inside another function. \n",
      "* For example, to repeat the previous refrain, we could write a function called `repeat_lyrics`:"
     ]
    },
    {
     "cell_type": "code",
     "collapsed": false,
     "input": [
      "def print_lyrics():\n",
      "    print \"I'm a lumberjack, and I'm okay.\"\n",
      "    print \"I sleep all night and I work all day.\"\n",
      "    \n",
      "def repeat_lyrics():\n",
      "    print_lyrics()\n",
      "    print_lyrics()\n",
      "    \n",
      "repeat_lyrics()"
     ],
     "language": "python",
     "metadata": {},
     "outputs": [
      {
       "output_type": "stream",
       "stream": "stdout",
       "text": [
        "I'm a lumberjack, and I'm okay.\n",
        "I sleep all night and I work all day.\n",
        "I'm a lumberjack, and I'm okay.\n",
        "I sleep all night and I work all day.\n"
       ]
      }
     ],
     "prompt_number": 28
    },
    {
     "cell_type": "markdown",
     "metadata": {},
     "source": [
      "****"
     ]
    },
    {
     "cell_type": "markdown",
     "metadata": {},
     "source": [
      "## 3.6  Definitions and uses\n",
      "\n",
      "The whole program looks like this:"
     ]
    },
    {
     "cell_type": "code",
     "collapsed": false,
     "input": [
      "def print_lyrics():\n",
      "    print \"I'm a lumberjack, and I'm okay.\"\n",
      "    print \"I sleep all night and I work all day.\"\n",
      "\n",
      "def repeat_lyrics():\n",
      "    print_lyrics()\n",
      "    print_lyrics()\n",
      "\n",
      "repeat_lyrics()"
     ],
     "language": "python",
     "metadata": {},
     "outputs": [
      {
       "output_type": "stream",
       "stream": "stdout",
       "text": [
        "I'm a lumberjack, and I'm okay.\n",
        "I sleep all night and I work all day.\n",
        "I'm a lumberjack, and I'm okay.\n",
        "I sleep all night and I work all day.\n"
       ]
      }
     ],
     "prompt_number": 29
    },
    {
     "cell_type": "markdown",
     "metadata": {},
     "source": [
      "* This program contains two function definitions: `print_lyrics` and `repeat_lyrics`. \n",
      "* Function definitions get executed just like other statements, but the effect is to create function objects. \n",
      "* The statements inside the function do not get executed until the function is called, and the function definition generates no output."
     ]
    },
    {
     "cell_type": "markdown",
     "metadata": {},
     "source": [
      "****"
     ]
    },
    {
     "cell_type": "markdown",
     "metadata": {},
     "source": [
      "### Exercise 3.1  \n",
      "\n",
      "*Move the last line of this program to the top, so the function call appears before the definitions. Run the program and see what error message you get.*\n"
     ]
    },
    {
     "cell_type": "code",
     "collapsed": false,
     "input": [
      "# Try Exercise 3.1 here"
     ],
     "language": "python",
     "metadata": {},
     "outputs": [],
     "prompt_number": 30
    },
    {
     "cell_type": "markdown",
     "metadata": {},
     "source": [
      "****"
     ]
    },
    {
     "cell_type": "markdown",
     "metadata": {},
     "source": [
      "### Exercise 3.2  \n",
      "\n",
      "*Move the function call back to the bottom and move the definition of print_lyrics after the definition of repeat_lyrics. What happens when you run this program?*"
     ]
    },
    {
     "cell_type": "code",
     "collapsed": false,
     "input": [
      "# Try Exercise 3.2 here"
     ],
     "language": "python",
     "metadata": {},
     "outputs": [],
     "prompt_number": 31
    },
    {
     "cell_type": "markdown",
     "metadata": {},
     "source": [
      "****"
     ]
    },
    {
     "cell_type": "markdown",
     "metadata": {},
     "source": [
      "## 3.7  Flow of execution\n",
      "\n",
      "* Execution always begins at the first statement of the program. \n",
      "* Statements are executed one at a time, in order from top to bottom.\n",
      "* Function definitions do not alter the flow of execution of the program, \n",
      " * Statements inside the function are **not** executed until the function is called.\n",
      "* A function call is like a detour in the flow of execution.\n",
      " * The flow jumps to the body of the function, executes all the statements there, and then comes back to pick up where it left off.\n",
      "\n",
      "When you read a program, you don\u2019t always want to read from top to bottom. Sometimes it makes more sense if you follow the flow of execution."
     ]
    },
    {
     "cell_type": "markdown",
     "metadata": {},
     "source": [
      "****"
     ]
    },
    {
     "cell_type": "markdown",
     "metadata": {},
     "source": [
      "## 3.8  Parameters and arguments\n",
      "\n",
      "Inside the function, the **arguments** are assigned to variables called **parameters**.\n",
      "\n",
      "Here is an example of a user-defined function that takes an **argument**:\n",
      "* This function assigns the argument to a **parameter** named `bruce`. \n",
      "* When the function is called, it prints the value of the parameter twice."
     ]
    },
    {
     "cell_type": "code",
     "collapsed": false,
     "input": [
      "def print_twice(bruce):\n",
      "    print bruce\n",
      "    print bruce"
     ],
     "language": "python",
     "metadata": {},
     "outputs": [],
     "prompt_number": 32
    },
    {
     "cell_type": "markdown",
     "metadata": {},
     "source": [
      "* This function works with any value that can be printed."
     ]
    },
    {
     "cell_type": "code",
     "collapsed": false,
     "input": [
      "def print_twice(bruce):\n",
      "    print bruce\n",
      "    print bruce\n",
      "\n",
      "print_twice('Spam')\n",
      "print_twice(17)\n",
      "print_twice(math.pi)"
     ],
     "language": "python",
     "metadata": {},
     "outputs": [
      {
       "output_type": "stream",
       "stream": "stdout",
       "text": [
        "Spam\n",
        "Spam\n",
        "17\n",
        "17\n",
        "3.14159265359\n",
        "3.14159265359\n"
       ]
      }
     ],
     "prompt_number": 33
    },
    {
     "cell_type": "markdown",
     "metadata": {},
     "source": [
      "* The rules of composition apply to user-defined functions."
     ]
    },
    {
     "cell_type": "code",
     "collapsed": false,
     "input": [
      "def print_twice(bruce):\n",
      "    print bruce\n",
      "    print bruce\n",
      "    \n",
      "print_twice('Spam '*4)\n",
      "print_twice(math.cos(math.pi))"
     ],
     "language": "python",
     "metadata": {},
     "outputs": [
      {
       "output_type": "stream",
       "stream": "stdout",
       "text": [
        "Spam Spam Spam Spam \n",
        "Spam Spam Spam Spam \n",
        "-1.0\n",
        "-1.0\n"
       ]
      }
     ],
     "prompt_number": 34
    },
    {
     "cell_type": "markdown",
     "metadata": {},
     "source": [
      "* The argument is evaluated **before** the function is called.\n",
      " * In the examples the expressions `'Spam '*4` and `math.cos(math.pi)` are only evaluated once."
     ]
    },
    {
     "cell_type": "markdown",
     "metadata": {},
     "source": [
      "* You can also use a variable as an argument:"
     ]
    },
    {
     "cell_type": "code",
     "collapsed": false,
     "input": [
      "def print_twice(bruce):\n",
      "    print bruce\n",
      "    print bruce\n",
      "    \n",
      "michael = 'Eric, the half a bee.'\n",
      "print_twice(michael)"
     ],
     "language": "python",
     "metadata": {},
     "outputs": [
      {
       "output_type": "stream",
       "stream": "stdout",
       "text": [
        "Eric, the half a bee.\n",
        "Eric, the half a bee.\n"
       ]
      }
     ],
     "prompt_number": 35
    },
    {
     "cell_type": "markdown",
     "metadata": {},
     "source": [
      "* The name of the variable we pass as an argument (`michael`) has nothing to do with the name of the parameter (`bruce`). \n",
      "* It doesn\u2019t matter what the value was called back home (in the caller); here in `print_twice`, we call everybody `bruce`."
     ]
    },
    {
     "cell_type": "markdown",
     "metadata": {},
     "source": [
      "****"
     ]
    },
    {
     "cell_type": "markdown",
     "metadata": {},
     "source": [
      "## 3.9  Variables and parameters are local\n",
      "\n",
      "When you create a variable inside a function, it is **local**:\n",
      "* It only exists inside the function."
     ]
    },
    {
     "cell_type": "markdown",
     "metadata": {},
     "source": [
      "This function takes two arguments, concatenates them, and prints the result twice. "
     ]
    },
    {
     "cell_type": "code",
     "collapsed": false,
     "input": [
      "def print_twice(bruce):\n",
      "    print bruce\n",
      "    print bruce\n",
      "    \n",
      "def cat_twice(part1, part2):\n",
      "    cat = part1 + part2\n",
      "    print_twice(cat)\n",
      "\n",
      "line1 = 'Bing tiddle '\n",
      "line2 = 'tiddle bang.'\n",
      "cat_twice(line1, line2)"
     ],
     "language": "python",
     "metadata": {},
     "outputs": [
      {
       "output_type": "stream",
       "stream": "stdout",
       "text": [
        "Bing tiddle tiddle bang.\n",
        "Bing tiddle tiddle bang.\n"
       ]
      }
     ],
     "prompt_number": 36
    },
    {
     "cell_type": "markdown",
     "metadata": {},
     "source": [
      "* When `cat_twice` terminates, the variable `cat` is destroyed. If we try to print it, we get an exception:"
     ]
    },
    {
     "cell_type": "code",
     "collapsed": false,
     "input": [
      "def print_twice(bruce):\n",
      "    print bruce\n",
      "    print bruce\n",
      "    \n",
      "def cat_twice(part1, part2):\n",
      "    cat = part1 + part2\n",
      "    print_twice(cat)\n",
      "\n",
      "line1 = 'Bing tiddle '\n",
      "line2 = 'tiddle bang.'\n",
      "cat_twice(line1, line2)\n",
      "print cat"
     ],
     "language": "python",
     "metadata": {},
     "outputs": [
      {
       "output_type": "stream",
       "stream": "stdout",
       "text": [
        "Bing tiddle tiddle bang.\n",
        "Bing tiddle tiddle bang.\n"
       ]
      },
      {
       "ename": "NameError",
       "evalue": "name 'cat' is not defined",
       "output_type": "pyerr",
       "traceback": [
        "\u001b[0;31m---------------------------------------------------------------------------\u001b[0m\n\u001b[0;31mNameError\u001b[0m                                 Traceback (most recent call last)",
        "\u001b[0;32m<ipython-input-37-74080160cc0e>\u001b[0m in \u001b[0;36m<module>\u001b[0;34m()\u001b[0m\n\u001b[1;32m     10\u001b[0m \u001b[0mline2\u001b[0m \u001b[0;34m=\u001b[0m \u001b[0;34m'tiddle bang.'\u001b[0m\u001b[0;34m\u001b[0m\u001b[0m\n\u001b[1;32m     11\u001b[0m \u001b[0mcat_twice\u001b[0m\u001b[0;34m(\u001b[0m\u001b[0mline1\u001b[0m\u001b[0;34m,\u001b[0m \u001b[0mline2\u001b[0m\u001b[0;34m)\u001b[0m\u001b[0;34m\u001b[0m\u001b[0m\n\u001b[0;32m---> 12\u001b[0;31m \u001b[0;32mprint\u001b[0m \u001b[0mcat\u001b[0m\u001b[0;34m\u001b[0m\u001b[0m\n\u001b[0m",
        "\u001b[0;31mNameError\u001b[0m: name 'cat' is not defined"
       ]
      }
     ],
     "prompt_number": 37
    },
    {
     "cell_type": "markdown",
     "metadata": {},
     "source": [
      "Parameters are also local. For example, outside `print_twice`, there is no such thing as `bruce`."
     ]
    },
    {
     "cell_type": "markdown",
     "metadata": {},
     "source": [
      "****"
     ]
    },
    {
     "cell_type": "markdown",
     "metadata": {},
     "source": [
      "## 3.10  Stack diagrams\n",
      "\n",
      "To keep track of which variables can be used where, it is sometimes useful to draw a **stack diagram**. \n",
      "* Stack diagrams show the value of each variable, \n",
      "* Stack diagrams also show the function each variable belongs to."
     ]
    },
    {
     "cell_type": "code",
     "collapsed": false,
     "input": [
      "def print_twice(bruce):\n",
      "    print bruce\n",
      "    print bruce\n",
      "    \n",
      "def cat_twice(part1, part2):\n",
      "    cat = part1 + part2\n",
      "    print_twice(cat)\n",
      "\n",
      "line1 = 'Bing tiddle '\n",
      "line2 = 'tiddle bang.'\n",
      "cat_twice(line1, line2)"
     ],
     "language": "python",
     "metadata": {},
     "outputs": [
      {
       "output_type": "stream",
       "stream": "stdout",
       "text": [
        "Bing tiddle tiddle bang.\n",
        "Bing tiddle tiddle bang.\n"
       ]
      }
     ],
     "prompt_number": 38
    },
    {
     "cell_type": "markdown",
     "metadata": {},
     "source": [
      "Each **function** is represented by a **frame**. \n",
      "* A frame is a box with the name of a function beside it and the parameters and variables of the function inside it.\n",
      "\n",
      "<img src=\"files/figs/stack.png\" width=\"400\" >"
     ]
    },
    {
     "cell_type": "markdown",
     "metadata": {},
     "source": [
      "* The frames are arranged in a stack that indicates which function called which, and so on.\n",
      "  * `print_twice` was called by `cat_twice`.\n",
      "  * `cat_twice` was called by `__main__`, which is a special name for the topmost frame. \n",
      "  * When you create a variable outside of any function, it belongs to `__main__`.\n",
      "* Each parameter refers to the same value as its corresponding argument. \n",
      "  * `part1` has the same value as `line1`\n",
      "  * `part2` has the same value as `line2`\n",
      "  * `bruce` has the same value as `cat`."
     ]
    },
    {
     "cell_type": "markdown",
     "metadata": {},
     "source": [
      "If an **error** occurs during a function call, \n",
      "* Python prints the name of the function, \n",
      "* and the name of the function that called it, \n",
      "* and the name of the function that called that, \n",
      "* all the way back to `__main__`."
     ]
    },
    {
     "cell_type": "markdown",
     "metadata": {},
     "source": [
      "For example, if you try to access cat from within print_twice, you get a NameError"
     ]
    },
    {
     "cell_type": "code",
     "collapsed": false,
     "input": [
      "# For example, if you try to access cat from within print_twice, you get a NameError\n",
      "def print_twice(bruce):\n",
      "    print bruce\n",
      "    print bruce\n",
      "    print cat\n",
      "    \n",
      "def cat_twice(part1, part2):\n",
      "    cat = part1 + part2\n",
      "    print_twice(cat)\n",
      "\n",
      "line1 = 'Bing tiddle '\n",
      "line2 = 'tiddle bang.'\n",
      "cat_twice(line1, line2)"
     ],
     "language": "python",
     "metadata": {},
     "outputs": [
      {
       "output_type": "stream",
       "stream": "stdout",
       "text": [
        "Bing tiddle tiddle bang.\n",
        "Bing tiddle tiddle bang.\n"
       ]
      },
      {
       "ename": "NameError",
       "evalue": "global name 'cat' is not defined",
       "output_type": "pyerr",
       "traceback": [
        "\u001b[0;31m---------------------------------------------------------------------------\u001b[0m\n\u001b[0;31mNameError\u001b[0m                                 Traceback (most recent call last)",
        "\u001b[0;32m<ipython-input-39-dbb825136581>\u001b[0m in \u001b[0;36m<module>\u001b[0;34m()\u001b[0m\n\u001b[1;32m     11\u001b[0m \u001b[0mline1\u001b[0m \u001b[0;34m=\u001b[0m \u001b[0;34m'Bing tiddle '\u001b[0m\u001b[0;34m\u001b[0m\u001b[0m\n\u001b[1;32m     12\u001b[0m \u001b[0mline2\u001b[0m \u001b[0;34m=\u001b[0m \u001b[0;34m'tiddle bang.'\u001b[0m\u001b[0;34m\u001b[0m\u001b[0m\n\u001b[0;32m---> 13\u001b[0;31m \u001b[0mcat_twice\u001b[0m\u001b[0;34m(\u001b[0m\u001b[0mline1\u001b[0m\u001b[0;34m,\u001b[0m \u001b[0mline2\u001b[0m\u001b[0;34m)\u001b[0m\u001b[0;34m\u001b[0m\u001b[0m\n\u001b[0m",
        "\u001b[0;32m<ipython-input-39-dbb825136581>\u001b[0m in \u001b[0;36mcat_twice\u001b[0;34m(part1, part2)\u001b[0m\n\u001b[1;32m      7\u001b[0m \u001b[0;32mdef\u001b[0m \u001b[0mcat_twice\u001b[0m\u001b[0;34m(\u001b[0m\u001b[0mpart1\u001b[0m\u001b[0;34m,\u001b[0m \u001b[0mpart2\u001b[0m\u001b[0;34m)\u001b[0m\u001b[0;34m:\u001b[0m\u001b[0;34m\u001b[0m\u001b[0m\n\u001b[1;32m      8\u001b[0m     \u001b[0mcat\u001b[0m \u001b[0;34m=\u001b[0m \u001b[0mpart1\u001b[0m \u001b[0;34m+\u001b[0m \u001b[0mpart2\u001b[0m\u001b[0;34m\u001b[0m\u001b[0m\n\u001b[0;32m----> 9\u001b[0;31m     \u001b[0mprint_twice\u001b[0m\u001b[0;34m(\u001b[0m\u001b[0mcat\u001b[0m\u001b[0;34m)\u001b[0m\u001b[0;34m\u001b[0m\u001b[0m\n\u001b[0m\u001b[1;32m     10\u001b[0m \u001b[0;34m\u001b[0m\u001b[0m\n\u001b[1;32m     11\u001b[0m \u001b[0mline1\u001b[0m \u001b[0;34m=\u001b[0m \u001b[0;34m'Bing tiddle '\u001b[0m\u001b[0;34m\u001b[0m\u001b[0m\n",
        "\u001b[0;32m<ipython-input-39-dbb825136581>\u001b[0m in \u001b[0;36mprint_twice\u001b[0;34m(bruce)\u001b[0m\n\u001b[1;32m      3\u001b[0m     \u001b[0;32mprint\u001b[0m \u001b[0mbruce\u001b[0m\u001b[0;34m\u001b[0m\u001b[0m\n\u001b[1;32m      4\u001b[0m     \u001b[0;32mprint\u001b[0m \u001b[0mbruce\u001b[0m\u001b[0;34m\u001b[0m\u001b[0m\n\u001b[0;32m----> 5\u001b[0;31m     \u001b[0;32mprint\u001b[0m \u001b[0mcat\u001b[0m\u001b[0;34m\u001b[0m\u001b[0m\n\u001b[0m\u001b[1;32m      6\u001b[0m \u001b[0;34m\u001b[0m\u001b[0m\n\u001b[1;32m      7\u001b[0m \u001b[0;32mdef\u001b[0m \u001b[0mcat_twice\u001b[0m\u001b[0;34m(\u001b[0m\u001b[0mpart1\u001b[0m\u001b[0;34m,\u001b[0m \u001b[0mpart2\u001b[0m\u001b[0;34m)\u001b[0m\u001b[0;34m:\u001b[0m\u001b[0;34m\u001b[0m\u001b[0m\n",
        "\u001b[0;31mNameError\u001b[0m: global name 'cat' is not defined"
       ]
      }
     ],
     "prompt_number": 39
    },
    {
     "cell_type": "markdown",
     "metadata": {},
     "source": [
      "* This list of functions is called a **traceback**. \n",
      "  * It tells you what program file the error occurred in, and what line, and what functions were executing at the time. \n",
      "  * It also shows the line of code that caused the error.\n",
      "* The order of the functions in the traceback is the same as the order of the frames in the stack diagram. \n",
      "  * The function that is currently running is at the bottom."
     ]
    },
    {
     "cell_type": "markdown",
     "metadata": {},
     "source": [
      "****"
     ]
    },
    {
     "cell_type": "markdown",
     "metadata": {},
     "source": [
      "## 3.11  Fruitful functions and void functions"
     ]
    },
    {
     "cell_type": "markdown",
     "metadata": {},
     "source": [
      "### Fruitful functions\n",
      "**Fruitful functions** are functions that yield results.\n",
      "* When you call a fruitful function, you almost always want to do something with the result.\n",
      "  * You might assign it to a variable or use it as part of an expression."
     ]
    },
    {
     "cell_type": "code",
     "collapsed": false,
     "input": [
      "import math\n",
      "radians = 0.25 * math.pi\n",
      "x = math.cos(radians)\n",
      "golden = (math.sqrt(5) + 1) / 2"
     ],
     "language": "python",
     "metadata": {},
     "outputs": [],
     "prompt_number": 40
    },
    {
     "cell_type": "markdown",
     "metadata": {},
     "source": [
      "When you call a function in interactive mode, Python displays the result:\n",
      "\n",
      "```>>> math.sqrt(5)\n",
      "2.2360679774997898```\n",
      "\n",
      "But in a script, if you call a fruitful function all by itself, the return value is lost forever!\n",
      "\n",
      "```math.sqrt(5)```\n",
      "\n",
      "This script computes the square root of 5, but since it doesn\u2019t store or display the result, it is not very useful."
     ]
    },
    {
     "cell_type": "code",
     "collapsed": false,
     "input": [
      "import math\n",
      "math.sqrt(5)"
     ],
     "language": "python",
     "metadata": {},
     "outputs": [
      {
       "metadata": {},
       "output_type": "pyout",
       "prompt_number": 41,
       "text": [
        "2.23606797749979"
       ]
      }
     ],
     "prompt_number": 41
    },
    {
     "cell_type": "code",
     "collapsed": false,
     "input": [
      "import math\n",
      "print math.sqrt(5)"
     ],
     "language": "python",
     "metadata": {},
     "outputs": [
      {
       "output_type": "stream",
       "stream": "stdout",
       "text": [
        "2.2360679775\n"
       ]
      }
     ],
     "prompt_number": 42
    },
    {
     "cell_type": "markdown",
     "metadata": {},
     "source": [
      "### Void functions\n",
      "**Void functions** are functions that  perform an action but don\u2019t return a value.\n",
      "* Void functions might display something on the screen or have some other effect, but they don\u2019t have a return value. \n",
      "* If you try to assign the result to a variable, you get a special value called `None`."
     ]
    },
    {
     "cell_type": "code",
     "collapsed": false,
     "input": [
      "def print_twice(bruce):\n",
      "    print bruce\n",
      "    print bruce\n",
      "    \n",
      "result = print_twice('Bing')\n",
      "print result"
     ],
     "language": "python",
     "metadata": {},
     "outputs": [
      {
       "output_type": "stream",
       "stream": "stdout",
       "text": [
        "Bing\n",
        "Bing\n",
        "None\n"
       ]
      }
     ],
     "prompt_number": 43
    },
    {
     "cell_type": "markdown",
     "metadata": {},
     "source": [
      "* The value `None` is not the same as the string 'None'. \n",
      "* It is a special value that has its own type:"
     ]
    },
    {
     "cell_type": "code",
     "collapsed": false,
     "input": [
      "print type(None)"
     ],
     "language": "python",
     "metadata": {},
     "outputs": [
      {
       "output_type": "stream",
       "stream": "stdout",
       "text": [
        "<type 'NoneType'>\n"
       ]
      }
     ],
     "prompt_number": 44
    },
    {
     "cell_type": "markdown",
     "metadata": {},
     "source": [
      "****"
     ]
    },
    {
     "cell_type": "markdown",
     "metadata": {},
     "source": [
      "## 3.12  Why functions?\n",
      "\n",
      "There are several reasons:\n",
      "\n",
      "* Creating a new function gives you an opportunity to name a group of statements, which makes your program easier to read and debug.\n",
      "* Functions can make a program smaller by eliminating repetitive code. Later, if you make a change, you only have to make it in one place.\n",
      "* Dividing a long program into functions allows you to debug the parts one at a time and then assemble them into a working whole.\n",
      "Well-designed functions are often useful for many programs. Once you write and debug one, you can reuse it."
     ]
    },
    {
     "cell_type": "markdown",
     "metadata": {},
     "source": [
      "## 3.13  Importing with from\n",
      "\n",
      "Python provides two ways to import modules."
     ]
    },
    {
     "cell_type": "markdown",
     "metadata": {},
     "source": [
      "### First way to import a module"
     ]
    },
    {
     "cell_type": "code",
     "collapsed": false,
     "input": [
      "import math\n",
      "print math\n",
      "print math.pi"
     ],
     "language": "python",
     "metadata": {},
     "outputs": [
      {
       "output_type": "stream",
       "stream": "stdout",
       "text": [
        "<module 'math' from '/Users/pcchen/anaconda/lib/python2.7/lib-dynload/math.so'>\n",
        "3.14159265359\n"
       ]
      }
     ],
     "prompt_number": 45
    },
    {
     "cell_type": "markdown",
     "metadata": {},
     "source": [
      "* If you import `math`, you get a module object named `math`. \n",
      "* The module object contains constants like `pi` and functions like `sin` and `exp`.\n",
      "* But if you try to access `pi` directly, you get an error."
     ]
    },
    {
     "cell_type": "code",
     "collapsed": false,
     "input": [
      "pi"
     ],
     "language": "python",
     "metadata": {},
     "outputs": [
      {
       "ename": "NameError",
       "evalue": "name 'pi' is not defined",
       "output_type": "pyerr",
       "traceback": [
        "\u001b[0;31m---------------------------------------------------------------------------\u001b[0m\n\u001b[0;31mNameError\u001b[0m                                 Traceback (most recent call last)",
        "\u001b[0;32m<ipython-input-46-68f7b1e53523>\u001b[0m in \u001b[0;36m<module>\u001b[0;34m()\u001b[0m\n\u001b[0;32m----> 1\u001b[0;31m \u001b[0mpi\u001b[0m\u001b[0;34m\u001b[0m\u001b[0m\n\u001b[0m",
        "\u001b[0;31mNameError\u001b[0m: name 'pi' is not defined"
       ]
      }
     ],
     "prompt_number": 46
    },
    {
     "cell_type": "markdown",
     "metadata": {},
     "source": [
      "### Second way to import a module"
     ]
    },
    {
     "cell_type": "code",
     "collapsed": false,
     "input": [
      "from math import pi"
     ],
     "language": "python",
     "metadata": {},
     "outputs": [],
     "prompt_number": 47
    },
    {
     "cell_type": "markdown",
     "metadata": {},
     "source": [
      "Now you can access `pi` directly, without dot notation."
     ]
    },
    {
     "cell_type": "code",
     "collapsed": false,
     "input": [
      "pi"
     ],
     "language": "python",
     "metadata": {},
     "outputs": [
      {
       "metadata": {},
       "output_type": "pyout",
       "prompt_number": 48,
       "text": [
        "3.141592653589793"
       ]
      }
     ],
     "prompt_number": 48
    },
    {
     "cell_type": "markdown",
     "metadata": {},
     "source": [
      "Or you can use the star operator to import *everything* from the module:"
     ]
    },
    {
     "cell_type": "code",
     "collapsed": false,
     "input": [
      "from math import *\n",
      "cos(pi)"
     ],
     "language": "python",
     "metadata": {},
     "outputs": [
      {
       "metadata": {},
       "output_type": "pyout",
       "prompt_number": 49,
       "text": [
        "-1.0"
       ]
      }
     ],
     "prompt_number": 49
    },
    {
     "cell_type": "markdown",
     "metadata": {},
     "source": [
      "* The advantage of importing everything from the math module is that your code can be more concise. \n",
      "* The disadvantage is that there might be conflicts between names defined in different modules, or between a name from a module and one of your variables."
     ]
    },
    {
     "cell_type": "markdown",
     "metadata": {},
     "source": [
      "----"
     ]
    },
    {
     "cell_type": "markdown",
     "metadata": {},
     "source": [
      "## 3.16  Exercises"
     ]
    },
    {
     "cell_type": "markdown",
     "metadata": {},
     "source": [
      "### Exercise 3.3 \n",
      "\n",
      "*Python provides a built-in function called `len` that returns the length of a string, so the value of `len('allen')` is `5`.*"
     ]
    },
    {
     "cell_type": "code",
     "collapsed": false,
     "input": [
      "len('allen')"
     ],
     "language": "python",
     "metadata": {},
     "outputs": [
      {
       "metadata": {},
       "output_type": "pyout",
       "prompt_number": 1,
       "text": [
        "5"
       ]
      }
     ],
     "prompt_number": 1
    },
    {
     "cell_type": "code",
     "collapsed": false,
     "input": [
      "len('physics')"
     ],
     "language": "python",
     "metadata": {},
     "outputs": [
      {
       "metadata": {},
       "output_type": "pyout",
       "prompt_number": 2,
       "text": [
        "7"
       ]
      }
     ],
     "prompt_number": 2
    },
    {
     "cell_type": "markdown",
     "metadata": {},
     "source": [
      "*Write a function named `right_justify` that takes a string named `s` as a parameter and prints the string with enough leading spaces so that the last letter of the string is in column 70 of the display.*\n",
      "\n",
      "``\n",
      "right_justify('allen')\n",
      "                                                                 allen\n",
      "``"
     ]
    },
    {
     "cell_type": "markdown",
     "metadata": {},
     "source": [
      "****"
     ]
    },
    {
     "cell_type": "markdown",
     "metadata": {},
     "source": [
      "### Exercise 3.4 \n",
      "\n",
      "*A **function object** is a value you can assign to a variable or pass as an argument. For example, do_twice is a function that takes a function object as an argument and calls it twice:*\n",
      "\n",
      "``\n",
      "def do_twice(f):\n",
      "    f()\n",
      "    f()\n",
      "``\n",
      "\n",
      "*Here\u2019s an example that uses do_twice to call a function named print_spam twice.*\n",
      "\n",
      "``\n",
      "def print_spam():\n",
      "    print 'spam'\n",
      "\n",
      "do_twice(print_spam)\n",
      "``\n",
      "\n",
      "1. *Type this example into a script and test it.*\n",
      "2. *Modify `do_twice` so that it takes two arguments, a function object and a value, and calls the function twice, passing the value as an argument.*\n",
      "3. *Write a more general version of `print_spam`, called `print_twice`, that takes a string as a parameter and prints it twice.*\n",
      "4. *Use the modified version of `do_twice` to call `print_twice` twice, passing `'spam'` as an argument.*\n",
      "5. *Define a new function called `do_four` that takes a function object and a value and calls the function four times, passing the value as a parameter. There should be only two statements in the body of this function, not four.*"
     ]
    },
    {
     "cell_type": "markdown",
     "metadata": {},
     "source": [
      "****"
     ]
    },
    {
     "cell_type": "markdown",
     "metadata": {},
     "source": [
      "### Exercise 3.5  \n",
      "*This exercise can be done using only the statements and other features we have learned so far.*\n",
      "\n",
      "1. *Write a function that draws a grid like the following:*\n",
      "\n",
      "```\n",
      "+ - - - - + - - - - +\n",
      "|         |         |\n",
      "|         |         |\n",
      "|         |         |\n",
      "|         |         |\n",
      "+ - - - - + - - - - +\n",
      "|         |         |\n",
      "|         |         |\n",
      "|         |         |\n",
      "|         |         |\n",
      "+ - - - - + - - - - +\n",
      "```\n",
      "\n",
      "*Hint: to print more than one value on a line, you can print a comma-separated sequence:*\n",
      "\n",
      "```\n",
      "print '+', '-'\n",
      "```\n",
      "\n",
      "*If the sequence ends with a comma, Python leaves the line unfinished, so the value printed next appears on the same line.*\n",
      "\n",
      "```\n",
      "print '+', \n",
      "print '-'\n",
      "```\n",
      "\n",
      "*The output of these statements is `'+ -'`.*\n",
      "\n",
      "*A `print` statement all by itself ends the current line and goes to the next line.*\n",
      "\n",
      "2. *Write a function that draws a similar grid with four rows and four columns.*"
     ]
    },
    {
     "cell_type": "code",
     "collapsed": false,
     "input": [],
     "language": "python",
     "metadata": {},
     "outputs": []
    }
   ],
   "metadata": {}
  }
 ]
}