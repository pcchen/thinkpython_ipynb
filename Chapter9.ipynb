{
 "metadata": {
  "name": "",
  "signature": "sha256:1a56a3a3a7e1d073ea398ef0da20fac12bf0ffde27da178dc0cb31f1490ed58c"
 },
 "nbformat": 3,
 "nbformat_minor": 0,
 "worksheets": [
  {
   "cells": [
    {
     "cell_type": "markdown",
     "metadata": {},
     "source": [
      "# License\n",
      "\n",
      "This IPython Notebook is released under the [Creative Commons Attribution-NonCommercial 3.0 Unported License](http://creativecommons.org/licenses/by-nc/3.0/)\n",
      "\n",
      "This IPython Notebook is based on [Think Python: How to Think Like a Computer Scientist](http://www.greenteapress.com/thinkpython/) by Allen B. Downey. It is available under the [Creative Commons Attribution-NonCommercial 3.0 Unported License](http://creativecommons.org/licenses/by-nc/3.0/)"
     ]
    },
    {
     "cell_type": "markdown",
     "metadata": {},
     "source": [
      "****"
     ]
    },
    {
     "cell_type": "markdown",
     "metadata": {},
     "source": [
      "# Chapter 9  Case study: word play"
     ]
    },
    {
     "cell_type": "markdown",
     "metadata": {},
     "source": [
      "****"
     ]
    },
    {
     "cell_type": "markdown",
     "metadata": {},
     "source": [
      "## 9.1  Reading word lists\n",
      "\n",
      "For the exercises in this chapter we need a list of English words.\n",
      "* http://thinkpython.com/code/words.txt\n",
      "\n",
      "This file is in plain text, so you can open it with a text editor, but you can also read it from Python. \n",
      "* The built-in function `open` takes the name of the file as a parameter and returns a **file object** you can use to read the file."
     ]
    },
    {
     "cell_type": "code",
     "collapsed": false,
     "input": [
      "fin = open('words.txt')\n",
      "print fin"
     ],
     "language": "python",
     "metadata": {},
     "outputs": [
      {
       "output_type": "stream",
       "stream": "stdout",
       "text": [
        "<open file 'words.txt', mode 'r' at 0x1068da540>\n"
       ]
      }
     ],
     "prompt_number": 22
    },
    {
     "cell_type": "markdown",
     "metadata": {},
     "source": [
      "* `fin` is a common name for a file object used for input. \n",
      "* Mode `'r'` indicates that this file is open for reading (as opposed to `'w'` for writing).\n",
      "\n",
      "The file object provides several methods for reading, including `readline`.\n",
      "* 'readline' reads characters from the file until it gets to a newline and returns the result as a string:"
     ]
    },
    {
     "cell_type": "code",
     "collapsed": false,
     "input": [
      "fin.readline()"
     ],
     "language": "python",
     "metadata": {},
     "outputs": [
      {
       "metadata": {},
       "output_type": "pyout",
       "prompt_number": 23,
       "text": [
        "'aa\\r\\n'"
       ]
      }
     ],
     "prompt_number": 23
    },
    {
     "cell_type": "markdown",
     "metadata": {},
     "source": [
      "* The first word in this particular list is `\u201caa\u201d` which is a kind of lava. \n",
      "* The sequence `\\r\\n` represents two **whitespace characters**\n",
      " * a **carriage return**\n",
      " * a **newline**, that separate this word from the next.\n",
      " \n",
      "The file object keeps track of where it is in the file, so if you call `readline` again, you get the next word:"
     ]
    },
    {
     "cell_type": "code",
     "collapsed": false,
     "input": [
      "fin.readline()"
     ],
     "language": "python",
     "metadata": {},
     "outputs": [
      {
       "metadata": {},
       "output_type": "pyout",
       "prompt_number": 24,
       "text": [
        "'aah\\r\\n'"
       ]
      }
     ],
     "prompt_number": 24
    },
    {
     "cell_type": "markdown",
     "metadata": {},
     "source": [
      "* The next word is `\u201caah\u201d`. \n",
      "\n",
      "if it\u2019s the whitespace that\u2019s bothering you, we can get rid of it with the string method `strip`:"
     ]
    },
    {
     "cell_type": "code",
     "collapsed": false,
     "input": [
      "line = fin.readline()\n",
      "word = line.strip()\n",
      "print word"
     ],
     "language": "python",
     "metadata": {},
     "outputs": [
      {
       "output_type": "stream",
       "stream": "stdout",
       "text": [
        "aahed\n"
       ]
      }
     ],
     "prompt_number": 25
    },
    {
     "cell_type": "markdown",
     "metadata": {},
     "source": [
      "You can also use a file object as part of a `for` loop. \n",
      "* This program reads `words.txt` and prints each word, one per line:"
     ]
    },
    {
     "cell_type": "code",
     "collapsed": false,
     "input": [
      "fin = open('words.txt')\n",
      "for line in fin:\n",
      "    word = line.strip()\n",
      "#     print word"
     ],
     "language": "python",
     "metadata": {},
     "outputs": [],
     "prompt_number": 26
    },
    {
     "cell_type": "markdown",
     "metadata": {},
     "source": [
      "****"
     ]
    },
    {
     "cell_type": "markdown",
     "metadata": {},
     "source": [
      "## 9.2  Exercises"
     ]
    },
    {
     "cell_type": "markdown",
     "metadata": {},
     "source": [
      "### Exercise 9.1  \n",
      "Write a program that reads `words.txt` and prints only the words with more than 20 characters (not counting whitespace)."
     ]
    },
    {
     "cell_type": "code",
     "collapsed": false,
     "input": [
      "fin = open('words.txt')\n",
      "for line in fin:\n",
      "    word = line.strip()\n",
      "    if len(word) < 20:\n",
      "        pass\n",
      "#         print word"
     ],
     "language": "python",
     "metadata": {},
     "outputs": [],
     "prompt_number": 27
    },
    {
     "cell_type": "markdown",
     "metadata": {},
     "source": [
      "****"
     ]
    },
    {
     "cell_type": "markdown",
     "metadata": {},
     "source": [
      "### Exercise 9.2 \n",
      "\n",
      "Write a function called `has_no_e` that returns `True` if the given word doesn\u2019t have the letter `\u201ce\u201d` in it.\n",
      "\n",
      "Modify your program from the previous section to print only the words that have no `\u201ce\u201d` and compute the percentage of the words in the list have no `\u201ce.\u201d`"
     ]
    },
    {
     "cell_type": "code",
     "collapsed": false,
     "input": [
      "def has_no_e(word):\n",
      "    for letter in word:\n",
      "        if letter == 'e':\n",
      "            return False\n",
      "    return True\n",
      "\n",
      "print has_no_e('hello')\n",
      "print has_no_e('word')"
     ],
     "language": "python",
     "metadata": {},
     "outputs": [
      {
       "output_type": "stream",
       "stream": "stdout",
       "text": [
        "False\n",
        "True\n"
       ]
      }
     ],
     "prompt_number": 28
    },
    {
     "cell_type": "code",
     "collapsed": false,
     "input": [
      "def has_no_e(word):\n",
      "    for letter in word:\n",
      "        if letter == 'e':\n",
      "            return False\n",
      "    return True\n",
      "\n",
      "fin = open('words.txt')\n",
      "count = 0\n",
      "count_no_e = 0 \n",
      "for line in fin:\n",
      "    count = count + 1\n",
      "    word = line.strip()\n",
      "    if has_no_e(word):\n",
      "        count_no_e = count_no_e + 1\n",
      "\n",
      "print count, count_no_e, float(count_no_e)/float(count)*100"
     ],
     "language": "python",
     "metadata": {},
     "outputs": [
      {
       "output_type": "stream",
       "stream": "stdout",
       "text": [
        "113809 37641 33.073834231\n"
       ]
      }
     ],
     "prompt_number": 29
    },
    {
     "cell_type": "markdown",
     "metadata": {},
     "source": [
      "****"
     ]
    },
    {
     "cell_type": "markdown",
     "metadata": {},
     "source": [
      "### Exercise 9.3  \n",
      "\n",
      "Write a function named `avoids` that takes a word and a string of forbidden letters, and that returns `True` if the word doesn\u2019t use any of the forbidden letters.\n",
      "\n",
      "Modify your program to prompt the user to enter a string of forbidden letters and then print the number of words that don\u2019t contain any of them. Can you find a combination of 5 forbidden letters that excludes the smallest number of words?"
     ]
    },
    {
     "cell_type": "code",
     "collapsed": false,
     "input": [
      "def avoids(word, forbidden):\n",
      "    for letter in word:\n",
      "        if letter in forbidden:\n",
      "            return False\n",
      "    return True\n",
      "\n",
      "print avoids('hello', 'xx')"
     ],
     "language": "python",
     "metadata": {},
     "outputs": [
      {
       "output_type": "stream",
       "stream": "stdout",
       "text": [
        "True\n"
       ]
      }
     ],
     "prompt_number": 30
    },
    {
     "cell_type": "code",
     "collapsed": false,
     "input": [
      "def avoids(word, forbidden):\n",
      "    for letter in word:\n",
      "        if letter in forbidden:\n",
      "            return False\n",
      "    return True\n",
      "\n",
      "forbidden = raw_input('Input your forbidden string: ')\n",
      "\n",
      "fin = open('words.txt')\n",
      "count = 0\n",
      "count_avoids = 0 \n",
      "for line in fin:\n",
      "    count = count + 1\n",
      "    word = line.strip()\n",
      "    if avoids(word, forbidden):\n",
      "        count_avoids = count_avoids + 1\n",
      "\n",
      "print count, count_avoids"
     ],
     "language": "python",
     "metadata": {},
     "outputs": [
      {
       "name": "stdout",
       "output_type": "stream",
       "stream": "stdout",
       "text": [
        "Input your forbidden string: bad\n"
       ]
      },
      {
       "output_type": "stream",
       "stream": "stdout",
       "text": [
        "113809 35573\n"
       ]
      }
     ],
     "prompt_number": 31
    },
    {
     "cell_type": "markdown",
     "metadata": {},
     "source": [
      "****"
     ]
    },
    {
     "cell_type": "markdown",
     "metadata": {},
     "source": [
      "### Exercise 9.4  \n",
      "\n",
      "Write a function named `uses_only` that takes a word and a string of letters, and that returns `True` if the word contains only letters in the list. Can you make a sentence using only the letters `acefhlo`? Other than `\u201cHoe alfalfa\u201d`?"
     ]
    },
    {
     "cell_type": "code",
     "collapsed": false,
     "input": [
      "def uses_only(word, available):\n",
      "    for letter in word: \n",
      "        if letter not in available:\n",
      "            return False\n",
      "    return True\n",
      "\n",
      "print uses_only('hello', 'helo')\n",
      "print uses_only('hello', 'lo')\n",
      "print uses_only('hoealfalfa', 'acefhlo')"
     ],
     "language": "python",
     "metadata": {},
     "outputs": [
      {
       "output_type": "stream",
       "stream": "stdout",
       "text": [
        "True\n",
        "False\n",
        "True\n"
       ]
      }
     ],
     "prompt_number": 32
    },
    {
     "cell_type": "markdown",
     "metadata": {},
     "source": [
      "****"
     ]
    },
    {
     "cell_type": "markdown",
     "metadata": {},
     "source": [
      "### Exercise 9.5  \n",
      "\n",
      "Write a function named `uses_all` that takes a word and a string of required letters, and that returns `True` if the word uses all the required letters at least once. How many words are there that use all the vowels `aeiou`? How about `aeiouy`?"
     ]
    },
    {
     "cell_type": "code",
     "collapsed": false,
     "input": [
      "def uses_all(word, required):\n",
      "    for letter in required: \n",
      "        if letter not in word:\n",
      "            return False\n",
      "    return True\n",
      "\n",
      "print uses_all('hallo', 'ao')"
     ],
     "language": "python",
     "metadata": {},
     "outputs": [
      {
       "output_type": "stream",
       "stream": "stdout",
       "text": [
        "True\n"
       ]
      }
     ],
     "prompt_number": 33
    },
    {
     "cell_type": "code",
     "collapsed": false,
     "input": [
      "def uses_all(word, required):\n",
      "    for letter in required: \n",
      "        if letter not in word:\n",
      "            return False\n",
      "    return True\n",
      "\n",
      "fin = open('words.txt')\n",
      "count = 0\n",
      "count_uses_all = 0 \n",
      "for line in fin:\n",
      "    count = count + 1\n",
      "    word = line.strip()\n",
      "    if uses_all(word, 'aeiou'):\n",
      "#         print word\n",
      "        count_uses_all += 1\n",
      "    \n",
      "print count, count_uses_all\n"
     ],
     "language": "python",
     "metadata": {},
     "outputs": [
      {
       "output_type": "stream",
       "stream": "stdout",
       "text": [
        "113809 598\n"
       ]
      }
     ],
     "prompt_number": 34
    },
    {
     "cell_type": "markdown",
     "metadata": {},
     "source": [
      "If you were really thinking like a computer scientist, you would have recognized that `uses_all` was an instance of a previously-solved problem, and you would have written:"
     ]
    },
    {
     "cell_type": "code",
     "collapsed": false,
     "input": [
      "def uses_all(word, required):\n",
      "    return uses_only(required, word)\n",
      "\n",
      "print uses_all('hallo', 'ao')\n",
      "print uses_only('ao', 'hallo')"
     ],
     "language": "python",
     "metadata": {},
     "outputs": [
      {
       "output_type": "stream",
       "stream": "stdout",
       "text": [
        "True\n",
        "True\n"
       ]
      }
     ],
     "prompt_number": 35
    },
    {
     "cell_type": "code",
     "collapsed": false,
     "input": [
      "def uses_only(word, available):\n",
      "    for letter in word: \n",
      "        if letter not in available:\n",
      "            return False\n",
      "    return True\n",
      "\n",
      "def uses_all(word, required):\n",
      "    return uses_only(required, word)\n",
      "\n",
      "fin = open('words.txt')\n",
      "count = 0\n",
      "count_uses_all = 0 \n",
      "for line in fin:\n",
      "    count = count + 1\n",
      "    word = line.strip()\n",
      "    if uses_all(word, 'aeiouy'):\n",
      "#         print word\n",
      "        count_uses_all += 1\n",
      "    \n",
      "print count, count_uses_all"
     ],
     "language": "python",
     "metadata": {},
     "outputs": [
      {
       "output_type": "stream",
       "stream": "stdout",
       "text": [
        "113809 42\n"
       ]
      }
     ],
     "prompt_number": 36
    },
    {
     "cell_type": "markdown",
     "metadata": {},
     "source": [
      "This is an example of a program development method called **problem recognition**.\n",
      "* You recognize the problem you are working on as an instance of a previously-solved problem, and apply a previously-developed solution."
     ]
    },
    {
     "cell_type": "markdown",
     "metadata": {},
     "source": [
      "****"
     ]
    },
    {
     "cell_type": "markdown",
     "metadata": {},
     "source": [
      "### Exercise 9.6  \n",
      "\n",
      "Write a function called `is_abecedarian` that returns `True` if the letters in a word appear in alphabetical order (double letters are ok). How many abecedarian words are there?\n",
      "\n",
      "For `is_abecedarian` we have to compare adjacent letters, which is a little tricky with a for loop:"
     ]
    },
    {
     "cell_type": "code",
     "collapsed": false,
     "input": [
      "def is_abecedarian(word):\n",
      "    previous = word[0]\n",
      "    for c in word:\n",
      "        print c, previous\n",
      "        if c < previous:\n",
      "            return False\n",
      "        previous = c\n",
      "    return True\n",
      "\n",
      "print is_abecedarian('aallmost')\n",
      "# print is_abecedarian('affix')"
     ],
     "language": "python",
     "metadata": {},
     "outputs": [
      {
       "output_type": "stream",
       "stream": "stdout",
       "text": [
        "a a\n",
        "a a\n",
        "l a\n",
        "l l\n",
        "m l\n",
        "o m\n",
        "s o\n",
        "t s\n",
        "True\n"
       ]
      }
     ],
     "prompt_number": 37
    },
    {
     "cell_type": "code",
     "collapsed": false,
     "input": [
      "def is_abecedarian(word):\n",
      "    previous = word[0]\n",
      "    for c in word:\n",
      "        if c < previous:\n",
      "            return False\n",
      "        previous = c\n",
      "    return True\n",
      "\n",
      "fin = open('words.txt')\n",
      "count = 0\n",
      "count_is_abecedarian = 0 \n",
      "for line in fin:\n",
      "    count = count + 1\n",
      "    word = line.strip()\n",
      "    if is_abecedarian(word):\n",
      "#         print word\n",
      "        count_is_abecedarian += 1\n",
      "    \n",
      "print count, count_is_abecedarian"
     ],
     "language": "python",
     "metadata": {},
     "outputs": [
      {
       "output_type": "stream",
       "stream": "stdout",
       "text": [
        "113809 596\n"
       ]
      }
     ],
     "prompt_number": 38
    },
    {
     "cell_type": "markdown",
     "metadata": {},
     "source": [
      "An alternative is to use recursion:"
     ]
    },
    {
     "cell_type": "code",
     "collapsed": false,
     "input": [
      "def is_abecedarian(word):\n",
      "    if len(word) <= 1:\n",
      "        return True\n",
      "    if word[0] > word[1]:\n",
      "        return False\n",
      "    return is_abecedarian(word[1:])\n",
      "\n",
      "print is_abecedarian('aallmost')"
     ],
     "language": "python",
     "metadata": {},
     "outputs": [
      {
       "output_type": "stream",
       "stream": "stdout",
       "text": [
        "True\n"
       ]
      }
     ],
     "prompt_number": 39
    },
    {
     "cell_type": "markdown",
     "metadata": {},
     "source": [
      "Another option is to use a while loop:"
     ]
    },
    {
     "cell_type": "code",
     "collapsed": false,
     "input": [
      "def is_abecedarian(word):\n",
      "    i = 0\n",
      "    while i < len(word)-1:\n",
      "        print word[i+1], word[i]\n",
      "        if word[i+1] < word[i]:\n",
      "            return False\n",
      "        i = i+1\n",
      "    return True\n",
      "\n",
      "print is_abecedarian('almost')"
     ],
     "language": "python",
     "metadata": {},
     "outputs": [
      {
       "output_type": "stream",
       "stream": "stdout",
       "text": [
        "l a\n",
        "m l\n",
        "o m\n",
        "s o\n",
        "t s\n",
        "True\n"
       ]
      }
     ],
     "prompt_number": 40
    },
    {
     "cell_type": "markdown",
     "metadata": {},
     "source": [
      "The loop starts at `i=0` and ends when `i=len(word)-1`. \n",
      "* Each time through the loop, it compares \n",
      " * the ith character (which you can think of as the current character) to \n",
      " * the i+1th character (which you can think of as the next).\n",
      "* If the next character is less than (alphabetically before) the current one, then we have discovered a break in the abecedarian trend, and we return `False`.\n",
      "* If we get to the end of the loop without finding a fault, then the word passes the test. "
     ]
    },
    {
     "cell_type": "markdown",
     "metadata": {},
     "source": [
      "## 9.3  Search"
     ]
    },
    {
     "cell_type": "markdown",
     "metadata": {},
     "source": [
      "## 9.4  Looping with indices"
     ]
    },
    {
     "cell_type": "markdown",
     "metadata": {},
     "source": [
      "## 9.5  Debugging\n",
      "\n",
      "Testing programs is hard. The functions in this chapter are relatively easy to test because you can check the results by hand. Even so, it is somewhere between difficult and impossible to choose a set of words that test for all possible errors.\n",
      "\n",
      "Taking `has_no_e` as an example, there are two obvious cases to check: words that have an `\u2019e\u2019` should return `False`; words that don\u2019t should return `True`. You should have no trouble coming up with one of each.\n",
      "\n",
      "Within each case, there are some less obvious subcases. Among the words that have an `\u201ce,\u201d` you should test words with an `\u201ce\u201d` at the beginning, the end, and somewhere in the middle. You should test long words, short words, and very short words, like the empty string. The empty string is an example of a **special case**, which is one of the non-obvious cases where errors often lurk.\n",
      "\n",
      "In addition to the test cases you generate, you can also test your program with a word list like words.txt. By scanning the output, you might be able to catch errors, but be careful: you might catch one kind of error (words that should not be included, but are) and not another (words that should be included, but aren\u2019t).\n",
      "\n",
      "In general, testing can help you find bugs, but it is not easy to generate a good set of test cases, and even if you do, you can\u2019t be sure your program is correct.\n",
      "\n",
      "According to a legendary computer scientist:\n",
      "\n",
      "> Program testing can be used to show the presence of bugs, but never to show their absence!\n",
      "\n",
      "> \u2014 Edsger W. Dijkstra"
     ]
    },
    {
     "cell_type": "markdown",
     "metadata": {},
     "source": [
      "****"
     ]
    },
    {
     "cell_type": "markdown",
     "metadata": {},
     "source": [
      "## 9.6  Glossary\n",
      "\n",
      "**file object:**\n",
      "\n",
      "A value that represents an open file.\n",
      "\n",
      "**problem recognition:**\n",
      "\n",
      "A way of solving a problem by expressing it as an instance of a previously-solved problem.\n",
      "\n",
      "**special case:**\n",
      "\n",
      "A test case that is atypical or non-obvious (and less likely to be handled correctly).\n",
      "\n"
     ]
    },
    {
     "cell_type": "markdown",
     "metadata": {},
     "source": [
      "****"
     ]
    },
    {
     "cell_type": "markdown",
     "metadata": {},
     "source": [
      "## 9.7  Exercises"
     ]
    },
    {
     "cell_type": "markdown",
     "metadata": {},
     "source": [
      "****"
     ]
    },
    {
     "cell_type": "markdown",
     "metadata": {},
     "source": [
      "### Exercise 9.7  \n",
      "\n",
      "This question is based on a Puzzler that was broadcast on the radio program Car Talk (http://www.cartalk.com/content/puzzlers):\n",
      "\n",
      "> Give me a word with three consecutive double letters. I\u2019ll give you a couple of words that almost qualify, but don\u2019t. For example, the word committee, c-o-m-m-i-t-t-e-e. It would be great except for the \u2018i\u2019 that sneaks in there. Or Mississippi: M-i-s-s-i-s-s-i-p-p-i. If you could take out those i\u2019s it would work. But there is a word that has three consecutive pairs of letters and to the best of my knowledge this may be the only word. Of course there are probably 500 more but I can only think of one. What is the word?\n",
      "\n",
      "Write a program to find it. "
     ]
    },
    {
     "cell_type": "markdown",
     "metadata": {},
     "source": [
      "****"
     ]
    },
    {
     "cell_type": "markdown",
     "metadata": {},
     "source": [
      "### Exercise 9.8   \n",
      "\n",
      "Here\u2019s another Car Talk Puzzler (http://www.cartalk.com/content/puzzlers):\n",
      "\n",
      ">\u201cI was driving on the highway the other day and I happened to notice my odometer. Like most odometers, it shows six digits, in whole miles only. So, if my car had 300,000 miles, for example, I\u2019d see 3-0-0-0-0-0.\n",
      "\n",
      ">\u201cNow, what I saw that day was very interesting. I noticed that the last 4 digits were palindromic; that is, they read the same forward as backward. For example, 5-4-4-5 is a palindrome, so my odometer could have read 3-1-5-4-4-5.\n",
      "\n",
      ">\u201cOne mile later, the last 5 numbers were palindromic. For example, it could have read 3-6-5-4-5-6. One mile after that, the middle 4 out of 6 numbers were palindromic. And you ready for this? One mile later, all 6 were palindromic!\n",
      "\n",
      ">\u201cThe question is, what was on the odometer when I first looked?\u201d\n",
      "\n",
      "Write a Python program that tests all the six-digit numbers and prints any numbers that satisfy these requirements."
     ]
    },
    {
     "cell_type": "markdown",
     "metadata": {},
     "source": [
      "****"
     ]
    },
    {
     "cell_type": "markdown",
     "metadata": {},
     "source": [
      "### Exercise 9.9\n",
      "\n",
      "Here\u2019s another Car Talk Puzzler you can solve with a search (http://www.cartalk.com/content/puzzlers):\n",
      "\n",
      ">\u201cRecently I had a visit with my mom and we realized that the two digits that make up my age when reversed resulted in her age. For example, if she\u2019s 73, I\u2019m 37. We wondered how often this has happened over the years but we got sidetracked with other topics and we never came up with an answer.\n",
      "\u201cWhen I got home I figured out that the digits of our ages have been reversible six times so far. I also figured out that if we\u2019re lucky it would happen again in a few years, and if we\u2019re really lucky it would happen one more time after that. In other words, it would have happened 8 times over all. So the question is, how old am I now?\u201d\n",
      "\n",
      "Write a Python program that searches for solutions to this Puzzler. Hint: you might find the string method zfill useful."
     ]
    },
    {
     "cell_type": "code",
     "collapsed": false,
     "input": [],
     "language": "python",
     "metadata": {},
     "outputs": [],
     "prompt_number": 40
    }
   ],
   "metadata": {}
  }
 ]
}