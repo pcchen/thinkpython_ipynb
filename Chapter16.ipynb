{
 "metadata": {
  "name": "",
  "signature": "sha256:c1ff5077881c6a6e0c58fc8e45101a4ff4fa1fb86459a3ed8312c609ad6c681d"
 },
 "nbformat": 3,
 "nbformat_minor": 0,
 "worksheets": [
  {
   "cells": [
    {
     "cell_type": "markdown",
     "metadata": {},
     "source": [
      "# License\n",
      "\n",
      "This IPython Notebook is released under the [Creative Commons Attribution-NonCommercial 3.0 Unported License](http://creativecommons.org/licenses/by-nc/3.0/)\n",
      "\n",
      "This IPython Notebook is based on [Think Python: How to Think Like a Computer Scientist](http://www.greenteapress.com/thinkpython/) by Allen B. Downey. It is available under the [Creative Commons Attribution-NonCommercial 3.0 Unported License](http://creativecommons.org/licenses/by-nc/3.0/)"
     ]
    },
    {
     "cell_type": "markdown",
     "metadata": {},
     "source": [
      "****"
     ]
    },
    {
     "cell_type": "markdown",
     "metadata": {},
     "source": [
      "# Chapter 16 Classes and functions"
     ]
    },
    {
     "cell_type": "markdown",
     "metadata": {},
     "source": [
      "****"
     ]
    },
    {
     "cell_type": "markdown",
     "metadata": {},
     "source": [
      "## 16.1 Time\n",
      "\n",
      "As another example of a user-defined type, we\u2019ll define a class called `Time` that records the time of day. The class definition looks like this:"
     ]
    },
    {
     "cell_type": "code",
     "collapsed": false,
     "input": [
      "class Time(object):\n",
      "    \"\"\"Represents the time of day.\n",
      "    attributes: hour, minute, second\n",
      "    \"\"\""
     ],
     "language": "python",
     "metadata": {},
     "outputs": [],
     "prompt_number": 1
    },
    {
     "cell_type": "markdown",
     "metadata": {},
     "source": [
      "We can create a new `Time` object and assign attributes for hours, minutes, and seconds:"
     ]
    },
    {
     "cell_type": "code",
     "collapsed": false,
     "input": [
      "time = Time()\n",
      "time.hour = 11\n",
      "time.minute = 59\n",
      "time.second = 30"
     ],
     "language": "python",
     "metadata": {},
     "outputs": [],
     "prompt_number": 2
    },
    {
     "cell_type": "markdown",
     "metadata": {},
     "source": [
      "The state diagram for the Time object looks like **Figure 15.1.**\n",
      "\n",
      "<img src=\"files/figs/time.png\" width=\"200\" >"
     ]
    },
    {
     "cell_type": "markdown",
     "metadata": {},
     "source": [
      "****"
     ]
    },
    {
     "cell_type": "markdown",
     "metadata": {},
     "source": [
      "### Exercise 16.1. \n",
      "\n",
      "Write a function called `print_time` that takes a `Time` object and prints it in the form hour:minute:second \n",
      "\n",
      "Hint: the format sequence `'%.2d'` prints an integer using at least two digits, including a leading zero if necessary."
     ]
    },
    {
     "cell_type": "code",
     "collapsed": false,
     "input": [
      "def print_time(time):\n",
      "    print '%.2d:%.2d:%.2d' % (time.hour, time.minute, time.second)\n",
      "\n",
      "time = Time()\n",
      "time.hour = 11\n",
      "time.minute = 59\n",
      "time.second = 30    \n",
      "print_time(time)"
     ],
     "language": "python",
     "metadata": {},
     "outputs": [
      {
       "output_type": "stream",
       "stream": "stdout",
       "text": [
        "11:59:30\n"
       ]
      }
     ],
     "prompt_number": 3
    },
    {
     "cell_type": "markdown",
     "metadata": {},
     "source": [
      "****"
     ]
    },
    {
     "cell_type": "markdown",
     "metadata": {},
     "source": [
      "### Exercise 16.2. \n",
      "\n",
      "Write a boolean function called `is_after` that takes two `Time` objects, `t1` and `t2`, and returns `True` if `t1` follows `t2` chronologically and `False` otherwise. \n",
      "\n",
      "**Challenge**: don\u2019t use an if statement."
     ]
    },
    {
     "cell_type": "markdown",
     "metadata": {},
     "source": [
      "****"
     ]
    },
    {
     "cell_type": "markdown",
     "metadata": {},
     "source": [
      "## 16.2 Pure functions\n",
      "\n",
      "\n",
      "In the next few sections, we\u2019ll write two functions that add time values. They demonstrate two kinds of functions: pure functions and modifiers. They also demonstrate a development plan I\u2019ll call **prototype and patch**, which is a way of tackling a complex problem by starting with a simple prototype and incrementally dealing with the complications.\n",
      "\n",
      "Here is a simple prototype of `add_time`:"
     ]
    },
    {
     "cell_type": "code",
     "collapsed": false,
     "input": [
      "def add_time(t1, t2):\n",
      "    sum = Time()\n",
      "    sum.hour = t1.hour + t2.hour\n",
      "    sum.minute = t1.minute + t2.minute\n",
      "    sum.second = t1.second + t2.second\n",
      "    return sum"
     ],
     "language": "python",
     "metadata": {},
     "outputs": [],
     "prompt_number": 4
    },
    {
     "cell_type": "markdown",
     "metadata": {},
     "source": [
      "The function creates a new `Time` object, initializes its attributes, and returns a **reference** to the new object. This is called a **pure function** because it **does not** modify any of the objects passed to it as arguments and it has no effect, like displaying a value or getting user input, other than returning a value.\n",
      "\n",
      "To test this function, I\u2019ll create two `Time` objects: `start` contains the start time of a movie, like *Monty Python and the Holy Grail*, and `duration` contains the run time of the movie, which is one hour 35 minutes.\n",
      "\n",
      "`add_time` figures out when the movie will be done."
     ]
    },
    {
     "cell_type": "code",
     "collapsed": false,
     "input": [
      "start = Time()\n",
      "start.hour = 9\n",
      "start.minute = 45\n",
      "start.second =  0\n",
      "duration = Time()\n",
      "duration.hour = 1\n",
      "duration.minute = 35\n",
      "duration.second = 0\n",
      "done = add_time(start, duration)\n",
      "print_time(done)"
     ],
     "language": "python",
     "metadata": {},
     "outputs": [
      {
       "output_type": "stream",
       "stream": "stdout",
       "text": [
        "10:80:00\n"
       ]
      }
     ],
     "prompt_number": 5
    },
    {
     "cell_type": "markdown",
     "metadata": {},
     "source": [
      "The result, `10:80:00` might not be what you were hoping for. The problem is that this function does not deal with cases where the number of seconds or minutes adds up to more than sixty. When that happens, we have to \u201ccarry\u201d the extra seconds into the minute column or the extra minutes into the hour column.\n",
      "\n",
      "Here\u2019s an improved version:"
     ]
    },
    {
     "cell_type": "code",
     "collapsed": false,
     "input": [
      "def add_time(t1, t2):\n",
      "    sum = Time()\n",
      "    sum.hour = t1.hour + t2.hour\n",
      "    sum.minute = t1.minute + t2.minute\n",
      "    sum.second = t1.second + t2.second\n",
      "    \n",
      "    if sum.second >= 60:\n",
      "        sum.second -= 60\n",
      "        sum.minute += 1\n",
      "    if sum.minute >= 60:\n",
      "        sum.minute -= 60\n",
      "        sum.hour += 1\n",
      "    return sum\n",
      "\n",
      "done = add_time(start, duration)\n",
      "print_time(done)"
     ],
     "language": "python",
     "metadata": {},
     "outputs": [
      {
       "output_type": "stream",
       "stream": "stdout",
       "text": [
        "11:20:00\n"
       ]
      }
     ],
     "prompt_number": 6
    },
    {
     "cell_type": "markdown",
     "metadata": {},
     "source": [
      "Although this function is correct, it is starting to get big. We will see a shorter alternative later."
     ]
    },
    {
     "cell_type": "markdown",
     "metadata": {},
     "source": [
      "****"
     ]
    },
    {
     "cell_type": "markdown",
     "metadata": {},
     "source": [
      "## 16.3 Modifiers\n",
      "\n",
      "Sometimes it is useful for a function to modify the objects it gets as parameters. In that case, the changes are visible to the caller. Functions that work this way are called **modifiers**.\n",
      "\n",
      "`increment`, which adds a given number of seconds to a `Time` object, can be written naturally as a modifier. Here is a rough draft:"
     ]
    },
    {
     "cell_type": "code",
     "collapsed": false,
     "input": [
      "def increment(time, seconds):\n",
      "    time.second += seconds\n",
      "    if time.second >= 60:\n",
      "        time.second -= 60\n",
      "        time.minute += 1\n",
      "    if time.minute >= 60:\n",
      "        time.minute -= 60\n",
      "        time.hour += 1\n",
      "        \n",
      "t=Time()\n",
      "t.hour=1\n",
      "t.minute=59\n",
      "t.second=59\n",
      "\n",
      "print 't=',\n",
      "print_time(t)\n",
      "\n",
      "increment(t, 70)\n",
      "print 't=',\n",
      "print_time(t)"
     ],
     "language": "python",
     "metadata": {},
     "outputs": [
      {
       "output_type": "stream",
       "stream": "stdout",
       "text": [
        "t= 01:59:59\n",
        "t= 02:00:69\n"
       ]
      }
     ],
     "prompt_number": 7
    },
    {
     "cell_type": "markdown",
     "metadata": {},
     "source": [
      "The first line performs the basic operation; the remainder deals with the special cases we saw before.\n",
      "\n",
      "Is this function correct? What happens if the parameter seconds is much greater than sixty?\n",
      "\n",
      "\n",
      "In that case, it is not enough to carry once; we have to keep doing it until time.second is less than sixty. One solution is to replace the if statements with while statements. That would make the function correct, but not very efficient."
     ]
    },
    {
     "cell_type": "markdown",
     "metadata": {},
     "source": [
      "****"
     ]
    },
    {
     "cell_type": "markdown",
     "metadata": {},
     "source": [
      "### Exercise 16.3. \n",
      "\n",
      "Write a correct version of increment that doesn\u2019t contain any loops."
     ]
    },
    {
     "cell_type": "markdown",
     "metadata": {},
     "source": [
      "****"
     ]
    },
    {
     "cell_type": "markdown",
     "metadata": {},
     "source": [
      "Anything that can be done with modifiers can also be done with pure functions. In fact, some programming languages only allow pure functions. There is some evidence that programs that use pure functions are faster to develop and less error-prone than programs that use modifiers. But modifiers are convenient at times, and functional programs tend to be less efficient.\n",
      "\n",
      "In general, I recommend that you write pure functions whenever it is reasonable and resort to modifiers only if there is a compelling advantage. This approach might be called a **functional programming style**.\n"
     ]
    },
    {
     "cell_type": "markdown",
     "metadata": {},
     "source": [
      "****"
     ]
    },
    {
     "cell_type": "markdown",
     "metadata": {},
     "source": [
      "### Exercise 16.4. \n",
      "\n",
      "Write a \u201cpure\u201d version of `increment` that creates and returns a new Time object rather than modifying the parameter."
     ]
    },
    {
     "cell_type": "markdown",
     "metadata": {},
     "source": [
      "****"
     ]
    },
    {
     "cell_type": "markdown",
     "metadata": {},
     "source": [
      "## 16.4 Prototyping versus planning\n",
      "\n",
      "The development plan I am demonstrating is called \u201cprototype and patch.\u201d For each function, I wrote a **prototype** that performed the basic calculation and then tested it, **patching** errors along the way.\n",
      "\n",
      "This approach can be effective, especially if you don\u2019t yet have a deep understanding of the problem. But incremental corrections can generate code that is unnecessarily complicated\u2014since it deals with many special cases\u2014and unreliable\u2014since it is hard to know if you have found all the errors.\n",
      "\n",
      "An alternative is **planned development**, in which high-level insight into the problem can make the programming much easier. In this case, the insight is that a `Time` object is really a three-digit number in base 60 (see http://en.wikipedia.org/wiki/Sexagesimal.)! The `second` attribute is the \u201cones column,\u201d the `minute` attribute is the \u201csixties column,\u201d and the `hour` attribute is the \u201cthirty-six hundreds column.\u201d\n",
      "\n",
      "When we wrote `add_time` and `increment`, we were effectively doing addition in base 60, which is why we had to carry from one column to the next.\n",
      "\n",
      "This observation suggests another approach to the whole problem\u2014we can convert Time objects to integers and take advantage of the fact that the computer knows how to do integer arithmetic.\n",
      "\n",
      "Here is a function that converts `Times` to integers:"
     ]
    },
    {
     "cell_type": "code",
     "collapsed": false,
     "input": [
      "def time_to_int(time):\n",
      "    minutes = time.hour * 60 + time.minute\n",
      "    seconds = minutes * 60 + time.second\n",
      "    return seconds"
     ],
     "language": "python",
     "metadata": {},
     "outputs": [],
     "prompt_number": 8
    },
    {
     "cell_type": "markdown",
     "metadata": {},
     "source": [
      "And here is the function that converts integers to Times (recall that `divmod` divides the first argument by the second and returns the quotient and remainder as a tuple)."
     ]
    },
    {
     "cell_type": "code",
     "collapsed": false,
     "input": [
      "def int_to_time(seconds):\n",
      "    time = Time()\n",
      "    minutes, time.second = divmod(seconds, 60)\n",
      "    time.hour, time.minute = divmod(minutes, 60)\n",
      "    return time"
     ],
     "language": "python",
     "metadata": {},
     "outputs": [],
     "prompt_number": 9
    },
    {
     "cell_type": "markdown",
     "metadata": {},
     "source": [
      "You might have to think a bit, and run some tests, to convince yourself that these functions are correct. One way to test them is to check that `time_to_int(int_to_time(x)) == x` for many values of `x`. This is an example of a consistency check.\n",
      "\n",
      "Once you are convinced they are correct, you can use them to rewrite `add_time`:"
     ]
    },
    {
     "cell_type": "code",
     "collapsed": false,
     "input": [
      "def add_time(t1, t2):\n",
      "    seconds = time_to_int(t1) + time_to_int(t2)\n",
      "    return int_to_time(seconds)"
     ],
     "language": "python",
     "metadata": {},
     "outputs": [],
     "prompt_number": 10
    },
    {
     "cell_type": "markdown",
     "metadata": {},
     "source": [
      "This version is shorter than the original, and easier to verify."
     ]
    },
    {
     "cell_type": "markdown",
     "metadata": {},
     "source": [
      "****"
     ]
    },
    {
     "cell_type": "markdown",
     "metadata": {},
     "source": [
      "### Exercise 5  \n",
      "\n",
      "Rewrite `increment` using `time_to_int` and `int_to_time`."
     ]
    },
    {
     "cell_type": "markdown",
     "metadata": {},
     "source": [
      "****"
     ]
    },
    {
     "cell_type": "markdown",
     "metadata": {},
     "source": [
      "In some ways, converting from base 60 to base 10 and back is harder than just dealing with times. Base conversion is more abstract; our intuition for dealing with time values is better.\n",
      "\n",
      "But if we have the insight to treat times as base 60 numbers and make the investment of writing the conversion functions (`time_to_int` and `int_to_time`), we get a program that is shorter, easier to read and debug, and more reliable.\n",
      "\n",
      "It is also easier to add features later. For example, imagine subtracting two Times to find the duration between them. The naive approach would be to implement subtraction with borrowing. Using the conversion functions would be easier and more likely to be correct.\n",
      "\n",
      "Ironically, sometimes making a problem harder (or more general) makes it easier (because there are fewer special cases and fewer opportunities for error)."
     ]
    },
    {
     "cell_type": "markdown",
     "metadata": {},
     "source": [
      "****"
     ]
    },
    {
     "cell_type": "markdown",
     "metadata": {},
     "source": [
      "# 16.5  Debugging\n",
      "\n",
      "A Time object is well-formed if the values of minute and second are between 0 and 60 (including 0 but not 60) and if `hour` is positive. `hour` and `minute` should be integral values, but we might allow `second` to have a fraction part.\n",
      "\n",
      "Requirements like these are called **invariants** because they should always be true. To put it a different way, if they are not true, then something has gone wrong.\n",
      "\n",
      "Writing code to check your invariants can help you detect errors and find their causes. For example, you might have a function like `valid_time` that takes a Time object and returns `False` if it violates an invariant:"
     ]
    },
    {
     "cell_type": "code",
     "collapsed": false,
     "input": [
      "def valid_time(time):\n",
      "    if time.hour < 0 or time.minute < 0 or time.second < 0:\n",
      "        return False\n",
      "    if time.minute >= 60 or time.second >= 60:\n",
      "        return False\n",
      "    return True"
     ],
     "language": "python",
     "metadata": {},
     "outputs": [],
     "prompt_number": 11
    },
    {
     "cell_type": "markdown",
     "metadata": {},
     "source": [
      "Then at the beginning of each function you could check the arguments to make sure they are valid:"
     ]
    },
    {
     "cell_type": "code",
     "collapsed": false,
     "input": [
      "def add_time(t1, t2):\n",
      "    if not valid_time(t1) or not valid_time(t2):\n",
      "        raise ValueError('invalid Time object in add_time')\n",
      "    seconds = time_to_int(t1) + time_to_int(t2)\n",
      "    return int_to_time(seconds)"
     ],
     "language": "python",
     "metadata": {},
     "outputs": [],
     "prompt_number": 12
    },
    {
     "cell_type": "markdown",
     "metadata": {},
     "source": [
      "Or you could use an `assert` statement, which checks a given invariant and raises an exception if it fails:"
     ]
    },
    {
     "cell_type": "code",
     "collapsed": false,
     "input": [
      "def add_time(t1, t2):\n",
      "    assert valid_time(t1) and valid_time(t2)\n",
      "    seconds = time_to_int(t1) + time_to_int(t2)\n",
      "    return int_to_time(seconds)"
     ],
     "language": "python",
     "metadata": {},
     "outputs": [],
     "prompt_number": 13
    },
    {
     "cell_type": "markdown",
     "metadata": {},
     "source": [
      "`assert` statements are useful because they distinguish code that deals with normal conditions from code that checks for errors.\n"
     ]
    },
    {
     "cell_type": "code",
     "collapsed": false,
     "input": [
      "assert True"
     ],
     "language": "python",
     "metadata": {},
     "outputs": [],
     "prompt_number": 14
    },
    {
     "cell_type": "code",
     "collapsed": false,
     "input": [
      "assert False"
     ],
     "language": "python",
     "metadata": {},
     "outputs": [
      {
       "ename": "AssertionError",
       "evalue": "",
       "output_type": "pyerr",
       "traceback": [
        "\u001b[0;31m---------------------------------------------------------------------------\u001b[0m\n\u001b[0;31mAssertionError\u001b[0m                            Traceback (most recent call last)",
        "\u001b[0;32m<ipython-input-15-6e6df518a476>\u001b[0m in \u001b[0;36m<module>\u001b[0;34m()\u001b[0m\n\u001b[0;32m----> 1\u001b[0;31m \u001b[0;32massert\u001b[0m \u001b[0mFalse\u001b[0m\u001b[0;34m\u001b[0m\u001b[0m\n\u001b[0m",
        "\u001b[0;31mAssertionError\u001b[0m: "
       ]
      }
     ],
     "prompt_number": 15
    },
    {
     "cell_type": "markdown",
     "metadata": {},
     "source": [
      "****"
     ]
    },
    {
     "cell_type": "markdown",
     "metadata": {},
     "source": [
      "## 16.6  Glossary\n",
      "\n",
      "**prototype and patch:**\n",
      "\n",
      "A development plan that involves writing a rough draft of a program, testing, and correcting errors as they are found.\n",
      "\n",
      "**planned development:**\n",
      "\n",
      "A development plan that involves high-level insight into the problem and more planning than incremental development or  prototype development.\n",
      "\n",
      "**pure function:**\n",
      "\n",
      "A function that does not modify any of the objects it receives as arguments. Most pure functions are fruitful.\n",
      "\n",
      "**modifier:**\n",
      "\n",
      "A function that changes one or more of the objects it receives as arguments. Most modifiers are fruitless.\n",
      "\n",
      "**functional programming style:**\n",
      "\n",
      "A style of program design in which the majority of functions are pure.\n",
      "\n",
      "**invariant:**\n",
      "\n",
      "A condition that should always be true during the execution of a program."
     ]
    },
    {
     "cell_type": "markdown",
     "metadata": {},
     "source": [
      "****"
     ]
    },
    {
     "cell_type": "markdown",
     "metadata": {},
     "source": [
      "## 16.7  Exercises"
     ]
    },
    {
     "cell_type": "markdown",
     "metadata": {},
     "source": [
      "****"
     ]
    },
    {
     "cell_type": "markdown",
     "metadata": {},
     "source": [
      "### Exercise 16.6  \n",
      "\n",
      "Write a function called `mul_time` that takes a Time object and a number and returns a new Time object that contains the product of the original Time and the number.\n",
      "\n",
      "Then use `mul_time` to write a function that takes a Time object that represents the finishing time in a race, and a number that represents the distance, and returns a Time object that represents the average pace (time per mile)."
     ]
    },
    {
     "cell_type": "markdown",
     "metadata": {},
     "source": [
      "****"
     ]
    },
    {
     "cell_type": "markdown",
     "metadata": {},
     "source": [
      "### Exercise 16.7\n",
      "\n",
      "The datetime module provides date and time objects that are similar to the Date and Time objects in this chapter, but they provide a rich set of methods and operators. Read the documentation at http://docs.python.org/2/library/datetime.html.\n",
      "\n",
      "1. Use the datetime module to write a program that gets the current date and prints the day of the week.\n",
      "\n",
      "2. Write a program that takes a birthday as input and prints the user\u2019s age and the number of days, hours, minutes and seconds until their next birthday.\n",
      "\n",
      "3. For two people born on different days, there is a day when one is twice as old as the other. That\u2019s their Double Day. Write a program that takes two birthdays and computes their Double Day.\n",
      "\n",
      "4. For a little more challenge, write the more general version that computes the day when one person is n times older than the other."
     ]
    },
    {
     "cell_type": "code",
     "collapsed": false,
     "input": [],
     "language": "python",
     "metadata": {},
     "outputs": []
    }
   ],
   "metadata": {}
  }
 ]
}