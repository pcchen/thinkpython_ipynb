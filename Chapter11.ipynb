{
 "metadata": {
  "name": "",
  "signature": "sha256:5fcd9c7c5eccb882bb1232c4dbf4e233afb4bee0baa01bd448a2f5bf3483393c"
 },
 "nbformat": 3,
 "nbformat_minor": 0,
 "worksheets": [
  {
   "cells": [
    {
     "cell_type": "markdown",
     "metadata": {},
     "source": [
      "# License\n",
      "\n",
      "This IPython Notebook is released under the [Creative Commons Attribution-NonCommercial 3.0 Unported License](http://creativecommons.org/licenses/by-nc/3.0/)\n",
      "\n",
      "This IPython Notebook is based on [Think Python: How to Think Like a Computer Scientist](http://www.greenteapress.com/thinkpython/) by Allen B. Downey. It is available under the [Creative Commons Attribution-NonCommercial 3.0 Unported License](http://creativecommons.org/licenses/by-nc/3.0/)"
     ]
    },
    {
     "cell_type": "markdown",
     "metadata": {},
     "source": [
      "****"
     ]
    },
    {
     "cell_type": "markdown",
     "metadata": {},
     "source": [
      "# Chapter 11  Dictionaries"
     ]
    },
    {
     "cell_type": "markdown",
     "metadata": {},
     "source": [
      "****"
     ]
    },
    {
     "cell_type": "markdown",
     "metadata": {},
     "source": [
      "A **dictionary** is like a list, but more general. \n",
      "* In a list, the indices have to be integers; \n",
      "* In a dictionary they can be (almost) any type.\n",
      "\n",
      "You can think of a dictionary as a mapping between a set of indices (which are called keys) and a set of values. Each key maps to a value. The association of a key and a value is called a **key-value pair** or sometimes an **item**.\n",
      "\n",
      "As an example, we\u2019ll build a dictionary that maps from English to Spanish words, so the keys and the values are all strings.\n",
      "\n",
      "The function `dict` creates a new dictionary with no items. \n",
      "* Because `dict` is the name of a built-in function, you should avoid using it as a variable name."
     ]
    },
    {
     "cell_type": "code",
     "collapsed": false,
     "input": [
      "eng2sp = dict()\n",
      "print eng2sp"
     ],
     "language": "python",
     "metadata": {},
     "outputs": [
      {
       "output_type": "stream",
       "stream": "stdout",
       "text": [
        "{}\n"
       ]
      }
     ],
     "prompt_number": 1
    },
    {
     "cell_type": "markdown",
     "metadata": {},
     "source": [
      "The squiggly-brackets, `{}`, represent an empty dictionary. \n",
      "* To add items to the dictionary, you can use square brackets:"
     ]
    },
    {
     "cell_type": "code",
     "collapsed": false,
     "input": [
      "eng2sp['one'] = 'uno'\n",
      "print eng2sp"
     ],
     "language": "python",
     "metadata": {},
     "outputs": [
      {
       "output_type": "stream",
       "stream": "stdout",
       "text": [
        "{'one': 'uno'}\n"
       ]
      }
     ],
     "prompt_number": 2
    },
    {
     "cell_type": "markdown",
     "metadata": {},
     "source": [
      "This line creates an item that maps from the key `\u2019one\u2019` to the value `'uno'`. \n",
      "* If we print the dictionary again, we see a key-value pair with a colon between the key and value.\n",
      "\n",
      "This output format is also an input format. \n",
      "* For example, you can create a new dictionary with three items:"
     ]
    },
    {
     "cell_type": "code",
     "collapsed": false,
     "input": [
      "eng2sp = {'one': 'uno', 'two': 'dos', 'three': 'tres'}"
     ],
     "language": "python",
     "metadata": {},
     "outputs": [],
     "prompt_number": 3
    },
    {
     "cell_type": "markdown",
     "metadata": {},
     "source": [
      "But if you print eng2sp, you might be surprised:"
     ]
    },
    {
     "cell_type": "code",
     "collapsed": false,
     "input": [
      "eng2sp = {'one': 'uno', 'two': 'dos', 'three': 'tres'}\n",
      "print eng2sp"
     ],
     "language": "python",
     "metadata": {},
     "outputs": [
      {
       "output_type": "stream",
       "stream": "stdout",
       "text": [
        "{'three': 'tres', 'two': 'dos', 'one': 'uno'}\n"
       ]
      }
     ],
     "prompt_number": 4
    },
    {
     "cell_type": "markdown",
     "metadata": {},
     "source": [
      "The order of the key-value pairs is not the same. \n",
      "* If you type the same example on your computer, you might get a different result. \n",
      "* In general, the order of items in a dictionary is **unpredictable**.\n",
      "\n",
      "But that\u2019s not a problem because the elements of a dictionary are never indexed with integer indices. \n",
      "* Instead, you use the **keys** to look up the corresponding values:"
     ]
    },
    {
     "cell_type": "code",
     "collapsed": false,
     "input": [
      "eng2sp = {'one': 'uno', 'two': 'dos', 'three': 'tres'}\n",
      "print eng2sp['two']"
     ],
     "language": "python",
     "metadata": {},
     "outputs": [
      {
       "output_type": "stream",
       "stream": "stdout",
       "text": [
        "dos\n"
       ]
      }
     ],
     "prompt_number": 5
    },
    {
     "cell_type": "markdown",
     "metadata": {},
     "source": [
      "The key \u2019two\u2019 always maps to the value 'dos' so the order of the items doesn\u2019t matter."
     ]
    },
    {
     "cell_type": "markdown",
     "metadata": {},
     "source": [
      "If the key isn\u2019t in the dictionary, you get an exception:"
     ]
    },
    {
     "cell_type": "code",
     "collapsed": false,
     "input": [
      "eng2sp = {'one': 'uno', 'two': 'dos', 'three': 'tres'}\n",
      "print eng2sp['four']"
     ],
     "language": "python",
     "metadata": {},
     "outputs": [
      {
       "ename": "KeyError",
       "evalue": "'four'",
       "output_type": "pyerr",
       "traceback": [
        "\u001b[0;31m---------------------------------------------------------------------------\u001b[0m\n\u001b[0;31mKeyError\u001b[0m                                  Traceback (most recent call last)",
        "\u001b[0;32m<ipython-input-6-e2d7c5a1d852>\u001b[0m in \u001b[0;36m<module>\u001b[0;34m()\u001b[0m\n\u001b[1;32m      1\u001b[0m \u001b[0meng2sp\u001b[0m \u001b[0;34m=\u001b[0m \u001b[0;34m{\u001b[0m\u001b[0;34m'one'\u001b[0m\u001b[0;34m:\u001b[0m \u001b[0;34m'uno'\u001b[0m\u001b[0;34m,\u001b[0m \u001b[0;34m'two'\u001b[0m\u001b[0;34m:\u001b[0m \u001b[0;34m'dos'\u001b[0m\u001b[0;34m,\u001b[0m \u001b[0;34m'three'\u001b[0m\u001b[0;34m:\u001b[0m \u001b[0;34m'tres'\u001b[0m\u001b[0;34m}\u001b[0m\u001b[0;34m\u001b[0m\u001b[0m\n\u001b[0;32m----> 2\u001b[0;31m \u001b[0;32mprint\u001b[0m \u001b[0meng2sp\u001b[0m\u001b[0;34m[\u001b[0m\u001b[0;34m'four'\u001b[0m\u001b[0;34m]\u001b[0m\u001b[0;34m\u001b[0m\u001b[0m\n\u001b[0m",
        "\u001b[0;31mKeyError\u001b[0m: 'four'"
       ]
      }
     ],
     "prompt_number": 6
    },
    {
     "cell_type": "markdown",
     "metadata": {},
     "source": [
      "The `len` function works on dictionaries; it returns the number of key-value pairs:"
     ]
    },
    {
     "cell_type": "code",
     "collapsed": false,
     "input": [
      "eng2sp = {'one': 'uno', 'two': 'dos', 'three': 'tres'}\n",
      "len(eng2sp)"
     ],
     "language": "python",
     "metadata": {},
     "outputs": [
      {
       "metadata": {},
       "output_type": "pyout",
       "prompt_number": 7,
       "text": [
        "3"
       ]
      }
     ],
     "prompt_number": 7
    },
    {
     "cell_type": "markdown",
     "metadata": {},
     "source": [
      "The `in` operator works on dictionaries.\n",
      "* It tells you whether something appears as a key in the dictionary (appearing as a value is not good enough)."
     ]
    },
    {
     "cell_type": "code",
     "collapsed": false,
     "input": [
      "eng2sp = {'one': 'uno', 'two': 'dos', 'three': 'tres'}\n",
      "print 'one' in eng2sp\n",
      "print 'uno' in eng2sp"
     ],
     "language": "python",
     "metadata": {},
     "outputs": [
      {
       "output_type": "stream",
       "stream": "stdout",
       "text": [
        "True\n",
        "False\n"
       ]
      }
     ],
     "prompt_number": 8
    },
    {
     "cell_type": "markdown",
     "metadata": {},
     "source": [
      "To see whether something appears as a value in a dictionary, you can use the method `values`, which returns the values as a list, and then use the `in` operator:"
     ]
    },
    {
     "cell_type": "code",
     "collapsed": false,
     "input": [
      "eng2sp = {'one': 'uno', 'two': 'dos', 'three': 'tres'}\n",
      "vals = eng2sp.values()\n",
      "print 'uno' in vals"
     ],
     "language": "python",
     "metadata": {},
     "outputs": [
      {
       "output_type": "stream",
       "stream": "stdout",
       "text": [
        "True\n"
       ]
      }
     ],
     "prompt_number": 9
    },
    {
     "cell_type": "markdown",
     "metadata": {},
     "source": [
      "The `in` operator uses different algorithms for lists and dictionaries. \n",
      "* For lists, it uses a search algorithm, as in Section 8.6. \n",
      " * As the list gets longer, the search time gets longer in direct proportion. \n",
      "* For dictionaries, Python uses an algorithm called a **hashtable** that has a remarkable property: \n",
      " * the `in` operator takes about the same amount of time no matter how many items there are in a dictionary. \n",
      "* I won\u2019t explain how that\u2019s possible, but you can read more about it at http://en.wikipedia.org/wiki/Hash_table."
     ]
    },
    {
     "cell_type": "markdown",
     "metadata": {},
     "source": [
      "### Exercise 11.1  \n",
      "\n",
      "Write a function that reads the words in `words.txt` and stores them as keys in a dictionary. It doesn\u2019t matter what the values are. Then you can use the in operator as a fast way to check whether a string is in the dictionary.\n",
      "\n",
      "If you did Exercise 11, you can compare the speed of this implementation with the list in operator and the bisection search.\n",
      "\n"
     ]
    },
    {
     "cell_type": "markdown",
     "metadata": {},
     "source": [
      "****"
     ]
    },
    {
     "cell_type": "markdown",
     "metadata": {},
     "source": [
      "## 11.1  Dictionary as a set of counters\n"
     ]
    },
    {
     "cell_type": "markdown",
     "metadata": {},
     "source": [
      "Suppose you are given a string and you want to count how many times each letter appears. There are several ways you could do it:\n",
      "\n",
      "1. You could create 26 variables, one for each letter of the alphabet. Then you could traverse the string and, for each character, increment the corresponding counter, probably using a chained conditional.\n",
      "\n",
      "2. You could create a list with 26 elements. Then you could convert each character to a number (using the built-in function `ord`), use the number as an index into the list, and increment the appropriate counter.\n",
      "\n",
      "3. You could create a dictionary with characters as keys and counters as the corresponding values. The first time you see a character, you would add an item to the dictionary. After that you would increment the value of an existing item.\n",
      "\n",
      "Each of these options performs the same computation, but each of them implements that computation in a different way."
     ]
    },
    {
     "cell_type": "markdown",
     "metadata": {},
     "source": [
      "An **implementation** is a way of performing a computation; some implementations are better than others. \n",
      "* An advantage of the dictionary implementation is that we don\u2019t have to know ahead of time which letters appear in the string and we only have to make room for the letters that do appear.\n",
      "\n",
      "Here is what the code might look like:"
     ]
    },
    {
     "cell_type": "code",
     "collapsed": false,
     "input": [
      "def histogram(s):\n",
      "    d = dict()\n",
      "    for c in s:\n",
      "        if c not in d:\n",
      "            d[c] = 1\n",
      "        else:\n",
      "            d[c] += 1\n",
      "    return d"
     ],
     "language": "python",
     "metadata": {},
     "outputs": [],
     "prompt_number": 10
    },
    {
     "cell_type": "markdown",
     "metadata": {},
     "source": [
      "The name of the function is **histogram**, which is a statistical term for a set of counters (or frequencies).\n",
      "\n",
      "* The first line of the function creates an empty dictionary. \n",
      "* The `for` loop traverses the string. \n",
      "* Each time through the loop, \n",
      " * If the character `c` is not in the dictionary, we create a new item with key `c` and the initial value `1` (since we have seen this letter once). \n",
      " * If `c` is already in the dictionary we increment `d[c]`.\n",
      " \n",
      "Here\u2019s how it works:"
     ]
    },
    {
     "cell_type": "code",
     "collapsed": false,
     "input": [
      "def histogram(s):\n",
      "    d = dict()\n",
      "    for c in s:\n",
      "        if c not in d:\n",
      "            d[c] = 1\n",
      "        else:\n",
      "            d[c] += 1\n",
      "    return d\n",
      "\n",
      "h = histogram('brontosaurus')\n",
      "print h"
     ],
     "language": "python",
     "metadata": {},
     "outputs": [
      {
       "output_type": "stream",
       "stream": "stdout",
       "text": [
        "{'a': 1, 'b': 1, 'o': 2, 'n': 1, 's': 2, 'r': 2, 'u': 2, 't': 1}\n"
       ]
      }
     ],
     "prompt_number": 11
    },
    {
     "cell_type": "markdown",
     "metadata": {},
     "source": [
      "The histogram indicates that the letters `\u2019a\u2019` and `'b'` appear once; `'o'` appears twice, and so on."
     ]
    },
    {
     "cell_type": "markdown",
     "metadata": {},
     "source": [
      "### Exercise 11.2  \n",
      "\n",
      "Dictionaries have a method called `get` that takes a key and a default value. If the key appears in the dictionary, get returns the corresponding value; otherwise it returns the default value. For example:"
     ]
    },
    {
     "cell_type": "code",
     "collapsed": false,
     "input": [
      "def histogram(s):\n",
      "    d = dict()\n",
      "    for c in s:\n",
      "        if c not in d:\n",
      "            d[c] = 1\n",
      "        else:\n",
      "            d[c] += 1\n",
      "    return d\n",
      "\n",
      "h = histogram('a')\n",
      "print h\n",
      "print h.get('a', 0)\n",
      "print h.get('b', 0)\n",
      "print h.get('b', 100) "
     ],
     "language": "python",
     "metadata": {},
     "outputs": [
      {
       "output_type": "stream",
       "stream": "stdout",
       "text": [
        "{'a': 1}\n",
        "1\n",
        "0\n",
        "100\n"
       ]
      }
     ],
     "prompt_number": 12
    },
    {
     "cell_type": "markdown",
     "metadata": {},
     "source": [
      "Use get to write histogram more concisely. You should be able to eliminate the if statement."
     ]
    },
    {
     "cell_type": "markdown",
     "metadata": {},
     "source": [
      "****"
     ]
    },
    {
     "cell_type": "markdown",
     "metadata": {},
     "source": [
      "## 11.2  Looping and dictionaries"
     ]
    },
    {
     "cell_type": "markdown",
     "metadata": {},
     "source": [
      "If you use a dictionary in a for statement, it traverses the keys of the dictionary. \n",
      "* For example, `print_hist` prints each key and the corresponding value:"
     ]
    },
    {
     "cell_type": "code",
     "collapsed": false,
     "input": [
      "def print_hist(h):\n",
      "    for c in h:\n",
      "        print c, h[c]\n",
      "        \n",
      "def histogram(s):\n",
      "    d = dict()\n",
      "    for c in s:\n",
      "        if c not in d:\n",
      "            d[c] = 1\n",
      "        else:\n",
      "            d[c] += 1\n",
      "    return d\n",
      "\n",
      "h = histogram('parrot')\n",
      "print h\n",
      "print_hist(h)"
     ],
     "language": "python",
     "metadata": {},
     "outputs": [
      {
       "output_type": "stream",
       "stream": "stdout",
       "text": [
        "{'a': 1, 'p': 1, 'r': 2, 't': 1, 'o': 1}\n",
        "a 1\n",
        "p 1\n",
        "r 2\n",
        "t 1\n",
        "o 1\n"
       ]
      }
     ],
     "prompt_number": 13
    },
    {
     "cell_type": "markdown",
     "metadata": {},
     "source": [
      "Again, the keys are in no particular order."
     ]
    },
    {
     "cell_type": "markdown",
     "metadata": {},
     "source": [
      "### Exercise 3  \n",
      "\n",
      "Dictionaries have a method called `keys` that returns the keys of the dictionary, in no particular order, as a list.\n",
      "Modify `print_hist` to print the keys and their values in alphabetical order."
     ]
    },
    {
     "cell_type": "markdown",
     "metadata": {},
     "source": [
      "****"
     ]
    },
    {
     "cell_type": "markdown",
     "metadata": {},
     "source": [
      "## 11.3  Reverse lookup\n",
      "\n",
      "Given a dictionary `d` and a key `k`, it is easy to find the corresponding value `v = d[k]`. This operation is called a **lookup**.\n",
      "\n",
      "But what if you have `v` and you want to find `k`? You have two problems: \n",
      "* First, there might be more than one key that maps to the value `v`. \n",
      " * Depending on the application, you might be able to pick one, \n",
      " * or you might have to make a list that contains all of them. \n",
      "* Second, there is no simple syntax to do a **reverse lookup**; you have to search.\n",
      "\n",
      "Here is a function that takes a value and returns the first key that maps to that value:"
     ]
    },
    {
     "cell_type": "code",
     "collapsed": false,
     "input": [
      "def reverse_lookup(d, v):\n",
      "    for k in d:\n",
      "        if d[k] == v:\n",
      "            return k\n",
      "    raise ValueError\n",
      "#     raise ValueError('value does not appear in the dictionary')\n",
      "\n",
      "    \n",
      "def histogram(s):\n",
      "    d = dict()\n",
      "    for c in s:\n",
      "        if c not in d:\n",
      "            d[c] = 1\n",
      "        else:\n",
      "            d[c] += 1\n",
      "    return d\n",
      "\n",
      "# Here is an example of a successful reverse lookup:\n",
      "h = histogram('parrot')\n",
      "print h\n",
      "k = reverse_lookup(h, 2)\n",
      "print k\n",
      "\n",
      "# And an unsuccessful one:\n",
      "k = reverse_lookup(h, 3)"
     ],
     "language": "python",
     "metadata": {},
     "outputs": [
      {
       "output_type": "stream",
       "stream": "stdout",
       "text": [
        "{'a': 1, 'p': 1, 'r': 2, 't': 1, 'o': 1}\n",
        "r\n"
       ]
      },
      {
       "ename": "ValueError",
       "evalue": "",
       "output_type": "pyerr",
       "traceback": [
        "\u001b[0;31m---------------------------------------------------------------------------\u001b[0m\n\u001b[0;31mValueError\u001b[0m                                Traceback (most recent call last)",
        "\u001b[0;32m<ipython-input-14-bd82fe9fe87e>\u001b[0m in \u001b[0;36m<module>\u001b[0;34m()\u001b[0m\n\u001b[1;32m     23\u001b[0m \u001b[0;34m\u001b[0m\u001b[0m\n\u001b[1;32m     24\u001b[0m \u001b[0;31m# And an unsuccessful one:\u001b[0m\u001b[0;34m\u001b[0m\u001b[0;34m\u001b[0m\u001b[0m\n\u001b[0;32m---> 25\u001b[0;31m \u001b[0mk\u001b[0m \u001b[0;34m=\u001b[0m \u001b[0mreverse_lookup\u001b[0m\u001b[0;34m(\u001b[0m\u001b[0mh\u001b[0m\u001b[0;34m,\u001b[0m \u001b[0;36m3\u001b[0m\u001b[0;34m)\u001b[0m\u001b[0;34m\u001b[0m\u001b[0m\n\u001b[0m",
        "\u001b[0;32m<ipython-input-14-bd82fe9fe87e>\u001b[0m in \u001b[0;36mreverse_lookup\u001b[0;34m(d, v)\u001b[0m\n\u001b[1;32m      3\u001b[0m         \u001b[0;32mif\u001b[0m \u001b[0md\u001b[0m\u001b[0;34m[\u001b[0m\u001b[0mk\u001b[0m\u001b[0;34m]\u001b[0m \u001b[0;34m==\u001b[0m \u001b[0mv\u001b[0m\u001b[0;34m:\u001b[0m\u001b[0;34m\u001b[0m\u001b[0m\n\u001b[1;32m      4\u001b[0m             \u001b[0;32mreturn\u001b[0m \u001b[0mk\u001b[0m\u001b[0;34m\u001b[0m\u001b[0m\n\u001b[0;32m----> 5\u001b[0;31m     \u001b[0;32mraise\u001b[0m \u001b[0mValueError\u001b[0m\u001b[0;34m\u001b[0m\u001b[0m\n\u001b[0m\u001b[1;32m      6\u001b[0m \u001b[0;31m#     raise ValueError('value does not appear in the dictionary')\u001b[0m\u001b[0;34m\u001b[0m\u001b[0;34m\u001b[0m\u001b[0m\n\u001b[1;32m      7\u001b[0m \u001b[0;34m\u001b[0m\u001b[0m\n",
        "\u001b[0;31mValueError\u001b[0m: "
       ]
      }
     ],
     "prompt_number": 14
    },
    {
     "cell_type": "markdown",
     "metadata": {},
     "source": [
      "A reverse lookup is much slower than a forward lookup; if you have to do it often, or if the dictionary gets big, the performance of your program will suffer.\n"
     ]
    },
    {
     "cell_type": "markdown",
     "metadata": {},
     "source": [
      "### Exercise 11.4  \n",
      "Modify `reverse_lookup` so that it builds and returns a list of all keys that map to `v`, or an empty list if there are none."
     ]
    },
    {
     "cell_type": "markdown",
     "metadata": {},
     "source": [
      "****"
     ]
    },
    {
     "cell_type": "markdown",
     "metadata": {},
     "source": [
      "## 11.4  Dictionaries and lists\n",
      "\n",
      "Lists can appear as values in a dictionary. \n",
      "* If you were given a dictionary that maps from letters to frequencies, you might want to invert it.\n",
      "* That is, create a dictionary that maps from frequencies to letters. \n",
      "* Since there might be several letters with the same frequency, each value in the inverted dictionary should be a list of letters.\n",
      "\n",
      "Here is a function that inverts a dictionary:\n",
      "\n"
     ]
    },
    {
     "cell_type": "code",
     "collapsed": false,
     "input": [
      "def invert_dict(d):\n",
      "    inverse = dict()\n",
      "    for key in d:\n",
      "        val = d[key]\n",
      "        if val not in inverse:\n",
      "            inverse[val] = [key]\n",
      "        else:\n",
      "            inverse[val].append(key)\n",
      "    return inverse"
     ],
     "language": "python",
     "metadata": {},
     "outputs": [],
     "prompt_number": 15
    },
    {
     "cell_type": "code",
     "collapsed": false,
     "input": [
      "hist = histogram('parrot')\n",
      "print hist\n",
      "inverse = invert_dict(hist)\n",
      "print inverse\n",
      " "
     ],
     "language": "python",
     "metadata": {},
     "outputs": [
      {
       "output_type": "stream",
       "stream": "stdout",
       "text": [
        "{'a': 1, 'p': 1, 'r': 2, 't': 1, 'o': 1}\n",
        "{1: ['a', 'p', 't', 'o'], 2: ['r']}\n"
       ]
      }
     ],
     "prompt_number": 16
    },
    {
     "cell_type": "markdown",
     "metadata": {},
     "source": [
      "* Each time through the loop, `key` gets a key from `d` and `val` gets the corresponding value. \n",
      "* If `val` is not in inverse, that means we haven\u2019t seen it before, so we create a new item and initialize it with a singleton (a list that contains a single element). \n",
      "* Otherwise we have seen this value before, so we append the corresponding key to the list.\n",
      "\n",
      "<img src=\"files/figs/dict1.png\" width=\"600\" >\n",
      "\n",
      "\n",
      "\n",
      "Figure above is a state diagram showing hist and inverse. A dictionary is represented as a box with the type dict above it and the key-value pairs inside. If the values are integers, floats or strings, I usually draw them inside the box, but I usually draw lists outside the box, just to keep the diagram simple."
     ]
    },
    {
     "cell_type": "markdown",
     "metadata": {},
     "source": [
      "Lists can be values in a dictionary, as this example shows, but they cannot be keys. \n",
      "* Here\u2019s what happens if you try:"
     ]
    },
    {
     "cell_type": "code",
     "collapsed": false,
     "input": [
      "t = [1, 2, 3]\n",
      "d = dict()\n",
      "d[t] = 'oops'"
     ],
     "language": "python",
     "metadata": {},
     "outputs": [
      {
       "ename": "TypeError",
       "evalue": "unhashable type: 'list'",
       "output_type": "pyerr",
       "traceback": [
        "\u001b[0;31m---------------------------------------------------------------------------\u001b[0m\n\u001b[0;31mTypeError\u001b[0m                                 Traceback (most recent call last)",
        "\u001b[0;32m<ipython-input-17-487ac70bbf34>\u001b[0m in \u001b[0;36m<module>\u001b[0;34m()\u001b[0m\n\u001b[1;32m      1\u001b[0m \u001b[0mt\u001b[0m \u001b[0;34m=\u001b[0m \u001b[0;34m[\u001b[0m\u001b[0;36m1\u001b[0m\u001b[0;34m,\u001b[0m \u001b[0;36m2\u001b[0m\u001b[0;34m,\u001b[0m \u001b[0;36m3\u001b[0m\u001b[0;34m]\u001b[0m\u001b[0;34m\u001b[0m\u001b[0m\n\u001b[1;32m      2\u001b[0m \u001b[0md\u001b[0m \u001b[0;34m=\u001b[0m \u001b[0mdict\u001b[0m\u001b[0;34m(\u001b[0m\u001b[0;34m)\u001b[0m\u001b[0;34m\u001b[0m\u001b[0m\n\u001b[0;32m----> 3\u001b[0;31m \u001b[0md\u001b[0m\u001b[0;34m[\u001b[0m\u001b[0mt\u001b[0m\u001b[0;34m]\u001b[0m \u001b[0;34m=\u001b[0m \u001b[0;34m'oops'\u001b[0m\u001b[0;34m\u001b[0m\u001b[0m\n\u001b[0m",
        "\u001b[0;31mTypeError\u001b[0m: unhashable type: 'list'"
       ]
      }
     ],
     "prompt_number": 17
    },
    {
     "cell_type": "markdown",
     "metadata": {},
     "source": [
      "I mentioned earlier that a dictionary is implemented using a hashtable and that means that the keys have to be **hashable**.\n",
      "\n",
      "A **hash** is a function that takes a value (of any kind) and returns an **integer**. Dictionaries use these integers, called **hash values**, to store and look up key-value pairs.\n",
      "\n",
      "* This system works fine if the keys are **immutable**. \n",
      "* But if the keys are mutable, like lists, bad things happen. \n",
      " * For example, when you create a key-value pair, Python hashes the key and stores it in the corresponding location. \n",
      " * If you modify the key and then hash it again, it would go to a different location. \n",
      " * In that case you might have two entries for the same key, \n",
      " * or you might not be able to find a key. \n",
      " * Either way, the dictionary wouldn\u2019t work correctly.\n",
      "\n",
      "That\u2019s why the keys have to be hashable, and why mutable types like lists aren\u2019t. The simplest way to get around this limitation is to use tuples, which we will see in the next chapter.\n",
      "\n",
      "Since dictionaries are **mutable**, they can\u2019t be used as keys, but they *can* be used as values."
     ]
    },
    {
     "cell_type": "markdown",
     "metadata": {},
     "source": [
      "### Exercise 11.5   \n",
      "\n",
      "Read the documentation of the dictionary method `setdefault` and use it to write a more concise version of `invert_dict`.\n"
     ]
    },
    {
     "cell_type": "markdown",
     "metadata": {},
     "source": [
      "****"
     ]
    },
    {
     "cell_type": "markdown",
     "metadata": {},
     "source": [
      "## 11.5  Memos\n",
      "\n",
      "If you played with the `fibonacci` function from Section 6.7, you might have noticed that the bigger the argument you provide, the longer the function takes to run. Furthermore, the run time increases very quickly."
     ]
    },
    {
     "cell_type": "code",
     "collapsed": false,
     "input": [
      "def fibonacci (n):\n",
      "    if n == 0:\n",
      "        return 0\n",
      "    elif  n == 1:\n",
      "        return 1\n",
      "    else:\n",
      "        return fibonacci(n-1) + fibonacci(n-2)"
     ],
     "language": "python",
     "metadata": {},
     "outputs": [],
     "prompt_number": 18
    },
    {
     "cell_type": "code",
     "collapsed": false,
     "input": [
      "print fibonacci(10)"
     ],
     "language": "python",
     "metadata": {},
     "outputs": [
      {
       "output_type": "stream",
       "stream": "stdout",
       "text": [
        "55\n"
       ]
      }
     ],
     "prompt_number": 19
    },
    {
     "cell_type": "code",
     "collapsed": false,
     "input": [
      "print fibonacci(20)"
     ],
     "language": "python",
     "metadata": {},
     "outputs": [
      {
       "output_type": "stream",
       "stream": "stdout",
       "text": [
        "6765\n"
       ]
      }
     ],
     "prompt_number": 20
    },
    {
     "cell_type": "code",
     "collapsed": false,
     "input": [
      "from timeit import *"
     ],
     "language": "python",
     "metadata": {},
     "outputs": [],
     "prompt_number": 21
    },
    {
     "cell_type": "code",
     "collapsed": false,
     "input": [
      "timeit(fibonacci(1))"
     ],
     "language": "python",
     "metadata": {},
     "outputs": [
      {
       "output_type": "stream",
       "stream": "stdout",
       "text": [
        "10000000 loops, best of 3: 187 ns per loop\n"
       ]
      }
     ],
     "prompt_number": 22
    },
    {
     "cell_type": "code",
     "collapsed": false,
     "input": [
      "timeit(fibonacci(10))"
     ],
     "language": "python",
     "metadata": {},
     "outputs": [
      {
       "output_type": "stream",
       "stream": "stdout",
       "text": [
        "10000 loops, best of 3: 34.8 \u00b5s per loop\n"
       ]
      }
     ],
     "prompt_number": 23
    },
    {
     "cell_type": "code",
     "collapsed": false,
     "input": [
      "timeit(fibonacci(20))"
     ],
     "language": "python",
     "metadata": {},
     "outputs": [
      {
       "output_type": "stream",
       "stream": "stdout",
       "text": [
        "100 loops, best of 3: 4.3 ms per loop\n"
       ]
      }
     ],
     "prompt_number": 24
    },
    {
     "cell_type": "code",
     "collapsed": false,
     "input": [
      "timeit(fibonacci(30))"
     ],
     "language": "python",
     "metadata": {},
     "outputs": [
      {
       "output_type": "stream",
       "stream": "stdout",
       "text": [
        "1 loops, best of 3: 538 ms per loop\n"
       ]
      }
     ],
     "prompt_number": 25
    },
    {
     "cell_type": "markdown",
     "metadata": {},
     "source": [
      "To understand why, consider Figure below, which shows the call graph for fibonacci with n=4:\n",
      "\n",
      "<img src=\"files/figs/fibonacci.png\" width=\"600\" >\n",
      "\n",
      "A call graph shows a set of function frames, with lines connecting each frame to the frames of the functions it calls. \n",
      "* At the top of the graph, `fibonacci` with `n=4` calls `fibonacci` with `n=3` and `n=2`. \n",
      "* In turn, `fibonacci` with `n=3` calls fibonacci with `n=2` and `n=1`. \n",
      "* And so on.\n",
      "\n",
      "Count how many times `fibonacci(0)` and `fibonacci(1)` are called. \n",
      "* This is an inefficient solution to the problem, and it gets worse as the argument gets bigger.\n",
      "\n"
     ]
    },
    {
     "cell_type": "markdown",
     "metadata": {},
     "source": [
      "One solution is to keep track of values that have already been computed by storing them in a dictionary. A previously computed value that is stored for later use is called a **memo**. \n",
      "\n",
      "Here is a \u201cmemoized\u201d version of fibonacci:"
     ]
    },
    {
     "cell_type": "code",
     "collapsed": false,
     "input": [
      "known = {0:0, 1:1}\n",
      "\n",
      "def fibonacci_memo(n):\n",
      "    if n in known:\n",
      "        return known[n]\n",
      "\n",
      "    res = fibonacci_memo(n-1) + fibonacci_memo(n-2)\n",
      "    known[n] = res\n",
      "    return res"
     ],
     "language": "python",
     "metadata": {},
     "outputs": [],
     "prompt_number": 26
    },
    {
     "cell_type": "code",
     "collapsed": false,
     "input": [
      "print fibonacci_memo(10)"
     ],
     "language": "python",
     "metadata": {},
     "outputs": [
      {
       "output_type": "stream",
       "stream": "stdout",
       "text": [
        "55\n"
       ]
      }
     ],
     "prompt_number": 27
    },
    {
     "cell_type": "markdown",
     "metadata": {},
     "source": [
      "`known` is a dictionary that keeps track of the Fibonacci numbers we already know. \n",
      "* It starts with two items: `0` maps to `0` and `1` maps to `1`.\n",
      "\n",
      "Whenever `fibonacci` is called, it checks `known`. \n",
      "* If the result is already there, it can return immediately. \n",
      "* Otherwise it has to compute the new value, add it to the dictionary, and return it."
     ]
    },
    {
     "cell_type": "code",
     "collapsed": false,
     "input": [
      "timeit(fibonacci(30))"
     ],
     "language": "python",
     "metadata": {},
     "outputs": [
      {
       "output_type": "stream",
       "stream": "stdout",
       "text": [
        "1 loops, best of 3: 534 ms per loop\n"
       ]
      }
     ],
     "prompt_number": 28
    },
    {
     "cell_type": "code",
     "collapsed": false,
     "input": [
      "timeit(fibonacci_memo(30))"
     ],
     "language": "python",
     "metadata": {},
     "outputs": [
      {
       "output_type": "stream",
       "stream": "stdout",
       "text": [
        "1000000 loops, best of 3: 242 ns per loop\n"
       ]
      }
     ],
     "prompt_number": 29
    },
    {
     "cell_type": "code",
     "collapsed": false,
     "input": [
      "timeit(fibonacci_memo(1000))"
     ],
     "language": "python",
     "metadata": {},
     "outputs": [
      {
       "output_type": "stream",
       "stream": "stdout",
       "text": [
        "1000000 loops, best of 3: 242 ns per loop\n"
       ]
      }
     ],
     "prompt_number": 30
    },
    {
     "cell_type": "markdown",
     "metadata": {},
     "source": [
      "****"
     ]
    },
    {
     "cell_type": "markdown",
     "metadata": {},
     "source": [
      "## 11.6  Global variables\n",
      "\n",
      "In the previous example, `known` is created outside the function, so it belongs to the special frame called `__main__`. \n",
      "* Variables in `__main__` are sometimes called **global** because they can be accessed from any function. \n",
      "* Unlike local variables, which disappear when their function ends, global variables persist from one function call to the next.\n",
      "\n",
      "It is common to use global variables for **flags**; that is, boolean variables that indicate (\u201cflag\u201d) whether a condition is true. \n",
      "* For example, some programs use a flag named verbose to control the level of detail in the output:\n",
      "\n"
     ]
    },
    {
     "cell_type": "code",
     "collapsed": false,
     "input": [
      "verbose = True\n",
      "\n",
      "def example1():\n",
      "    if verbose:\n",
      "        print 'Running example1'\n",
      "\n",
      "example1()\n",
      "example1()\n",
      "verbose = False\n",
      "example1()"
     ],
     "language": "python",
     "metadata": {},
     "outputs": [
      {
       "output_type": "stream",
       "stream": "stdout",
       "text": [
        "Running example1\n",
        "Running example1\n"
       ]
      }
     ],
     "prompt_number": 31
    },
    {
     "cell_type": "markdown",
     "metadata": {},
     "source": [
      "If you try to **reassign** a global variable, you might be surprised. \n",
      "* The following example is supposed to keep track of whether the function has been called:"
     ]
    },
    {
     "cell_type": "code",
     "collapsed": false,
     "input": [
      "been_called = False\n",
      "\n",
      "def example2():\n",
      "    been_called = True # WRONG!\n",
      "    \n",
      "print been_called\n",
      "example2()\n",
      "print been_called"
     ],
     "language": "python",
     "metadata": {},
     "outputs": [
      {
       "output_type": "stream",
       "stream": "stdout",
       "text": [
        "False\n",
        "False\n"
       ]
      }
     ],
     "prompt_number": 32
    },
    {
     "cell_type": "markdown",
     "metadata": {},
     "source": [
      "But if you run it you will see that the value of `been_called` doesn\u2019t change. \n",
      "* The problem is that `example2` creates a new local variable named `been_called`. \n",
      "* The local variable goes away when the function ends, and has no effect on the global variable."
     ]
    },
    {
     "cell_type": "markdown",
     "metadata": {},
     "source": [
      "To **reassign** a global variable inside a function you have to declare the **global** variable before you use it:"
     ]
    },
    {
     "cell_type": "code",
     "collapsed": false,
     "input": [
      "been_called = False\n",
      "\n",
      "def example2():\n",
      "    global been_called \n",
      "    been_called = True\n",
      "\n",
      "print been_called\n",
      "example2()\n",
      "print been_called"
     ],
     "language": "python",
     "metadata": {},
     "outputs": [
      {
       "output_type": "stream",
       "stream": "stdout",
       "text": [
        "False\n",
        "True\n"
       ]
      }
     ],
     "prompt_number": 33
    },
    {
     "cell_type": "markdown",
     "metadata": {},
     "source": [
      "The global statement tells the interpreter something like, \n",
      "* \u201cIn this function, when I say `been_called`, I mean the global variable; don\u2019t create a local one.\u201d"
     ]
    },
    {
     "cell_type": "markdown",
     "metadata": {},
     "source": [
      "Here\u2019s an example that tries to update a global variable:"
     ]
    },
    {
     "cell_type": "code",
     "collapsed": false,
     "input": [
      "count = 0\n",
      "\n",
      "def example3():\n",
      "    count = count + 1          # WRONG\n",
      "\n",
      "example3()"
     ],
     "language": "python",
     "metadata": {},
     "outputs": [
      {
       "ename": "UnboundLocalError",
       "evalue": "local variable 'count' referenced before assignment",
       "output_type": "pyerr",
       "traceback": [
        "\u001b[0;31m---------------------------------------------------------------------------\u001b[0m\n\u001b[0;31mUnboundLocalError\u001b[0m                         Traceback (most recent call last)",
        "\u001b[0;32m<ipython-input-34-4525b9f892bc>\u001b[0m in \u001b[0;36m<module>\u001b[0;34m()\u001b[0m\n\u001b[1;32m      4\u001b[0m     \u001b[0mcount\u001b[0m \u001b[0;34m=\u001b[0m \u001b[0mcount\u001b[0m \u001b[0;34m+\u001b[0m \u001b[0;36m1\u001b[0m          \u001b[0;31m# WRONG\u001b[0m\u001b[0;34m\u001b[0m\u001b[0m\n\u001b[1;32m      5\u001b[0m \u001b[0;34m\u001b[0m\u001b[0m\n\u001b[0;32m----> 6\u001b[0;31m \u001b[0mexample3\u001b[0m\u001b[0;34m(\u001b[0m\u001b[0;34m)\u001b[0m\u001b[0;34m\u001b[0m\u001b[0m\n\u001b[0m",
        "\u001b[0;32m<ipython-input-34-4525b9f892bc>\u001b[0m in \u001b[0;36mexample3\u001b[0;34m()\u001b[0m\n\u001b[1;32m      2\u001b[0m \u001b[0;34m\u001b[0m\u001b[0m\n\u001b[1;32m      3\u001b[0m \u001b[0;32mdef\u001b[0m \u001b[0mexample3\u001b[0m\u001b[0;34m(\u001b[0m\u001b[0;34m)\u001b[0m\u001b[0;34m:\u001b[0m\u001b[0;34m\u001b[0m\u001b[0m\n\u001b[0;32m----> 4\u001b[0;31m     \u001b[0mcount\u001b[0m \u001b[0;34m=\u001b[0m \u001b[0mcount\u001b[0m \u001b[0;34m+\u001b[0m \u001b[0;36m1\u001b[0m          \u001b[0;31m# WRONG\u001b[0m\u001b[0;34m\u001b[0m\u001b[0m\n\u001b[0m\u001b[1;32m      5\u001b[0m \u001b[0;34m\u001b[0m\u001b[0m\n\u001b[1;32m      6\u001b[0m \u001b[0mexample3\u001b[0m\u001b[0;34m(\u001b[0m\u001b[0;34m)\u001b[0m\u001b[0;34m\u001b[0m\u001b[0m\n",
        "\u001b[0;31mUnboundLocalError\u001b[0m: local variable 'count' referenced before assignment"
       ]
      }
     ],
     "prompt_number": 34
    },
    {
     "cell_type": "markdown",
     "metadata": {},
     "source": [
      "If you run it you get:\n",
      "\n",
      "```\n",
      "UnboundLocalError: local variable 'count' referenced before assignment\n",
      "```\n",
      "\n",
      "Python assumes that count is local, which means that you are reading it before writing it. \n",
      "\n",
      "The solution, again, is to declare count global."
     ]
    },
    {
     "cell_type": "code",
     "collapsed": false,
     "input": [
      "count = 0\n",
      "def example3():\n",
      "    global count\n",
      "    count += 1\n",
      "\n",
      "example3()\n",
      "print count"
     ],
     "language": "python",
     "metadata": {},
     "outputs": [
      {
       "output_type": "stream",
       "stream": "stdout",
       "text": [
        "1\n"
       ]
      }
     ],
     "prompt_number": 35
    },
    {
     "cell_type": "markdown",
     "metadata": {},
     "source": [
      "If the global value is **mutable**, you can modify it without declaring it:"
     ]
    },
    {
     "cell_type": "code",
     "collapsed": false,
     "input": [
      "known = {0:0, 1:1}\n",
      "\n",
      "def example4():\n",
      "    known[2] = 1\n",
      "    \n",
      "print known\n",
      "example4()\n",
      "print known"
     ],
     "language": "python",
     "metadata": {},
     "outputs": [
      {
       "output_type": "stream",
       "stream": "stdout",
       "text": [
        "{0: 0, 1: 1}\n",
        "{0: 0, 1: 1, 2: 1}\n"
       ]
      }
     ],
     "prompt_number": 36
    },
    {
     "cell_type": "markdown",
     "metadata": {},
     "source": [
      "So you can add, remove and replace elements of a global list or dictionary, but if you want to reassign the variable, you have to declare it:"
     ]
    },
    {
     "cell_type": "code",
     "collapsed": false,
     "input": [
      "known = {0:0, 1:1}\n",
      "\n",
      "def example5():\n",
      "    global known\n",
      "    known = dict()\n",
      "    \n",
      "print known\n",
      "example5()\n",
      "print known"
     ],
     "language": "python",
     "metadata": {},
     "outputs": [
      {
       "output_type": "stream",
       "stream": "stdout",
       "text": [
        "{0: 0, 1: 1}\n",
        "{}\n"
       ]
      }
     ],
     "prompt_number": 37
    },
    {
     "cell_type": "markdown",
     "metadata": {},
     "source": [
      "****"
     ]
    },
    {
     "cell_type": "markdown",
     "metadata": {},
     "source": [
      "## 11.8  Debugging"
     ]
    },
    {
     "cell_type": "markdown",
     "metadata": {},
     "source": [
      "As you work with bigger datasets it can become unwieldy to debug by printing and checking data by hand. Here are some suggestions for debugging large datasets:\n",
      "\n",
      "**Scale down the input:**\n",
      "\n",
      "If possible, reduce the size of the dataset. For example if the program reads a text file, start with just the first 10 lines, or with the smallest example you can find. You can either edit the files themselves, or (better) modify the program so it reads only the first `n` lines.\n",
      "\n",
      "If there is an error, you can reduce n to the smallest value that manifests the error, and then increase it gradually as you find and correct errors.\n",
      "\n",
      "**Check summaries and types:**\n",
      "\n",
      "Instead of printing and checking the entire dataset, consider printing summaries of the data: for example, the number of items in a dictionary or the total of a list of numbers.\n",
      "\n",
      "A common cause of runtime errors is a value that is not the right type. For debugging this kind of error, it is often enough to print the type of a value.\n",
      "\n",
      "**Write self-checks:**\n",
      "\n",
      "Sometimes you can write code to check for errors automatically. For example, if you are computing the average of a list of numbers, you could check that the result is not greater than the largest element in the list or less than the smallest. This is called a \u201csanity check\u201d because it detects results that are \u201cinsane.\u201d\n",
      "\n",
      "Another kind of check compares the results of two different computations to see if they are consistent. This is called a \u201cconsistency check.\u201d\n",
      "\n",
      "**Pretty print the output:**\n",
      "\n",
      "Formatting debugging output can make it easier to spot an error. We saw an example in Section 6.9. The `pprint` module provides a pprint function that displays built-in types in a more human-readable format.\n",
      "\n",
      "https://docs.python.org/2/library/pprint.html\n",
      "\n",
      "Again, time you spend building scaffolding can reduce the time you spend debugging."
     ]
    },
    {
     "cell_type": "code",
     "collapsed": false,
     "input": [
      "import pprint\n",
      "\n",
      "tup = ('spam', ('eggs', ('lumberjack', ('knights', ('ni', ('dead', ('parrot', ('fresh fruit',))))))))\n",
      "\n",
      "print tup"
     ],
     "language": "python",
     "metadata": {},
     "outputs": [
      {
       "output_type": "stream",
       "stream": "stdout",
       "text": [
        "('spam', ('eggs', ('lumberjack', ('knights', ('ni', ('dead', ('parrot', ('fresh fruit',))))))))\n"
       ]
      }
     ],
     "prompt_number": 38
    },
    {
     "cell_type": "code",
     "collapsed": false,
     "input": [
      "pprint.pprint(tup)"
     ],
     "language": "python",
     "metadata": {},
     "outputs": [
      {
       "output_type": "stream",
       "stream": "stdout",
       "text": [
        "('spam',\n",
        " ('eggs',\n",
        "  ('lumberjack', ('knights', ('ni', ('dead', ('parrot', ('fresh fruit',))))))))\n"
       ]
      }
     ],
     "prompt_number": 39
    },
    {
     "cell_type": "code",
     "collapsed": false,
     "input": [
      "stuff = ['a' * 10, tup, ['a' * 30, 'b' * 30], ['c' * 20, 'd' * 20]]\n",
      "pprint.pprint(stuff)"
     ],
     "language": "python",
     "metadata": {},
     "outputs": [
      {
       "output_type": "stream",
       "stream": "stdout",
       "text": [
        "['aaaaaaaaaa',\n",
        " ('spam',\n",
        "  ('eggs',\n",
        "   ('lumberjack',\n",
        "    ('knights', ('ni', ('dead', ('parrot', ('fresh fruit',)))))))),\n",
        " ['aaaaaaaaaaaaaaaaaaaaaaaaaaaaaa', 'bbbbbbbbbbbbbbbbbbbbbbbbbbbbbb'],\n",
        " ['cccccccccccccccccccc', 'dddddddddddddddddddd']]\n"
       ]
      }
     ],
     "prompt_number": 40
    },
    {
     "cell_type": "markdown",
     "metadata": {},
     "source": [
      "****"
     ]
    },
    {
     "cell_type": "markdown",
     "metadata": {},
     "source": [
      "## 11.9  Glossary\n",
      "\n",
      "**dictionary:**\n",
      "\n",
      "A mapping from a set of keys to their corresponding values.\n",
      "\n",
      "**key-value pair:**\n",
      "\n",
      "The representation of the mapping from a key to a value.\n",
      "\n",
      "**item:**\n",
      "\n",
      "Another name for a key-value pair.\n",
      "\n",
      "**key:**\n",
      "\n",
      "An object that appears in a dictionary as the first part of a key-value pair.\n",
      "\n",
      "**value:**\n",
      "\n",
      "An object that appears in a dictionary as the second part of a key-value pair. This is more specific than our previous use of \n",
      "the word \u201cvalue.\u201d\n",
      "\n",
      "**implementation:**\n",
      "\n",
      "A way of performing a computation.\n",
      "\n",
      "**hashtable:**\n",
      "\n",
      "The algorithm used to implement Python dictionaries.\n",
      "\n",
      "**hash function:**\n",
      "\n",
      "A function used by a hashtable to compute the location for a key.\n",
      "\n",
      "**hashable:**\n",
      "\n",
      "A type that has a hash function. Immutable types like integers, floats and strings are hashable; mutable types like lists and dictionaries are not.\n",
      "\n",
      "**lookup:**\n",
      "\n",
      "A dictionary operation that takes a key and finds the corresponding value.\n",
      "\n",
      "**reverse lookup:**\n",
      "\n",
      "A dictionary operation that takes a value and finds one or more keys that map to it.\n",
      "\n",
      "**singleton:**\n",
      "\n",
      "A list (or other sequence) with a single element.\n",
      "\n",
      "**call graph:**\n",
      "\n",
      "A diagram that shows every frame created during the execution of a program, with an arrow from each caller to each callee.\n",
      "\n",
      "**histogram:**\n",
      "\n",
      "A set of counters.\n",
      "\n",
      "**memo:**\n",
      "\n",
      "A computed value stored to avoid unnecessary future computation.\n",
      "\n",
      "**global variable:**\n",
      "\n",
      "A variable defined outside a function. Global variables can be accessed from any function.\n",
      "\n",
      "**flag:**\n",
      "\n",
      "A boolean variable used to indicate whether a condition is true.\n",
      "\n",
      "**declaration:**\n",
      "\n",
      "A statement like global that tells the interpreter something about a variable.\n"
     ]
    },
    {
     "cell_type": "code",
     "collapsed": false,
     "input": [],
     "language": "python",
     "metadata": {},
     "outputs": []
    }
   ],
   "metadata": {}
  }
 ]
}