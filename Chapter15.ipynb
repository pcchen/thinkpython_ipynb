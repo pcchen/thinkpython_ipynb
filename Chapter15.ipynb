{
 "metadata": {
  "name": "",
  "signature": "sha256:6874cab01de59ad7db3ca2e7cce18860ec9e9ff07d4f53b9be1ab7699eabf998"
 },
 "nbformat": 3,
 "nbformat_minor": 0,
 "worksheets": [
  {
   "cells": [
    {
     "cell_type": "markdown",
     "metadata": {},
     "source": [
      "# License\n",
      "\n",
      "This IPython Notebook is released under the [Creative Commons Attribution-NonCommercial 3.0 Unported License](http://creativecommons.org/licenses/by-nc/3.0/)\n",
      "\n",
      "This IPython Notebook is based on [Think Python: How to Think Like a Computer Scientist](http://www.greenteapress.com/thinkpython/) by Allen B. Downey. It is available under the [Creative Commons Attribution-NonCommercial 3.0 Unported License](http://creativecommons.org/licenses/by-nc/3.0/)"
     ]
    },
    {
     "cell_type": "markdown",
     "metadata": {},
     "source": [
      "****"
     ]
    },
    {
     "cell_type": "markdown",
     "metadata": {},
     "source": [
      "# Chapter 15  Classes and objects"
     ]
    },
    {
     "cell_type": "markdown",
     "metadata": {},
     "source": [
      "****"
     ]
    },
    {
     "cell_type": "markdown",
     "metadata": {},
     "source": [
      "## 15.1  User-defined types\n",
      "\n",
      "We have used many of Python\u2019s built-in types; now we are going to define a new type. As an example, we will create a type called `Point` that represents a point in two-dimensional space.\n",
      "\n",
      "In mathematical notation, points are often written in parentheses with a comma separating the coordinates. For example, $(0,0)$ represents the origin, and $(x,y)$ represents the point $x$ units to the right and $y$ units up from the origin.\n",
      "\n",
      "There are several ways we might represent points in Python:\n",
      "\n",
      "* We could store the coordinates separately in two variables, `x` and `y`.\n",
      "* We could store the coordinates as elements in a list or tuple.\n",
      "* We could create a new type to represent points as objects.\n",
      "\n",
      "Creating a new type is (a little) more complicated than the other options, but it has advantages that will be apparent soon.\n",
      "\n",
      "A user-defined type is also called a **class**. A class definition looks like this:"
     ]
    },
    {
     "cell_type": "code",
     "collapsed": false,
     "input": [
      "class Point(object):\n",
      "    \"\"\"Represents a point in 2-D space.\"\"\""
     ],
     "language": "python",
     "metadata": {},
     "outputs": [],
     "prompt_number": 1
    },
    {
     "cell_type": "markdown",
     "metadata": {},
     "source": [
      "This header indicates that the new class is a `Point`, which is a kind of `object`, which is a built-in type.\n",
      "The body is a **docstring** that explains what the class is for. You can define variables and functions inside a class definition, but we will get back to that later.\n",
      "\n",
      "Defining a class named Point creates a class object."
     ]
    },
    {
     "cell_type": "code",
     "collapsed": false,
     "input": [
      "print Point"
     ],
     "language": "python",
     "metadata": {},
     "outputs": [
      {
       "output_type": "stream",
       "stream": "stdout",
       "text": [
        "<class '__main__.Point'>\n"
       ]
      }
     ],
     "prompt_number": 2
    },
    {
     "cell_type": "markdown",
     "metadata": {},
     "source": [
      "Because Point is defined at the top level, its \u201cfull name\u201d is `__main__.Point`."
     ]
    },
    {
     "cell_type": "markdown",
     "metadata": {},
     "source": [
      "The class object is like a factory for creating objects. To create a `Point`, you call `Point` as if it were a function."
     ]
    },
    {
     "cell_type": "code",
     "collapsed": false,
     "input": [
      "blank = Point()\n",
      "print blank"
     ],
     "language": "python",
     "metadata": {},
     "outputs": [
      {
       "output_type": "stream",
       "stream": "stdout",
       "text": [
        "<__main__.Point object at 0x10501c790>\n"
       ]
      }
     ],
     "prompt_number": 3
    },
    {
     "cell_type": "markdown",
     "metadata": {},
     "source": [
      "The return value is a reference to a Point object, which we assign to `blank`. Creating a new object is called **instantiation**, and the object is an **instance** of the class.\n",
      "\n",
      "When you print an instance, Python tells you what class it belongs to and where it is stored in memory (the prefix `0x` means that the following number is in hexadecimal)."
     ]
    },
    {
     "cell_type": "markdown",
     "metadata": {},
     "source": [
      "****"
     ]
    },
    {
     "cell_type": "markdown",
     "metadata": {},
     "source": [
      "## 15.2  Attributes\n",
      "\n",
      "You can assign values to an instance using dot notation:"
     ]
    },
    {
     "cell_type": "code",
     "collapsed": false,
     "input": [
      "blank.x = 3.0\n",
      "blank.y = 4.0"
     ],
     "language": "python",
     "metadata": {},
     "outputs": [],
     "prompt_number": 4
    },
    {
     "cell_type": "markdown",
     "metadata": {},
     "source": [
      "This syntax is similar to the syntax for selecting a variable from a module, such as `math.pi` or `string.whitespace`. In this case, though, we are assigning values to named elements of an object. These elements are called **attributes**.\n",
      "\n",
      "As a noun, \u201cAT-trib-ute\u201d is pronounced with emphasis on the first syllable, as opposed to \u201ca-TRIB-ute,\u201d which is a verb.\n",
      "\n",
      "The following diagram shows the result of these assignments. A state diagram that shows an object and its attributes is called an **object diagram**; see Figure 15.1.\n",
      "\n",
      "<img src=\"files/figs/point.png\" width=\"200\" >"
     ]
    },
    {
     "cell_type": "markdown",
     "metadata": {},
     "source": [
      "The variable blank refers to a `Point` object, which contains two attributes. Each attribute refers to a floating-point number.\n",
      "\n",
      "You can read the value of an attribute using the same syntax:"
     ]
    },
    {
     "cell_type": "code",
     "collapsed": false,
     "input": [
      "print blank.y\n",
      "x = blank.x\n",
      "print x"
     ],
     "language": "python",
     "metadata": {},
     "outputs": [
      {
       "output_type": "stream",
       "stream": "stdout",
       "text": [
        "4.0\n",
        "3.0\n"
       ]
      }
     ],
     "prompt_number": 5
    },
    {
     "cell_type": "markdown",
     "metadata": {},
     "source": [
      "The expression `blank.x` means, \u201cGo to the object blank refers to and get the value of x.\u201d In this case, we assign that value to a variable named `x`. There is no conflict between the variable `x` and the attribute `x`.\n",
      "\n",
      "You can use dot notation as part of any expression. For example:"
     ]
    },
    {
     "cell_type": "code",
     "collapsed": false,
     "input": [
      "import math\n",
      "print '(%g, %g)' % (blank.x, blank.y)\n",
      "distance = math.sqrt(blank.x**2 + blank.y**2)\n",
      "print distance"
     ],
     "language": "python",
     "metadata": {},
     "outputs": [
      {
       "output_type": "stream",
       "stream": "stdout",
       "text": [
        "(3, 4)\n",
        "5.0\n"
       ]
      }
     ],
     "prompt_number": 6
    },
    {
     "cell_type": "markdown",
     "metadata": {},
     "source": [
      "You can pass an instance as an argument in the usual way. For example:"
     ]
    },
    {
     "cell_type": "code",
     "collapsed": false,
     "input": [
      "def print_point(p):\n",
      "    print '(%g, %g)' % (p.x, p.y)"
     ],
     "language": "python",
     "metadata": {},
     "outputs": [],
     "prompt_number": 7
    },
    {
     "cell_type": "markdown",
     "metadata": {},
     "source": [
      "`print_point` takes a `point` as an argument and displays it in mathematical notation. To invoke it, you can pass `blank` as an argument:"
     ]
    },
    {
     "cell_type": "code",
     "collapsed": false,
     "input": [
      "print_point(blank)"
     ],
     "language": "python",
     "metadata": {},
     "outputs": [
      {
       "output_type": "stream",
       "stream": "stdout",
       "text": [
        "(3, 4)\n"
       ]
      }
     ],
     "prompt_number": 8
    },
    {
     "cell_type": "markdown",
     "metadata": {},
     "source": [
      "Inside the function, `p` is an **alias** for `blank`, so if the function modifies `p`, `blank` changes."
     ]
    },
    {
     "cell_type": "markdown",
     "metadata": {},
     "source": [
      "****"
     ]
    },
    {
     "cell_type": "markdown",
     "metadata": {},
     "source": [
      "## Exercise 15.1  \n",
      "\n",
      "Write a function called `distance_between_points` that takes two `Points` as arguments and returns the distance between them."
     ]
    },
    {
     "cell_type": "markdown",
     "metadata": {},
     "source": [
      "****"
     ]
    },
    {
     "cell_type": "markdown",
     "metadata": {},
     "source": [
      "## 15.3  Rectangles\n",
      "\n",
      "Sometimes it is obvious what the attributes of an object should be, but other times you have to make decisions. For example, imagine you are designing a class to represent rectangles. What attributes would you use to specify the location and size of a rectangle? You can ignore angle; to keep things simple, assume that the rectangle is either vertical or horizontal.\n",
      "\n",
      "There are at least two possibilities:\n",
      "\n",
      "* You could specify one corner of the rectangle (or the center), the width, and the height.\n",
      "* You could specify two opposing corners.\n",
      "\n",
      "At this point it is hard to say whether either is better than the other, so we\u2019ll implement the first one, just as an example.\n",
      "\n",
      "Here is the class definition:"
     ]
    },
    {
     "cell_type": "code",
     "collapsed": false,
     "input": [
      "class Rectangle(object):\n",
      "    \"\"\"Represents a rectangle. \n",
      "\n",
      "    attributes: width, height, corner.\n",
      "    \"\"\""
     ],
     "language": "python",
     "metadata": {},
     "outputs": [],
     "prompt_number": 9
    },
    {
     "cell_type": "markdown",
     "metadata": {},
     "source": [
      "The docstring lists the attributes: `width` and `height` are numbers; corner is a `Point` object that specifies the lower-left corner.\n",
      "\n",
      "To represent a rectangle, you have to instantiate a Rectangle object and assign values to the attributes:"
     ]
    },
    {
     "cell_type": "code",
     "collapsed": false,
     "input": [
      "box = Rectangle()\n",
      "box.width = 100.0\n",
      "box.height = 200.0\n",
      "box.corner = Point()\n",
      "box.corner.x = 0.0\n",
      "box.corner.y = 0.0"
     ],
     "language": "python",
     "metadata": {},
     "outputs": [],
     "prompt_number": 10
    },
    {
     "cell_type": "markdown",
     "metadata": {},
     "source": [
      "The expression `box.corner.x` means, \u201cGo to the object `box` refers to and select the attribute named `corner`; then go to that object and select the attribute named `x`.\u201d\n",
      "\n",
      "<img src=\"files/figs/rectangle.png\" width=\"400\" >\n",
      "\n",
      "Figure 15.2 shows the state of this object. An object that is an attribute of another object is **embedded**.\n"
     ]
    },
    {
     "cell_type": "markdown",
     "metadata": {},
     "source": [
      "****"
     ]
    },
    {
     "cell_type": "markdown",
     "metadata": {},
     "source": [
      "## 15.4  Instances as return values\n",
      "\n",
      "Functions can return instances. \n",
      "\n",
      "For example, `find_center` takes a `Rectangle` as an argument and returns a `Point` that contains the coordinates of the center of the `Rectangle`:"
     ]
    },
    {
     "cell_type": "code",
     "collapsed": false,
     "input": [
      "def find_center(rect):\n",
      "    p = Point()\n",
      "    p.x = rect.corner.x + rect.width/2.0\n",
      "    p.y = rect.corner.y + rect.height/2.0\n",
      "    return p"
     ],
     "language": "python",
     "metadata": {},
     "outputs": [],
     "prompt_number": 11
    },
    {
     "cell_type": "markdown",
     "metadata": {},
     "source": [
      "Here is an example that passes box as an argument and assigns the resulting `Point` to center:"
     ]
    },
    {
     "cell_type": "code",
     "collapsed": false,
     "input": [
      "center = find_center(box)\n",
      "print_point(center)"
     ],
     "language": "python",
     "metadata": {},
     "outputs": [
      {
       "output_type": "stream",
       "stream": "stdout",
       "text": [
        "(50, 100)\n"
       ]
      }
     ],
     "prompt_number": 12
    },
    {
     "cell_type": "markdown",
     "metadata": {},
     "source": [
      "****"
     ]
    },
    {
     "cell_type": "markdown",
     "metadata": {},
     "source": [
      "## 15.5  Objects are mutable"
     ]
    },
    {
     "cell_type": "markdown",
     "metadata": {},
     "source": [
      "You can change the state of an object by making an assignment to one of its attributes. For example, to change the size of a rectangle without changing its position, you can modify the values of width and height:"
     ]
    },
    {
     "cell_type": "code",
     "collapsed": false,
     "input": [
      "box.width = box.width + 50\n",
      "box.height = box.width + 100"
     ],
     "language": "python",
     "metadata": {},
     "outputs": [],
     "prompt_number": 13
    },
    {
     "cell_type": "markdown",
     "metadata": {},
     "source": [
      "You can also write functions that modify objects. \n",
      "\n",
      "For example, `grow_rectangle` takes a Rectangle object and two numbers, `dwidth` and `dheight`, and adds the numbers to the width and height of the rectangle:"
     ]
    },
    {
     "cell_type": "code",
     "collapsed": false,
     "input": [
      "def grow_rectangle(rect, dwidth, dheight):\n",
      "    rect.width += dwidth\n",
      "    rect.height += dheight"
     ],
     "language": "python",
     "metadata": {},
     "outputs": [],
     "prompt_number": 14
    },
    {
     "cell_type": "markdown",
     "metadata": {},
     "source": [
      "Here is an example that demonstrates the effect:\n"
     ]
    },
    {
     "cell_type": "code",
     "collapsed": false,
     "input": [
      "print box.width\n",
      "print box.height\n",
      "grow_rectangle(box, 50, 100)\n",
      "print box.width\n",
      "print box.height"
     ],
     "language": "python",
     "metadata": {},
     "outputs": [
      {
       "output_type": "stream",
       "stream": "stdout",
       "text": [
        "150.0\n",
        "250.0\n",
        "200.0\n",
        "350.0\n"
       ]
      }
     ],
     "prompt_number": 15
    },
    {
     "cell_type": "markdown",
     "metadata": {},
     "source": [
      "Inside the function, `rect` is an alias for `box`, so if the function modifies `rect`, `box` changes."
     ]
    },
    {
     "cell_type": "markdown",
     "metadata": {},
     "source": [
      "****"
     ]
    },
    {
     "cell_type": "markdown",
     "metadata": {},
     "source": [
      "## Exercise 15.2  \n",
      "\n",
      "Write a function named `move_rectangle` that takes a `Rectangle` and two numbers named `dx` and `dy`. It should change the location of the rectangle by adding `dx` to the `x` coordinate of corner and adding `dy` to the `y` coordinate of corner."
     ]
    },
    {
     "cell_type": "markdown",
     "metadata": {},
     "source": [
      "****"
     ]
    },
    {
     "cell_type": "markdown",
     "metadata": {},
     "source": [
      "## 15.6  Copying\n",
      "\n",
      "**Aliasing** can make a program difficult to read because changes in one place might have unexpected effects in another place. It is hard to keep track of all the variables that might refer to a given object.\n",
      "\n",
      "Copying an object is often an alternative to aliasing. The `copy` module contains a function called `copy` that can duplicate any object:"
     ]
    },
    {
     "cell_type": "code",
     "collapsed": false,
     "input": [
      "p1 = Point()\n",
      "p1.x = 3.0\n",
      "p1.y = 4.0"
     ],
     "language": "python",
     "metadata": {},
     "outputs": [],
     "prompt_number": 16
    },
    {
     "cell_type": "code",
     "collapsed": false,
     "input": [
      "import copy\n",
      "p2 = copy.copy(p1)"
     ],
     "language": "python",
     "metadata": {},
     "outputs": [],
     "prompt_number": 17
    },
    {
     "cell_type": "markdown",
     "metadata": {},
     "source": [
      "`p1` and `p2` contain the same data, but they are not the same Point."
     ]
    },
    {
     "cell_type": "code",
     "collapsed": false,
     "input": [
      "print_point(p1)\n",
      "print_point(p2)\n",
      "print p1 is p2\n",
      "print p1 == p2"
     ],
     "language": "python",
     "metadata": {},
     "outputs": [
      {
       "output_type": "stream",
       "stream": "stdout",
       "text": [
        "(3, 4)\n",
        "(3, 4)\n",
        "False\n",
        "False\n"
       ]
      }
     ],
     "prompt_number": 18
    },
    {
     "cell_type": "markdown",
     "metadata": {},
     "source": [
      "The `is` operator indicates that `p1` and `p2` are not the same object, which is what we expected. \n",
      "\n",
      "But you might have expected `==` to yield `True` because these points contain the same data. In that case, you will be disappointed to learn that for instances, the default behavior of the `==` operator is the same as the `is` operator; it checks object identity, not object equivalence. This behavior can be changed\u2014we\u2019ll see how later.\n"
     ]
    },
    {
     "cell_type": "markdown",
     "metadata": {},
     "source": [
      "If you use `copy.copy` to duplicate a Rectangle, you will find that it copies the Rectangle object but not the embedded Point."
     ]
    },
    {
     "cell_type": "code",
     "collapsed": false,
     "input": [
      "box2 = copy.copy(box)\n",
      "print box2 is box\n",
      "print box2.corner is box.corner"
     ],
     "language": "python",
     "metadata": {},
     "outputs": [
      {
       "output_type": "stream",
       "stream": "stdout",
       "text": [
        "False\n",
        "True\n"
       ]
      }
     ],
     "prompt_number": 19
    },
    {
     "cell_type": "markdown",
     "metadata": {},
     "source": [
      "<img src=\"files/figs/rectangle2.png\" width=\"600\" >\n",
      "\n",
      "Figure 15.3 shows what the object diagram looks like. This operation is called a **shallow copy** because it copies the object and any references it contains, but not the embedded objects.\n",
      "\n",
      "For most applications, this is not what you want. In this example, invoking `grow_rectangle` on one of the Rectangles would not affect the other, but invoking `move_rectangle` on either would affect both! This behavior is confusing and error-prone.\n",
      "\n",
      "Fortunately, the `copy` module contains a method named `deepcopy` that copies not only the object but also the objects it refers to, and the objects they refer to, and so on. You will not be surprised to learn that this operation is called a **deep copy**.\n"
     ]
    },
    {
     "cell_type": "code",
     "collapsed": false,
     "input": [
      "box3 = copy.deepcopy(box)\n",
      "print box3 is box\n",
      "print box3.corner is box.corner"
     ],
     "language": "python",
     "metadata": {},
     "outputs": [
      {
       "output_type": "stream",
       "stream": "stdout",
       "text": [
        "False\n",
        "False\n"
       ]
      }
     ],
     "prompt_number": 20
    },
    {
     "cell_type": "markdown",
     "metadata": {},
     "source": [
      "`box3` and `box` are completely separate objects."
     ]
    },
    {
     "cell_type": "markdown",
     "metadata": {},
     "source": [
      "****"
     ]
    },
    {
     "cell_type": "markdown",
     "metadata": {},
     "source": [
      "### Exercise 15.3\n",
      "\n",
      "Write a version of `move_rectangle` that creates and returns a new Rectangle instead of modifying the old one."
     ]
    },
    {
     "cell_type": "markdown",
     "metadata": {},
     "source": [
      "****"
     ]
    },
    {
     "cell_type": "markdown",
     "metadata": {},
     "source": [
      "## 15.7  Debugging\n",
      "\n",
      "When you start working with objects, you are likely to encounter some new exceptions. If you try to access an attribute that doesn\u2019t exist, you get an `AttributeError`:"
     ]
    },
    {
     "cell_type": "code",
     "collapsed": false,
     "input": [
      "p = Point()\n",
      "p.x = 3\n",
      "p.y = 4\n",
      "print p.z"
     ],
     "language": "python",
     "metadata": {},
     "outputs": [
      {
       "ename": "AttributeError",
       "evalue": "'Point' object has no attribute 'z'",
       "output_type": "pyerr",
       "traceback": [
        "\u001b[0;31m---------------------------------------------------------------------------\u001b[0m\n\u001b[0;31mAttributeError\u001b[0m                            Traceback (most recent call last)",
        "\u001b[0;32m<ipython-input-21-4b1a7769bfc3>\u001b[0m in \u001b[0;36m<module>\u001b[0;34m()\u001b[0m\n\u001b[1;32m      2\u001b[0m \u001b[0mp\u001b[0m\u001b[0;34m.\u001b[0m\u001b[0mx\u001b[0m \u001b[0;34m=\u001b[0m \u001b[0;36m3\u001b[0m\u001b[0;34m\u001b[0m\u001b[0m\n\u001b[1;32m      3\u001b[0m \u001b[0mp\u001b[0m\u001b[0;34m.\u001b[0m\u001b[0my\u001b[0m \u001b[0;34m=\u001b[0m \u001b[0;36m4\u001b[0m\u001b[0;34m\u001b[0m\u001b[0m\n\u001b[0;32m----> 4\u001b[0;31m \u001b[0;32mprint\u001b[0m \u001b[0mp\u001b[0m\u001b[0;34m.\u001b[0m\u001b[0mz\u001b[0m\u001b[0;34m\u001b[0m\u001b[0m\n\u001b[0m",
        "\u001b[0;31mAttributeError\u001b[0m: 'Point' object has no attribute 'z'"
       ]
      }
     ],
     "prompt_number": 21
    },
    {
     "cell_type": "markdown",
     "metadata": {},
     "source": [
      "If you are not sure what type an object is, you can ask:"
     ]
    },
    {
     "cell_type": "code",
     "collapsed": false,
     "input": [
      "type(p)"
     ],
     "language": "python",
     "metadata": {},
     "outputs": []
    },
    {
     "cell_type": "markdown",
     "metadata": {},
     "source": [
      "If you are not sure whether an object has a particular attribute, you can use the built-in function `hasattr`:"
     ]
    },
    {
     "cell_type": "code",
     "collapsed": false,
     "input": [
      "p = Point()\n",
      "p.x = 3\n",
      "p.y = 4\n",
      "print hasattr(p, 'x')\n",
      "print hasattr(p, 'z')"
     ],
     "language": "python",
     "metadata": {},
     "outputs": []
    },
    {
     "cell_type": "markdown",
     "metadata": {},
     "source": [
      "****"
     ]
    },
    {
     "cell_type": "markdown",
     "metadata": {},
     "source": [
      "## 15.8  Glossary\n",
      "\n",
      "**class:**\n",
      "\n",
      "A user-defined type. A class definition creates a new class object.\n",
      "\n",
      "**class object:**\n",
      "\n",
      "An object that contains information about a user-defined type. The class object can be used to create instances of the type.\n",
      "\n",
      "**instance:**\n",
      "\n",
      "An object that belongs to a class.\n",
      "\n",
      "**attribute:**\n",
      "\n",
      "One of the named values associated with an object.\n",
      "\n",
      "**embedded (object):**\n",
      "\n",
      "An object that is stored as an attribute of another object.\n",
      "\n",
      "**shallow copy:**\n",
      "\n",
      "To copy the contents of an object, including any references to embedded objects; implemented by the copy function in the copy \n",
      "module.\n",
      "\n",
      "**deep copy:**\n",
      "\n",
      "To copy the contents of an object as well as any embedded objects, and any objects embedded in them, and so on; implemented by the deepcopy function in the copy module.\n",
      "\n",
      "**object diagram:**\n",
      "\n",
      "A diagram that shows objects, their attributes, and the values of the attributes."
     ]
    },
    {
     "cell_type": "markdown",
     "metadata": {},
     "source": [
      "****"
     ]
    },
    {
     "cell_type": "code",
     "collapsed": false,
     "input": [],
     "language": "python",
     "metadata": {},
     "outputs": []
    }
   ],
   "metadata": {}
  }
 ]
}